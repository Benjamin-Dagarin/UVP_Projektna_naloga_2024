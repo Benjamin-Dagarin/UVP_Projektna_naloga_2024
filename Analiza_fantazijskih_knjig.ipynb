{
 "cells": [
  {
   "cell_type": "markdown",
   "metadata": {},
   "source": [
    "<h1>Analiza fantazijskih knjig</h1>\n",
    "<div class='Podnaslov'>Projektna naloga pri predmetu Uvod v programiranje</div>"
   ]
  },
  {
   "cell_type": "code",
   "execution_count": null,
   "metadata": {},
   "outputs": [],
   "source": []
  }
 ],
 "metadata": {
  "language_info": {
   "name": "python"
  }
 },
 "nbformat": 4,
 "nbformat_minor": 2
}
