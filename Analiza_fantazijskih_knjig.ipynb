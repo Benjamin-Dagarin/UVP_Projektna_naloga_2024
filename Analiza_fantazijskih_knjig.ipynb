{
 "cells": [
  {
   "cell_type": "code",
   "execution_count": 16,
   "metadata": {
    "scrolled": true
   },
   "outputs": [
    {
     "data": {
      "text/html": [
       "<style>body {\n",
       "    font-family: \"Times New Roman\";\n",
       "    font-size: 16px;\n",
       "    text-align: justify;\n",
       "    color:green;\n",
       "}\n",
       "\n",
       "h1{\n",
       "    font-family: Verdana;\n",
       "    font-size: 24px;\n",
       "    font-style: bold;\n",
       "    text-align:center;\n",
       "    color: red;\n",
       "    padding-bottom:1.5cm;\n",
       "}\n",
       ".Podnaslov{\n",
       "    font-family: Verdana;\n",
       "    font-size: 20px;\n",
       "    font-style: italic;\n",
       "    text-align: center;\n",
       "}\n",
       "p{\n",
       "color:green;\n",
       "}</style>"
      ],
      "text/plain": [
       "<IPython.core.display.HTML object>"
      ]
     },
     "execution_count": 16,
     "metadata": {},
     "output_type": "execute_result"
    }
   ],
   "source": [
    "from IPython.core.display import HTML\n",
    "\n",
    "def load_css():\n",
    "    styles = open(\"Slog_zvezka.css\", \"r\").read()\n",
    "    return HTML(\"<style>{}</style>\".format(styles))\n",
    "\n",
    "load_css()\n"
   ]
  },
  {
   "cell_type": "markdown",
   "metadata": {},
   "source": [
    "<h1>Analiza fantazijskih knjig</h1>\n",
    "<div class='Podnaslov'>Projektna naloga pri predmetu Uvod v programiranje</div>"
   ]
  },
  {
   "cell_type": "markdown",
   "metadata": {},
   "source": []
  },
  {
   "cell_type": "code",
   "execution_count": null,
   "metadata": {},
   "outputs": [],
   "source": []
  }
 ],
 "metadata": {
  "kernelspec": {
   "display_name": "Python 3 (ipykernel)",
   "language": "python",
   "name": "python3"
  },
  "language_info": {
   "codemirror_mode": {
    "name": "ipython",
    "version": 3
   },
   "file_extension": ".py",
   "mimetype": "text/x-python",
   "name": "python",
   "nbconvert_exporter": "python",
   "pygments_lexer": "ipython3",
   "version": "3.11.2"
  }
 },
 "nbformat": 4,
 "nbformat_minor": 2
}
