{
 "cells": [
  {
   "cell_type": "markdown",
   "metadata": {},
   "source": [
    "<h1 style=\"text-align:center\"><div style=\"text-style:bold; font-family:Verdana;font-size=100px\">Analiza fantazijskih knjig</div></h1>"
   ]
  },
  {
   "cell_type": "markdown",
   "metadata": {},
   "source": [
    "<h2 style='text-align:center'> <div style=\"font-size : 30px; font-style : Verdana; text-align : center \"> Priprava </div> </h2>"
   ]
  },
  {
   "cell_type": "code",
   "execution_count": 1,
   "metadata": {},
   "outputs": [],
   "source": [
    "import pandas as pd\n",
    "import zlato_desetletje as zld"
   ]
  },
  {
   "cell_type": "code",
   "execution_count": 2,
   "metadata": {},
   "outputs": [],
   "source": [
    "podatki = pd.read_csv(\"C:\\\\Users\\\\Benjamin\\\\Desktop\\\\Šola\\\\FMF\\\\UVP\\\\UVP_Projektna_naloga_2024\\\\podatki_fantazijske_knjige.csv\", index_col='Naslov')"
   ]
  },
  {
   "cell_type": "code",
   "execution_count": 3,
   "metadata": {},
   "outputs": [],
   "source": [
    "podatki.fillna(0, inplace=True)"
   ]
  },
  {
   "cell_type": "code",
   "execution_count": 4,
   "metadata": {},
   "outputs": [],
   "source": [
    "# Sprememba decimalnih števil, ki bi morala biti cela, v cela števila.\n",
    "podatki['Dolžina'] = podatki['Dolžina'].astype(int, errors='ignore')\n",
    "podatki['Leto izida'] = podatki['Leto izida'].astype(int, errors='ignore')\n",
    "podatki['Število bralcev'] = podatki['Število bralcev'].astype(int, errors='ignore')"
   ]
  },
  {
   "cell_type": "code",
   "execution_count": 5,
   "metadata": {},
   "outputs": [
    {
     "data": {
      "text/html": [
       "<div>\n",
       "<style scoped>\n",
       "    .dataframe tbody tr th:only-of-type {\n",
       "        vertical-align: middle;\n",
       "    }\n",
       "\n",
       "    .dataframe tbody tr th {\n",
       "        vertical-align: top;\n",
       "    }\n",
       "\n",
       "    .dataframe thead th {\n",
       "        text-align: right;\n",
       "    }\n",
       "</style>\n",
       "<table border=\"1\" class=\"dataframe\">\n",
       "  <thead>\n",
       "    <tr style=\"text-align: right;\">\n",
       "      <th></th>\n",
       "      <th>Avtor</th>\n",
       "      <th>Leto izida</th>\n",
       "      <th>Dolžina</th>\n",
       "      <th>Točke</th>\n",
       "      <th>Ocena</th>\n",
       "      <th>Število bralcev</th>\n",
       "    </tr>\n",
       "    <tr>\n",
       "      <th>Naslov</th>\n",
       "      <th></th>\n",
       "      <th></th>\n",
       "      <th></th>\n",
       "      <th></th>\n",
       "      <th></th>\n",
       "      <th></th>\n",
       "    </tr>\n",
       "  </thead>\n",
       "  <tbody>\n",
       "    <tr>\n",
       "      <th>The Hobbit (The Lord of the Rings, #0)</th>\n",
       "      <td>J.R.R. Tolkien</td>\n",
       "      <td>1937</td>\n",
       "      <td>366</td>\n",
       "      <td>5793</td>\n",
       "      <td>4.29</td>\n",
       "      <td>4067050</td>\n",
       "    </tr>\n",
       "    <tr>\n",
       "      <th>Lost Horizon</th>\n",
       "      <td>James Hilton</td>\n",
       "      <td>1933</td>\n",
       "      <td>241</td>\n",
       "      <td>1276</td>\n",
       "      <td>3.95</td>\n",
       "      <td>22940</td>\n",
       "    </tr>\n",
       "    <tr>\n",
       "      <th>At the Mountains of Madness</th>\n",
       "      <td>H.P. Lovecraft</td>\n",
       "      <td>1931</td>\n",
       "      <td>194</td>\n",
       "      <td>1185</td>\n",
       "      <td>3.81</td>\n",
       "      <td>55059</td>\n",
       "    </tr>\n",
       "    <tr>\n",
       "      <th>Mary Poppins (Mary Poppins, #1)</th>\n",
       "      <td>P.L. Travers</td>\n",
       "      <td>1934</td>\n",
       "      <td>209</td>\n",
       "      <td>1169</td>\n",
       "      <td>4.01</td>\n",
       "      <td>134801</td>\n",
       "    </tr>\n",
       "    <tr>\n",
       "      <th>The Sword in the Stone (The Once and Future King, #1)</th>\n",
       "      <td>T.H. White</td>\n",
       "      <td>1938</td>\n",
       "      <td>352</td>\n",
       "      <td>968</td>\n",
       "      <td>3.89</td>\n",
       "      <td>26897</td>\n",
       "    </tr>\n",
       "    <tr>\n",
       "      <th>...</th>\n",
       "      <td>...</td>\n",
       "      <td>...</td>\n",
       "      <td>...</td>\n",
       "      <td>...</td>\n",
       "      <td>...</td>\n",
       "      <td>...</td>\n",
       "    </tr>\n",
       "    <tr>\n",
       "      <th>The Wizard of Eventide (The Goddess War, 3)</th>\n",
       "      <td>Kelley Skovron</td>\n",
       "      <td>2022</td>\n",
       "      <td>400</td>\n",
       "      <td>18</td>\n",
       "      <td>4.14</td>\n",
       "      <td>78</td>\n",
       "    </tr>\n",
       "    <tr>\n",
       "      <th>The Fury of the Gods (The Bloodsworn Saga, #3)</th>\n",
       "      <td>John Gwynne</td>\n",
       "      <td>2024</td>\n",
       "      <td>528</td>\n",
       "      <td>15</td>\n",
       "      <td>4.47</td>\n",
       "      <td>106</td>\n",
       "    </tr>\n",
       "    <tr>\n",
       "      <th>Age of Ash (Kithamar, #1)</th>\n",
       "      <td>Daniel Abraham</td>\n",
       "      <td>2022</td>\n",
       "      <td>448</td>\n",
       "      <td>14</td>\n",
       "      <td>3.68</td>\n",
       "      <td>3424</td>\n",
       "    </tr>\n",
       "    <tr>\n",
       "      <th>The Castle of Tangled Magic</th>\n",
       "      <td>Sophie   Anderson</td>\n",
       "      <td>2020</td>\n",
       "      <td>416</td>\n",
       "      <td>13</td>\n",
       "      <td>4.02</td>\n",
       "      <td>2038</td>\n",
       "    </tr>\n",
       "    <tr>\n",
       "      <th>Blade of Dream (Kithamar, #2)</th>\n",
       "      <td>Daniel Abraham</td>\n",
       "      <td>2023</td>\n",
       "      <td>464</td>\n",
       "      <td>13</td>\n",
       "      <td>4.30</td>\n",
       "      <td>939</td>\n",
       "    </tr>\n",
       "  </tbody>\n",
       "</table>\n",
       "<p>3652 rows × 6 columns</p>\n",
       "</div>"
      ],
      "text/plain": [
       "                                                                Avtor  \\\n",
       "Naslov                                                                  \n",
       "The Hobbit (The Lord of the Rings, #0)                 J.R.R. Tolkien   \n",
       "Lost Horizon                                             James Hilton   \n",
       "At the Mountains of Madness                            H.P. Lovecraft   \n",
       "Mary Poppins (Mary Poppins, #1)                          P.L. Travers   \n",
       "The Sword in the Stone (The Once and Future Kin...         T.H. White   \n",
       "...                                                               ...   \n",
       "The Wizard of Eventide (The Goddess War, 3)            Kelley Skovron   \n",
       "The Fury of the Gods (The Bloodsworn Saga, #3)            John Gwynne   \n",
       "Age of Ash (Kithamar, #1)                              Daniel Abraham   \n",
       "The Castle of Tangled Magic                         Sophie   Anderson   \n",
       "Blade of Dream (Kithamar, #2)                          Daniel Abraham   \n",
       "\n",
       "                                                    Leto izida  Dolžina  \\\n",
       "Naslov                                                                    \n",
       "The Hobbit (The Lord of the Rings, #0)                    1937      366   \n",
       "Lost Horizon                                              1933      241   \n",
       "At the Mountains of Madness                               1931      194   \n",
       "Mary Poppins (Mary Poppins, #1)                           1934      209   \n",
       "The Sword in the Stone (The Once and Future Kin...        1938      352   \n",
       "...                                                        ...      ...   \n",
       "The Wizard of Eventide (The Goddess War, 3)               2022      400   \n",
       "The Fury of the Gods (The Bloodsworn Saga, #3)            2024      528   \n",
       "Age of Ash (Kithamar, #1)                                 2022      448   \n",
       "The Castle of Tangled Magic                               2020      416   \n",
       "Blade of Dream (Kithamar, #2)                             2023      464   \n",
       "\n",
       "                                                    Točke  Ocena  \\\n",
       "Naslov                                                             \n",
       "The Hobbit (The Lord of the Rings, #0)               5793   4.29   \n",
       "Lost Horizon                                         1276   3.95   \n",
       "At the Mountains of Madness                          1185   3.81   \n",
       "Mary Poppins (Mary Poppins, #1)                      1169   4.01   \n",
       "The Sword in the Stone (The Once and Future Kin...    968   3.89   \n",
       "...                                                   ...    ...   \n",
       "The Wizard of Eventide (The Goddess War, 3)            18   4.14   \n",
       "The Fury of the Gods (The Bloodsworn Saga, #3)         15   4.47   \n",
       "Age of Ash (Kithamar, #1)                              14   3.68   \n",
       "The Castle of Tangled Magic                            13   4.02   \n",
       "Blade of Dream (Kithamar, #2)                          13   4.30   \n",
       "\n",
       "                                                    Število bralcev  \n",
       "Naslov                                                               \n",
       "The Hobbit (The Lord of the Rings, #0)                      4067050  \n",
       "Lost Horizon                                                  22940  \n",
       "At the Mountains of Madness                                   55059  \n",
       "Mary Poppins (Mary Poppins, #1)                              134801  \n",
       "The Sword in the Stone (The Once and Future Kin...            26897  \n",
       "...                                                             ...  \n",
       "The Wizard of Eventide (The Goddess War, 3)                      78  \n",
       "The Fury of the Gods (The Bloodsworn Saga, #3)                  106  \n",
       "Age of Ash (Kithamar, #1)                                      3424  \n",
       "The Castle of Tangled Magic                                    2038  \n",
       "Blade of Dream (Kithamar, #2)                                   939  \n",
       "\n",
       "[3652 rows x 6 columns]"
      ]
     },
     "execution_count": 5,
     "metadata": {},
     "output_type": "execute_result"
    }
   ],
   "source": [
    "podatki"
   ]
  },
  {
   "cell_type": "code",
   "execution_count": 6,
   "metadata": {},
   "outputs": [],
   "source": [
    "podatki['Desetletje'] = (podatki['Leto izida']//10)*10"
   ]
  },
  {
   "cell_type": "code",
   "execution_count": 7,
   "metadata": {},
   "outputs": [],
   "source": [
    "podatki = podatki[['Avtor', 'Leto izida', 'Desetletje', 'Dolžina', 'Točke', 'Ocena', 'Število bralcev']]"
   ]
  },
  {
   "cell_type": "code",
   "execution_count": 8,
   "metadata": {},
   "outputs": [
    {
     "data": {
      "text/html": [
       "<div>\n",
       "<style scoped>\n",
       "    .dataframe tbody tr th:only-of-type {\n",
       "        vertical-align: middle;\n",
       "    }\n",
       "\n",
       "    .dataframe tbody tr th {\n",
       "        vertical-align: top;\n",
       "    }\n",
       "\n",
       "    .dataframe thead th {\n",
       "        text-align: right;\n",
       "    }\n",
       "</style>\n",
       "<table border=\"1\" class=\"dataframe\">\n",
       "  <thead>\n",
       "    <tr style=\"text-align: right;\">\n",
       "      <th></th>\n",
       "      <th>Avtor</th>\n",
       "      <th>Leto izida</th>\n",
       "      <th>Desetletje</th>\n",
       "      <th>Dolžina</th>\n",
       "      <th>Točke</th>\n",
       "      <th>Ocena</th>\n",
       "      <th>Število bralcev</th>\n",
       "    </tr>\n",
       "    <tr>\n",
       "      <th>Naslov</th>\n",
       "      <th></th>\n",
       "      <th></th>\n",
       "      <th></th>\n",
       "      <th></th>\n",
       "      <th></th>\n",
       "      <th></th>\n",
       "      <th></th>\n",
       "    </tr>\n",
       "  </thead>\n",
       "  <tbody>\n",
       "    <tr>\n",
       "      <th>The Hobbit (The Lord of the Rings, #0)</th>\n",
       "      <td>J.R.R. Tolkien</td>\n",
       "      <td>1937</td>\n",
       "      <td>1930</td>\n",
       "      <td>366</td>\n",
       "      <td>5793</td>\n",
       "      <td>4.29</td>\n",
       "      <td>4067050</td>\n",
       "    </tr>\n",
       "    <tr>\n",
       "      <th>Lost Horizon</th>\n",
       "      <td>James Hilton</td>\n",
       "      <td>1933</td>\n",
       "      <td>1930</td>\n",
       "      <td>241</td>\n",
       "      <td>1276</td>\n",
       "      <td>3.95</td>\n",
       "      <td>22940</td>\n",
       "    </tr>\n",
       "    <tr>\n",
       "      <th>At the Mountains of Madness</th>\n",
       "      <td>H.P. Lovecraft</td>\n",
       "      <td>1931</td>\n",
       "      <td>1930</td>\n",
       "      <td>194</td>\n",
       "      <td>1185</td>\n",
       "      <td>3.81</td>\n",
       "      <td>55059</td>\n",
       "    </tr>\n",
       "    <tr>\n",
       "      <th>Mary Poppins (Mary Poppins, #1)</th>\n",
       "      <td>P.L. Travers</td>\n",
       "      <td>1934</td>\n",
       "      <td>1930</td>\n",
       "      <td>209</td>\n",
       "      <td>1169</td>\n",
       "      <td>4.01</td>\n",
       "      <td>134801</td>\n",
       "    </tr>\n",
       "    <tr>\n",
       "      <th>The Sword in the Stone (The Once and Future King, #1)</th>\n",
       "      <td>T.H. White</td>\n",
       "      <td>1938</td>\n",
       "      <td>1930</td>\n",
       "      <td>352</td>\n",
       "      <td>968</td>\n",
       "      <td>3.89</td>\n",
       "      <td>26897</td>\n",
       "    </tr>\n",
       "    <tr>\n",
       "      <th>...</th>\n",
       "      <td>...</td>\n",
       "      <td>...</td>\n",
       "      <td>...</td>\n",
       "      <td>...</td>\n",
       "      <td>...</td>\n",
       "      <td>...</td>\n",
       "      <td>...</td>\n",
       "    </tr>\n",
       "    <tr>\n",
       "      <th>The Wizard of Eventide (The Goddess War, 3)</th>\n",
       "      <td>Kelley Skovron</td>\n",
       "      <td>2022</td>\n",
       "      <td>2020</td>\n",
       "      <td>400</td>\n",
       "      <td>18</td>\n",
       "      <td>4.14</td>\n",
       "      <td>78</td>\n",
       "    </tr>\n",
       "    <tr>\n",
       "      <th>The Fury of the Gods (The Bloodsworn Saga, #3)</th>\n",
       "      <td>John Gwynne</td>\n",
       "      <td>2024</td>\n",
       "      <td>2020</td>\n",
       "      <td>528</td>\n",
       "      <td>15</td>\n",
       "      <td>4.47</td>\n",
       "      <td>106</td>\n",
       "    </tr>\n",
       "    <tr>\n",
       "      <th>Age of Ash (Kithamar, #1)</th>\n",
       "      <td>Daniel Abraham</td>\n",
       "      <td>2022</td>\n",
       "      <td>2020</td>\n",
       "      <td>448</td>\n",
       "      <td>14</td>\n",
       "      <td>3.68</td>\n",
       "      <td>3424</td>\n",
       "    </tr>\n",
       "    <tr>\n",
       "      <th>The Castle of Tangled Magic</th>\n",
       "      <td>Sophie   Anderson</td>\n",
       "      <td>2020</td>\n",
       "      <td>2020</td>\n",
       "      <td>416</td>\n",
       "      <td>13</td>\n",
       "      <td>4.02</td>\n",
       "      <td>2038</td>\n",
       "    </tr>\n",
       "    <tr>\n",
       "      <th>Blade of Dream (Kithamar, #2)</th>\n",
       "      <td>Daniel Abraham</td>\n",
       "      <td>2023</td>\n",
       "      <td>2020</td>\n",
       "      <td>464</td>\n",
       "      <td>13</td>\n",
       "      <td>4.30</td>\n",
       "      <td>939</td>\n",
       "    </tr>\n",
       "  </tbody>\n",
       "</table>\n",
       "<p>3652 rows × 7 columns</p>\n",
       "</div>"
      ],
      "text/plain": [
       "                                                                Avtor  \\\n",
       "Naslov                                                                  \n",
       "The Hobbit (The Lord of the Rings, #0)                 J.R.R. Tolkien   \n",
       "Lost Horizon                                             James Hilton   \n",
       "At the Mountains of Madness                            H.P. Lovecraft   \n",
       "Mary Poppins (Mary Poppins, #1)                          P.L. Travers   \n",
       "The Sword in the Stone (The Once and Future Kin...         T.H. White   \n",
       "...                                                               ...   \n",
       "The Wizard of Eventide (The Goddess War, 3)            Kelley Skovron   \n",
       "The Fury of the Gods (The Bloodsworn Saga, #3)            John Gwynne   \n",
       "Age of Ash (Kithamar, #1)                              Daniel Abraham   \n",
       "The Castle of Tangled Magic                         Sophie   Anderson   \n",
       "Blade of Dream (Kithamar, #2)                          Daniel Abraham   \n",
       "\n",
       "                                                    Leto izida  Desetletje  \\\n",
       "Naslov                                                                       \n",
       "The Hobbit (The Lord of the Rings, #0)                    1937        1930   \n",
       "Lost Horizon                                              1933        1930   \n",
       "At the Mountains of Madness                               1931        1930   \n",
       "Mary Poppins (Mary Poppins, #1)                           1934        1930   \n",
       "The Sword in the Stone (The Once and Future Kin...        1938        1930   \n",
       "...                                                        ...         ...   \n",
       "The Wizard of Eventide (The Goddess War, 3)               2022        2020   \n",
       "The Fury of the Gods (The Bloodsworn Saga, #3)            2024        2020   \n",
       "Age of Ash (Kithamar, #1)                                 2022        2020   \n",
       "The Castle of Tangled Magic                               2020        2020   \n",
       "Blade of Dream (Kithamar, #2)                             2023        2020   \n",
       "\n",
       "                                                    Dolžina  Točke  Ocena  \\\n",
       "Naslov                                                                      \n",
       "The Hobbit (The Lord of the Rings, #0)                  366   5793   4.29   \n",
       "Lost Horizon                                            241   1276   3.95   \n",
       "At the Mountains of Madness                             194   1185   3.81   \n",
       "Mary Poppins (Mary Poppins, #1)                         209   1169   4.01   \n",
       "The Sword in the Stone (The Once and Future Kin...      352    968   3.89   \n",
       "...                                                     ...    ...    ...   \n",
       "The Wizard of Eventide (The Goddess War, 3)             400     18   4.14   \n",
       "The Fury of the Gods (The Bloodsworn Saga, #3)          528     15   4.47   \n",
       "Age of Ash (Kithamar, #1)                               448     14   3.68   \n",
       "The Castle of Tangled Magic                             416     13   4.02   \n",
       "Blade of Dream (Kithamar, #2)                           464     13   4.30   \n",
       "\n",
       "                                                    Število bralcev  \n",
       "Naslov                                                               \n",
       "The Hobbit (The Lord of the Rings, #0)                      4067050  \n",
       "Lost Horizon                                                  22940  \n",
       "At the Mountains of Madness                                   55059  \n",
       "Mary Poppins (Mary Poppins, #1)                              134801  \n",
       "The Sword in the Stone (The Once and Future Kin...            26897  \n",
       "...                                                             ...  \n",
       "The Wizard of Eventide (The Goddess War, 3)                      78  \n",
       "The Fury of the Gods (The Bloodsworn Saga, #3)                  106  \n",
       "Age of Ash (Kithamar, #1)                                      3424  \n",
       "The Castle of Tangled Magic                                    2038  \n",
       "Blade of Dream (Kithamar, #2)                                   939  \n",
       "\n",
       "[3652 rows x 7 columns]"
      ]
     },
     "execution_count": 8,
     "metadata": {},
     "output_type": "execute_result"
    }
   ],
   "source": [
    "podatki"
   ]
  },
  {
   "cell_type": "code",
   "execution_count": 9,
   "metadata": {},
   "outputs": [],
   "source": [
    "po_desetletjih = podatki.groupby('Desetletje')"
   ]
  },
  {
   "cell_type": "code",
   "execution_count": 96,
   "metadata": {},
   "outputs": [],
   "source": [
    "podatki.reset_index(inplace=True)"
   ]
  },
  {
   "cell_type": "code",
   "execution_count": 99,
   "metadata": {},
   "outputs": [
    {
     "data": {
      "text/html": [
       "<div>\n",
       "<style scoped>\n",
       "    .dataframe tbody tr th:only-of-type {\n",
       "        vertical-align: middle;\n",
       "    }\n",
       "\n",
       "    .dataframe tbody tr th {\n",
       "        vertical-align: top;\n",
       "    }\n",
       "\n",
       "    .dataframe thead th {\n",
       "        text-align: right;\n",
       "    }\n",
       "</style>\n",
       "<table border=\"1\" class=\"dataframe\">\n",
       "  <thead>\n",
       "    <tr style=\"text-align: right;\">\n",
       "      <th></th>\n",
       "      <th>Naslov</th>\n",
       "      <th>Avtor</th>\n",
       "      <th>Leto izida</th>\n",
       "      <th>Desetletje</th>\n",
       "      <th>Dolžina</th>\n",
       "      <th>Točke</th>\n",
       "      <th>Ocena</th>\n",
       "      <th>Število bralcev</th>\n",
       "      <th>Razred dolžine</th>\n",
       "    </tr>\n",
       "  </thead>\n",
       "  <tbody>\n",
       "    <tr>\n",
       "      <th>0</th>\n",
       "      <td>The Hobbit (The Lord of the Rings, #0)</td>\n",
       "      <td>J.R.R. Tolkien</td>\n",
       "      <td>1937</td>\n",
       "      <td>1930</td>\n",
       "      <td>366</td>\n",
       "      <td>5793</td>\n",
       "      <td>4.29</td>\n",
       "      <td>4067050</td>\n",
       "      <td>350</td>\n",
       "    </tr>\n",
       "    <tr>\n",
       "      <th>1</th>\n",
       "      <td>Lost Horizon</td>\n",
       "      <td>James Hilton</td>\n",
       "      <td>1933</td>\n",
       "      <td>1930</td>\n",
       "      <td>241</td>\n",
       "      <td>1276</td>\n",
       "      <td>3.95</td>\n",
       "      <td>22940</td>\n",
       "      <td>200</td>\n",
       "    </tr>\n",
       "    <tr>\n",
       "      <th>2</th>\n",
       "      <td>At the Mountains of Madness</td>\n",
       "      <td>H.P. Lovecraft</td>\n",
       "      <td>1931</td>\n",
       "      <td>1930</td>\n",
       "      <td>194</td>\n",
       "      <td>1185</td>\n",
       "      <td>3.81</td>\n",
       "      <td>55059</td>\n",
       "      <td>150</td>\n",
       "    </tr>\n",
       "    <tr>\n",
       "      <th>3</th>\n",
       "      <td>Mary Poppins (Mary Poppins, #1)</td>\n",
       "      <td>P.L. Travers</td>\n",
       "      <td>1934</td>\n",
       "      <td>1930</td>\n",
       "      <td>209</td>\n",
       "      <td>1169</td>\n",
       "      <td>4.01</td>\n",
       "      <td>134801</td>\n",
       "      <td>200</td>\n",
       "    </tr>\n",
       "    <tr>\n",
       "      <th>4</th>\n",
       "      <td>The Sword in the Stone (The Once and Future Ki...</td>\n",
       "      <td>T.H. White</td>\n",
       "      <td>1938</td>\n",
       "      <td>1930</td>\n",
       "      <td>352</td>\n",
       "      <td>968</td>\n",
       "      <td>3.89</td>\n",
       "      <td>26897</td>\n",
       "      <td>350</td>\n",
       "    </tr>\n",
       "    <tr>\n",
       "      <th>...</th>\n",
       "      <td>...</td>\n",
       "      <td>...</td>\n",
       "      <td>...</td>\n",
       "      <td>...</td>\n",
       "      <td>...</td>\n",
       "      <td>...</td>\n",
       "      <td>...</td>\n",
       "      <td>...</td>\n",
       "      <td>...</td>\n",
       "    </tr>\n",
       "    <tr>\n",
       "      <th>3647</th>\n",
       "      <td>The Wizard of Eventide (The Goddess War, 3)</td>\n",
       "      <td>Kelley Skovron</td>\n",
       "      <td>2022</td>\n",
       "      <td>2020</td>\n",
       "      <td>400</td>\n",
       "      <td>18</td>\n",
       "      <td>4.14</td>\n",
       "      <td>78</td>\n",
       "      <td>400</td>\n",
       "    </tr>\n",
       "    <tr>\n",
       "      <th>3648</th>\n",
       "      <td>The Fury of the Gods (The Bloodsworn Saga, #3)</td>\n",
       "      <td>John Gwynne</td>\n",
       "      <td>2024</td>\n",
       "      <td>2020</td>\n",
       "      <td>528</td>\n",
       "      <td>15</td>\n",
       "      <td>4.47</td>\n",
       "      <td>106</td>\n",
       "      <td>500</td>\n",
       "    </tr>\n",
       "    <tr>\n",
       "      <th>3649</th>\n",
       "      <td>Age of Ash (Kithamar, #1)</td>\n",
       "      <td>Daniel Abraham</td>\n",
       "      <td>2022</td>\n",
       "      <td>2020</td>\n",
       "      <td>448</td>\n",
       "      <td>14</td>\n",
       "      <td>3.68</td>\n",
       "      <td>3424</td>\n",
       "      <td>400</td>\n",
       "    </tr>\n",
       "    <tr>\n",
       "      <th>3650</th>\n",
       "      <td>The Castle of Tangled Magic</td>\n",
       "      <td>Sophie   Anderson</td>\n",
       "      <td>2020</td>\n",
       "      <td>2020</td>\n",
       "      <td>416</td>\n",
       "      <td>13</td>\n",
       "      <td>4.02</td>\n",
       "      <td>2038</td>\n",
       "      <td>400</td>\n",
       "    </tr>\n",
       "    <tr>\n",
       "      <th>3651</th>\n",
       "      <td>Blade of Dream (Kithamar, #2)</td>\n",
       "      <td>Daniel Abraham</td>\n",
       "      <td>2023</td>\n",
       "      <td>2020</td>\n",
       "      <td>464</td>\n",
       "      <td>13</td>\n",
       "      <td>4.30</td>\n",
       "      <td>939</td>\n",
       "      <td>450</td>\n",
       "    </tr>\n",
       "  </tbody>\n",
       "</table>\n",
       "<p>3652 rows × 9 columns</p>\n",
       "</div>"
      ],
      "text/plain": [
       "                                                 Naslov              Avtor  \\\n",
       "0                The Hobbit (The Lord of the Rings, #0)     J.R.R. Tolkien   \n",
       "1                                          Lost Horizon       James Hilton   \n",
       "2                           At the Mountains of Madness     H.P. Lovecraft   \n",
       "3                       Mary Poppins (Mary Poppins, #1)       P.L. Travers   \n",
       "4     The Sword in the Stone (The Once and Future Ki...         T.H. White   \n",
       "...                                                 ...                ...   \n",
       "3647        The Wizard of Eventide (The Goddess War, 3)     Kelley Skovron   \n",
       "3648     The Fury of the Gods (The Bloodsworn Saga, #3)        John Gwynne   \n",
       "3649                          Age of Ash (Kithamar, #1)     Daniel Abraham   \n",
       "3650                        The Castle of Tangled Magic  Sophie   Anderson   \n",
       "3651                      Blade of Dream (Kithamar, #2)     Daniel Abraham   \n",
       "\n",
       "      Leto izida  Desetletje  Dolžina  Točke  Ocena  Število bralcev  \\\n",
       "0           1937        1930      366   5793   4.29          4067050   \n",
       "1           1933        1930      241   1276   3.95            22940   \n",
       "2           1931        1930      194   1185   3.81            55059   \n",
       "3           1934        1930      209   1169   4.01           134801   \n",
       "4           1938        1930      352    968   3.89            26897   \n",
       "...          ...         ...      ...    ...    ...              ...   \n",
       "3647        2022        2020      400     18   4.14               78   \n",
       "3648        2024        2020      528     15   4.47              106   \n",
       "3649        2022        2020      448     14   3.68             3424   \n",
       "3650        2020        2020      416     13   4.02             2038   \n",
       "3651        2023        2020      464     13   4.30              939   \n",
       "\n",
       "      Razred dolžine  \n",
       "0                350  \n",
       "1                200  \n",
       "2                150  \n",
       "3                200  \n",
       "4                350  \n",
       "...              ...  \n",
       "3647             400  \n",
       "3648             500  \n",
       "3649             400  \n",
       "3650             400  \n",
       "3651             450  \n",
       "\n",
       "[3652 rows x 9 columns]"
      ]
     },
     "execution_count": 99,
     "metadata": {},
     "output_type": "execute_result"
    }
   ],
   "source": [
    "podatki"
   ]
  },
  {
   "cell_type": "code",
   "execution_count": 115,
   "metadata": {},
   "outputs": [],
   "source": [
    "filt = 'Harry Potter' in (novi_podatki_1['Naslov'])"
   ]
  },
  {
   "cell_type": "code",
   "execution_count": 116,
   "metadata": {},
   "outputs": [],
   "source": [
    "novi_podatki_1 = pd.DataFrame(podatki['Naslov'].astype('string'))"
   ]
  },
  {
   "cell_type": "code",
   "execution_count": 117,
   "metadata": {},
   "outputs": [
    {
     "data": {
      "text/html": [
       "<div>\n",
       "<style scoped>\n",
       "    .dataframe tbody tr th:only-of-type {\n",
       "        vertical-align: middle;\n",
       "    }\n",
       "\n",
       "    .dataframe tbody tr th {\n",
       "        vertical-align: top;\n",
       "    }\n",
       "\n",
       "    .dataframe thead th {\n",
       "        text-align: right;\n",
       "    }\n",
       "</style>\n",
       "<table border=\"1\" class=\"dataframe\">\n",
       "  <thead>\n",
       "    <tr style=\"text-align: right;\">\n",
       "      <th></th>\n",
       "      <th>Naslov</th>\n",
       "    </tr>\n",
       "  </thead>\n",
       "  <tbody>\n",
       "    <tr>\n",
       "      <th>0</th>\n",
       "      <td>The Hobbit (The Lord of the Rings, #0)</td>\n",
       "    </tr>\n",
       "    <tr>\n",
       "      <th>1</th>\n",
       "      <td>Lost Horizon</td>\n",
       "    </tr>\n",
       "    <tr>\n",
       "      <th>2</th>\n",
       "      <td>At the Mountains of Madness</td>\n",
       "    </tr>\n",
       "    <tr>\n",
       "      <th>3</th>\n",
       "      <td>Mary Poppins (Mary Poppins, #1)</td>\n",
       "    </tr>\n",
       "    <tr>\n",
       "      <th>4</th>\n",
       "      <td>The Sword in the Stone (The Once and Future Ki...</td>\n",
       "    </tr>\n",
       "    <tr>\n",
       "      <th>...</th>\n",
       "      <td>...</td>\n",
       "    </tr>\n",
       "    <tr>\n",
       "      <th>3647</th>\n",
       "      <td>The Wizard of Eventide (The Goddess War, 3)</td>\n",
       "    </tr>\n",
       "    <tr>\n",
       "      <th>3648</th>\n",
       "      <td>The Fury of the Gods (The Bloodsworn Saga, #3)</td>\n",
       "    </tr>\n",
       "    <tr>\n",
       "      <th>3649</th>\n",
       "      <td>Age of Ash (Kithamar, #1)</td>\n",
       "    </tr>\n",
       "    <tr>\n",
       "      <th>3650</th>\n",
       "      <td>The Castle of Tangled Magic</td>\n",
       "    </tr>\n",
       "    <tr>\n",
       "      <th>3651</th>\n",
       "      <td>Blade of Dream (Kithamar, #2)</td>\n",
       "    </tr>\n",
       "  </tbody>\n",
       "</table>\n",
       "<p>3652 rows × 1 columns</p>\n",
       "</div>"
      ],
      "text/plain": [
       "                                                 Naslov\n",
       "0                The Hobbit (The Lord of the Rings, #0)\n",
       "1                                          Lost Horizon\n",
       "2                           At the Mountains of Madness\n",
       "3                       Mary Poppins (Mary Poppins, #1)\n",
       "4     The Sword in the Stone (The Once and Future Ki...\n",
       "...                                                 ...\n",
       "3647        The Wizard of Eventide (The Goddess War, 3)\n",
       "3648     The Fury of the Gods (The Bloodsworn Saga, #3)\n",
       "3649                          Age of Ash (Kithamar, #1)\n",
       "3650                        The Castle of Tangled Magic\n",
       "3651                      Blade of Dream (Kithamar, #2)\n",
       "\n",
       "[3652 rows x 1 columns]"
      ]
     },
     "execution_count": 117,
     "metadata": {},
     "output_type": "execute_result"
    }
   ],
   "source": [
    "novi_podatki_1"
   ]
  },
  {
   "cell_type": "code",
   "execution_count": 118,
   "metadata": {},
   "outputs": [
    {
     "ename": "KeyError",
     "evalue": "False",
     "output_type": "error",
     "traceback": [
      "\u001b[1;31m---------------------------------------------------------------------------\u001b[0m",
      "\u001b[1;31mKeyError\u001b[0m                                  Traceback (most recent call last)",
      "File \u001b[1;32m~\\AppData\\Roaming\\Python\\Python311\\site-packages\\pandas\\core\\indexes\\base.py:3653\u001b[0m, in \u001b[0;36mIndex.get_loc\u001b[1;34m(self, key)\u001b[0m\n\u001b[0;32m   3652\u001b[0m \u001b[38;5;28;01mtry\u001b[39;00m:\n\u001b[1;32m-> 3653\u001b[0m     \u001b[38;5;28;01mreturn\u001b[39;00m \u001b[38;5;28;43mself\u001b[39;49m\u001b[38;5;241;43m.\u001b[39;49m\u001b[43m_engine\u001b[49m\u001b[38;5;241;43m.\u001b[39;49m\u001b[43mget_loc\u001b[49m\u001b[43m(\u001b[49m\u001b[43mcasted_key\u001b[49m\u001b[43m)\u001b[49m\n\u001b[0;32m   3654\u001b[0m \u001b[38;5;28;01mexcept\u001b[39;00m \u001b[38;5;167;01mKeyError\u001b[39;00m \u001b[38;5;28;01mas\u001b[39;00m err:\n",
      "File \u001b[1;32m~\\AppData\\Roaming\\Python\\Python311\\site-packages\\pandas\\_libs\\index.pyx:147\u001b[0m, in \u001b[0;36mpandas._libs.index.IndexEngine.get_loc\u001b[1;34m()\u001b[0m\n",
      "File \u001b[1;32m~\\AppData\\Roaming\\Python\\Python311\\site-packages\\pandas\\_libs\\index.pyx:176\u001b[0m, in \u001b[0;36mpandas._libs.index.IndexEngine.get_loc\u001b[1;34m()\u001b[0m\n",
      "File \u001b[1;32mpandas\\_libs\\hashtable_class_helper.pxi:7080\u001b[0m, in \u001b[0;36mpandas._libs.hashtable.PyObjectHashTable.get_item\u001b[1;34m()\u001b[0m\n",
      "File \u001b[1;32mpandas\\_libs\\hashtable_class_helper.pxi:7088\u001b[0m, in \u001b[0;36mpandas._libs.hashtable.PyObjectHashTable.get_item\u001b[1;34m()\u001b[0m\n",
      "\u001b[1;31mKeyError\u001b[0m: False",
      "\nThe above exception was the direct cause of the following exception:\n",
      "\u001b[1;31mKeyError\u001b[0m                                  Traceback (most recent call last)",
      "Cell \u001b[1;32mIn[118], line 1\u001b[0m\n\u001b[1;32m----> 1\u001b[0m \u001b[43mnovi_podatki_1\u001b[49m\u001b[43m[\u001b[49m\u001b[43mfilt\u001b[49m\u001b[43m]\u001b[49m\n",
      "File \u001b[1;32m~\\AppData\\Roaming\\Python\\Python311\\site-packages\\pandas\\core\\frame.py:3761\u001b[0m, in \u001b[0;36mDataFrame.__getitem__\u001b[1;34m(self, key)\u001b[0m\n\u001b[0;32m   3759\u001b[0m \u001b[38;5;28;01mif\u001b[39;00m \u001b[38;5;28mself\u001b[39m\u001b[38;5;241m.\u001b[39mcolumns\u001b[38;5;241m.\u001b[39mnlevels \u001b[38;5;241m>\u001b[39m \u001b[38;5;241m1\u001b[39m:\n\u001b[0;32m   3760\u001b[0m     \u001b[38;5;28;01mreturn\u001b[39;00m \u001b[38;5;28mself\u001b[39m\u001b[38;5;241m.\u001b[39m_getitem_multilevel(key)\n\u001b[1;32m-> 3761\u001b[0m indexer \u001b[38;5;241m=\u001b[39m \u001b[38;5;28;43mself\u001b[39;49m\u001b[38;5;241;43m.\u001b[39;49m\u001b[43mcolumns\u001b[49m\u001b[38;5;241;43m.\u001b[39;49m\u001b[43mget_loc\u001b[49m\u001b[43m(\u001b[49m\u001b[43mkey\u001b[49m\u001b[43m)\u001b[49m\n\u001b[0;32m   3762\u001b[0m \u001b[38;5;28;01mif\u001b[39;00m is_integer(indexer):\n\u001b[0;32m   3763\u001b[0m     indexer \u001b[38;5;241m=\u001b[39m [indexer]\n",
      "File \u001b[1;32m~\\AppData\\Roaming\\Python\\Python311\\site-packages\\pandas\\core\\indexes\\base.py:3655\u001b[0m, in \u001b[0;36mIndex.get_loc\u001b[1;34m(self, key)\u001b[0m\n\u001b[0;32m   3653\u001b[0m     \u001b[38;5;28;01mreturn\u001b[39;00m \u001b[38;5;28mself\u001b[39m\u001b[38;5;241m.\u001b[39m_engine\u001b[38;5;241m.\u001b[39mget_loc(casted_key)\n\u001b[0;32m   3654\u001b[0m \u001b[38;5;28;01mexcept\u001b[39;00m \u001b[38;5;167;01mKeyError\u001b[39;00m \u001b[38;5;28;01mas\u001b[39;00m err:\n\u001b[1;32m-> 3655\u001b[0m     \u001b[38;5;28;01mraise\u001b[39;00m \u001b[38;5;167;01mKeyError\u001b[39;00m(key) \u001b[38;5;28;01mfrom\u001b[39;00m \u001b[38;5;21;01merr\u001b[39;00m\n\u001b[0;32m   3656\u001b[0m \u001b[38;5;28;01mexcept\u001b[39;00m \u001b[38;5;167;01mTypeError\u001b[39;00m:\n\u001b[0;32m   3657\u001b[0m     \u001b[38;5;66;03m# If we have a listlike key, _check_indexing_error will raise\u001b[39;00m\n\u001b[0;32m   3658\u001b[0m     \u001b[38;5;66;03m#  InvalidIndexError. Otherwise we fall through and re-raise\u001b[39;00m\n\u001b[0;32m   3659\u001b[0m     \u001b[38;5;66;03m#  the TypeError.\u001b[39;00m\n\u001b[0;32m   3660\u001b[0m     \u001b[38;5;28mself\u001b[39m\u001b[38;5;241m.\u001b[39m_check_indexing_error(key)\n",
      "\u001b[1;31mKeyError\u001b[0m: False"
     ]
    }
   ],
   "source": [
    "novi_podatki_1[filt]"
   ]
  },
  {
   "cell_type": "markdown",
   "metadata": {},
   "source": [
    "<h2 style='text-align:center'> <div style=\"font-size : 30px; font-style : Verdana; text-align : center \"> Lestvica najboljših </div> </h2>"
   ]
  },
  {
   "cell_type": "code",
   "execution_count": null,
   "metadata": {},
   "outputs": [],
   "source": []
  },
  {
   "cell_type": "markdown",
   "metadata": {},
   "source": [
    "<p style=\"font-family:'Times New Roman', font-size:12px\"> Najprej si poglejmo najboljših 10 predstavnikov iz vsake kategorije. Z rezultati si bo lahko vsak ljubitelj fantazijskega žanra pomagal pri odločitvi, katere knjige oz. avtorje se najbolj splača brati.</p>"
   ]
  },
  {
   "cell_type": "markdown",
   "metadata": {},
   "source": [
    "<h3 style=\"text-align:center\"><div style=\"font-size : 20px; font-style : Verdana; text-align : center\">Najkvalitetnejše knjige</h3>"
   ]
  },
  {
   "cell_type": "markdown",
   "metadata": {},
   "source": [
    "<p style=\"font-family:'Times New Roman', font-size:12px\"> Poizvedimo najprej, katere knjige so najkvalitetnejše. Kot merilo kvalitete vzemimo št. točk oz. t. i. \"score\", kakor je navedeno na spletni strani. Točke upoštevajo št. bralcev, ki je ocenilo knjigo, ter povprečno oceno, ki so ji jo prisodili.</p>"
   ]
  },
  {
   "cell_type": "code",
   "execution_count": 10,
   "metadata": {},
   "outputs": [],
   "source": [
    "naj_knjige_po_tockah = pd.DataFrame(podatki['Točke'].sort_values(ascending=False))"
   ]
  },
  {
   "cell_type": "code",
   "execution_count": 11,
   "metadata": {},
   "outputs": [],
   "source": [
    "naj_knjige_po_tockah.reset_index(inplace=True)"
   ]
  },
  {
   "cell_type": "code",
   "execution_count": 12,
   "metadata": {},
   "outputs": [],
   "source": [
    "naj_knjige_po_tockah.index += 1"
   ]
  },
  {
   "cell_type": "code",
   "execution_count": 13,
   "metadata": {},
   "outputs": [
    {
     "data": {
      "text/html": [
       "<div>\n",
       "<style scoped>\n",
       "    .dataframe tbody tr th:only-of-type {\n",
       "        vertical-align: middle;\n",
       "    }\n",
       "\n",
       "    .dataframe tbody tr th {\n",
       "        vertical-align: top;\n",
       "    }\n",
       "\n",
       "    .dataframe thead th {\n",
       "        text-align: right;\n",
       "    }\n",
       "</style>\n",
       "<table border=\"1\" class=\"dataframe\">\n",
       "  <thead>\n",
       "    <tr style=\"text-align: right;\">\n",
       "      <th></th>\n",
       "      <th>Naslov</th>\n",
       "      <th>Točke</th>\n",
       "    </tr>\n",
       "  </thead>\n",
       "  <tbody>\n",
       "    <tr>\n",
       "      <th>1</th>\n",
       "      <td>The Way of Kings (The Stormlight Archive, #1)</td>\n",
       "      <td>66172</td>\n",
       "    </tr>\n",
       "    <tr>\n",
       "      <th>2</th>\n",
       "      <td>Words of Radiance (The Stormlight Archive, #2)</td>\n",
       "      <td>51565</td>\n",
       "    </tr>\n",
       "    <tr>\n",
       "      <th>3</th>\n",
       "      <td>The Wise Man’s Fear (The Kingkiller Chronicle,...</td>\n",
       "      <td>43622</td>\n",
       "    </tr>\n",
       "    <tr>\n",
       "      <th>4</th>\n",
       "      <td>Harry Potter and the Sorcerer's Stone (Harry P...</td>\n",
       "      <td>25663</td>\n",
       "    </tr>\n",
       "    <tr>\n",
       "      <th>5</th>\n",
       "      <td>A Game of Thrones (A Song of Ice and Fire, #1)</td>\n",
       "      <td>24076</td>\n",
       "    </tr>\n",
       "    <tr>\n",
       "      <th>6</th>\n",
       "      <td>A Dance with Dragons (A Song of Ice and Fire, #5)</td>\n",
       "      <td>23066</td>\n",
       "    </tr>\n",
       "    <tr>\n",
       "      <th>7</th>\n",
       "      <td>The Eye of the World (The Wheel of Time, #1)</td>\n",
       "      <td>21596</td>\n",
       "    </tr>\n",
       "    <tr>\n",
       "      <th>8</th>\n",
       "      <td>The Name of the Wind (The Kingkiller Chronicle...</td>\n",
       "      <td>20124</td>\n",
       "    </tr>\n",
       "    <tr>\n",
       "      <th>9</th>\n",
       "      <td>Prince of Thorns (The Broken Empire, #1)</td>\n",
       "      <td>19682</td>\n",
       "    </tr>\n",
       "    <tr>\n",
       "      <th>10</th>\n",
       "      <td>The Final Empire (Mistborn #1)</td>\n",
       "      <td>17752</td>\n",
       "    </tr>\n",
       "  </tbody>\n",
       "</table>\n",
       "</div>"
      ],
      "text/plain": [
       "                                               Naslov  Točke\n",
       "1       The Way of Kings (The Stormlight Archive, #1)  66172\n",
       "2      Words of Radiance (The Stormlight Archive, #2)  51565\n",
       "3   The Wise Man’s Fear (The Kingkiller Chronicle,...  43622\n",
       "4   Harry Potter and the Sorcerer's Stone (Harry P...  25663\n",
       "5      A Game of Thrones (A Song of Ice and Fire, #1)  24076\n",
       "6   A Dance with Dragons (A Song of Ice and Fire, #5)  23066\n",
       "7        The Eye of the World (The Wheel of Time, #1)  21596\n",
       "8   The Name of the Wind (The Kingkiller Chronicle...  20124\n",
       "9            Prince of Thorns (The Broken Empire, #1)  19682\n",
       "10                     The Final Empire (Mistborn #1)  17752"
      ]
     },
     "execution_count": 13,
     "metadata": {},
     "output_type": "execute_result"
    }
   ],
   "source": [
    "naj_knjige_po_tockah.head(10)"
   ]
  },
  {
   "cell_type": "markdown",
   "metadata": {},
   "source": [
    "<h3 style=\"text-align:center\"><div style=\"font-size : 20px; font-style : Verdana; text-align : center\">Najkvalitetnejši avtorji</h3>"
   ]
  },
  {
   "cell_type": "markdown",
   "metadata": {},
   "source": [
    "<p style=\"font-family:'Times New Roman', font-size:12px\"> Sedaj analizirajmo avtorje po kvaliteti knjig, ki so jih napisali. Kot merilo zopet vzemimo število točk, le da tokrat avtorju pripišimo povprečje točk njegovih knjig.</p>"
   ]
  },
  {
   "cell_type": "code",
   "execution_count": 14,
   "metadata": {},
   "outputs": [],
   "source": [
    "po_avtorjih = podatki.groupby('Avtor')"
   ]
  },
  {
   "cell_type": "code",
   "execution_count": 15,
   "metadata": {},
   "outputs": [],
   "source": [
    "naj_avtorji_po_tockah = (pd.DataFrame(po_avtorjih['Točke'].mean())).sort_values(by='Točke',ascending=False)"
   ]
  },
  {
   "cell_type": "code",
   "execution_count": 16,
   "metadata": {},
   "outputs": [],
   "source": [
    "naj_avtorji_po_tockah['Točke'] = round(naj_avtorji_po_tockah['Točke'], 2)"
   ]
  },
  {
   "cell_type": "code",
   "execution_count": 17,
   "metadata": {},
   "outputs": [],
   "source": [
    "naj_avtorji_po_tockah.reset_index(inplace=True)"
   ]
  },
  {
   "cell_type": "code",
   "execution_count": 18,
   "metadata": {},
   "outputs": [],
   "source": [
    "naj_avtorji_po_tockah.index += 1"
   ]
  },
  {
   "cell_type": "code",
   "execution_count": 19,
   "metadata": {},
   "outputs": [
    {
     "data": {
      "text/html": [
       "<div>\n",
       "<style scoped>\n",
       "    .dataframe tbody tr th:only-of-type {\n",
       "        vertical-align: middle;\n",
       "    }\n",
       "\n",
       "    .dataframe tbody tr th {\n",
       "        vertical-align: top;\n",
       "    }\n",
       "\n",
       "    .dataframe thead th {\n",
       "        text-align: right;\n",
       "    }\n",
       "</style>\n",
       "<table border=\"1\" class=\"dataframe\">\n",
       "  <thead>\n",
       "    <tr style=\"text-align: right;\">\n",
       "      <th></th>\n",
       "      <th>Avtor</th>\n",
       "      <th>Točke</th>\n",
       "    </tr>\n",
       "  </thead>\n",
       "  <tbody>\n",
       "    <tr>\n",
       "      <th>1</th>\n",
       "      <td>Patrick Rothfuss</td>\n",
       "      <td>16323.50</td>\n",
       "    </tr>\n",
       "    <tr>\n",
       "      <th>2</th>\n",
       "      <td>Scott Lynch</td>\n",
       "      <td>8780.50</td>\n",
       "    </tr>\n",
       "    <tr>\n",
       "      <th>3</th>\n",
       "      <td>Brandon Sanderson</td>\n",
       "      <td>8269.15</td>\n",
       "    </tr>\n",
       "    <tr>\n",
       "      <th>4</th>\n",
       "      <td>George R.R. Martin</td>\n",
       "      <td>7714.80</td>\n",
       "    </tr>\n",
       "    <tr>\n",
       "      <th>5</th>\n",
       "      <td>Robert Jordan</td>\n",
       "      <td>6818.79</td>\n",
       "    </tr>\n",
       "    <tr>\n",
       "      <th>6</th>\n",
       "      <td>Pierce Brown</td>\n",
       "      <td>6769.25</td>\n",
       "    </tr>\n",
       "    <tr>\n",
       "      <th>7</th>\n",
       "      <td>William Goldman</td>\n",
       "      <td>6363.00</td>\n",
       "    </tr>\n",
       "    <tr>\n",
       "      <th>8</th>\n",
       "      <td>Erin Morgenstern</td>\n",
       "      <td>5810.00</td>\n",
       "    </tr>\n",
       "    <tr>\n",
       "      <th>9</th>\n",
       "      <td>Neil Gaiman</td>\n",
       "      <td>5769.88</td>\n",
       "    </tr>\n",
       "    <tr>\n",
       "      <th>10</th>\n",
       "      <td>Terry Goodkind</td>\n",
       "      <td>5705.00</td>\n",
       "    </tr>\n",
       "  </tbody>\n",
       "</table>\n",
       "</div>"
      ],
      "text/plain": [
       "                 Avtor     Točke\n",
       "1     Patrick Rothfuss  16323.50\n",
       "2          Scott Lynch   8780.50\n",
       "3    Brandon Sanderson   8269.15\n",
       "4   George R.R. Martin   7714.80\n",
       "5        Robert Jordan   6818.79\n",
       "6         Pierce Brown   6769.25\n",
       "7      William Goldman   6363.00\n",
       "8     Erin Morgenstern   5810.00\n",
       "9          Neil Gaiman   5769.88\n",
       "10      Terry Goodkind   5705.00"
      ]
     },
     "execution_count": 19,
     "metadata": {},
     "output_type": "execute_result"
    }
   ],
   "source": [
    "naj_avtorji_po_tockah.head(10)"
   ]
  },
  {
   "cell_type": "markdown",
   "metadata": {},
   "source": [
    "<h3 style=\"text-align:center\"><div style=\"font-size : 20px; font-style : Verdana; text-align : center\">Najbolj brane knjige</h3>"
   ]
  },
  {
   "cell_type": "markdown",
   "metadata": {},
   "source": [
    "<p style=\"font-family:'Times New Roman', font-size:12px\"> Kot zanimivost si poglejmo še, katere so najbolj brane knjige in najbolj brani avtorji ter rezultata primerjajmo z zgornjima. Kot kriterij sem vzel število ljudi, ki je ocenilo knjigo na spletni strani, saj dejanskega števila ljudi, ki so prebrali knjigo, ni mogoče zares ugotoviti.</p>"
   ]
  },
  {
   "cell_type": "code",
   "execution_count": 20,
   "metadata": {},
   "outputs": [],
   "source": [
    "naj_knjige_po_bralcih = podatki.sort_values(by='Število bralcev', ascending=False)"
   ]
  },
  {
   "cell_type": "code",
   "execution_count": 21,
   "metadata": {},
   "outputs": [],
   "source": [
    "naj_knjige_po_bralcih = pd.DataFrame(naj_knjige_po_bralcih['Število bralcev'])"
   ]
  },
  {
   "cell_type": "code",
   "execution_count": 22,
   "metadata": {},
   "outputs": [],
   "source": [
    "naj_knjige_po_bralcih.reset_index(inplace=True)"
   ]
  },
  {
   "cell_type": "code",
   "execution_count": 23,
   "metadata": {},
   "outputs": [],
   "source": [
    "naj_knjige_po_bralcih.index += 1"
   ]
  },
  {
   "cell_type": "code",
   "execution_count": 24,
   "metadata": {},
   "outputs": [
    {
     "data": {
      "text/html": [
       "<div>\n",
       "<style scoped>\n",
       "    .dataframe tbody tr th:only-of-type {\n",
       "        vertical-align: middle;\n",
       "    }\n",
       "\n",
       "    .dataframe tbody tr th {\n",
       "        vertical-align: top;\n",
       "    }\n",
       "\n",
       "    .dataframe thead th {\n",
       "        text-align: right;\n",
       "    }\n",
       "</style>\n",
       "<table border=\"1\" class=\"dataframe\">\n",
       "  <thead>\n",
       "    <tr style=\"text-align: right;\">\n",
       "      <th></th>\n",
       "      <th>Naslov</th>\n",
       "      <th>Število bralcev</th>\n",
       "    </tr>\n",
       "  </thead>\n",
       "  <tbody>\n",
       "    <tr>\n",
       "      <th>1</th>\n",
       "      <td>Harry Potter and the Sorcerer's Stone (Harry P...</td>\n",
       "      <td>10271382</td>\n",
       "    </tr>\n",
       "    <tr>\n",
       "      <th>2</th>\n",
       "      <td>Harry Potter and the Philosopher’s Stone (Harr...</td>\n",
       "      <td>10271334</td>\n",
       "    </tr>\n",
       "    <tr>\n",
       "      <th>3</th>\n",
       "      <td>Harry Potter and the Sorcerer's Stone (Harry P...</td>\n",
       "      <td>10271334</td>\n",
       "    </tr>\n",
       "    <tr>\n",
       "      <th>4</th>\n",
       "      <td>The Hunger Games (The Hunger Games, #1)</td>\n",
       "      <td>8859007</td>\n",
       "    </tr>\n",
       "    <tr>\n",
       "      <th>5</th>\n",
       "      <td>Twilight (The Twilight Saga, #1)</td>\n",
       "      <td>6698056</td>\n",
       "    </tr>\n",
       "    <tr>\n",
       "      <th>6</th>\n",
       "      <td>Harry Potter and the Prisoner of Azkaban (Harr...</td>\n",
       "      <td>4291835</td>\n",
       "    </tr>\n",
       "    <tr>\n",
       "      <th>7</th>\n",
       "      <td>Harry Potter and the Prisoner of Azkaban (Harr...</td>\n",
       "      <td>4291784</td>\n",
       "    </tr>\n",
       "    <tr>\n",
       "      <th>8</th>\n",
       "      <td>The Hobbit (The Lord of the Rings, #0)</td>\n",
       "      <td>4067187</td>\n",
       "    </tr>\n",
       "    <tr>\n",
       "      <th>9</th>\n",
       "      <td>The Hobbit (The Lord of the Rings, #0)</td>\n",
       "      <td>4067050</td>\n",
       "    </tr>\n",
       "    <tr>\n",
       "      <th>10</th>\n",
       "      <td>Divergent (Divergent, #1)</td>\n",
       "      <td>4049910</td>\n",
       "    </tr>\n",
       "  </tbody>\n",
       "</table>\n",
       "</div>"
      ],
      "text/plain": [
       "                                               Naslov  Število bralcev\n",
       "1   Harry Potter and the Sorcerer's Stone (Harry P...         10271382\n",
       "2   Harry Potter and the Philosopher’s Stone (Harr...         10271334\n",
       "3   Harry Potter and the Sorcerer's Stone (Harry P...         10271334\n",
       "4             The Hunger Games (The Hunger Games, #1)          8859007\n",
       "5                    Twilight (The Twilight Saga, #1)          6698056\n",
       "6   Harry Potter and the Prisoner of Azkaban (Harr...          4291835\n",
       "7   Harry Potter and the Prisoner of Azkaban (Harr...          4291784\n",
       "8              The Hobbit (The Lord of the Rings, #0)          4067187\n",
       "9              The Hobbit (The Lord of the Rings, #0)          4067050\n",
       "10                          Divergent (Divergent, #1)          4049910"
      ]
     },
     "execution_count": 24,
     "metadata": {},
     "output_type": "execute_result"
    }
   ],
   "source": [
    "naj_knjige_po_bralcih.head(10)"
   ]
  },
  {
   "cell_type": "markdown",
   "metadata": {},
   "source": [
    "<h3 style=\"text-align:center\"><div style=\"font-size : 20px; font-style : Verdana; text-align : center\">Najbolj brani avtorji</h3>"
   ]
  },
  {
   "cell_type": "markdown",
   "metadata": {},
   "source": [
    "<p style=\"font-family:'Times New Roman', font-size:12px\"> Še po avtorjih </p>"
   ]
  },
  {
   "cell_type": "code",
   "execution_count": 25,
   "metadata": {},
   "outputs": [],
   "source": [
    "naj_avtorji_po_bralcih = (pd.DataFrame(po_avtorjih['Število bralcev'].mean())).sort_values(by='Število bralcev', ascending=False)"
   ]
  },
  {
   "cell_type": "code",
   "execution_count": 26,
   "metadata": {},
   "outputs": [],
   "source": [
    "naj_avtorji_po_bralcih.reset_index(inplace=True)"
   ]
  },
  {
   "cell_type": "code",
   "execution_count": 27,
   "metadata": {},
   "outputs": [],
   "source": [
    "naj_avtorji_po_bralcih.index += 1"
   ]
  },
  {
   "cell_type": "code",
   "execution_count": 28,
   "metadata": {},
   "outputs": [
    {
     "data": {
      "text/html": [
       "<div>\n",
       "<style scoped>\n",
       "    .dataframe tbody tr th:only-of-type {\n",
       "        vertical-align: middle;\n",
       "    }\n",
       "\n",
       "    .dataframe tbody tr th {\n",
       "        vertical-align: top;\n",
       "    }\n",
       "\n",
       "    .dataframe thead th {\n",
       "        text-align: right;\n",
       "    }\n",
       "</style>\n",
       "<table border=\"1\" class=\"dataframe\">\n",
       "  <thead>\n",
       "    <tr style=\"text-align: right;\">\n",
       "      <th></th>\n",
       "      <th>Avtor</th>\n",
       "      <th>Število bralcev</th>\n",
       "    </tr>\n",
       "  </thead>\n",
       "  <tbody>\n",
       "    <tr>\n",
       "      <th>1</th>\n",
       "      <td>J.K. Rowling</td>\n",
       "      <td>4.040455e+06</td>\n",
       "    </tr>\n",
       "    <tr>\n",
       "      <th>2</th>\n",
       "      <td>George Orwell</td>\n",
       "      <td>3.978536e+06</td>\n",
       "    </tr>\n",
       "    <tr>\n",
       "      <th>3</th>\n",
       "      <td>Suzanne Collins</td>\n",
       "      <td>3.218892e+06</td>\n",
       "    </tr>\n",
       "    <tr>\n",
       "      <th>4</th>\n",
       "      <td>Alice Sebold</td>\n",
       "      <td>2.376406e+06</td>\n",
       "    </tr>\n",
       "    <tr>\n",
       "      <th>5</th>\n",
       "      <td>Stephenie Meyer</td>\n",
       "      <td>2.246038e+06</td>\n",
       "    </tr>\n",
       "    <tr>\n",
       "      <th>6</th>\n",
       "      <td>Veronica Roth</td>\n",
       "      <td>2.214468e+06</td>\n",
       "    </tr>\n",
       "    <tr>\n",
       "      <th>7</th>\n",
       "      <td>Antoine de Saint-Exupéry</td>\n",
       "      <td>2.158323e+06</td>\n",
       "    </tr>\n",
       "    <tr>\n",
       "      <th>8</th>\n",
       "      <td>Rebecca Yarros</td>\n",
       "      <td>1.845910e+06</td>\n",
       "    </tr>\n",
       "    <tr>\n",
       "      <th>9</th>\n",
       "      <td>Audrey Niffenegger</td>\n",
       "      <td>1.800145e+06</td>\n",
       "    </tr>\n",
       "    <tr>\n",
       "      <th>10</th>\n",
       "      <td>Yann Martel</td>\n",
       "      <td>1.646466e+06</td>\n",
       "    </tr>\n",
       "  </tbody>\n",
       "</table>\n",
       "</div>"
      ],
      "text/plain": [
       "                       Avtor  Število bralcev\n",
       "1               J.K. Rowling     4.040455e+06\n",
       "2              George Orwell     3.978536e+06\n",
       "3            Suzanne Collins     3.218892e+06\n",
       "4               Alice Sebold     2.376406e+06\n",
       "5            Stephenie Meyer     2.246038e+06\n",
       "6              Veronica Roth     2.214468e+06\n",
       "7   Antoine de Saint-Exupéry     2.158323e+06\n",
       "8             Rebecca Yarros     1.845910e+06\n",
       "9         Audrey Niffenegger     1.800145e+06\n",
       "10               Yann Martel     1.646466e+06"
      ]
     },
     "execution_count": 28,
     "metadata": {},
     "output_type": "execute_result"
    }
   ],
   "source": [
    "naj_avtorji_po_bralcih.head(10)"
   ]
  },
  {
   "cell_type": "markdown",
   "metadata": {},
   "source": [
    "<h3 style=\"text-align:center\"><div style=\"font-size : 20px; font-style : Verdana; text-align : center\">Sklepi</h3>"
   ]
  },
  {
   "cell_type": "markdown",
   "metadata": {},
   "source": [
    "<h2 style='text-align:center'> <div style=\"font-size : 30px; font-style : Verdana; text-align : center \"> Analiza trendov </div> </h2>"
   ]
  },
  {
   "cell_type": "markdown",
   "metadata": {},
   "source": [
    "<p style=\"font-family:'Times New Roman', font-size:12px\"> Zanima nas tudi podrobnejše dogajanje v fantazijskem žanru.<br> Kot bralci bi se lahko vprašali, kako se tekom let in desetletij spreminjajo kvaliteta, dolžina in branost književnih del. Prav tako bi vsekakor želeli vedeti, ali so daljše knjige tudi kvalitetnejše ter ali ljudje raje berejo daljše ali krajše knjige.<br> Iz rezultatov analize bomo poskusili napovedati trende na tem področju v prihodnosti.</p>"
   ]
  },
  {
   "cell_type": "markdown",
   "metadata": {},
   "source": [
    "<h3 style=\"text-align:center\"><div style=\"font-size : 20px; font-style : Verdana; text-align : center\">Odvisnost kvalitete knjige od leta izida</h3>"
   ]
  },
  {
   "cell_type": "code",
   "execution_count": 29,
   "metadata": {},
   "outputs": [],
   "source": [
    "izid_leto = po_desetletjih.agg(\n",
    "**{\n",
    "    'Kvaliteta': pd.NamedAgg(column='Točke', aggfunc='mean')\n",
    "})"
   ]
  },
  {
   "cell_type": "code",
   "execution_count": 30,
   "metadata": {},
   "outputs": [
    {
     "data": {
      "text/html": [
       "<div>\n",
       "<style scoped>\n",
       "    .dataframe tbody tr th:only-of-type {\n",
       "        vertical-align: middle;\n",
       "    }\n",
       "\n",
       "    .dataframe tbody tr th {\n",
       "        vertical-align: top;\n",
       "    }\n",
       "\n",
       "    .dataframe thead th {\n",
       "        text-align: right;\n",
       "    }\n",
       "</style>\n",
       "<table border=\"1\" class=\"dataframe\">\n",
       "  <thead>\n",
       "    <tr style=\"text-align: right;\">\n",
       "      <th></th>\n",
       "      <th>Kvaliteta</th>\n",
       "    </tr>\n",
       "    <tr>\n",
       "      <th>Desetletje</th>\n",
       "      <th></th>\n",
       "    </tr>\n",
       "  </thead>\n",
       "  <tbody>\n",
       "    <tr>\n",
       "      <th>0</th>\n",
       "      <td>353.857143</td>\n",
       "    </tr>\n",
       "    <tr>\n",
       "      <th>1840</th>\n",
       "      <td>86.000000</td>\n",
       "    </tr>\n",
       "    <tr>\n",
       "      <th>1890</th>\n",
       "      <td>348.000000</td>\n",
       "    </tr>\n",
       "    <tr>\n",
       "      <th>1920</th>\n",
       "      <td>217.000000</td>\n",
       "    </tr>\n",
       "    <tr>\n",
       "      <th>1930</th>\n",
       "      <td>394.132075</td>\n",
       "    </tr>\n",
       "    <tr>\n",
       "      <th>1940</th>\n",
       "      <td>354.489362</td>\n",
       "    </tr>\n",
       "    <tr>\n",
       "      <th>1950</th>\n",
       "      <td>1241.117647</td>\n",
       "    </tr>\n",
       "    <tr>\n",
       "      <th>1960</th>\n",
       "      <td>810.486486</td>\n",
       "    </tr>\n",
       "    <tr>\n",
       "      <th>1970</th>\n",
       "      <td>1120.118056</td>\n",
       "    </tr>\n",
       "    <tr>\n",
       "      <th>1980</th>\n",
       "      <td>1216.467890</td>\n",
       "    </tr>\n",
       "    <tr>\n",
       "      <th>1990</th>\n",
       "      <td>1152.430079</td>\n",
       "    </tr>\n",
       "    <tr>\n",
       "      <th>2000</th>\n",
       "      <td>699.094617</td>\n",
       "    </tr>\n",
       "    <tr>\n",
       "      <th>2010</th>\n",
       "      <td>610.129968</td>\n",
       "    </tr>\n",
       "    <tr>\n",
       "      <th>2020</th>\n",
       "      <td>301.974576</td>\n",
       "    </tr>\n",
       "  </tbody>\n",
       "</table>\n",
       "</div>"
      ],
      "text/plain": [
       "              Kvaliteta\n",
       "Desetletje             \n",
       "0            353.857143\n",
       "1840          86.000000\n",
       "1890         348.000000\n",
       "1920         217.000000\n",
       "1930         394.132075\n",
       "1940         354.489362\n",
       "1950        1241.117647\n",
       "1960         810.486486\n",
       "1970        1120.118056\n",
       "1980        1216.467890\n",
       "1990        1152.430079\n",
       "2000         699.094617\n",
       "2010         610.129968\n",
       "2020         301.974576"
      ]
     },
     "execution_count": 30,
     "metadata": {},
     "output_type": "execute_result"
    }
   ],
   "source": [
    "izid_leto"
   ]
  },
  {
   "cell_type": "code",
   "execution_count": 31,
   "metadata": {},
   "outputs": [],
   "source": [
    "izid_leto.drop(0, axis='index', inplace=True)  # Knjig brez navedenega leta izida ne upoštevamo."
   ]
  },
  {
   "cell_type": "code",
   "execution_count": 32,
   "metadata": {},
   "outputs": [],
   "source": [
    "izid_leto['Kvaliteta'] = round(izid_leto['Kvaliteta'], 2)"
   ]
  },
  {
   "cell_type": "code",
   "execution_count": 33,
   "metadata": {},
   "outputs": [
    {
     "data": {
      "text/plain": [
       "<Axes: xlabel='Desetletje', ylabel='Točke'>"
      ]
     },
     "execution_count": 33,
     "metadata": {},
     "output_type": "execute_result"
    },
    {
     "data": {
      "image/png": "[encoded data removed]",
      "text/plain": [
       "<Figure size 640x480 with 1 Axes>"
      ]
     },
     "metadata": {},
     "output_type": "display_data"
    }
   ],
   "source": [
    "izid_leto.plot(ylabel='Točke')"
   ]
  },
  {
   "cell_type": "markdown",
   "metadata": {},
   "source": [
    "<h3 style=\"text-align:center\"><div style=\"font-size : 20px; font-style : Verdana; text-align : center\">Odvisnost dolžine knjige od leta izida</h3>"
   ]
  },
  {
   "cell_type": "code",
   "execution_count": 34,
   "metadata": {},
   "outputs": [],
   "source": [
    "leto_dolzina = po_desetletjih.agg(\n",
    "    **{\n",
    "'Dolžina': pd.NamedAgg(column='Dolžina', aggfunc='mean')\n",
    "    })"
   ]
  },
  {
   "cell_type": "code",
   "execution_count": 35,
   "metadata": {},
   "outputs": [],
   "source": [
    "leto_dolzina.drop(0, inplace=True)"
   ]
  },
  {
   "cell_type": "code",
   "execution_count": 36,
   "metadata": {},
   "outputs": [
    {
     "data": {
      "text/plain": [
       "<Axes: xlabel='Desetletje', ylabel='Povprečna dolžina knjig (strani)'>"
      ]
     },
     "execution_count": 36,
     "metadata": {},
     "output_type": "execute_result"
    },
    {
     "data": {
      "image/png": "[encoded data removed]",
      "text/plain": [
       "<Figure size 640x480 with 1 Axes>"
      ]
     },
     "metadata": {},
     "output_type": "display_data"
    }
   ],
   "source": [
    "leto_dolzina.plot(ylabel='Povprečna dolžina knjig (strani)')"
   ]
  },
  {
   "cell_type": "markdown",
   "metadata": {},
   "source": [
    "<h3 style=\"text-align:center\"><div style=\"font-size : 20px; font-style : Verdana; text-align : center\">Odvisnost kvalitete knjige od njene dolžine</div></h3>"
   ]
  },
  {
   "cell_type": "markdown",
   "metadata": {},
   "source": [
    "<p style=\"font-family:'Times New Roman', font-size:12px\"> Radi bi videli, ali so daljše knjige kvalitetnejše. Pogledali bomo, koliko točk povprečno prejme vsaka knjiga iz posameznega razreda, pri čemer en razred predstavljajo vse tiste knjige, katerih števila strani dajo pri deljenju s 50 isti celi del.</p>"
   ]
  },
  {
   "cell_type": "code",
   "execution_count": 37,
   "metadata": {},
   "outputs": [],
   "source": [
    "dolzina_kvaliteta = podatki[['Dolžina', 'Točke']]"
   ]
  },
  {
   "cell_type": "code",
   "execution_count": 38,
   "metadata": {},
   "outputs": [
    {
     "name": "stderr",
     "output_type": "stream",
     "text": [
      "C:\\Users\\Benjamin\\AppData\\Local\\Temp\\ipykernel_14848\\2990771249.py:1: SettingWithCopyWarning: \n",
      "A value is trying to be set on a copy of a slice from a DataFrame.\n",
      "Try using .loc[row_indexer,col_indexer] = value instead\n",
      "\n",
      "See the caveats in the documentation: https://pandas.pydata.org/pandas-docs/stable/user_guide/indexing.html#returning-a-view-versus-a-copy\n",
      "  dolzina_kvaliteta['Razred dolžine'] = (dolzina_kvaliteta['Dolžina']//50)*50\n"
     ]
    }
   ],
   "source": [
    "dolzina_kvaliteta['Razred dolžine'] = (dolzina_kvaliteta['Dolžina']//50)*50"
   ]
  },
  {
   "cell_type": "code",
   "execution_count": 39,
   "metadata": {},
   "outputs": [
    {
     "data": {
      "text/html": [
       "<div>\n",
       "<style scoped>\n",
       "    .dataframe tbody tr th:only-of-type {\n",
       "        vertical-align: middle;\n",
       "    }\n",
       "\n",
       "    .dataframe tbody tr th {\n",
       "        vertical-align: top;\n",
       "    }\n",
       "\n",
       "    .dataframe thead th {\n",
       "        text-align: right;\n",
       "    }\n",
       "</style>\n",
       "<table border=\"1\" class=\"dataframe\">\n",
       "  <thead>\n",
       "    <tr style=\"text-align: right;\">\n",
       "      <th></th>\n",
       "      <th>Dolžina</th>\n",
       "      <th>Točke</th>\n",
       "      <th>Razred dolžine</th>\n",
       "    </tr>\n",
       "    <tr>\n",
       "      <th>Naslov</th>\n",
       "      <th></th>\n",
       "      <th></th>\n",
       "      <th></th>\n",
       "    </tr>\n",
       "  </thead>\n",
       "  <tbody>\n",
       "    <tr>\n",
       "      <th>The Hobbit (The Lord of the Rings, #0)</th>\n",
       "      <td>366</td>\n",
       "      <td>5793</td>\n",
       "      <td>350</td>\n",
       "    </tr>\n",
       "    <tr>\n",
       "      <th>Lost Horizon</th>\n",
       "      <td>241</td>\n",
       "      <td>1276</td>\n",
       "      <td>200</td>\n",
       "    </tr>\n",
       "    <tr>\n",
       "      <th>At the Mountains of Madness</th>\n",
       "      <td>194</td>\n",
       "      <td>1185</td>\n",
       "      <td>150</td>\n",
       "    </tr>\n",
       "    <tr>\n",
       "      <th>Mary Poppins (Mary Poppins, #1)</th>\n",
       "      <td>209</td>\n",
       "      <td>1169</td>\n",
       "      <td>200</td>\n",
       "    </tr>\n",
       "    <tr>\n",
       "      <th>The Sword in the Stone (The Once and Future King, #1)</th>\n",
       "      <td>352</td>\n",
       "      <td>968</td>\n",
       "      <td>350</td>\n",
       "    </tr>\n",
       "    <tr>\n",
       "      <th>...</th>\n",
       "      <td>...</td>\n",
       "      <td>...</td>\n",
       "      <td>...</td>\n",
       "    </tr>\n",
       "    <tr>\n",
       "      <th>The Wizard of Eventide (The Goddess War, 3)</th>\n",
       "      <td>400</td>\n",
       "      <td>18</td>\n",
       "      <td>400</td>\n",
       "    </tr>\n",
       "    <tr>\n",
       "      <th>The Fury of the Gods (The Bloodsworn Saga, #3)</th>\n",
       "      <td>528</td>\n",
       "      <td>15</td>\n",
       "      <td>500</td>\n",
       "    </tr>\n",
       "    <tr>\n",
       "      <th>Age of Ash (Kithamar, #1)</th>\n",
       "      <td>448</td>\n",
       "      <td>14</td>\n",
       "      <td>400</td>\n",
       "    </tr>\n",
       "    <tr>\n",
       "      <th>The Castle of Tangled Magic</th>\n",
       "      <td>416</td>\n",
       "      <td>13</td>\n",
       "      <td>400</td>\n",
       "    </tr>\n",
       "    <tr>\n",
       "      <th>Blade of Dream (Kithamar, #2)</th>\n",
       "      <td>464</td>\n",
       "      <td>13</td>\n",
       "      <td>450</td>\n",
       "    </tr>\n",
       "  </tbody>\n",
       "</table>\n",
       "<p>3652 rows × 3 columns</p>\n",
       "</div>"
      ],
      "text/plain": [
       "                                                    Dolžina  Točke  \\\n",
       "Naslov                                                               \n",
       "The Hobbit (The Lord of the Rings, #0)                  366   5793   \n",
       "Lost Horizon                                            241   1276   \n",
       "At the Mountains of Madness                             194   1185   \n",
       "Mary Poppins (Mary Poppins, #1)                         209   1169   \n",
       "The Sword in the Stone (The Once and Future Kin...      352    968   \n",
       "...                                                     ...    ...   \n",
       "The Wizard of Eventide (The Goddess War, 3)             400     18   \n",
       "The Fury of the Gods (The Bloodsworn Saga, #3)          528     15   \n",
       "Age of Ash (Kithamar, #1)                               448     14   \n",
       "The Castle of Tangled Magic                             416     13   \n",
       "Blade of Dream (Kithamar, #2)                           464     13   \n",
       "\n",
       "                                                    Razred dolžine  \n",
       "Naslov                                                              \n",
       "The Hobbit (The Lord of the Rings, #0)                         350  \n",
       "Lost Horizon                                                   200  \n",
       "At the Mountains of Madness                                    150  \n",
       "Mary Poppins (Mary Poppins, #1)                                200  \n",
       "The Sword in the Stone (The Once and Future Kin...             350  \n",
       "...                                                            ...  \n",
       "The Wizard of Eventide (The Goddess War, 3)                    400  \n",
       "The Fury of the Gods (The Bloodsworn Saga, #3)                 500  \n",
       "Age of Ash (Kithamar, #1)                                      400  \n",
       "The Castle of Tangled Magic                                    400  \n",
       "Blade of Dream (Kithamar, #2)                                  450  \n",
       "\n",
       "[3652 rows x 3 columns]"
      ]
     },
     "execution_count": 39,
     "metadata": {},
     "output_type": "execute_result"
    }
   ],
   "source": [
    "dolzina_kvaliteta"
   ]
  },
  {
   "cell_type": "code",
   "execution_count": 40,
   "metadata": {},
   "outputs": [],
   "source": [
    "po_dolzini = dolzina_kvaliteta.groupby('Razred dolžine')"
   ]
  },
  {
   "cell_type": "code",
   "execution_count": 41,
   "metadata": {},
   "outputs": [],
   "source": [
    "dolzina_tocke = pd.DataFrame(po_dolzini['Točke'].mean())"
   ]
  },
  {
   "cell_type": "code",
   "execution_count": 42,
   "metadata": {},
   "outputs": [
    {
     "data": {
      "text/html": [
       "<div>\n",
       "<style scoped>\n",
       "    .dataframe tbody tr th:only-of-type {\n",
       "        vertical-align: middle;\n",
       "    }\n",
       "\n",
       "    .dataframe tbody tr th {\n",
       "        vertical-align: top;\n",
       "    }\n",
       "\n",
       "    .dataframe thead th {\n",
       "        text-align: right;\n",
       "    }\n",
       "</style>\n",
       "<table border=\"1\" class=\"dataframe\">\n",
       "  <thead>\n",
       "    <tr style=\"text-align: right;\">\n",
       "      <th></th>\n",
       "      <th>Točke</th>\n",
       "    </tr>\n",
       "    <tr>\n",
       "      <th>Razred dolžine</th>\n",
       "      <th></th>\n",
       "    </tr>\n",
       "  </thead>\n",
       "  <tbody>\n",
       "    <tr>\n",
       "      <th>0</th>\n",
       "      <td>355.120301</td>\n",
       "    </tr>\n",
       "    <tr>\n",
       "      <th>50</th>\n",
       "      <td>143.294118</td>\n",
       "    </tr>\n",
       "    <tr>\n",
       "      <th>100</th>\n",
       "      <td>353.750000</td>\n",
       "    </tr>\n",
       "    <tr>\n",
       "      <th>150</th>\n",
       "      <td>576.833333</td>\n",
       "    </tr>\n",
       "    <tr>\n",
       "      <th>200</th>\n",
       "      <td>605.148936</td>\n",
       "    </tr>\n",
       "    <tr>\n",
       "      <th>250</th>\n",
       "      <td>400.124654</td>\n",
       "    </tr>\n",
       "    <tr>\n",
       "      <th>300</th>\n",
       "      <td>504.925862</td>\n",
       "    </tr>\n",
       "    <tr>\n",
       "      <th>350</th>\n",
       "      <td>621.640221</td>\n",
       "    </tr>\n",
       "    <tr>\n",
       "      <th>400</th>\n",
       "      <td>623.197452</td>\n",
       "    </tr>\n",
       "    <tr>\n",
       "      <th>450</th>\n",
       "      <td>750.375394</td>\n",
       "    </tr>\n",
       "    <tr>\n",
       "      <th>500</th>\n",
       "      <td>661.014218</td>\n",
       "    </tr>\n",
       "    <tr>\n",
       "      <th>550</th>\n",
       "      <td>907.257143</td>\n",
       "    </tr>\n",
       "    <tr>\n",
       "      <th>600</th>\n",
       "      <td>971.840426</td>\n",
       "    </tr>\n",
       "    <tr>\n",
       "      <th>650</th>\n",
       "      <td>1874.485714</td>\n",
       "    </tr>\n",
       "    <tr>\n",
       "      <th>700</th>\n",
       "      <td>1146.022727</td>\n",
       "    </tr>\n",
       "    <tr>\n",
       "      <th>750</th>\n",
       "      <td>1666.333333</td>\n",
       "    </tr>\n",
       "    <tr>\n",
       "      <th>800</th>\n",
       "      <td>2952.178571</td>\n",
       "    </tr>\n",
       "    <tr>\n",
       "      <th>850</th>\n",
       "      <td>2401.250000</td>\n",
       "    </tr>\n",
       "    <tr>\n",
       "      <th>900</th>\n",
       "      <td>4118.000000</td>\n",
       "    </tr>\n",
       "    <tr>\n",
       "      <th>950</th>\n",
       "      <td>4485.272727</td>\n",
       "    </tr>\n",
       "    <tr>\n",
       "      <th>1000</th>\n",
       "      <td>8884.090909</td>\n",
       "    </tr>\n",
       "    <tr>\n",
       "      <th>1050</th>\n",
       "      <td>12409.400000</td>\n",
       "    </tr>\n",
       "    <tr>\n",
       "      <th>1100</th>\n",
       "      <td>11621.500000</td>\n",
       "    </tr>\n",
       "    <tr>\n",
       "      <th>1150</th>\n",
       "      <td>3227.800000</td>\n",
       "    </tr>\n",
       "    <tr>\n",
       "      <th>1200</th>\n",
       "      <td>1839.166667</td>\n",
       "    </tr>\n",
       "    <tr>\n",
       "      <th>1300</th>\n",
       "      <td>95.000000</td>\n",
       "    </tr>\n",
       "    <tr>\n",
       "      <th>1350</th>\n",
       "      <td>38.000000</td>\n",
       "    </tr>\n",
       "    <tr>\n",
       "      <th>1400</th>\n",
       "      <td>100.000000</td>\n",
       "    </tr>\n",
       "    <tr>\n",
       "      <th>1450</th>\n",
       "      <td>96.000000</td>\n",
       "    </tr>\n",
       "    <tr>\n",
       "      <th>1600</th>\n",
       "      <td>87.500000</td>\n",
       "    </tr>\n",
       "    <tr>\n",
       "      <th>6650</th>\n",
       "      <td>75.000000</td>\n",
       "    </tr>\n",
       "  </tbody>\n",
       "</table>\n",
       "</div>"
      ],
      "text/plain": [
       "                       Točke\n",
       "Razred dolžine              \n",
       "0                 355.120301\n",
       "50                143.294118\n",
       "100               353.750000\n",
       "150               576.833333\n",
       "200               605.148936\n",
       "250               400.124654\n",
       "300               504.925862\n",
       "350               621.640221\n",
       "400               623.197452\n",
       "450               750.375394\n",
       "500               661.014218\n",
       "550               907.257143\n",
       "600               971.840426\n",
       "650              1874.485714\n",
       "700              1146.022727\n",
       "750              1666.333333\n",
       "800              2952.178571\n",
       "850              2401.250000\n",
       "900              4118.000000\n",
       "950              4485.272727\n",
       "1000             8884.090909\n",
       "1050            12409.400000\n",
       "1100            11621.500000\n",
       "1150             3227.800000\n",
       "1200             1839.166667\n",
       "1300               95.000000\n",
       "1350               38.000000\n",
       "1400              100.000000\n",
       "1450               96.000000\n",
       "1600               87.500000\n",
       "6650               75.000000"
      ]
     },
     "execution_count": 42,
     "metadata": {},
     "output_type": "execute_result"
    }
   ],
   "source": [
    "dolzina_tocke"
   ]
  },
  {
   "cell_type": "code",
   "execution_count": 68,
   "metadata": {},
   "outputs": [
    {
     "data": {
      "text/html": [
       "<div>\n",
       "<style scoped>\n",
       "    .dataframe tbody tr th:only-of-type {\n",
       "        vertical-align: middle;\n",
       "    }\n",
       "\n",
       "    .dataframe tbody tr th {\n",
       "        vertical-align: top;\n",
       "    }\n",
       "\n",
       "    .dataframe thead th {\n",
       "        text-align: right;\n",
       "    }\n",
       "</style>\n",
       "<table border=\"1\" class=\"dataframe\">\n",
       "  <thead>\n",
       "    <tr style=\"text-align: right;\">\n",
       "      <th></th>\n",
       "      <th>Avtor</th>\n",
       "      <th>Leto izida</th>\n",
       "      <th>Desetletje</th>\n",
       "      <th>Dolžina</th>\n",
       "      <th>Točke</th>\n",
       "      <th>Ocena</th>\n",
       "      <th>Število bralcev</th>\n",
       "      <th>Razred dolžine</th>\n",
       "    </tr>\n",
       "    <tr>\n",
       "      <th>Naslov</th>\n",
       "      <th></th>\n",
       "      <th></th>\n",
       "      <th></th>\n",
       "      <th></th>\n",
       "      <th></th>\n",
       "      <th></th>\n",
       "      <th></th>\n",
       "      <th></th>\n",
       "    </tr>\n",
       "  </thead>\n",
       "  <tbody>\n",
       "    <tr>\n",
       "      <th>Worm (Parahumans, #1)</th>\n",
       "      <td>Wildbow</td>\n",
       "      <td>2013</td>\n",
       "      <td>2010</td>\n",
       "      <td>6680</td>\n",
       "      <td>75</td>\n",
       "      <td>4.6</td>\n",
       "      <td>9403</td>\n",
       "      <td>6650</td>\n",
       "    </tr>\n",
       "  </tbody>\n",
       "</table>\n",
       "</div>"
      ],
      "text/plain": [
       "                         Avtor  Leto izida  Desetletje  Dolžina  Točke  Ocena  \\\n",
       "Naslov                                                                          \n",
       "Worm (Parahumans, #1)  Wildbow        2013        2010     6680     75    4.6   \n",
       "\n",
       "                       Število bralcev  Razred dolžine  \n",
       "Naslov                                                  \n",
       "Worm (Parahumans, #1)             9403            6650  "
      ]
     },
     "execution_count": 68,
     "metadata": {},
     "output_type": "execute_result"
    }
   ],
   "source": [
    "podatki[podatki['Dolžina'] > 1700]"
   ]
  },
  {
   "cell_type": "code",
   "execution_count": 43,
   "metadata": {},
   "outputs": [
    {
     "data": {
      "text/plain": [
       "<Axes: xlabel='Razred dolžine', ylabel='Točke'>"
      ]
     },
     "execution_count": 43,
     "metadata": {},
     "output_type": "execute_result"
    },
    {
     "data": {
      "image/png": "[encoded data removed]",
      "text/plain": [
       "<Figure size 640x480 with 1 Axes>"
      ]
     },
     "metadata": {},
     "output_type": "display_data"
    }
   ],
   "source": [
    "dolzina_tocke.plot(xlabel='Razred dolžine', ylabel='Točke')"
   ]
  },
  {
   "cell_type": "markdown",
   "metadata": {},
   "source": [
    "<h3 style=\"text-align:center\"><div style=\"font-size : 20px; font-style : Verdana; text-align : center\">Odvisnost števila bralcev knjige od njene dolžine</div></h3>"
   ]
  },
  {
   "cell_type": "code",
   "execution_count": 44,
   "metadata": {},
   "outputs": [
    {
     "name": "stderr",
     "output_type": "stream",
     "text": [
      "C:\\Users\\Benjamin\\AppData\\Local\\Temp\\ipykernel_14848\\4146701510.py:1: SettingWithCopyWarning: \n",
      "A value is trying to be set on a copy of a slice from a DataFrame.\n",
      "Try using .loc[row_indexer,col_indexer] = value instead\n",
      "\n",
      "See the caveats in the documentation: https://pandas.pydata.org/pandas-docs/stable/user_guide/indexing.html#returning-a-view-versus-a-copy\n",
      "  podatki['Razred dolžine'] = (podatki['Dolžina']//50)*50\n"
     ]
    }
   ],
   "source": [
    "podatki['Razred dolžine'] = (podatki['Dolžina']//50)*50 "
   ]
  },
  {
   "cell_type": "code",
   "execution_count": 45,
   "metadata": {},
   "outputs": [],
   "source": [
    "po_razredih_dolzine = podatki.groupby('Razred dolžine')"
   ]
  },
  {
   "cell_type": "code",
   "execution_count": 46,
   "metadata": {},
   "outputs": [],
   "source": [
    "dolzina_bralci = pd.DataFrame(po_razredih_dolzine['Število bralcev'].sum()) "
   ]
  },
  {
   "cell_type": "code",
   "execution_count": 47,
   "metadata": {},
   "outputs": [
    {
     "data": {
      "text/plain": [
       "<Axes: xlabel='Razred dolžine', ylabel='Skupno število bralcev (v milijonih)'>"
      ]
     },
     "execution_count": 47,
     "metadata": {},
     "output_type": "execute_result"
    },
    {
     "data": {
      "image/png": "[encoded data removed]",
      "text/plain": [
       "<Figure size 640x480 with 1 Axes>"
      ]
     },
     "metadata": {},
     "output_type": "display_data"
    }
   ],
   "source": [
    "dolzina_bralci.plot(ylabel='Skupno število bralcev (v milijonih)')"
   ]
  },
  {
   "cell_type": "markdown",
   "metadata": {},
   "source": [
    "<h3 style=\"text-align:center\"><div style=\"font-size : 20px; font-style : Verdana; text-align : center\">Sklepi</div></h3>"
   ]
  },
  {
   "cell_type": "markdown",
   "metadata": {},
   "source": []
  },
  {
   "cell_type": "markdown",
   "metadata": {},
   "source": [
    "<h2 style='text-align:center'> <div style=\"font-size : 30px; font-style : Verdana; text-align : center \"> Zlata leta fantazijskega žanra </div> </h2>"
   ]
  },
  {
   "cell_type": "markdown",
   "metadata": {},
   "source": [
    "<p style=\"font-family:'Times New Roman', font-size:12px\"> Za konec si poglejmo še, katera so bila tista \"zlata leta\" fantazijskega žanra, tj. v katerem desetletju so nastajali najboljši fantazijski romani. <br> To bomo ugotovili tako, da bomo pogledali razvrstitev desetletij po določenih kategorijah, jim vsakič pripisali neko število točk, na koncu pa točke sešteli in kot najboljše desetletje razglasili tisto desetletje, ki bo imelo največ točk.</p>\n",
    "<p style=\"font-family:'Times New Roman', font-size:12px\"> Omenjene kategorije bodo: <ul>\n",
    "    <li> število knjig, ki so bile napisane v desetletju,</li>\n",
    "    <li> povprečna kvaliteta knjig,</li>\n",
    "    <li> število bralcev, ki je prebralo knjige iz določenega desetletja in</li>\n",
    "    <li> število avtorjev, ki je ustvarjalo v posameznem desetletju.</li>\n",
    "    </ul></p>"
   ]
  },
  {
   "cell_type": "code",
   "execution_count": 48,
   "metadata": {},
   "outputs": [],
   "source": [
    "analiza_po_desetletjih = po_desetletjih.agg(\n",
    "**{\n",
    "    'Število knjig' : pd.NamedAgg(column='Točke', aggfunc='size'),\n",
    "    'Kvaliteta' : pd.NamedAgg(column='Točke', aggfunc='mean'),\n",
    "    'Število bralcev' : pd.NamedAgg(column='Število bralcev', aggfunc='sum'),\n",
    "    'Število avtorjev' : pd.NamedAgg(column='Avtor', aggfunc=lambda x: len(x.unique()))\n",
    "    \n",
    "})"
   ]
  },
  {
   "cell_type": "code",
   "execution_count": 49,
   "metadata": {},
   "outputs": [],
   "source": [
    "analiza_po_desetletjih.drop(0, inplace=True)"
   ]
  },
  {
   "cell_type": "code",
   "execution_count": 50,
   "metadata": {},
   "outputs": [],
   "source": [
    "analiza_po_desetletjih['Kvaliteta'] = round(analiza_po_desetletjih['Kvaliteta'], 2)"
   ]
  },
  {
   "cell_type": "code",
   "execution_count": 51,
   "metadata": {},
   "outputs": [
    {
     "data": {
      "text/html": [
       "<div>\n",
       "<style scoped>\n",
       "    .dataframe tbody tr th:only-of-type {\n",
       "        vertical-align: middle;\n",
       "    }\n",
       "\n",
       "    .dataframe tbody tr th {\n",
       "        vertical-align: top;\n",
       "    }\n",
       "\n",
       "    .dataframe thead th {\n",
       "        text-align: right;\n",
       "    }\n",
       "</style>\n",
       "<table border=\"1\" class=\"dataframe\">\n",
       "  <thead>\n",
       "    <tr style=\"text-align: right;\">\n",
       "      <th></th>\n",
       "      <th>Število knjig</th>\n",
       "      <th>Kvaliteta</th>\n",
       "      <th>Število bralcev</th>\n",
       "      <th>Število avtorjev</th>\n",
       "    </tr>\n",
       "    <tr>\n",
       "      <th>Desetletje</th>\n",
       "      <th></th>\n",
       "      <th></th>\n",
       "      <th></th>\n",
       "      <th></th>\n",
       "    </tr>\n",
       "  </thead>\n",
       "  <tbody>\n",
       "    <tr>\n",
       "      <th>1840</th>\n",
       "      <td>1</td>\n",
       "      <td>86.00</td>\n",
       "      <td>971</td>\n",
       "      <td>1</td>\n",
       "    </tr>\n",
       "    <tr>\n",
       "      <th>1890</th>\n",
       "      <td>1</td>\n",
       "      <td>348.00</td>\n",
       "      <td>123085</td>\n",
       "      <td>1</td>\n",
       "    </tr>\n",
       "    <tr>\n",
       "      <th>1920</th>\n",
       "      <td>2</td>\n",
       "      <td>217.00</td>\n",
       "      <td>2373</td>\n",
       "      <td>2</td>\n",
       "    </tr>\n",
       "    <tr>\n",
       "      <th>1930</th>\n",
       "      <td>53</td>\n",
       "      <td>394.13</td>\n",
       "      <td>8563198</td>\n",
       "      <td>20</td>\n",
       "    </tr>\n",
       "    <tr>\n",
       "      <th>1940</th>\n",
       "      <td>47</td>\n",
       "      <td>354.49</td>\n",
       "      <td>11146036</td>\n",
       "      <td>35</td>\n",
       "    </tr>\n",
       "    <tr>\n",
       "      <th>1950</th>\n",
       "      <td>51</td>\n",
       "      <td>1241.12</td>\n",
       "      <td>12319823</td>\n",
       "      <td>26</td>\n",
       "    </tr>\n",
       "    <tr>\n",
       "      <th>1960</th>\n",
       "      <td>74</td>\n",
       "      <td>810.49</td>\n",
       "      <td>5498005</td>\n",
       "      <td>40</td>\n",
       "    </tr>\n",
       "    <tr>\n",
       "      <th>1970</th>\n",
       "      <td>144</td>\n",
       "      <td>1120.12</td>\n",
       "      <td>9569971</td>\n",
       "      <td>65</td>\n",
       "    </tr>\n",
       "    <tr>\n",
       "      <th>1980</th>\n",
       "      <td>327</td>\n",
       "      <td>1216.47</td>\n",
       "      <td>12662798</td>\n",
       "      <td>141</td>\n",
       "    </tr>\n",
       "    <tr>\n",
       "      <th>1990</th>\n",
       "      <td>379</td>\n",
       "      <td>1152.43</td>\n",
       "      <td>69300151</td>\n",
       "      <td>154</td>\n",
       "    </tr>\n",
       "    <tr>\n",
       "      <th>2000</th>\n",
       "      <td>613</td>\n",
       "      <td>699.09</td>\n",
       "      <td>114546212</td>\n",
       "      <td>236</td>\n",
       "    </tr>\n",
       "    <tr>\n",
       "      <th>2010</th>\n",
       "      <td>1585</td>\n",
       "      <td>610.13</td>\n",
       "      <td>102708006</td>\n",
       "      <td>622</td>\n",
       "    </tr>\n",
       "    <tr>\n",
       "      <th>2020</th>\n",
       "      <td>354</td>\n",
       "      <td>301.97</td>\n",
       "      <td>17452615</td>\n",
       "      <td>219</td>\n",
       "    </tr>\n",
       "  </tbody>\n",
       "</table>\n",
       "</div>"
      ],
      "text/plain": [
       "            Število knjig  Kvaliteta  Število bralcev  Število avtorjev\n",
       "Desetletje                                                             \n",
       "1840                    1      86.00              971                 1\n",
       "1890                    1     348.00           123085                 1\n",
       "1920                    2     217.00             2373                 2\n",
       "1930                   53     394.13          8563198                20\n",
       "1940                   47     354.49         11146036                35\n",
       "1950                   51    1241.12         12319823                26\n",
       "1960                   74     810.49          5498005                40\n",
       "1970                  144    1120.12          9569971                65\n",
       "1980                  327    1216.47         12662798               141\n",
       "1990                  379    1152.43         69300151               154\n",
       "2000                  613     699.09        114546212               236\n",
       "2010                 1585     610.13        102708006               622\n",
       "2020                  354     301.97         17452615               219"
      ]
     },
     "execution_count": 51,
     "metadata": {},
     "output_type": "execute_result"
    }
   ],
   "source": [
    "analiza_po_desetletjih"
   ]
  },
  {
   "cell_type": "code",
   "execution_count": 52,
   "metadata": {},
   "outputs": [],
   "source": [
    "# Beleženje rezultatov po kategorijah\n",
    "zlate_tocke = {\n",
    "    'Desetletje': [1900 + i*10 for i in range(2,13)],\n",
    "    'Delež':[],\n",
    "    'Kvaliteta':[],\n",
    "    'Število bralcev':[],\n",
    "    'Število avtorjev':[],\n",
    "}"
   ]
  },
  {
   "cell_type": "markdown",
   "metadata": {},
   "source": [
    "<h3 style=\"text-align:center\"><div style=\"font-size : 20px; font-style : Verdana; text-align : center\">Delež knjig, ki so izšle v posameznih desetletjih</div></h3>"
   ]
  },
  {
   "cell_type": "code",
   "execution_count": 53,
   "metadata": {},
   "outputs": [],
   "source": [
    "analiza_st_knjig = pd.DataFrame(analiza_po_desetletjih['Število knjig'])"
   ]
  },
  {
   "cell_type": "code",
   "execution_count": 54,
   "metadata": {},
   "outputs": [],
   "source": [
    "analiza_st_knjig.reset_index(inplace=True)"
   ]
  },
  {
   "cell_type": "code",
   "execution_count": 55,
   "metadata": {},
   "outputs": [],
   "source": [
    "analiza_st_knjig.index += 1"
   ]
  },
  {
   "cell_type": "code",
   "execution_count": 56,
   "metadata": {},
   "outputs": [
    {
     "data": {
      "text/html": [
       "<div>\n",
       "<style scoped>\n",
       "    .dataframe tbody tr th:only-of-type {\n",
       "        vertical-align: middle;\n",
       "    }\n",
       "\n",
       "    .dataframe tbody tr th {\n",
       "        vertical-align: top;\n",
       "    }\n",
       "\n",
       "    .dataframe thead th {\n",
       "        text-align: right;\n",
       "    }\n",
       "</style>\n",
       "<table border=\"1\" class=\"dataframe\">\n",
       "  <thead>\n",
       "    <tr style=\"text-align: right;\">\n",
       "      <th></th>\n",
       "      <th>Desetletje</th>\n",
       "      <th>Število knjig</th>\n",
       "    </tr>\n",
       "  </thead>\n",
       "  <tbody>\n",
       "    <tr>\n",
       "      <th>1</th>\n",
       "      <td>1840</td>\n",
       "      <td>1</td>\n",
       "    </tr>\n",
       "    <tr>\n",
       "      <th>2</th>\n",
       "      <td>1890</td>\n",
       "      <td>1</td>\n",
       "    </tr>\n",
       "    <tr>\n",
       "      <th>3</th>\n",
       "      <td>1920</td>\n",
       "      <td>2</td>\n",
       "    </tr>\n",
       "    <tr>\n",
       "      <th>4</th>\n",
       "      <td>1930</td>\n",
       "      <td>53</td>\n",
       "    </tr>\n",
       "    <tr>\n",
       "      <th>5</th>\n",
       "      <td>1940</td>\n",
       "      <td>47</td>\n",
       "    </tr>\n",
       "    <tr>\n",
       "      <th>6</th>\n",
       "      <td>1950</td>\n",
       "      <td>51</td>\n",
       "    </tr>\n",
       "    <tr>\n",
       "      <th>7</th>\n",
       "      <td>1960</td>\n",
       "      <td>74</td>\n",
       "    </tr>\n",
       "    <tr>\n",
       "      <th>8</th>\n",
       "      <td>1970</td>\n",
       "      <td>144</td>\n",
       "    </tr>\n",
       "    <tr>\n",
       "      <th>9</th>\n",
       "      <td>1980</td>\n",
       "      <td>327</td>\n",
       "    </tr>\n",
       "    <tr>\n",
       "      <th>10</th>\n",
       "      <td>1990</td>\n",
       "      <td>379</td>\n",
       "    </tr>\n",
       "    <tr>\n",
       "      <th>11</th>\n",
       "      <td>2000</td>\n",
       "      <td>613</td>\n",
       "    </tr>\n",
       "    <tr>\n",
       "      <th>12</th>\n",
       "      <td>2010</td>\n",
       "      <td>1585</td>\n",
       "    </tr>\n",
       "    <tr>\n",
       "      <th>13</th>\n",
       "      <td>2020</td>\n",
       "      <td>354</td>\n",
       "    </tr>\n",
       "  </tbody>\n",
       "</table>\n",
       "</div>"
      ],
      "text/plain": [
       "    Desetletje  Število knjig\n",
       "1         1840              1\n",
       "2         1890              1\n",
       "3         1920              2\n",
       "4         1930             53\n",
       "5         1940             47\n",
       "6         1950             51\n",
       "7         1960             74\n",
       "8         1970            144\n",
       "9         1980            327\n",
       "10        1990            379\n",
       "11        2000            613\n",
       "12        2010           1585\n",
       "13        2020            354"
      ]
     },
     "execution_count": 56,
     "metadata": {},
     "output_type": "execute_result"
    }
   ],
   "source": [
    "analiza_st_knjig"
   ]
  },
  {
   "cell_type": "code",
   "execution_count": 57,
   "metadata": {},
   "outputs": [
    {
     "data": {
      "text/plain": [
       "<Axes: ylabel='Število knjig'>"
      ]
     },
     "execution_count": 57,
     "metadata": {},
     "output_type": "execute_result"
    },
    {
     "data": {
      "image/png": "[encoded data removed]",
      "text/plain": [
       "<Figure size 2000x2000 with 1 Axes>"
      ]
     },
     "metadata": {},
     "output_type": "display_data"
    }
   ],
   "source": [
    "analiza_po_desetletjih['Število knjig'].plot(kind='pie', figsize=(20, 20), fontsize=20, ylabel=None)"
   ]
  },
  {
   "cell_type": "code",
   "execution_count": 58,
   "metadata": {},
   "outputs": [],
   "source": [
    "zlate_tocke['Delež'] = zld.mesto_v_tabeli(analiza_st_knjig, 'Število knjig')"
   ]
  },
  {
   "cell_type": "markdown",
   "metadata": {},
   "source": [
    "<h3 style=\"text-align:center\"><div style=\"font-size : 20px; font-style : Verdana; text-align : center\">Kvaliteta knjig</div></h3>"
   ]
  },
  {
   "cell_type": "code",
   "execution_count": 59,
   "metadata": {},
   "outputs": [],
   "source": [
    "analiza_kvalitete = pd.DataFrame(analiza_po_desetletjih['Kvaliteta'])"
   ]
  },
  {
   "cell_type": "code",
   "execution_count": 60,
   "metadata": {},
   "outputs": [
    {
     "data": {
      "text/plain": [
       "<Axes: xlabel='Desetletje', ylabel='Povprečno število točk'>"
      ]
     },
     "execution_count": 60,
     "metadata": {},
     "output_type": "execute_result"
    },
    {
     "data": {
      "image/png": "[encoded data removed]",
      "text/plain": [
       "<Figure size 640x480 with 1 Axes>"
      ]
     },
     "metadata": {},
     "output_type": "display_data"
    }
   ],
   "source": [
    "analiza_po_desetletjih['Kvaliteta'].plot(kind='bar', ylabel='Povprečno število točk')"
   ]
  },
  {
   "cell_type": "code",
   "execution_count": 61,
   "metadata": {},
   "outputs": [],
   "source": [
    "zlate_tocke['Kvaliteta'] = zld.mesto_v_tabeli(analiza_kvalitete, 'Kvaliteta')"
   ]
  },
  {
   "cell_type": "markdown",
   "metadata": {},
   "source": [
    "<h3 style=\"text-align:center\"><div style=\"font-size : 20px; font-style : Verdana; text-align : center\">Število bralcev</div></h3>"
   ]
  },
  {
   "cell_type": "code",
   "execution_count": 62,
   "metadata": {},
   "outputs": [
    {
     "data": {
      "text/plain": [
       "<Axes: xlabel='Desetletje', ylabel='Število bralcev'>"
      ]
     },
     "execution_count": 62,
     "metadata": {},
     "output_type": "execute_result"
    },
    {
     "data": {
      "image/png": "[encoded data removed]",
      "text/plain": [
       "<Figure size 640x480 with 1 Axes>"
      ]
     },
     "metadata": {},
     "output_type": "display_data"
    }
   ],
   "source": [
    "analiza_po_desetletjih['Število bralcev'].plot(kind='bar', ylabel='Število bralcev')"
   ]
  },
  {
   "cell_type": "code",
   "execution_count": 63,
   "metadata": {},
   "outputs": [],
   "source": [
    "analiza_bralci = pd.DataFrame(analiza_po_desetletjih['Število bralcev'])"
   ]
  },
  {
   "cell_type": "code",
   "execution_count": 69,
   "metadata": {},
   "outputs": [
    {
     "data": {
      "text/plain": [
       "<Axes: xlabel='Desetletje', ylabel='Število bralcev'>"
      ]
     },
     "execution_count": 69,
     "metadata": {},
     "output_type": "execute_result"
    },
    {
     "data": {
      "image/png": "[encoded data removed]",
      "text/plain": [
       "<Figure size 640x480 with 1 Axes>"
      ]
     },
     "metadata": {},
     "output_type": "display_data"
    }
   ],
   "source": [
    "analiza_bralci.plot(kind='bar', ylabel='Število bralcev')"
   ]
  },
  {
   "cell_type": "code",
   "execution_count": 70,
   "metadata": {},
   "outputs": [],
   "source": [
    "zlate_tocke['Število bralcev'] = zld.mesto_v_tabeli(analiza_bralci, 'Število bralcev')"
   ]
  },
  {
   "cell_type": "markdown",
   "metadata": {},
   "source": [
    "<h3 style=\"text-align:center\"><div style=\"font-size : 20px; font-style : Verdana; text-align : center\">Število piscev fantazijskih romanov</div></h3>"
   ]
  },
  {
   "cell_type": "code",
   "execution_count": 71,
   "metadata": {},
   "outputs": [
    {
     "data": {
      "text/plain": [
       "<Axes: xlabel='Desetletje', ylabel='Število ustvarjalcev v obdobju'>"
      ]
     },
     "execution_count": 71,
     "metadata": {},
     "output_type": "execute_result"
    },
    {
     "data": {
      "image/png": "[encoded data removed]",
      "text/plain": [
       "<Figure size 640x480 with 1 Axes>"
      ]
     },
     "metadata": {},
     "output_type": "display_data"
    }
   ],
   "source": [
    "analiza_po_desetletjih['Število avtorjev'].plot(kind='bar', ylabel='Število ustvarjalcev v obdobju')"
   ]
  },
  {
   "cell_type": "code",
   "execution_count": 72,
   "metadata": {},
   "outputs": [],
   "source": [
    "analiza_avtorji = pd.DataFrame(analiza_po_desetletjih['Število avtorjev'])"
   ]
  },
  {
   "cell_type": "code",
   "execution_count": 73,
   "metadata": {},
   "outputs": [
    {
     "data": {
      "text/plain": [
       "<Axes: xlabel='Desetletje', ylabel='Število avtorjev'>"
      ]
     },
     "execution_count": 73,
     "metadata": {},
     "output_type": "execute_result"
    },
    {
     "data": {
      "image/png": "[encoded data removed]",
      "text/plain": [
       "<Figure size 640x480 with 1 Axes>"
      ]
     },
     "metadata": {},
     "output_type": "display_data"
    }
   ],
   "source": [
    "analiza_avtorji.plot(kind='bar', ylabel='Število avtorjev')"
   ]
  },
  {
   "cell_type": "code",
   "execution_count": 75,
   "metadata": {},
   "outputs": [],
   "source": [
    "zlate_tocke['Število avtorjev'] = zld.mesto_v_tabeli(analiza_avtorji, 'Število avtorjev')"
   ]
  },
  {
   "cell_type": "markdown",
   "metadata": {},
   "source": [
    "<h3 style=\"text-align:center\"><div style=\"font-size : 20px; font-style : Verdana; text-align : center\">Iskanje zlatega desetletja</div></h3>"
   ]
  },
  {
   "cell_type": "code",
   "execution_count": 76,
   "metadata": {},
   "outputs": [],
   "source": [
    "vrstni_red = pd.DataFrame(zlate_tocke)"
   ]
  },
  {
   "cell_type": "code",
   "execution_count": 77,
   "metadata": {},
   "outputs": [
    {
     "data": {
      "text/html": [
       "<div>\n",
       "<style scoped>\n",
       "    .dataframe tbody tr th:only-of-type {\n",
       "        vertical-align: middle;\n",
       "    }\n",
       "\n",
       "    .dataframe tbody tr th {\n",
       "        vertical-align: top;\n",
       "    }\n",
       "\n",
       "    .dataframe thead th {\n",
       "        text-align: right;\n",
       "    }\n",
       "</style>\n",
       "<table border=\"1\" class=\"dataframe\">\n",
       "  <thead>\n",
       "    <tr style=\"text-align: right;\">\n",
       "      <th></th>\n",
       "      <th>Desetletje</th>\n",
       "      <th>Delež</th>\n",
       "      <th>Kvaliteta</th>\n",
       "      <th>Število bralcev</th>\n",
       "      <th>Število avtorjev</th>\n",
       "    </tr>\n",
       "  </thead>\n",
       "  <tbody>\n",
       "    <tr>\n",
       "      <th>0</th>\n",
       "      <td>1920</td>\n",
       "      <td>0</td>\n",
       "      <td>0</td>\n",
       "      <td>0</td>\n",
       "      <td>0</td>\n",
       "    </tr>\n",
       "    <tr>\n",
       "      <th>1</th>\n",
       "      <td>1930</td>\n",
       "      <td>1</td>\n",
       "      <td>3</td>\n",
       "      <td>2</td>\n",
       "      <td>1</td>\n",
       "    </tr>\n",
       "    <tr>\n",
       "      <th>2</th>\n",
       "      <td>1940</td>\n",
       "      <td>2</td>\n",
       "      <td>2</td>\n",
       "      <td>4</td>\n",
       "      <td>3</td>\n",
       "    </tr>\n",
       "    <tr>\n",
       "      <th>3</th>\n",
       "      <td>1950</td>\n",
       "      <td>3</td>\n",
       "      <td>10</td>\n",
       "      <td>5</td>\n",
       "      <td>2</td>\n",
       "    </tr>\n",
       "    <tr>\n",
       "      <th>4</th>\n",
       "      <td>1960</td>\n",
       "      <td>4</td>\n",
       "      <td>6</td>\n",
       "      <td>1</td>\n",
       "      <td>4</td>\n",
       "    </tr>\n",
       "    <tr>\n",
       "      <th>5</th>\n",
       "      <td>1970</td>\n",
       "      <td>5</td>\n",
       "      <td>7</td>\n",
       "      <td>3</td>\n",
       "      <td>5</td>\n",
       "    </tr>\n",
       "    <tr>\n",
       "      <th>6</th>\n",
       "      <td>1980</td>\n",
       "      <td>6</td>\n",
       "      <td>9</td>\n",
       "      <td>6</td>\n",
       "      <td>6</td>\n",
       "    </tr>\n",
       "    <tr>\n",
       "      <th>7</th>\n",
       "      <td>1990</td>\n",
       "      <td>7</td>\n",
       "      <td>8</td>\n",
       "      <td>8</td>\n",
       "      <td>7</td>\n",
       "    </tr>\n",
       "    <tr>\n",
       "      <th>8</th>\n",
       "      <td>2000</td>\n",
       "      <td>8</td>\n",
       "      <td>5</td>\n",
       "      <td>10</td>\n",
       "      <td>9</td>\n",
       "    </tr>\n",
       "    <tr>\n",
       "      <th>9</th>\n",
       "      <td>2010</td>\n",
       "      <td>9</td>\n",
       "      <td>4</td>\n",
       "      <td>9</td>\n",
       "      <td>10</td>\n",
       "    </tr>\n",
       "    <tr>\n",
       "      <th>10</th>\n",
       "      <td>2020</td>\n",
       "      <td>10</td>\n",
       "      <td>1</td>\n",
       "      <td>7</td>\n",
       "      <td>8</td>\n",
       "    </tr>\n",
       "  </tbody>\n",
       "</table>\n",
       "</div>"
      ],
      "text/plain": [
       "    Desetletje  Delež  Kvaliteta  Število bralcev  Število avtorjev\n",
       "0         1920      0          0                0                 0\n",
       "1         1930      1          3                2                 1\n",
       "2         1940      2          2                4                 3\n",
       "3         1950      3         10                5                 2\n",
       "4         1960      4          6                1                 4\n",
       "5         1970      5          7                3                 5\n",
       "6         1980      6          9                6                 6\n",
       "7         1990      7          8                8                 7\n",
       "8         2000      8          5               10                 9\n",
       "9         2010      9          4                9                10\n",
       "10        2020     10          1                7                 8"
      ]
     },
     "execution_count": 77,
     "metadata": {},
     "output_type": "execute_result"
    }
   ],
   "source": [
    "vrstni_red"
   ]
  },
  {
   "cell_type": "code",
   "execution_count": 78,
   "metadata": {},
   "outputs": [
    {
     "data": {
      "text/html": [
       "<div>\n",
       "<style scoped>\n",
       "    .dataframe tbody tr th:only-of-type {\n",
       "        vertical-align: middle;\n",
       "    }\n",
       "\n",
       "    .dataframe tbody tr th {\n",
       "        vertical-align: top;\n",
       "    }\n",
       "\n",
       "    .dataframe thead th {\n",
       "        text-align: right;\n",
       "    }\n",
       "</style>\n",
       "<table border=\"1\" class=\"dataframe\">\n",
       "  <thead>\n",
       "    <tr style=\"text-align: right;\">\n",
       "      <th></th>\n",
       "      <th>Desetletje</th>\n",
       "      <th>Skupne točke</th>\n",
       "    </tr>\n",
       "  </thead>\n",
       "  <tbody>\n",
       "    <tr>\n",
       "      <th>0</th>\n",
       "      <td>1920</td>\n",
       "      <td>0</td>\n",
       "    </tr>\n",
       "    <tr>\n",
       "      <th>1</th>\n",
       "      <td>1930</td>\n",
       "      <td>7</td>\n",
       "    </tr>\n",
       "    <tr>\n",
       "      <th>2</th>\n",
       "      <td>1940</td>\n",
       "      <td>11</td>\n",
       "    </tr>\n",
       "    <tr>\n",
       "      <th>3</th>\n",
       "      <td>1950</td>\n",
       "      <td>20</td>\n",
       "    </tr>\n",
       "    <tr>\n",
       "      <th>4</th>\n",
       "      <td>1960</td>\n",
       "      <td>15</td>\n",
       "    </tr>\n",
       "    <tr>\n",
       "      <th>5</th>\n",
       "      <td>1970</td>\n",
       "      <td>20</td>\n",
       "    </tr>\n",
       "    <tr>\n",
       "      <th>6</th>\n",
       "      <td>1980</td>\n",
       "      <td>27</td>\n",
       "    </tr>\n",
       "    <tr>\n",
       "      <th>7</th>\n",
       "      <td>1990</td>\n",
       "      <td>30</td>\n",
       "    </tr>\n",
       "    <tr>\n",
       "      <th>8</th>\n",
       "      <td>2000</td>\n",
       "      <td>32</td>\n",
       "    </tr>\n",
       "    <tr>\n",
       "      <th>9</th>\n",
       "      <td>2010</td>\n",
       "      <td>32</td>\n",
       "    </tr>\n",
       "    <tr>\n",
       "      <th>10</th>\n",
       "      <td>2020</td>\n",
       "      <td>26</td>\n",
       "    </tr>\n",
       "  </tbody>\n",
       "</table>\n",
       "</div>"
      ],
      "text/plain": [
       "    Desetletje  Skupne točke\n",
       "0         1920             0\n",
       "1         1930             7\n",
       "2         1940            11\n",
       "3         1950            20\n",
       "4         1960            15\n",
       "5         1970            20\n",
       "6         1980            27\n",
       "7         1990            30\n",
       "8         2000            32\n",
       "9         2010            32\n",
       "10        2020            26"
      ]
     },
     "execution_count": 78,
     "metadata": {},
     "output_type": "execute_result"
    }
   ],
   "source": [
    "# Računanje vsot prejetih točk\n",
    "seznam_vsot = []\n",
    "for i in range(len(vrstni_red)):\n",
    "    vsota = 0\n",
    "    for j in range(1, 5):\n",
    "        vsota += vrstni_red.iloc[i, j]\n",
    "    seznam_vsot.append(vsota)\n",
    "\n",
    "slovar = {'Desetletje':[1920 + i*10 for i in range(0, 11)], 'Skupne točke' : seznam_vsot}\n",
    "skupne_tocke = pd.DataFrame(slovar)\n",
    "skupne_tocke"
   ]
  },
  {
   "cell_type": "code",
   "execution_count": 79,
   "metadata": {},
   "outputs": [],
   "source": [
    "vrstni_red_po_tockah = vrstni_red.merge(skupne_tocke, how='outer', on='Desetletje')"
   ]
  },
  {
   "cell_type": "code",
   "execution_count": 80,
   "metadata": {},
   "outputs": [],
   "source": [
    "vrstni_red_po_tockah.sort_values(by=['Skupne točke', 'Desetletje'], ascending=[False, True], inplace=True)"
   ]
  },
  {
   "cell_type": "code",
   "execution_count": 81,
   "metadata": {},
   "outputs": [],
   "source": [
    "vrstni_red_po_tockah.reset_index(inplace=True)"
   ]
  },
  {
   "cell_type": "code",
   "execution_count": 82,
   "metadata": {},
   "outputs": [],
   "source": [
    "vrstni_red_po_tockah.index += 1"
   ]
  },
  {
   "cell_type": "code",
   "execution_count": 83,
   "metadata": {},
   "outputs": [],
   "source": [
    "vrstni_red_po_tockah.drop(columns=[\"index\"], inplace=True)"
   ]
  },
  {
   "cell_type": "code",
   "execution_count": 84,
   "metadata": {},
   "outputs": [
    {
     "data": {
      "text/html": [
       "<div>\n",
       "<style scoped>\n",
       "    .dataframe tbody tr th:only-of-type {\n",
       "        vertical-align: middle;\n",
       "    }\n",
       "\n",
       "    .dataframe tbody tr th {\n",
       "        vertical-align: top;\n",
       "    }\n",
       "\n",
       "    .dataframe thead th {\n",
       "        text-align: right;\n",
       "    }\n",
       "</style>\n",
       "<table border=\"1\" class=\"dataframe\">\n",
       "  <thead>\n",
       "    <tr style=\"text-align: right;\">\n",
       "      <th></th>\n",
       "      <th>Desetletje</th>\n",
       "      <th>Delež</th>\n",
       "      <th>Kvaliteta</th>\n",
       "      <th>Število bralcev</th>\n",
       "      <th>Število avtorjev</th>\n",
       "      <th>Skupne točke</th>\n",
       "    </tr>\n",
       "  </thead>\n",
       "  <tbody>\n",
       "    <tr>\n",
       "      <th>1</th>\n",
       "      <td>2000</td>\n",
       "      <td>8</td>\n",
       "      <td>5</td>\n",
       "      <td>10</td>\n",
       "      <td>9</td>\n",
       "      <td>32</td>\n",
       "    </tr>\n",
       "    <tr>\n",
       "      <th>2</th>\n",
       "      <td>2010</td>\n",
       "      <td>9</td>\n",
       "      <td>4</td>\n",
       "      <td>9</td>\n",
       "      <td>10</td>\n",
       "      <td>32</td>\n",
       "    </tr>\n",
       "    <tr>\n",
       "      <th>3</th>\n",
       "      <td>1990</td>\n",
       "      <td>7</td>\n",
       "      <td>8</td>\n",
       "      <td>8</td>\n",
       "      <td>7</td>\n",
       "      <td>30</td>\n",
       "    </tr>\n",
       "    <tr>\n",
       "      <th>4</th>\n",
       "      <td>1980</td>\n",
       "      <td>6</td>\n",
       "      <td>9</td>\n",
       "      <td>6</td>\n",
       "      <td>6</td>\n",
       "      <td>27</td>\n",
       "    </tr>\n",
       "    <tr>\n",
       "      <th>5</th>\n",
       "      <td>2020</td>\n",
       "      <td>10</td>\n",
       "      <td>1</td>\n",
       "      <td>7</td>\n",
       "      <td>8</td>\n",
       "      <td>26</td>\n",
       "    </tr>\n",
       "    <tr>\n",
       "      <th>6</th>\n",
       "      <td>1950</td>\n",
       "      <td>3</td>\n",
       "      <td>10</td>\n",
       "      <td>5</td>\n",
       "      <td>2</td>\n",
       "      <td>20</td>\n",
       "    </tr>\n",
       "    <tr>\n",
       "      <th>7</th>\n",
       "      <td>1970</td>\n",
       "      <td>5</td>\n",
       "      <td>7</td>\n",
       "      <td>3</td>\n",
       "      <td>5</td>\n",
       "      <td>20</td>\n",
       "    </tr>\n",
       "    <tr>\n",
       "      <th>8</th>\n",
       "      <td>1960</td>\n",
       "      <td>4</td>\n",
       "      <td>6</td>\n",
       "      <td>1</td>\n",
       "      <td>4</td>\n",
       "      <td>15</td>\n",
       "    </tr>\n",
       "    <tr>\n",
       "      <th>9</th>\n",
       "      <td>1940</td>\n",
       "      <td>2</td>\n",
       "      <td>2</td>\n",
       "      <td>4</td>\n",
       "      <td>3</td>\n",
       "      <td>11</td>\n",
       "    </tr>\n",
       "    <tr>\n",
       "      <th>10</th>\n",
       "      <td>1930</td>\n",
       "      <td>1</td>\n",
       "      <td>3</td>\n",
       "      <td>2</td>\n",
       "      <td>1</td>\n",
       "      <td>7</td>\n",
       "    </tr>\n",
       "    <tr>\n",
       "      <th>11</th>\n",
       "      <td>1920</td>\n",
       "      <td>0</td>\n",
       "      <td>0</td>\n",
       "      <td>0</td>\n",
       "      <td>0</td>\n",
       "      <td>0</td>\n",
       "    </tr>\n",
       "  </tbody>\n",
       "</table>\n",
       "</div>"
      ],
      "text/plain": [
       "    Desetletje  Delež  Kvaliteta  Število bralcev  Število avtorjev  \\\n",
       "1         2000      8          5               10                 9   \n",
       "2         2010      9          4                9                10   \n",
       "3         1990      7          8                8                 7   \n",
       "4         1980      6          9                6                 6   \n",
       "5         2020     10          1                7                 8   \n",
       "6         1950      3         10                5                 2   \n",
       "7         1970      5          7                3                 5   \n",
       "8         1960      4          6                1                 4   \n",
       "9         1940      2          2                4                 3   \n",
       "10        1930      1          3                2                 1   \n",
       "11        1920      0          0                0                 0   \n",
       "\n",
       "    Skupne točke  \n",
       "1             32  \n",
       "2             32  \n",
       "3             30  \n",
       "4             27  \n",
       "5             26  \n",
       "6             20  \n",
       "7             20  \n",
       "8             15  \n",
       "9             11  \n",
       "10             7  \n",
       "11             0  "
      ]
     },
     "execution_count": 84,
     "metadata": {},
     "output_type": "execute_result"
    }
   ],
   "source": [
    "vrstni_red_po_tockah"
   ]
  },
  {
   "cell_type": "code",
   "execution_count": 85,
   "metadata": {},
   "outputs": [
    {
     "data": {
      "image/png": "[encoded data removed]",
      "text/plain": [
       "<Figure size 640x480 with 1 Axes>"
      ]
     },
     "metadata": {},
     "output_type": "display_data"
    }
   ],
   "source": [
    "graf_desetletij = vrstni_red_po_tockah[['Desetletje', 'Delež', 'Kvaliteta', 'Število bralcev', 'Število avtorjev']].set_index('Desetletje').plot(kind='bar', stacked = True)"
   ]
  },
  {
   "cell_type": "code",
   "execution_count": 88,
   "metadata": {},
   "outputs": [
    {
     "data": {
      "text/plain": [
       "<Axes: xlabel='Desetletje'>"
      ]
     },
     "execution_count": 88,
     "metadata": {},
     "output_type": "execute_result"
    },
    {
     "data": {
      "image/png": "[encoded data removed]",
      "text/plain": [
       "<Figure size 640x480 with 1 Axes>"
      ]
     },
     "metadata": {},
     "output_type": "display_data"
    }
   ],
   "source": [
    "vrstni_red_po_tockah.sort_values('Desetletje').set_index('Desetletje')['Skupne točke'].plot()"
   ]
  },
  {
   "cell_type": "markdown",
   "metadata": {},
   "source": [
    "<h3 style=\"text-align:center\"><div style=\"font-size : 20px; font-style : Verdana; text-align : center\">Sklepi</div></h3>"
   ]
  },
  {
   "cell_type": "markdown",
   "metadata": {},
   "source": []
  },
  {
   "cell_type": "markdown",
   "metadata": {},
   "source": [
    "<h2 style='text-align:center'> <div style=\"font-size : 30px; font-style : Verdana; text-align : center \"> Zaključki </div> </h2>"
   ]
  },
  {
   "cell_type": "markdown",
   "metadata": {},
   "source": [
    "<p style=\"font-family:'Times New Roman', font-size:12px\">Iz rezultatov analize, prikazanih zgoraj, sledi</p> "
   ]
  },
  {
   "cell_type": "code",
   "execution_count": null,
   "metadata": {},
   "outputs": [],
   "source": []
  }
 ],
 "metadata": {
  "kernelspec": {
   "display_name": "Python 3 (ipykernel)",
   "language": "python",
   "name": "python3"
  },
  "language_info": {
   "codemirror_mode": {
    "name": "ipython",
    "version": 3
   },
   "file_extension": ".py",
   "mimetype": "text/x-python",
   "name": "python",
   "nbconvert_exporter": "python",
   "pygments_lexer": "ipython3",
   "version": "3.11.2"
  }
 },
 "nbformat": 4,
 "nbformat_minor": 2
}
