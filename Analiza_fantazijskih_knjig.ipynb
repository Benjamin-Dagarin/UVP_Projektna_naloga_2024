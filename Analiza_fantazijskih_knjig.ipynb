{
 "cells": [
  {
   "cell_type": "markdown",
   "metadata": {},
   "source": [
    "<h1 style=\"text-align:center\"><div style=\"text-style:bold; font-family:Verdana;font-size=100px\">Analiza fantazijskih knjig</div></h1>"
   ]
  },
  {
   "cell_type": "markdown",
   "metadata": {},
   "source": [
    "<h2 style='text-align:center'> <div style=\"font-size : 30px; font-style : Verdana; text-align : center \"> Priprava </div> </h2>"
   ]
  },
  {
   "cell_type": "code",
   "execution_count": 75,
   "metadata": {},
   "outputs": [],
   "source": [
    "import pandas as pd\n",
    "import matplotlib.pyplot as plt\n",
    "import numpy as np\n",
    "import zlato_desetletje\n",
    "#from operator import itemgetter"
   ]
  },
  {
   "cell_type": "code",
   "execution_count": 76,
   "metadata": {},
   "outputs": [],
   "source": [
    "podatki = pd.read_csv(\"C:\\\\Users\\\\Benjamin\\\\Desktop\\\\Šola\\\\FMF\\\\UVP\\\\UVP_Projektna_naloga_2024\\\\fantazijska_literatura.csv\", index_col='Naslov')"
   ]
  },
  {
   "cell_type": "code",
   "execution_count": 77,
   "metadata": {},
   "outputs": [],
   "source": [
    "stolpci = podatki.columns"
   ]
  },
  {
   "cell_type": "code",
   "execution_count": 78,
   "metadata": {},
   "outputs": [],
   "source": [
    "#pd.set_option('display.max_rows', None)"
   ]
  },
  {
   "cell_type": "code",
   "execution_count": 79,
   "metadata": {},
   "outputs": [],
   "source": [
    "podatki.fillna(0, inplace=True)"
   ]
  },
  {
   "cell_type": "code",
   "execution_count": 80,
   "metadata": {},
   "outputs": [
    {
     "data": {
      "text/html": [
       "<div>\n",
       "<style scoped>\n",
       "    .dataframe tbody tr th:only-of-type {\n",
       "        vertical-align: middle;\n",
       "    }\n",
       "\n",
       "    .dataframe tbody tr th {\n",
       "        vertical-align: top;\n",
       "    }\n",
       "\n",
       "    .dataframe thead th {\n",
       "        text-align: right;\n",
       "    }\n",
       "</style>\n",
       "<table border=\"1\" class=\"dataframe\">\n",
       "  <thead>\n",
       "    <tr style=\"text-align: right;\">\n",
       "      <th></th>\n",
       "      <th>Avtor</th>\n",
       "      <th>Leta izida</th>\n",
       "      <th>Dolžina</th>\n",
       "      <th>Točke</th>\n",
       "      <th>Ocena</th>\n",
       "      <th>Število bralcev</th>\n",
       "    </tr>\n",
       "    <tr>\n",
       "      <th>Naslov</th>\n",
       "      <th></th>\n",
       "      <th></th>\n",
       "      <th></th>\n",
       "      <th></th>\n",
       "      <th></th>\n",
       "      <th></th>\n",
       "    </tr>\n",
       "  </thead>\n",
       "  <tbody>\n",
       "    <tr>\n",
       "      <th>The Hobbit (The Lord of the Rings, #0)</th>\n",
       "      <td>J.R.R. Tolkien</td>\n",
       "      <td>1937.0</td>\n",
       "      <td>366.0</td>\n",
       "      <td>5793</td>\n",
       "      <td>4.29</td>\n",
       "      <td>4063356</td>\n",
       "    </tr>\n",
       "    <tr>\n",
       "      <th>Lost Horizon</th>\n",
       "      <td>James Hilton</td>\n",
       "      <td>1933.0</td>\n",
       "      <td>241.0</td>\n",
       "      <td>1276</td>\n",
       "      <td>3.95</td>\n",
       "      <td>22920</td>\n",
       "    </tr>\n",
       "    <tr>\n",
       "      <th>At the Mountains of Madness</th>\n",
       "      <td>H.P. Lovecraft</td>\n",
       "      <td>1931.0</td>\n",
       "      <td>194.0</td>\n",
       "      <td>1185</td>\n",
       "      <td>3.81</td>\n",
       "      <td>55007</td>\n",
       "    </tr>\n",
       "    <tr>\n",
       "      <th>Mary Poppins (Mary Poppins, #1)</th>\n",
       "      <td>P.L. Travers</td>\n",
       "      <td>1934.0</td>\n",
       "      <td>209.0</td>\n",
       "      <td>1169</td>\n",
       "      <td>4.01</td>\n",
       "      <td>134755</td>\n",
       "    </tr>\n",
       "    <tr>\n",
       "      <th>The Sword in the Stone (The Once and Future King, #1)</th>\n",
       "      <td>T.H. White</td>\n",
       "      <td>1938.0</td>\n",
       "      <td>352.0</td>\n",
       "      <td>968</td>\n",
       "      <td>3.89</td>\n",
       "      <td>26880</td>\n",
       "    </tr>\n",
       "    <tr>\n",
       "      <th>...</th>\n",
       "      <td>...</td>\n",
       "      <td>...</td>\n",
       "      <td>...</td>\n",
       "      <td>...</td>\n",
       "      <td>...</td>\n",
       "      <td>...</td>\n",
       "    </tr>\n",
       "    <tr>\n",
       "      <th>Duke Elric (Chronicles of the Last Emperor of Melniboné, #4)</th>\n",
       "      <td>Michael Moorcock</td>\n",
       "      <td>2009.0</td>\n",
       "      <td>368.0</td>\n",
       "      <td>90</td>\n",
       "      <td>4.01</td>\n",
       "      <td>279</td>\n",
       "    </tr>\n",
       "    <tr>\n",
       "      <th>Elric</th>\n",
       "      <td>Michael Moorcock</td>\n",
       "      <td>2001.0</td>\n",
       "      <td>416.0</td>\n",
       "      <td>89</td>\n",
       "      <td>4.10</td>\n",
       "      <td>3001</td>\n",
       "    </tr>\n",
       "    <tr>\n",
       "      <th>Elric in the Dream Realms (Chronicles of the Last Emperor of Melniboné, #5)</th>\n",
       "      <td>Michael Moorcock</td>\n",
       "      <td>2009.0</td>\n",
       "      <td>448.0</td>\n",
       "      <td>88</td>\n",
       "      <td>3.97</td>\n",
       "      <td>261</td>\n",
       "    </tr>\n",
       "    <tr>\n",
       "      <th>Atlan (Atlan, #2)</th>\n",
       "      <td>Jane Gaskell</td>\n",
       "      <td>1965.0</td>\n",
       "      <td>334.0</td>\n",
       "      <td>70</td>\n",
       "      <td>3.59</td>\n",
       "      <td>140</td>\n",
       "    </tr>\n",
       "    <tr>\n",
       "      <th>Higglety Pigglety Pop! or There Must Be More to Life</th>\n",
       "      <td>Maurice Sendak</td>\n",
       "      <td>1967.0</td>\n",
       "      <td>69.0</td>\n",
       "      <td>61</td>\n",
       "      <td>4.19</td>\n",
       "      <td>1800</td>\n",
       "    </tr>\n",
       "  </tbody>\n",
       "</table>\n",
       "<p>239 rows × 6 columns</p>\n",
       "</div>"
      ],
      "text/plain": [
       "                                                               Avtor  \\\n",
       "Naslov                                                                 \n",
       "The Hobbit (The Lord of the Rings, #0)                J.R.R. Tolkien   \n",
       "Lost Horizon                                            James Hilton   \n",
       "At the Mountains of Madness                           H.P. Lovecraft   \n",
       "Mary Poppins (Mary Poppins, #1)                         P.L. Travers   \n",
       "The Sword in the Stone (The Once and Future Kin...        T.H. White   \n",
       "...                                                              ...   \n",
       "Duke Elric (Chronicles of the Last Emperor of M...  Michael Moorcock   \n",
       "Elric                                               Michael Moorcock   \n",
       "Elric in the Dream Realms (Chronicles of the La...  Michael Moorcock   \n",
       "Atlan (Atlan, #2)                                       Jane Gaskell   \n",
       "Higglety Pigglety Pop! or There Must Be More to...    Maurice Sendak   \n",
       "\n",
       "                                                    Leta izida  Dolžina  \\\n",
       "Naslov                                                                    \n",
       "The Hobbit (The Lord of the Rings, #0)                  1937.0    366.0   \n",
       "Lost Horizon                                            1933.0    241.0   \n",
       "At the Mountains of Madness                             1931.0    194.0   \n",
       "Mary Poppins (Mary Poppins, #1)                         1934.0    209.0   \n",
       "The Sword in the Stone (The Once and Future Kin...      1938.0    352.0   \n",
       "...                                                        ...      ...   \n",
       "Duke Elric (Chronicles of the Last Emperor of M...      2009.0    368.0   \n",
       "Elric                                                   2001.0    416.0   \n",
       "Elric in the Dream Realms (Chronicles of the La...      2009.0    448.0   \n",
       "Atlan (Atlan, #2)                                       1965.0    334.0   \n",
       "Higglety Pigglety Pop! or There Must Be More to...      1967.0     69.0   \n",
       "\n",
       "                                                    Točke  Ocena  \\\n",
       "Naslov                                                             \n",
       "The Hobbit (The Lord of the Rings, #0)               5793   4.29   \n",
       "Lost Horizon                                         1276   3.95   \n",
       "At the Mountains of Madness                          1185   3.81   \n",
       "Mary Poppins (Mary Poppins, #1)                      1169   4.01   \n",
       "The Sword in the Stone (The Once and Future Kin...    968   3.89   \n",
       "...                                                   ...    ...   \n",
       "Duke Elric (Chronicles of the Last Emperor of M...     90   4.01   \n",
       "Elric                                                  89   4.10   \n",
       "Elric in the Dream Realms (Chronicles of the La...     88   3.97   \n",
       "Atlan (Atlan, #2)                                      70   3.59   \n",
       "Higglety Pigglety Pop! or There Must Be More to...     61   4.19   \n",
       "\n",
       "                                                    Število bralcev  \n",
       "Naslov                                                               \n",
       "The Hobbit (The Lord of the Rings, #0)                      4063356  \n",
       "Lost Horizon                                                  22920  \n",
       "At the Mountains of Madness                                   55007  \n",
       "Mary Poppins (Mary Poppins, #1)                              134755  \n",
       "The Sword in the Stone (The Once and Future Kin...            26880  \n",
       "...                                                             ...  \n",
       "Duke Elric (Chronicles of the Last Emperor of M...              279  \n",
       "Elric                                                          3001  \n",
       "Elric in the Dream Realms (Chronicles of the La...              261  \n",
       "Atlan (Atlan, #2)                                               140  \n",
       "Higglety Pigglety Pop! or There Must Be More to...             1800  \n",
       "\n",
       "[239 rows x 6 columns]"
      ]
     },
     "execution_count": 80,
     "metadata": {},
     "output_type": "execute_result"
    }
   ],
   "source": [
    "podatki"
   ]
  },
  {
   "cell_type": "code",
   "execution_count": 81,
   "metadata": {},
   "outputs": [],
   "source": [
    "podatki['Dolžina'] = podatki['Dolžina'].astype(int, errors='ignore')\n",
    "podatki['Leta izida'] = podatki['Leta izida'].astype(int, errors='ignore')"
   ]
  },
  {
   "cell_type": "code",
   "execution_count": 82,
   "metadata": {},
   "outputs": [
    {
     "data": {
      "text/html": [
       "<div>\n",
       "<style scoped>\n",
       "    .dataframe tbody tr th:only-of-type {\n",
       "        vertical-align: middle;\n",
       "    }\n",
       "\n",
       "    .dataframe tbody tr th {\n",
       "        vertical-align: top;\n",
       "    }\n",
       "\n",
       "    .dataframe thead th {\n",
       "        text-align: right;\n",
       "    }\n",
       "</style>\n",
       "<table border=\"1\" class=\"dataframe\">\n",
       "  <thead>\n",
       "    <tr style=\"text-align: right;\">\n",
       "      <th></th>\n",
       "      <th>Avtor</th>\n",
       "      <th>Leta izida</th>\n",
       "      <th>Dolžina</th>\n",
       "      <th>Točke</th>\n",
       "      <th>Ocena</th>\n",
       "      <th>Število bralcev</th>\n",
       "    </tr>\n",
       "    <tr>\n",
       "      <th>Naslov</th>\n",
       "      <th></th>\n",
       "      <th></th>\n",
       "      <th></th>\n",
       "      <th></th>\n",
       "      <th></th>\n",
       "      <th></th>\n",
       "    </tr>\n",
       "  </thead>\n",
       "  <tbody>\n",
       "    <tr>\n",
       "      <th>The Hobbit (The Lord of the Rings, #0)</th>\n",
       "      <td>J.R.R. Tolkien</td>\n",
       "      <td>1937</td>\n",
       "      <td>366</td>\n",
       "      <td>5793</td>\n",
       "      <td>4.29</td>\n",
       "      <td>4063356</td>\n",
       "    </tr>\n",
       "    <tr>\n",
       "      <th>Lost Horizon</th>\n",
       "      <td>James Hilton</td>\n",
       "      <td>1933</td>\n",
       "      <td>241</td>\n",
       "      <td>1276</td>\n",
       "      <td>3.95</td>\n",
       "      <td>22920</td>\n",
       "    </tr>\n",
       "    <tr>\n",
       "      <th>At the Mountains of Madness</th>\n",
       "      <td>H.P. Lovecraft</td>\n",
       "      <td>1931</td>\n",
       "      <td>194</td>\n",
       "      <td>1185</td>\n",
       "      <td>3.81</td>\n",
       "      <td>55007</td>\n",
       "    </tr>\n",
       "    <tr>\n",
       "      <th>Mary Poppins (Mary Poppins, #1)</th>\n",
       "      <td>P.L. Travers</td>\n",
       "      <td>1934</td>\n",
       "      <td>209</td>\n",
       "      <td>1169</td>\n",
       "      <td>4.01</td>\n",
       "      <td>134755</td>\n",
       "    </tr>\n",
       "    <tr>\n",
       "      <th>The Sword in the Stone (The Once and Future King, #1)</th>\n",
       "      <td>T.H. White</td>\n",
       "      <td>1938</td>\n",
       "      <td>352</td>\n",
       "      <td>968</td>\n",
       "      <td>3.89</td>\n",
       "      <td>26880</td>\n",
       "    </tr>\n",
       "    <tr>\n",
       "      <th>...</th>\n",
       "      <td>...</td>\n",
       "      <td>...</td>\n",
       "      <td>...</td>\n",
       "      <td>...</td>\n",
       "      <td>...</td>\n",
       "      <td>...</td>\n",
       "    </tr>\n",
       "    <tr>\n",
       "      <th>Duke Elric (Chronicles of the Last Emperor of Melniboné, #4)</th>\n",
       "      <td>Michael Moorcock</td>\n",
       "      <td>2009</td>\n",
       "      <td>368</td>\n",
       "      <td>90</td>\n",
       "      <td>4.01</td>\n",
       "      <td>279</td>\n",
       "    </tr>\n",
       "    <tr>\n",
       "      <th>Elric</th>\n",
       "      <td>Michael Moorcock</td>\n",
       "      <td>2001</td>\n",
       "      <td>416</td>\n",
       "      <td>89</td>\n",
       "      <td>4.10</td>\n",
       "      <td>3001</td>\n",
       "    </tr>\n",
       "    <tr>\n",
       "      <th>Elric in the Dream Realms (Chronicles of the Last Emperor of Melniboné, #5)</th>\n",
       "      <td>Michael Moorcock</td>\n",
       "      <td>2009</td>\n",
       "      <td>448</td>\n",
       "      <td>88</td>\n",
       "      <td>3.97</td>\n",
       "      <td>261</td>\n",
       "    </tr>\n",
       "    <tr>\n",
       "      <th>Atlan (Atlan, #2)</th>\n",
       "      <td>Jane Gaskell</td>\n",
       "      <td>1965</td>\n",
       "      <td>334</td>\n",
       "      <td>70</td>\n",
       "      <td>3.59</td>\n",
       "      <td>140</td>\n",
       "    </tr>\n",
       "    <tr>\n",
       "      <th>Higglety Pigglety Pop! or There Must Be More to Life</th>\n",
       "      <td>Maurice Sendak</td>\n",
       "      <td>1967</td>\n",
       "      <td>69</td>\n",
       "      <td>61</td>\n",
       "      <td>4.19</td>\n",
       "      <td>1800</td>\n",
       "    </tr>\n",
       "  </tbody>\n",
       "</table>\n",
       "<p>239 rows × 6 columns</p>\n",
       "</div>"
      ],
      "text/plain": [
       "                                                               Avtor  \\\n",
       "Naslov                                                                 \n",
       "The Hobbit (The Lord of the Rings, #0)                J.R.R. Tolkien   \n",
       "Lost Horizon                                            James Hilton   \n",
       "At the Mountains of Madness                           H.P. Lovecraft   \n",
       "Mary Poppins (Mary Poppins, #1)                         P.L. Travers   \n",
       "The Sword in the Stone (The Once and Future Kin...        T.H. White   \n",
       "...                                                              ...   \n",
       "Duke Elric (Chronicles of the Last Emperor of M...  Michael Moorcock   \n",
       "Elric                                               Michael Moorcock   \n",
       "Elric in the Dream Realms (Chronicles of the La...  Michael Moorcock   \n",
       "Atlan (Atlan, #2)                                       Jane Gaskell   \n",
       "Higglety Pigglety Pop! or There Must Be More to...    Maurice Sendak   \n",
       "\n",
       "                                                    Leta izida  Dolžina  \\\n",
       "Naslov                                                                    \n",
       "The Hobbit (The Lord of the Rings, #0)                    1937      366   \n",
       "Lost Horizon                                              1933      241   \n",
       "At the Mountains of Madness                               1931      194   \n",
       "Mary Poppins (Mary Poppins, #1)                           1934      209   \n",
       "The Sword in the Stone (The Once and Future Kin...        1938      352   \n",
       "...                                                        ...      ...   \n",
       "Duke Elric (Chronicles of the Last Emperor of M...        2009      368   \n",
       "Elric                                                     2001      416   \n",
       "Elric in the Dream Realms (Chronicles of the La...        2009      448   \n",
       "Atlan (Atlan, #2)                                         1965      334   \n",
       "Higglety Pigglety Pop! or There Must Be More to...        1967       69   \n",
       "\n",
       "                                                    Točke  Ocena  \\\n",
       "Naslov                                                             \n",
       "The Hobbit (The Lord of the Rings, #0)               5793   4.29   \n",
       "Lost Horizon                                         1276   3.95   \n",
       "At the Mountains of Madness                          1185   3.81   \n",
       "Mary Poppins (Mary Poppins, #1)                      1169   4.01   \n",
       "The Sword in the Stone (The Once and Future Kin...    968   3.89   \n",
       "...                                                   ...    ...   \n",
       "Duke Elric (Chronicles of the Last Emperor of M...     90   4.01   \n",
       "Elric                                                  89   4.10   \n",
       "Elric in the Dream Realms (Chronicles of the La...     88   3.97   \n",
       "Atlan (Atlan, #2)                                      70   3.59   \n",
       "Higglety Pigglety Pop! or There Must Be More to...     61   4.19   \n",
       "\n",
       "                                                    Število bralcev  \n",
       "Naslov                                                               \n",
       "The Hobbit (The Lord of the Rings, #0)                      4063356  \n",
       "Lost Horizon                                                  22920  \n",
       "At the Mountains of Madness                                   55007  \n",
       "Mary Poppins (Mary Poppins, #1)                              134755  \n",
       "The Sword in the Stone (The Once and Future Kin...            26880  \n",
       "...                                                             ...  \n",
       "Duke Elric (Chronicles of the Last Emperor of M...              279  \n",
       "Elric                                                          3001  \n",
       "Elric in the Dream Realms (Chronicles of the La...              261  \n",
       "Atlan (Atlan, #2)                                               140  \n",
       "Higglety Pigglety Pop! or There Must Be More to...             1800  \n",
       "\n",
       "[239 rows x 6 columns]"
      ]
     },
     "execution_count": 82,
     "metadata": {},
     "output_type": "execute_result"
    }
   ],
   "source": [
    "podatki"
   ]
  },
  {
   "cell_type": "code",
   "execution_count": 83,
   "metadata": {},
   "outputs": [],
   "source": [
    "podatki['Desetletje'] = (podatki['Leta izida']//10)*10"
   ]
  },
  {
   "cell_type": "code",
   "execution_count": 84,
   "metadata": {},
   "outputs": [],
   "source": [
    "podatki = podatki[['Avtor', 'Leta izida', 'Desetletje', 'Dolžina', 'Točke', 'Ocena', 'Število bralcev']]"
   ]
  },
  {
   "cell_type": "code",
   "execution_count": 85,
   "metadata": {},
   "outputs": [
    {
     "data": {
      "text/html": [
       "<div>\n",
       "<style scoped>\n",
       "    .dataframe tbody tr th:only-of-type {\n",
       "        vertical-align: middle;\n",
       "    }\n",
       "\n",
       "    .dataframe tbody tr th {\n",
       "        vertical-align: top;\n",
       "    }\n",
       "\n",
       "    .dataframe thead th {\n",
       "        text-align: right;\n",
       "    }\n",
       "</style>\n",
       "<table border=\"1\" class=\"dataframe\">\n",
       "  <thead>\n",
       "    <tr style=\"text-align: right;\">\n",
       "      <th></th>\n",
       "      <th>Avtor</th>\n",
       "      <th>Leta izida</th>\n",
       "      <th>Desetletje</th>\n",
       "      <th>Dolžina</th>\n",
       "      <th>Točke</th>\n",
       "      <th>Ocena</th>\n",
       "      <th>Število bralcev</th>\n",
       "    </tr>\n",
       "    <tr>\n",
       "      <th>Naslov</th>\n",
       "      <th></th>\n",
       "      <th></th>\n",
       "      <th></th>\n",
       "      <th></th>\n",
       "      <th></th>\n",
       "      <th></th>\n",
       "      <th></th>\n",
       "    </tr>\n",
       "  </thead>\n",
       "  <tbody>\n",
       "    <tr>\n",
       "      <th>The Hobbit (The Lord of the Rings, #0)</th>\n",
       "      <td>J.R.R. Tolkien</td>\n",
       "      <td>1937</td>\n",
       "      <td>1930</td>\n",
       "      <td>366</td>\n",
       "      <td>5793</td>\n",
       "      <td>4.29</td>\n",
       "      <td>4063356</td>\n",
       "    </tr>\n",
       "    <tr>\n",
       "      <th>Lost Horizon</th>\n",
       "      <td>James Hilton</td>\n",
       "      <td>1933</td>\n",
       "      <td>1930</td>\n",
       "      <td>241</td>\n",
       "      <td>1276</td>\n",
       "      <td>3.95</td>\n",
       "      <td>22920</td>\n",
       "    </tr>\n",
       "    <tr>\n",
       "      <th>At the Mountains of Madness</th>\n",
       "      <td>H.P. Lovecraft</td>\n",
       "      <td>1931</td>\n",
       "      <td>1930</td>\n",
       "      <td>194</td>\n",
       "      <td>1185</td>\n",
       "      <td>3.81</td>\n",
       "      <td>55007</td>\n",
       "    </tr>\n",
       "    <tr>\n",
       "      <th>Mary Poppins (Mary Poppins, #1)</th>\n",
       "      <td>P.L. Travers</td>\n",
       "      <td>1934</td>\n",
       "      <td>1930</td>\n",
       "      <td>209</td>\n",
       "      <td>1169</td>\n",
       "      <td>4.01</td>\n",
       "      <td>134755</td>\n",
       "    </tr>\n",
       "    <tr>\n",
       "      <th>The Sword in the Stone (The Once and Future King, #1)</th>\n",
       "      <td>T.H. White</td>\n",
       "      <td>1938</td>\n",
       "      <td>1930</td>\n",
       "      <td>352</td>\n",
       "      <td>968</td>\n",
       "      <td>3.89</td>\n",
       "      <td>26880</td>\n",
       "    </tr>\n",
       "    <tr>\n",
       "      <th>...</th>\n",
       "      <td>...</td>\n",
       "      <td>...</td>\n",
       "      <td>...</td>\n",
       "      <td>...</td>\n",
       "      <td>...</td>\n",
       "      <td>...</td>\n",
       "      <td>...</td>\n",
       "    </tr>\n",
       "    <tr>\n",
       "      <th>Duke Elric (Chronicles of the Last Emperor of Melniboné, #4)</th>\n",
       "      <td>Michael Moorcock</td>\n",
       "      <td>2009</td>\n",
       "      <td>2000</td>\n",
       "      <td>368</td>\n",
       "      <td>90</td>\n",
       "      <td>4.01</td>\n",
       "      <td>279</td>\n",
       "    </tr>\n",
       "    <tr>\n",
       "      <th>Elric</th>\n",
       "      <td>Michael Moorcock</td>\n",
       "      <td>2001</td>\n",
       "      <td>2000</td>\n",
       "      <td>416</td>\n",
       "      <td>89</td>\n",
       "      <td>4.10</td>\n",
       "      <td>3001</td>\n",
       "    </tr>\n",
       "    <tr>\n",
       "      <th>Elric in the Dream Realms (Chronicles of the Last Emperor of Melniboné, #5)</th>\n",
       "      <td>Michael Moorcock</td>\n",
       "      <td>2009</td>\n",
       "      <td>2000</td>\n",
       "      <td>448</td>\n",
       "      <td>88</td>\n",
       "      <td>3.97</td>\n",
       "      <td>261</td>\n",
       "    </tr>\n",
       "    <tr>\n",
       "      <th>Atlan (Atlan, #2)</th>\n",
       "      <td>Jane Gaskell</td>\n",
       "      <td>1965</td>\n",
       "      <td>1960</td>\n",
       "      <td>334</td>\n",
       "      <td>70</td>\n",
       "      <td>3.59</td>\n",
       "      <td>140</td>\n",
       "    </tr>\n",
       "    <tr>\n",
       "      <th>Higglety Pigglety Pop! or There Must Be More to Life</th>\n",
       "      <td>Maurice Sendak</td>\n",
       "      <td>1967</td>\n",
       "      <td>1960</td>\n",
       "      <td>69</td>\n",
       "      <td>61</td>\n",
       "      <td>4.19</td>\n",
       "      <td>1800</td>\n",
       "    </tr>\n",
       "  </tbody>\n",
       "</table>\n",
       "<p>239 rows × 7 columns</p>\n",
       "</div>"
      ],
      "text/plain": [
       "                                                               Avtor  \\\n",
       "Naslov                                                                 \n",
       "The Hobbit (The Lord of the Rings, #0)                J.R.R. Tolkien   \n",
       "Lost Horizon                                            James Hilton   \n",
       "At the Mountains of Madness                           H.P. Lovecraft   \n",
       "Mary Poppins (Mary Poppins, #1)                         P.L. Travers   \n",
       "The Sword in the Stone (The Once and Future Kin...        T.H. White   \n",
       "...                                                              ...   \n",
       "Duke Elric (Chronicles of the Last Emperor of M...  Michael Moorcock   \n",
       "Elric                                               Michael Moorcock   \n",
       "Elric in the Dream Realms (Chronicles of the La...  Michael Moorcock   \n",
       "Atlan (Atlan, #2)                                       Jane Gaskell   \n",
       "Higglety Pigglety Pop! or There Must Be More to...    Maurice Sendak   \n",
       "\n",
       "                                                    Leta izida  Desetletje  \\\n",
       "Naslov                                                                       \n",
       "The Hobbit (The Lord of the Rings, #0)                    1937        1930   \n",
       "Lost Horizon                                              1933        1930   \n",
       "At the Mountains of Madness                               1931        1930   \n",
       "Mary Poppins (Mary Poppins, #1)                           1934        1930   \n",
       "The Sword in the Stone (The Once and Future Kin...        1938        1930   \n",
       "...                                                        ...         ...   \n",
       "Duke Elric (Chronicles of the Last Emperor of M...        2009        2000   \n",
       "Elric                                                     2001        2000   \n",
       "Elric in the Dream Realms (Chronicles of the La...        2009        2000   \n",
       "Atlan (Atlan, #2)                                         1965        1960   \n",
       "Higglety Pigglety Pop! or There Must Be More to...        1967        1960   \n",
       "\n",
       "                                                    Dolžina  Točke  Ocena  \\\n",
       "Naslov                                                                      \n",
       "The Hobbit (The Lord of the Rings, #0)                  366   5793   4.29   \n",
       "Lost Horizon                                            241   1276   3.95   \n",
       "At the Mountains of Madness                             194   1185   3.81   \n",
       "Mary Poppins (Mary Poppins, #1)                         209   1169   4.01   \n",
       "The Sword in the Stone (The Once and Future Kin...      352    968   3.89   \n",
       "...                                                     ...    ...    ...   \n",
       "Duke Elric (Chronicles of the Last Emperor of M...      368     90   4.01   \n",
       "Elric                                                   416     89   4.10   \n",
       "Elric in the Dream Realms (Chronicles of the La...      448     88   3.97   \n",
       "Atlan (Atlan, #2)                                       334     70   3.59   \n",
       "Higglety Pigglety Pop! or There Must Be More to...       69     61   4.19   \n",
       "\n",
       "                                                    Število bralcev  \n",
       "Naslov                                                               \n",
       "The Hobbit (The Lord of the Rings, #0)                      4063356  \n",
       "Lost Horizon                                                  22920  \n",
       "At the Mountains of Madness                                   55007  \n",
       "Mary Poppins (Mary Poppins, #1)                              134755  \n",
       "The Sword in the Stone (The Once and Future Kin...            26880  \n",
       "...                                                             ...  \n",
       "Duke Elric (Chronicles of the Last Emperor of M...              279  \n",
       "Elric                                                          3001  \n",
       "Elric in the Dream Realms (Chronicles of the La...              261  \n",
       "Atlan (Atlan, #2)                                               140  \n",
       "Higglety Pigglety Pop! or There Must Be More to...             1800  \n",
       "\n",
       "[239 rows x 7 columns]"
      ]
     },
     "execution_count": 85,
     "metadata": {},
     "output_type": "execute_result"
    }
   ],
   "source": [
    "podatki"
   ]
  },
  {
   "cell_type": "code",
   "execution_count": 86,
   "metadata": {},
   "outputs": [],
   "source": [
    "po_desetletjih = podatki.groupby('Desetletje')"
   ]
  },
  {
   "cell_type": "markdown",
   "metadata": {},
   "source": [
    "<h2 style='text-align:center'> <div style=\"font-size : 30px; font-style : Verdana; text-align : center \"> Lestvica najboljših </div> </h2>"
   ]
  },
  {
   "cell_type": "markdown",
   "metadata": {},
   "source": [
    "<p style=\"font-family:'Times New Roman', font-size:12px\"> Najprej si poglejmo najboljših 10 predstavnikov iz vsake kategorije. Z rezultati si bo lahko vsak ljubitelj fantazijskega žanra pomagal pri odločitvi, katere knjige oz. avtorje se najbolj splača brati</p>"
   ]
  },
  {
   "cell_type": "markdown",
   "metadata": {},
   "source": [
    "<p style=\"font-family:'Times New Roman', font-size:12px\"> Poizvedimo najprej, katere knjige so najkvalitetnejše. Kot merilo kvalitete vzemimo št. točk oz. \"score\", kakor so navedene na spletni strani. Točke upoštevajo št. bralcev, ki je ocenilo knjigo, ter povprečno oceno, ki so ji jo prisodili.</p>"
   ]
  },
  {
   "cell_type": "code",
   "execution_count": 87,
   "metadata": {},
   "outputs": [],
   "source": [
    "po_tockah = pd.DataFrame(podatki['Točke'].sort_values(ascending=False))"
   ]
  },
  {
   "cell_type": "code",
   "execution_count": 88,
   "metadata": {},
   "outputs": [
    {
     "data": {
      "text/html": [
       "<div>\n",
       "<style scoped>\n",
       "    .dataframe tbody tr th:only-of-type {\n",
       "        vertical-align: middle;\n",
       "    }\n",
       "\n",
       "    .dataframe tbody tr th {\n",
       "        vertical-align: top;\n",
       "    }\n",
       "\n",
       "    .dataframe thead th {\n",
       "        text-align: right;\n",
       "    }\n",
       "</style>\n",
       "<table border=\"1\" class=\"dataframe\">\n",
       "  <thead>\n",
       "    <tr style=\"text-align: right;\">\n",
       "      <th></th>\n",
       "      <th>Točke</th>\n",
       "    </tr>\n",
       "    <tr>\n",
       "      <th>Naslov</th>\n",
       "      <th></th>\n",
       "    </tr>\n",
       "  </thead>\n",
       "  <tbody>\n",
       "    <tr>\n",
       "      <th>The Fellowship of the Ring (The Lord of the Rings, #1)</th>\n",
       "      <td>7350</td>\n",
       "    </tr>\n",
       "    <tr>\n",
       "      <th>The Lion, the Witch and the Wardrobe (Chronicles of Narnia, #1)</th>\n",
       "      <td>6133</td>\n",
       "    </tr>\n",
       "    <tr>\n",
       "      <th>The Two Towers (The Lord of the Rings, #2)</th>\n",
       "      <td>6078</td>\n",
       "    </tr>\n",
       "    <tr>\n",
       "      <th>The Return of the King (The Lord of the Rings, #3)</th>\n",
       "      <td>5961</td>\n",
       "    </tr>\n",
       "    <tr>\n",
       "      <th>The Hobbit (The Lord of the Rings, #0)</th>\n",
       "      <td>5793</td>\n",
       "    </tr>\n",
       "    <tr>\n",
       "      <th>A Wizard of Earthsea (Earthsea Cycle, #1)</th>\n",
       "      <td>4526</td>\n",
       "    </tr>\n",
       "    <tr>\n",
       "      <th>The Magician’s Nephew (Chronicles of Narnia, #6)</th>\n",
       "      <td>3520</td>\n",
       "    </tr>\n",
       "    <tr>\n",
       "      <th>The Last Unicorn (The Last Unicorn, #1)</th>\n",
       "      <td>3348</td>\n",
       "    </tr>\n",
       "    <tr>\n",
       "      <th>The Horse and His Boy (Chronicles of Narnia, #5)</th>\n",
       "      <td>3345</td>\n",
       "    </tr>\n",
       "    <tr>\n",
       "      <th>A Wrinkle in Time (A Wrinkle in Time Quintet, #1)</th>\n",
       "      <td>3332</td>\n",
       "    </tr>\n",
       "  </tbody>\n",
       "</table>\n",
       "</div>"
      ],
      "text/plain": [
       "                                                    Točke\n",
       "Naslov                                                   \n",
       "The Fellowship of the Ring (The Lord of the Rin...   7350\n",
       "The Lion, the Witch and the Wardrobe (Chronicle...   6133\n",
       "The Two Towers (The Lord of the Rings, #2)           6078\n",
       "The Return of the King (The Lord of the Rings, #3)   5961\n",
       "The Hobbit (The Lord of the Rings, #0)               5793\n",
       "A Wizard of Earthsea (Earthsea Cycle, #1)            4526\n",
       "The Magician’s Nephew (Chronicles of Narnia, #6)     3520\n",
       "The Last Unicorn (The Last Unicorn, #1)              3348\n",
       "The Horse and His Boy (Chronicles of Narnia, #5)     3345\n",
       "A Wrinkle in Time (A Wrinkle in Time Quintet, #1)    3332"
      ]
     },
     "execution_count": 88,
     "metadata": {},
     "output_type": "execute_result"
    }
   ],
   "source": [
    "po_tockah.head(10)"
   ]
  },
  {
   "cell_type": "markdown",
   "metadata": {},
   "source": [
    "<p style=\"font-family:'Times New Roman', font-size:12px\"> Sedaj analizirajmo avtorje po kvaliteti knjig, ki so jih napisali. Kot merilo zopet vzemimo število točk, le da tokrat avtorju pripišimo povprečje točk njegovih knjig.</p>"
   ]
  },
  {
   "cell_type": "code",
   "execution_count": 89,
   "metadata": {},
   "outputs": [],
   "source": [
    "avtorji = podatki.groupby('Avtor')"
   ]
  },
  {
   "cell_type": "code",
   "execution_count": 90,
   "metadata": {},
   "outputs": [],
   "source": [
    "avtorji_po_tockah = (pd.DataFrame(avtorji['Točke'].mean())).sort_values(by='Točke',ascending=False)"
   ]
  },
  {
   "cell_type": "code",
   "execution_count": 91,
   "metadata": {},
   "outputs": [],
   "source": [
    "avtorji_po_tockah['Točke'] = round(avtorji_po_tockah['Točke'], 2)"
   ]
  },
  {
   "cell_type": "code",
   "execution_count": 92,
   "metadata": {},
   "outputs": [
    {
     "data": {
      "text/html": [
       "<div>\n",
       "<style scoped>\n",
       "    .dataframe tbody tr th:only-of-type {\n",
       "        vertical-align: middle;\n",
       "    }\n",
       "\n",
       "    .dataframe tbody tr th {\n",
       "        vertical-align: top;\n",
       "    }\n",
       "\n",
       "    .dataframe thead th {\n",
       "        text-align: right;\n",
       "    }\n",
       "</style>\n",
       "<table border=\"1\" class=\"dataframe\">\n",
       "  <thead>\n",
       "    <tr style=\"text-align: right;\">\n",
       "      <th></th>\n",
       "      <th>Točke</th>\n",
       "    </tr>\n",
       "    <tr>\n",
       "      <th>Avtor</th>\n",
       "      <th></th>\n",
       "    </tr>\n",
       "  </thead>\n",
       "  <tbody>\n",
       "    <tr>\n",
       "      <th>Ursula K. Le Guin</th>\n",
       "      <td>4526.00</td>\n",
       "    </tr>\n",
       "    <tr>\n",
       "      <th>J.R.R. Tolkien</th>\n",
       "      <td>4232.57</td>\n",
       "    </tr>\n",
       "    <tr>\n",
       "      <th>Peter S. Beagle</th>\n",
       "      <td>3348.00</td>\n",
       "    </tr>\n",
       "    <tr>\n",
       "      <th>Madeleine L'Engle</th>\n",
       "      <td>3332.00</td>\n",
       "    </tr>\n",
       "    <tr>\n",
       "      <th>Norton Juster</th>\n",
       "      <td>3238.00</td>\n",
       "    </tr>\n",
       "    <tr>\n",
       "      <th>C.S. Lewis</th>\n",
       "      <td>1978.33</td>\n",
       "    </tr>\n",
       "    <tr>\n",
       "      <th>Roald Dahl</th>\n",
       "      <td>1823.00</td>\n",
       "    </tr>\n",
       "    <tr>\n",
       "      <th>Lloyd Alexander</th>\n",
       "      <td>1532.00</td>\n",
       "    </tr>\n",
       "    <tr>\n",
       "      <th>Maurice Sendak</th>\n",
       "      <td>1502.50</td>\n",
       "    </tr>\n",
       "    <tr>\n",
       "      <th>Susan Cooper</th>\n",
       "      <td>1344.00</td>\n",
       "    </tr>\n",
       "  </tbody>\n",
       "</table>\n",
       "</div>"
      ],
      "text/plain": [
       "                     Točke\n",
       "Avtor                     \n",
       "Ursula K. Le Guin  4526.00\n",
       "J.R.R. Tolkien     4232.57\n",
       "Peter S. Beagle    3348.00\n",
       "Madeleine L'Engle  3332.00\n",
       "Norton Juster      3238.00\n",
       "C.S. Lewis         1978.33\n",
       "Roald Dahl         1823.00\n",
       "Lloyd Alexander    1532.00\n",
       "Maurice Sendak     1502.50\n",
       "Susan Cooper       1344.00"
      ]
     },
     "execution_count": 92,
     "metadata": {},
     "output_type": "execute_result"
    }
   ],
   "source": [
    "avtorji_po_tockah.head(10)"
   ]
  },
  {
   "cell_type": "markdown",
   "metadata": {},
   "source": [
    "<p style=\"font-family:'Times New Roman', font-size:12px\"> Kot zanimivost si poglejmo še, katere so najbolj brane knjige in najbolj brani avtorji ter rezultata primerjajmo z zgornjima. Kot kriterij sem vzel število ljudi, ki je ocenilo knjigo na spletni strani, saj dejanskega števila ljudi, ki so prebrali knjigo, ni mogoče zares ugotoviti.</p>"
   ]
  },
  {
   "cell_type": "code",
   "execution_count": 93,
   "metadata": {},
   "outputs": [],
   "source": [
    "najbolj_brane_knjige = podatki.sort_values(by='Število bralcev', ascending=False)"
   ]
  },
  {
   "cell_type": "code",
   "execution_count": 94,
   "metadata": {},
   "outputs": [],
   "source": [
    "po_bralcih = pd.DataFrame(najbolj_brane_knjige['Število bralcev'])"
   ]
  },
  {
   "cell_type": "code",
   "execution_count": 95,
   "metadata": {},
   "outputs": [
    {
     "data": {
      "text/html": [
       "<div>\n",
       "<style scoped>\n",
       "    .dataframe tbody tr th:only-of-type {\n",
       "        vertical-align: middle;\n",
       "    }\n",
       "\n",
       "    .dataframe tbody tr th {\n",
       "        vertical-align: top;\n",
       "    }\n",
       "\n",
       "    .dataframe thead th {\n",
       "        text-align: right;\n",
       "    }\n",
       "</style>\n",
       "<table border=\"1\" class=\"dataframe\">\n",
       "  <thead>\n",
       "    <tr style=\"text-align: right;\">\n",
       "      <th></th>\n",
       "      <th>Število bralcev</th>\n",
       "    </tr>\n",
       "    <tr>\n",
       "      <th>Naslov</th>\n",
       "      <th></th>\n",
       "    </tr>\n",
       "  </thead>\n",
       "  <tbody>\n",
       "    <tr>\n",
       "      <th>The Hobbit (The Lord of the Rings, #0)</th>\n",
       "      <td>4063356</td>\n",
       "    </tr>\n",
       "    <tr>\n",
       "      <th>Animal Farm</th>\n",
       "      <td>3974670</td>\n",
       "    </tr>\n",
       "    <tr>\n",
       "      <th>Animal Farm</th>\n",
       "      <td>3974670</td>\n",
       "    </tr>\n",
       "    <tr>\n",
       "      <th>The Lion, the Witch and the Wardrobe (Chronicles of Narnia, #1)</th>\n",
       "      <td>2848164</td>\n",
       "    </tr>\n",
       "    <tr>\n",
       "      <th>The Fellowship of the Ring (The Lord of the Rings, #1)</th>\n",
       "      <td>2845102</td>\n",
       "    </tr>\n",
       "    <tr>\n",
       "      <th>The Little Prince</th>\n",
       "      <td>2156335</td>\n",
       "    </tr>\n",
       "    <tr>\n",
       "      <th>A Wrinkle in Time (A Wrinkle in Time Quintet, #1)</th>\n",
       "      <td>1216383</td>\n",
       "    </tr>\n",
       "    <tr>\n",
       "      <th>Where the Wild Things Are</th>\n",
       "      <td>1013503</td>\n",
       "    </tr>\n",
       "    <tr>\n",
       "      <th>The Two Towers (The Lord of the Rings, #2)</th>\n",
       "      <td>992726</td>\n",
       "    </tr>\n",
       "    <tr>\n",
       "      <th>The Return of the King (The Lord of the Rings, #3)</th>\n",
       "      <td>924818</td>\n",
       "    </tr>\n",
       "  </tbody>\n",
       "</table>\n",
       "</div>"
      ],
      "text/plain": [
       "                                                    Število bralcev\n",
       "Naslov                                                             \n",
       "The Hobbit (The Lord of the Rings, #0)                      4063356\n",
       "Animal Farm                                                 3974670\n",
       "Animal Farm                                                 3974670\n",
       "The Lion, the Witch and the Wardrobe (Chronicle...          2848164\n",
       "The Fellowship of the Ring (The Lord of the Rin...          2845102\n",
       "The Little Prince                                           2156335\n",
       "A Wrinkle in Time (A Wrinkle in Time Quintet, #1)           1216383\n",
       "Where the Wild Things Are                                   1013503\n",
       "The Two Towers (The Lord of the Rings, #2)                   992726\n",
       "The Return of the King (The Lord of the Rings, #3)           924818"
      ]
     },
     "execution_count": 95,
     "metadata": {},
     "output_type": "execute_result"
    }
   ],
   "source": [
    "po_bralcih.head(10)"
   ]
  },
  {
   "cell_type": "markdown",
   "metadata": {},
   "source": [
    "<p style=\"font-family:'Times New Roman', font-size:12px\"> Še po avtorjih </p>"
   ]
  },
  {
   "cell_type": "code",
   "execution_count": 96,
   "metadata": {},
   "outputs": [],
   "source": [
    "branost_avtorjev = (pd.DataFrame(avtorji['Število bralcev'].mean())).sort_values(by='Število bralcev', ascending=False)"
   ]
  },
  {
   "cell_type": "code",
   "execution_count": 97,
   "metadata": {},
   "outputs": [
    {
     "data": {
      "text/html": [
       "<div>\n",
       "<style scoped>\n",
       "    .dataframe tbody tr th:only-of-type {\n",
       "        vertical-align: middle;\n",
       "    }\n",
       "\n",
       "    .dataframe tbody tr th {\n",
       "        vertical-align: top;\n",
       "    }\n",
       "\n",
       "    .dataframe thead th {\n",
       "        text-align: right;\n",
       "    }\n",
       "</style>\n",
       "<table border=\"1\" class=\"dataframe\">\n",
       "  <thead>\n",
       "    <tr style=\"text-align: right;\">\n",
       "      <th></th>\n",
       "      <th>Število bralcev</th>\n",
       "    </tr>\n",
       "    <tr>\n",
       "      <th>Avtor</th>\n",
       "      <th></th>\n",
       "    </tr>\n",
       "  </thead>\n",
       "  <tbody>\n",
       "    <tr>\n",
       "      <th>George Orwell</th>\n",
       "      <td>3.974670e+06</td>\n",
       "    </tr>\n",
       "    <tr>\n",
       "      <th>Antoine de Saint-Exupéry</th>\n",
       "      <td>2.156335e+06</td>\n",
       "    </tr>\n",
       "    <tr>\n",
       "      <th>J.R.R. Tolkien</th>\n",
       "      <td>1.361108e+06</td>\n",
       "    </tr>\n",
       "    <tr>\n",
       "      <th>Madeleine L'Engle</th>\n",
       "      <td>1.216383e+06</td>\n",
       "    </tr>\n",
       "    <tr>\n",
       "      <th>Roald Dahl</th>\n",
       "      <td>6.719225e+05</td>\n",
       "    </tr>\n",
       "    <tr>\n",
       "      <th>Maurice Sendak</th>\n",
       "      <td>5.076515e+05</td>\n",
       "    </tr>\n",
       "    <tr>\n",
       "      <th>C.S. Lewis</th>\n",
       "      <td>4.540159e+05</td>\n",
       "    </tr>\n",
       "    <tr>\n",
       "      <th>Mikhail Bulgakov</th>\n",
       "      <td>3.633580e+05</td>\n",
       "    </tr>\n",
       "    <tr>\n",
       "      <th>Ursula K. Le Guin</th>\n",
       "      <td>3.241710e+05</td>\n",
       "    </tr>\n",
       "    <tr>\n",
       "      <th>Norton Juster</th>\n",
       "      <td>2.904660e+05</td>\n",
       "    </tr>\n",
       "  </tbody>\n",
       "</table>\n",
       "</div>"
      ],
      "text/plain": [
       "                          Število bralcev\n",
       "Avtor                                    \n",
       "George Orwell                3.974670e+06\n",
       "Antoine de Saint-Exupéry     2.156335e+06\n",
       "J.R.R. Tolkien               1.361108e+06\n",
       "Madeleine L'Engle            1.216383e+06\n",
       "Roald Dahl                   6.719225e+05\n",
       "Maurice Sendak               5.076515e+05\n",
       "C.S. Lewis                   4.540159e+05\n",
       "Mikhail Bulgakov             3.633580e+05\n",
       "Ursula K. Le Guin            3.241710e+05\n",
       "Norton Juster                2.904660e+05"
      ]
     },
     "execution_count": 97,
     "metadata": {},
     "output_type": "execute_result"
    }
   ],
   "source": [
    "branost_avtorjev.head(10)"
   ]
  },
  {
   "cell_type": "markdown",
   "metadata": {},
   "source": [
    "<h2 style='text-align:center'> <div style=\"font-size : 30px; font-style : Verdana; text-align : center \"> Analiza trendov </div> </h2>"
   ]
  },
  {
   "cell_type": "markdown",
   "metadata": {},
   "source": [
    "<p style=\"font-family:'Times New Roman', font-size:12px\"> Zanima nas tudi podrobnejše dogajanje v fantazijskem žanru.<br> Kot bralci bi se lahko vprašali, kako se tekom let in desetletij spreminjajo kvaliteta, dolžina in branost književnih del. Prav tako bi vsekakor želeli vedeti, ali so daljše knjige tudi kvalitetnejše ter ali ljudje raje berejo daljše ali krajše knjige.<br> Iz rezultatov analite bomo poskusili napovedati trende na tem področju v prihodnosti</p>"
   ]
  },
  {
   "cell_type": "code",
   "execution_count": 98,
   "metadata": {},
   "outputs": [
    {
     "data": {
      "text/html": [
       "<div>\n",
       "<style scoped>\n",
       "    .dataframe tbody tr th:only-of-type {\n",
       "        vertical-align: middle;\n",
       "    }\n",
       "\n",
       "    .dataframe tbody tr th {\n",
       "        vertical-align: top;\n",
       "    }\n",
       "\n",
       "    .dataframe thead th {\n",
       "        text-align: right;\n",
       "    }\n",
       "</style>\n",
       "<table border=\"1\" class=\"dataframe\">\n",
       "  <thead>\n",
       "    <tr style=\"text-align: right;\">\n",
       "      <th></th>\n",
       "      <th>Avtor</th>\n",
       "      <th>Leta izida</th>\n",
       "      <th>Desetletje</th>\n",
       "      <th>Dolžina</th>\n",
       "      <th>Točke</th>\n",
       "      <th>Ocena</th>\n",
       "      <th>Število bralcev</th>\n",
       "    </tr>\n",
       "    <tr>\n",
       "      <th>Naslov</th>\n",
       "      <th></th>\n",
       "      <th></th>\n",
       "      <th></th>\n",
       "      <th></th>\n",
       "      <th></th>\n",
       "      <th></th>\n",
       "      <th></th>\n",
       "    </tr>\n",
       "  </thead>\n",
       "  <tbody>\n",
       "    <tr>\n",
       "      <th>The Hobbit (The Lord of the Rings, #0)</th>\n",
       "      <td>J.R.R. Tolkien</td>\n",
       "      <td>1937</td>\n",
       "      <td>1930</td>\n",
       "      <td>366</td>\n",
       "      <td>5793</td>\n",
       "      <td>4.29</td>\n",
       "      <td>4063356</td>\n",
       "    </tr>\n",
       "    <tr>\n",
       "      <th>Lost Horizon</th>\n",
       "      <td>James Hilton</td>\n",
       "      <td>1933</td>\n",
       "      <td>1930</td>\n",
       "      <td>241</td>\n",
       "      <td>1276</td>\n",
       "      <td>3.95</td>\n",
       "      <td>22920</td>\n",
       "    </tr>\n",
       "    <tr>\n",
       "      <th>At the Mountains of Madness</th>\n",
       "      <td>H.P. Lovecraft</td>\n",
       "      <td>1931</td>\n",
       "      <td>1930</td>\n",
       "      <td>194</td>\n",
       "      <td>1185</td>\n",
       "      <td>3.81</td>\n",
       "      <td>55007</td>\n",
       "    </tr>\n",
       "    <tr>\n",
       "      <th>Mary Poppins (Mary Poppins, #1)</th>\n",
       "      <td>P.L. Travers</td>\n",
       "      <td>1934</td>\n",
       "      <td>1930</td>\n",
       "      <td>209</td>\n",
       "      <td>1169</td>\n",
       "      <td>4.01</td>\n",
       "      <td>134755</td>\n",
       "    </tr>\n",
       "    <tr>\n",
       "      <th>The Sword in the Stone (The Once and Future King, #1)</th>\n",
       "      <td>T.H. White</td>\n",
       "      <td>1938</td>\n",
       "      <td>1930</td>\n",
       "      <td>352</td>\n",
       "      <td>968</td>\n",
       "      <td>3.89</td>\n",
       "      <td>26880</td>\n",
       "    </tr>\n",
       "    <tr>\n",
       "      <th>...</th>\n",
       "      <td>...</td>\n",
       "      <td>...</td>\n",
       "      <td>...</td>\n",
       "      <td>...</td>\n",
       "      <td>...</td>\n",
       "      <td>...</td>\n",
       "      <td>...</td>\n",
       "    </tr>\n",
       "    <tr>\n",
       "      <th>Duke Elric (Chronicles of the Last Emperor of Melniboné, #4)</th>\n",
       "      <td>Michael Moorcock</td>\n",
       "      <td>2009</td>\n",
       "      <td>2000</td>\n",
       "      <td>368</td>\n",
       "      <td>90</td>\n",
       "      <td>4.01</td>\n",
       "      <td>279</td>\n",
       "    </tr>\n",
       "    <tr>\n",
       "      <th>Elric</th>\n",
       "      <td>Michael Moorcock</td>\n",
       "      <td>2001</td>\n",
       "      <td>2000</td>\n",
       "      <td>416</td>\n",
       "      <td>89</td>\n",
       "      <td>4.10</td>\n",
       "      <td>3001</td>\n",
       "    </tr>\n",
       "    <tr>\n",
       "      <th>Elric in the Dream Realms (Chronicles of the Last Emperor of Melniboné, #5)</th>\n",
       "      <td>Michael Moorcock</td>\n",
       "      <td>2009</td>\n",
       "      <td>2000</td>\n",
       "      <td>448</td>\n",
       "      <td>88</td>\n",
       "      <td>3.97</td>\n",
       "      <td>261</td>\n",
       "    </tr>\n",
       "    <tr>\n",
       "      <th>Atlan (Atlan, #2)</th>\n",
       "      <td>Jane Gaskell</td>\n",
       "      <td>1965</td>\n",
       "      <td>1960</td>\n",
       "      <td>334</td>\n",
       "      <td>70</td>\n",
       "      <td>3.59</td>\n",
       "      <td>140</td>\n",
       "    </tr>\n",
       "    <tr>\n",
       "      <th>Higglety Pigglety Pop! or There Must Be More to Life</th>\n",
       "      <td>Maurice Sendak</td>\n",
       "      <td>1967</td>\n",
       "      <td>1960</td>\n",
       "      <td>69</td>\n",
       "      <td>61</td>\n",
       "      <td>4.19</td>\n",
       "      <td>1800</td>\n",
       "    </tr>\n",
       "  </tbody>\n",
       "</table>\n",
       "<p>239 rows × 7 columns</p>\n",
       "</div>"
      ],
      "text/plain": [
       "                                                               Avtor  \\\n",
       "Naslov                                                                 \n",
       "The Hobbit (The Lord of the Rings, #0)                J.R.R. Tolkien   \n",
       "Lost Horizon                                            James Hilton   \n",
       "At the Mountains of Madness                           H.P. Lovecraft   \n",
       "Mary Poppins (Mary Poppins, #1)                         P.L. Travers   \n",
       "The Sword in the Stone (The Once and Future Kin...        T.H. White   \n",
       "...                                                              ...   \n",
       "Duke Elric (Chronicles of the Last Emperor of M...  Michael Moorcock   \n",
       "Elric                                               Michael Moorcock   \n",
       "Elric in the Dream Realms (Chronicles of the La...  Michael Moorcock   \n",
       "Atlan (Atlan, #2)                                       Jane Gaskell   \n",
       "Higglety Pigglety Pop! or There Must Be More to...    Maurice Sendak   \n",
       "\n",
       "                                                    Leta izida  Desetletje  \\\n",
       "Naslov                                                                       \n",
       "The Hobbit (The Lord of the Rings, #0)                    1937        1930   \n",
       "Lost Horizon                                              1933        1930   \n",
       "At the Mountains of Madness                               1931        1930   \n",
       "Mary Poppins (Mary Poppins, #1)                           1934        1930   \n",
       "The Sword in the Stone (The Once and Future Kin...        1938        1930   \n",
       "...                                                        ...         ...   \n",
       "Duke Elric (Chronicles of the Last Emperor of M...        2009        2000   \n",
       "Elric                                                     2001        2000   \n",
       "Elric in the Dream Realms (Chronicles of the La...        2009        2000   \n",
       "Atlan (Atlan, #2)                                         1965        1960   \n",
       "Higglety Pigglety Pop! or There Must Be More to...        1967        1960   \n",
       "\n",
       "                                                    Dolžina  Točke  Ocena  \\\n",
       "Naslov                                                                      \n",
       "The Hobbit (The Lord of the Rings, #0)                  366   5793   4.29   \n",
       "Lost Horizon                                            241   1276   3.95   \n",
       "At the Mountains of Madness                             194   1185   3.81   \n",
       "Mary Poppins (Mary Poppins, #1)                         209   1169   4.01   \n",
       "The Sword in the Stone (The Once and Future Kin...      352    968   3.89   \n",
       "...                                                     ...    ...    ...   \n",
       "Duke Elric (Chronicles of the Last Emperor of M...      368     90   4.01   \n",
       "Elric                                                   416     89   4.10   \n",
       "Elric in the Dream Realms (Chronicles of the La...      448     88   3.97   \n",
       "Atlan (Atlan, #2)                                       334     70   3.59   \n",
       "Higglety Pigglety Pop! or There Must Be More to...       69     61   4.19   \n",
       "\n",
       "                                                    Število bralcev  \n",
       "Naslov                                                               \n",
       "The Hobbit (The Lord of the Rings, #0)                      4063356  \n",
       "Lost Horizon                                                  22920  \n",
       "At the Mountains of Madness                                   55007  \n",
       "Mary Poppins (Mary Poppins, #1)                              134755  \n",
       "The Sword in the Stone (The Once and Future Kin...            26880  \n",
       "...                                                             ...  \n",
       "Duke Elric (Chronicles of the Last Emperor of M...              279  \n",
       "Elric                                                          3001  \n",
       "Elric in the Dream Realms (Chronicles of the La...              261  \n",
       "Atlan (Atlan, #2)                                               140  \n",
       "Higglety Pigglety Pop! or There Must Be More to...             1800  \n",
       "\n",
       "[239 rows x 7 columns]"
      ]
     },
     "execution_count": 98,
     "metadata": {},
     "output_type": "execute_result"
    }
   ],
   "source": [
    "podatki"
   ]
  },
  {
   "cell_type": "code",
   "execution_count": 99,
   "metadata": {},
   "outputs": [
    {
     "data": {
      "text/html": [
       "<div>\n",
       "<style scoped>\n",
       "    .dataframe tbody tr th:only-of-type {\n",
       "        vertical-align: middle;\n",
       "    }\n",
       "\n",
       "    .dataframe tbody tr th {\n",
       "        vertical-align: top;\n",
       "    }\n",
       "\n",
       "    .dataframe thead th {\n",
       "        text-align: right;\n",
       "    }\n",
       "</style>\n",
       "<table border=\"1\" class=\"dataframe\">\n",
       "  <thead>\n",
       "    <tr style=\"text-align: right;\">\n",
       "      <th></th>\n",
       "      <th>Avtor</th>\n",
       "      <th>Leta izida</th>\n",
       "      <th>Desetletje</th>\n",
       "      <th>Dolžina</th>\n",
       "      <th>Točke</th>\n",
       "      <th>Ocena</th>\n",
       "      <th>Število bralcev</th>\n",
       "    </tr>\n",
       "    <tr>\n",
       "      <th>Naslov</th>\n",
       "      <th></th>\n",
       "      <th></th>\n",
       "      <th></th>\n",
       "      <th></th>\n",
       "      <th></th>\n",
       "      <th></th>\n",
       "      <th></th>\n",
       "    </tr>\n",
       "  </thead>\n",
       "  <tbody>\n",
       "    <tr>\n",
       "      <th>The Hobbit (The Lord of the Rings, #0)</th>\n",
       "      <td>J.R.R. Tolkien</td>\n",
       "      <td>1937</td>\n",
       "      <td>1930</td>\n",
       "      <td>366</td>\n",
       "      <td>5793</td>\n",
       "      <td>4.29</td>\n",
       "      <td>4063356</td>\n",
       "    </tr>\n",
       "    <tr>\n",
       "      <th>Lost Horizon</th>\n",
       "      <td>James Hilton</td>\n",
       "      <td>1933</td>\n",
       "      <td>1930</td>\n",
       "      <td>241</td>\n",
       "      <td>1276</td>\n",
       "      <td>3.95</td>\n",
       "      <td>22920</td>\n",
       "    </tr>\n",
       "    <tr>\n",
       "      <th>At the Mountains of Madness</th>\n",
       "      <td>H.P. Lovecraft</td>\n",
       "      <td>1931</td>\n",
       "      <td>1930</td>\n",
       "      <td>194</td>\n",
       "      <td>1185</td>\n",
       "      <td>3.81</td>\n",
       "      <td>55007</td>\n",
       "    </tr>\n",
       "    <tr>\n",
       "      <th>Mary Poppins (Mary Poppins, #1)</th>\n",
       "      <td>P.L. Travers</td>\n",
       "      <td>1934</td>\n",
       "      <td>1930</td>\n",
       "      <td>209</td>\n",
       "      <td>1169</td>\n",
       "      <td>4.01</td>\n",
       "      <td>134755</td>\n",
       "    </tr>\n",
       "    <tr>\n",
       "      <th>The Sword in the Stone (The Once and Future King, #1)</th>\n",
       "      <td>T.H. White</td>\n",
       "      <td>1938</td>\n",
       "      <td>1930</td>\n",
       "      <td>352</td>\n",
       "      <td>968</td>\n",
       "      <td>3.89</td>\n",
       "      <td>26880</td>\n",
       "    </tr>\n",
       "    <tr>\n",
       "      <th>...</th>\n",
       "      <td>...</td>\n",
       "      <td>...</td>\n",
       "      <td>...</td>\n",
       "      <td>...</td>\n",
       "      <td>...</td>\n",
       "      <td>...</td>\n",
       "      <td>...</td>\n",
       "    </tr>\n",
       "    <tr>\n",
       "      <th>Duke Elric (Chronicles of the Last Emperor of Melniboné, #4)</th>\n",
       "      <td>Michael Moorcock</td>\n",
       "      <td>2009</td>\n",
       "      <td>2000</td>\n",
       "      <td>368</td>\n",
       "      <td>90</td>\n",
       "      <td>4.01</td>\n",
       "      <td>279</td>\n",
       "    </tr>\n",
       "    <tr>\n",
       "      <th>Elric</th>\n",
       "      <td>Michael Moorcock</td>\n",
       "      <td>2001</td>\n",
       "      <td>2000</td>\n",
       "      <td>416</td>\n",
       "      <td>89</td>\n",
       "      <td>4.10</td>\n",
       "      <td>3001</td>\n",
       "    </tr>\n",
       "    <tr>\n",
       "      <th>Elric in the Dream Realms (Chronicles of the Last Emperor of Melniboné, #5)</th>\n",
       "      <td>Michael Moorcock</td>\n",
       "      <td>2009</td>\n",
       "      <td>2000</td>\n",
       "      <td>448</td>\n",
       "      <td>88</td>\n",
       "      <td>3.97</td>\n",
       "      <td>261</td>\n",
       "    </tr>\n",
       "    <tr>\n",
       "      <th>Atlan (Atlan, #2)</th>\n",
       "      <td>Jane Gaskell</td>\n",
       "      <td>1965</td>\n",
       "      <td>1960</td>\n",
       "      <td>334</td>\n",
       "      <td>70</td>\n",
       "      <td>3.59</td>\n",
       "      <td>140</td>\n",
       "    </tr>\n",
       "    <tr>\n",
       "      <th>Higglety Pigglety Pop! or There Must Be More to Life</th>\n",
       "      <td>Maurice Sendak</td>\n",
       "      <td>1967</td>\n",
       "      <td>1960</td>\n",
       "      <td>69</td>\n",
       "      <td>61</td>\n",
       "      <td>4.19</td>\n",
       "      <td>1800</td>\n",
       "    </tr>\n",
       "  </tbody>\n",
       "</table>\n",
       "<p>239 rows × 7 columns</p>\n",
       "</div>"
      ],
      "text/plain": [
       "                                                               Avtor  \\\n",
       "Naslov                                                                 \n",
       "The Hobbit (The Lord of the Rings, #0)                J.R.R. Tolkien   \n",
       "Lost Horizon                                            James Hilton   \n",
       "At the Mountains of Madness                           H.P. Lovecraft   \n",
       "Mary Poppins (Mary Poppins, #1)                         P.L. Travers   \n",
       "The Sword in the Stone (The Once and Future Kin...        T.H. White   \n",
       "...                                                              ...   \n",
       "Duke Elric (Chronicles of the Last Emperor of M...  Michael Moorcock   \n",
       "Elric                                               Michael Moorcock   \n",
       "Elric in the Dream Realms (Chronicles of the La...  Michael Moorcock   \n",
       "Atlan (Atlan, #2)                                       Jane Gaskell   \n",
       "Higglety Pigglety Pop! or There Must Be More to...    Maurice Sendak   \n",
       "\n",
       "                                                    Leta izida  Desetletje  \\\n",
       "Naslov                                                                       \n",
       "The Hobbit (The Lord of the Rings, #0)                    1937        1930   \n",
       "Lost Horizon                                              1933        1930   \n",
       "At the Mountains of Madness                               1931        1930   \n",
       "Mary Poppins (Mary Poppins, #1)                           1934        1930   \n",
       "The Sword in the Stone (The Once and Future Kin...        1938        1930   \n",
       "...                                                        ...         ...   \n",
       "Duke Elric (Chronicles of the Last Emperor of M...        2009        2000   \n",
       "Elric                                                     2001        2000   \n",
       "Elric in the Dream Realms (Chronicles of the La...        2009        2000   \n",
       "Atlan (Atlan, #2)                                         1965        1960   \n",
       "Higglety Pigglety Pop! or There Must Be More to...        1967        1960   \n",
       "\n",
       "                                                    Dolžina  Točke  Ocena  \\\n",
       "Naslov                                                                      \n",
       "The Hobbit (The Lord of the Rings, #0)                  366   5793   4.29   \n",
       "Lost Horizon                                            241   1276   3.95   \n",
       "At the Mountains of Madness                             194   1185   3.81   \n",
       "Mary Poppins (Mary Poppins, #1)                         209   1169   4.01   \n",
       "The Sword in the Stone (The Once and Future Kin...      352    968   3.89   \n",
       "...                                                     ...    ...    ...   \n",
       "Duke Elric (Chronicles of the Last Emperor of M...      368     90   4.01   \n",
       "Elric                                                   416     89   4.10   \n",
       "Elric in the Dream Realms (Chronicles of the La...      448     88   3.97   \n",
       "Atlan (Atlan, #2)                                       334     70   3.59   \n",
       "Higglety Pigglety Pop! or There Must Be More to...       69     61   4.19   \n",
       "\n",
       "                                                    Število bralcev  \n",
       "Naslov                                                               \n",
       "The Hobbit (The Lord of the Rings, #0)                      4063356  \n",
       "Lost Horizon                                                  22920  \n",
       "At the Mountains of Madness                                   55007  \n",
       "Mary Poppins (Mary Poppins, #1)                              134755  \n",
       "The Sword in the Stone (The Once and Future Kin...            26880  \n",
       "...                                                             ...  \n",
       "Duke Elric (Chronicles of the Last Emperor of M...              279  \n",
       "Elric                                                          3001  \n",
       "Elric in the Dream Realms (Chronicles of the La...              261  \n",
       "Atlan (Atlan, #2)                                               140  \n",
       "Higglety Pigglety Pop! or There Must Be More to...             1800  \n",
       "\n",
       "[239 rows x 7 columns]"
      ]
     },
     "execution_count": 99,
     "metadata": {},
     "output_type": "execute_result"
    }
   ],
   "source": [
    "podatki"
   ]
  },
  {
   "cell_type": "markdown",
   "metadata": {},
   "source": [
    "<h3 style=\"text-align:center\"><div style=\"font-size : 20px; font-style : Verdana; text-align : center\">Odvisnost kvalitete knjige od leta izida</h3>"
   ]
  },
  {
   "cell_type": "code",
   "execution_count": 100,
   "metadata": {},
   "outputs": [],
   "source": [
    "izid_leto = po_desetletjih.agg(\n",
    "**{\n",
    "    'Kvaliteta': pd.NamedAgg(column='Točke', aggfunc='mean')\n",
    "})"
   ]
  },
  {
   "cell_type": "code",
   "execution_count": 101,
   "metadata": {},
   "outputs": [],
   "source": [
    "izid_leto.drop(0, inplace=True)"
   ]
  },
  {
   "cell_type": "code",
   "execution_count": 102,
   "metadata": {},
   "outputs": [],
   "source": [
    "izid_leto['Kvaliteta'] = round(izid_leto['Kvaliteta'], 2)"
   ]
  },
  {
   "cell_type": "code",
   "execution_count": 103,
   "metadata": {},
   "outputs": [
    {
     "data": {
      "text/html": [
       "<div>\n",
       "<style scoped>\n",
       "    .dataframe tbody tr th:only-of-type {\n",
       "        vertical-align: middle;\n",
       "    }\n",
       "\n",
       "    .dataframe tbody tr th {\n",
       "        vertical-align: top;\n",
       "    }\n",
       "\n",
       "    .dataframe thead th {\n",
       "        text-align: right;\n",
       "    }\n",
       "</style>\n",
       "<table border=\"1\" class=\"dataframe\">\n",
       "  <thead>\n",
       "    <tr style=\"text-align: right;\">\n",
       "      <th></th>\n",
       "      <th>Kvaliteta</th>\n",
       "    </tr>\n",
       "    <tr>\n",
       "      <th>Desetletje</th>\n",
       "      <th></th>\n",
       "    </tr>\n",
       "  </thead>\n",
       "  <tbody>\n",
       "    <tr>\n",
       "      <th>1920</th>\n",
       "      <td>217.00</td>\n",
       "    </tr>\n",
       "    <tr>\n",
       "      <th>1930</th>\n",
       "      <td>400.68</td>\n",
       "    </tr>\n",
       "    <tr>\n",
       "      <th>1940</th>\n",
       "      <td>339.67</td>\n",
       "    </tr>\n",
       "    <tr>\n",
       "      <th>1950</th>\n",
       "      <td>1241.12</td>\n",
       "    </tr>\n",
       "    <tr>\n",
       "      <th>1960</th>\n",
       "      <td>737.72</td>\n",
       "    </tr>\n",
       "    <tr>\n",
       "      <th>1970</th>\n",
       "      <td>124.00</td>\n",
       "    </tr>\n",
       "    <tr>\n",
       "      <th>1980</th>\n",
       "      <td>238.00</td>\n",
       "    </tr>\n",
       "    <tr>\n",
       "      <th>2000</th>\n",
       "      <td>132.60</td>\n",
       "    </tr>\n",
       "    <tr>\n",
       "      <th>2010</th>\n",
       "      <td>91.00</td>\n",
       "    </tr>\n",
       "    <tr>\n",
       "      <th>2020</th>\n",
       "      <td>96.00</td>\n",
       "    </tr>\n",
       "  </tbody>\n",
       "</table>\n",
       "</div>"
      ],
      "text/plain": [
       "            Kvaliteta\n",
       "Desetletje           \n",
       "1920           217.00\n",
       "1930           400.68\n",
       "1940           339.67\n",
       "1950          1241.12\n",
       "1960           737.72\n",
       "1970           124.00\n",
       "1980           238.00\n",
       "2000           132.60\n",
       "2010            91.00\n",
       "2020            96.00"
      ]
     },
     "execution_count": 103,
     "metadata": {},
     "output_type": "execute_result"
    }
   ],
   "source": [
    "izid_leto"
   ]
  },
  {
   "cell_type": "code",
   "execution_count": 104,
   "metadata": {},
   "outputs": [
    {
     "data": {
      "text/plain": [
       "<Axes: xlabel='Desetletje', ylabel='Točke'>"
      ]
     },
     "execution_count": 104,
     "metadata": {},
     "output_type": "execute_result"
    },
    {
     "data": {
      "image/png": "[encoded data removed]",
      "text/plain": [
       "<Figure size 640x480 with 1 Axes>"
      ]
     },
     "metadata": {},
     "output_type": "display_data"
    }
   ],
   "source": [
    "izid_leto.plot(ylabel='Točke')"
   ]
  },
  {
   "cell_type": "markdown",
   "metadata": {},
   "source": [
    "<p style=\"font-family:Verdana; font-size:12px\"><b>Sklep:</b></p> "
   ]
  },
  {
   "cell_type": "markdown",
   "metadata": {},
   "source": [
    "<h3 style=\"text-align:center\"><div style=\"font-size : 20px; font-style : Verdana; text-align : center\">Odvisnost dolžine knjige od leta izida</h3>"
   ]
  },
  {
   "cell_type": "code",
   "execution_count": 105,
   "metadata": {},
   "outputs": [],
   "source": [
    "leto_dolzina = po_desetletjih.agg(\n",
    "    **{\n",
    "'Dolžina': pd.NamedAgg(column='Dolžina', aggfunc='mean')\n",
    "    })"
   ]
  },
  {
   "cell_type": "code",
   "execution_count": 106,
   "metadata": {},
   "outputs": [],
   "source": [
    "leto_dolzina.drop(0, inplace=True)"
   ]
  },
  {
   "cell_type": "code",
   "execution_count": 107,
   "metadata": {},
   "outputs": [
    {
     "data": {
      "text/plain": [
       "<Axes: xlabel='Desetletje', ylabel='Povprečna dolžina knjig (strani)'>"
      ]
     },
     "execution_count": 107,
     "metadata": {},
     "output_type": "execute_result"
    },
    {
     "data": {
      "image/png": "[encoded data removed]",
      "text/plain": [
       "<Figure size 640x480 with 1 Axes>"
      ]
     },
     "metadata": {},
     "output_type": "display_data"
    }
   ],
   "source": [
    "leto_dolzina.plot(ylabel='Povprečna dolžina knjig (strani)')"
   ]
  },
  {
   "cell_type": "markdown",
   "metadata": {},
   "source": [
    "<p style=\"font-family:Verdana; font-size:12px\"><b>Sklep:</b></p> "
   ]
  },
  {
   "cell_type": "markdown",
   "metadata": {},
   "source": [
    "<h3 style=\"text-align:center\"><div style=\"font-size : 20px; font-style : Verdana; text-align : center\">Odvisnost kvalitete knjige od njene dolžine</div></h3>"
   ]
  },
  {
   "cell_type": "markdown",
   "metadata": {},
   "source": [
    "<p style=\"font-family:'Times New Roman', font-size:12px\"> Radi bi videli, ali so daljše knjige kvalitetnejše. Pogledali bomo, koliko točk povprečno prejme vsaka knjiga iz posameznega razreda, pri čemer en razred predstavljajo tiste knjige, katerih strani dajo pri deljenju s 50 isti celi del.</p>"
   ]
  },
  {
   "cell_type": "code",
   "execution_count": 108,
   "metadata": {},
   "outputs": [],
   "source": [
    "dolzina_kvaliteta = podatki[['Dolžina', 'Točke']]"
   ]
  },
  {
   "cell_type": "code",
   "execution_count": 109,
   "metadata": {},
   "outputs": [
    {
     "name": "stderr",
     "output_type": "stream",
     "text": [
      "C:\\Users\\Benjamin\\AppData\\Local\\Temp\\ipykernel_11372\\2990771249.py:1: SettingWithCopyWarning: \n",
      "A value is trying to be set on a copy of a slice from a DataFrame.\n",
      "Try using .loc[row_indexer,col_indexer] = value instead\n",
      "\n",
      "See the caveats in the documentation: https://pandas.pydata.org/pandas-docs/stable/user_guide/indexing.html#returning-a-view-versus-a-copy\n",
      "  dolzina_kvaliteta['Razred dolžine'] = (dolzina_kvaliteta['Dolžina']//50)*50\n"
     ]
    }
   ],
   "source": [
    "dolzina_kvaliteta['Razred dolžine'] = (dolzina_kvaliteta['Dolžina']//50)*50"
   ]
  },
  {
   "cell_type": "code",
   "execution_count": 110,
   "metadata": {},
   "outputs": [
    {
     "data": {
      "text/html": [
       "<div>\n",
       "<style scoped>\n",
       "    .dataframe tbody tr th:only-of-type {\n",
       "        vertical-align: middle;\n",
       "    }\n",
       "\n",
       "    .dataframe tbody tr th {\n",
       "        vertical-align: top;\n",
       "    }\n",
       "\n",
       "    .dataframe thead th {\n",
       "        text-align: right;\n",
       "    }\n",
       "</style>\n",
       "<table border=\"1\" class=\"dataframe\">\n",
       "  <thead>\n",
       "    <tr style=\"text-align: right;\">\n",
       "      <th></th>\n",
       "      <th>Dolžina</th>\n",
       "      <th>Točke</th>\n",
       "      <th>Razred dolžine</th>\n",
       "    </tr>\n",
       "    <tr>\n",
       "      <th>Naslov</th>\n",
       "      <th></th>\n",
       "      <th></th>\n",
       "      <th></th>\n",
       "    </tr>\n",
       "  </thead>\n",
       "  <tbody>\n",
       "    <tr>\n",
       "      <th>The Hobbit (The Lord of the Rings, #0)</th>\n",
       "      <td>366</td>\n",
       "      <td>5793</td>\n",
       "      <td>350</td>\n",
       "    </tr>\n",
       "    <tr>\n",
       "      <th>Lost Horizon</th>\n",
       "      <td>241</td>\n",
       "      <td>1276</td>\n",
       "      <td>200</td>\n",
       "    </tr>\n",
       "    <tr>\n",
       "      <th>At the Mountains of Madness</th>\n",
       "      <td>194</td>\n",
       "      <td>1185</td>\n",
       "      <td>150</td>\n",
       "    </tr>\n",
       "    <tr>\n",
       "      <th>Mary Poppins (Mary Poppins, #1)</th>\n",
       "      <td>209</td>\n",
       "      <td>1169</td>\n",
       "      <td>200</td>\n",
       "    </tr>\n",
       "    <tr>\n",
       "      <th>The Sword in the Stone (The Once and Future King, #1)</th>\n",
       "      <td>352</td>\n",
       "      <td>968</td>\n",
       "      <td>350</td>\n",
       "    </tr>\n",
       "    <tr>\n",
       "      <th>...</th>\n",
       "      <td>...</td>\n",
       "      <td>...</td>\n",
       "      <td>...</td>\n",
       "    </tr>\n",
       "    <tr>\n",
       "      <th>Duke Elric (Chronicles of the Last Emperor of Melniboné, #4)</th>\n",
       "      <td>368</td>\n",
       "      <td>90</td>\n",
       "      <td>350</td>\n",
       "    </tr>\n",
       "    <tr>\n",
       "      <th>Elric</th>\n",
       "      <td>416</td>\n",
       "      <td>89</td>\n",
       "      <td>400</td>\n",
       "    </tr>\n",
       "    <tr>\n",
       "      <th>Elric in the Dream Realms (Chronicles of the Last Emperor of Melniboné, #5)</th>\n",
       "      <td>448</td>\n",
       "      <td>88</td>\n",
       "      <td>400</td>\n",
       "    </tr>\n",
       "    <tr>\n",
       "      <th>Atlan (Atlan, #2)</th>\n",
       "      <td>334</td>\n",
       "      <td>70</td>\n",
       "      <td>300</td>\n",
       "    </tr>\n",
       "    <tr>\n",
       "      <th>Higglety Pigglety Pop! or There Must Be More to Life</th>\n",
       "      <td>69</td>\n",
       "      <td>61</td>\n",
       "      <td>50</td>\n",
       "    </tr>\n",
       "  </tbody>\n",
       "</table>\n",
       "<p>239 rows × 3 columns</p>\n",
       "</div>"
      ],
      "text/plain": [
       "                                                    Dolžina  Točke  \\\n",
       "Naslov                                                               \n",
       "The Hobbit (The Lord of the Rings, #0)                  366   5793   \n",
       "Lost Horizon                                            241   1276   \n",
       "At the Mountains of Madness                             194   1185   \n",
       "Mary Poppins (Mary Poppins, #1)                         209   1169   \n",
       "The Sword in the Stone (The Once and Future Kin...      352    968   \n",
       "...                                                     ...    ...   \n",
       "Duke Elric (Chronicles of the Last Emperor of M...      368     90   \n",
       "Elric                                                   416     89   \n",
       "Elric in the Dream Realms (Chronicles of the La...      448     88   \n",
       "Atlan (Atlan, #2)                                       334     70   \n",
       "Higglety Pigglety Pop! or There Must Be More to...       69     61   \n",
       "\n",
       "                                                    Razred dolžine  \n",
       "Naslov                                                              \n",
       "The Hobbit (The Lord of the Rings, #0)                         350  \n",
       "Lost Horizon                                                   200  \n",
       "At the Mountains of Madness                                    150  \n",
       "Mary Poppins (Mary Poppins, #1)                                200  \n",
       "The Sword in the Stone (The Once and Future Kin...             350  \n",
       "...                                                            ...  \n",
       "Duke Elric (Chronicles of the Last Emperor of M...             350  \n",
       "Elric                                                          400  \n",
       "Elric in the Dream Realms (Chronicles of the La...             400  \n",
       "Atlan (Atlan, #2)                                              300  \n",
       "Higglety Pigglety Pop! or There Must Be More to...              50  \n",
       "\n",
       "[239 rows x 3 columns]"
      ]
     },
     "execution_count": 110,
     "metadata": {},
     "output_type": "execute_result"
    }
   ],
   "source": [
    "dolzina_kvaliteta"
   ]
  },
  {
   "cell_type": "code",
   "execution_count": 111,
   "metadata": {},
   "outputs": [],
   "source": [
    "po_dolzini = dolzina_kvaliteta.groupby('Razred dolžine')"
   ]
  },
  {
   "cell_type": "code",
   "execution_count": 112,
   "metadata": {},
   "outputs": [],
   "source": [
    "dolzina_tocke = pd.DataFrame(po_dolzini['Točke'].mean())"
   ]
  },
  {
   "cell_type": "code",
   "execution_count": 113,
   "metadata": {},
   "outputs": [
    {
     "data": {
      "text/html": [
       "<div>\n",
       "<style scoped>\n",
       "    .dataframe tbody tr th:only-of-type {\n",
       "        vertical-align: middle;\n",
       "    }\n",
       "\n",
       "    .dataframe tbody tr th {\n",
       "        vertical-align: top;\n",
       "    }\n",
       "\n",
       "    .dataframe thead th {\n",
       "        text-align: right;\n",
       "    }\n",
       "</style>\n",
       "<table border=\"1\" class=\"dataframe\">\n",
       "  <thead>\n",
       "    <tr style=\"text-align: right;\">\n",
       "      <th></th>\n",
       "      <th>Točke</th>\n",
       "    </tr>\n",
       "    <tr>\n",
       "      <th>Razred dolžine</th>\n",
       "      <th></th>\n",
       "    </tr>\n",
       "  </thead>\n",
       "  <tbody>\n",
       "    <tr>\n",
       "      <th>0</th>\n",
       "      <td>433.409091</td>\n",
       "    </tr>\n",
       "    <tr>\n",
       "      <th>50</th>\n",
       "      <td>223.000000</td>\n",
       "    </tr>\n",
       "    <tr>\n",
       "      <th>100</th>\n",
       "      <td>344.875000</td>\n",
       "    </tr>\n",
       "    <tr>\n",
       "      <th>150</th>\n",
       "      <td>568.163636</td>\n",
       "    </tr>\n",
       "    <tr>\n",
       "      <th>200</th>\n",
       "      <td>911.625000</td>\n",
       "    </tr>\n",
       "    <tr>\n",
       "      <th>250</th>\n",
       "      <td>441.058824</td>\n",
       "    </tr>\n",
       "    <tr>\n",
       "      <th>300</th>\n",
       "      <td>682.687500</td>\n",
       "    </tr>\n",
       "    <tr>\n",
       "      <th>350</th>\n",
       "      <td>1302.384615</td>\n",
       "    </tr>\n",
       "    <tr>\n",
       "      <th>400</th>\n",
       "      <td>980.571429</td>\n",
       "    </tr>\n",
       "    <tr>\n",
       "      <th>450</th>\n",
       "      <td>120.000000</td>\n",
       "    </tr>\n",
       "    <tr>\n",
       "      <th>500</th>\n",
       "      <td>609.000000</td>\n",
       "    </tr>\n",
       "    <tr>\n",
       "      <th>550</th>\n",
       "      <td>382.000000</td>\n",
       "    </tr>\n",
       "    <tr>\n",
       "      <th>600</th>\n",
       "      <td>2101.000000</td>\n",
       "    </tr>\n",
       "    <tr>\n",
       "      <th>650</th>\n",
       "      <td>248.000000</td>\n",
       "    </tr>\n",
       "    <tr>\n",
       "      <th>750</th>\n",
       "      <td>1857.000000</td>\n",
       "    </tr>\n",
       "    <tr>\n",
       "      <th>1000</th>\n",
       "      <td>490.000000</td>\n",
       "    </tr>\n",
       "    <tr>\n",
       "      <th>1200</th>\n",
       "      <td>2456.000000</td>\n",
       "    </tr>\n",
       "  </tbody>\n",
       "</table>\n",
       "</div>"
      ],
      "text/plain": [
       "                      Točke\n",
       "Razred dolžine             \n",
       "0                433.409091\n",
       "50               223.000000\n",
       "100              344.875000\n",
       "150              568.163636\n",
       "200              911.625000\n",
       "250              441.058824\n",
       "300              682.687500\n",
       "350             1302.384615\n",
       "400              980.571429\n",
       "450              120.000000\n",
       "500              609.000000\n",
       "550              382.000000\n",
       "600             2101.000000\n",
       "650              248.000000\n",
       "750             1857.000000\n",
       "1000             490.000000\n",
       "1200            2456.000000"
      ]
     },
     "execution_count": 113,
     "metadata": {},
     "output_type": "execute_result"
    }
   ],
   "source": [
    "dolzina_tocke"
   ]
  },
  {
   "cell_type": "code",
   "execution_count": 114,
   "metadata": {},
   "outputs": [
    {
     "data": {
      "text/plain": [
       "<Axes: xlabel='Razred dolžine', ylabel='Točke'>"
      ]
     },
     "execution_count": 114,
     "metadata": {},
     "output_type": "execute_result"
    },
    {
     "data": {
      "image/png": "[encoded data removed]",
      "text/plain": [
       "<Figure size 640x480 with 1 Axes>"
      ]
     },
     "metadata": {},
     "output_type": "display_data"
    }
   ],
   "source": [
    "dolzina_tocke.plot(xlabel='Razred dolžine', ylabel='Točke')"
   ]
  },
  {
   "cell_type": "markdown",
   "metadata": {},
   "source": [
    "<p style=\"font-family:Verdana; font-size:12px\"><b>Sklep:</b></p> "
   ]
  },
  {
   "cell_type": "markdown",
   "metadata": {},
   "source": [
    "<h3 style=\"text-align:center\"><div style=\"font-size : 20px; font-style : Verdana; text-align : center\">Odvisnost števila bralcev knjige od njene dolžine</div></h3>"
   ]
  },
  {
   "cell_type": "code",
   "execution_count": 115,
   "metadata": {},
   "outputs": [],
   "source": [
    "novi_podatki = podatki"
   ]
  },
  {
   "cell_type": "code",
   "execution_count": 116,
   "metadata": {},
   "outputs": [
    {
     "name": "stderr",
     "output_type": "stream",
     "text": [
      "C:\\Users\\Benjamin\\AppData\\Local\\Temp\\ipykernel_11372\\514575360.py:1: SettingWithCopyWarning: \n",
      "A value is trying to be set on a copy of a slice from a DataFrame.\n",
      "Try using .loc[row_indexer,col_indexer] = value instead\n",
      "\n",
      "See the caveats in the documentation: https://pandas.pydata.org/pandas-docs/stable/user_guide/indexing.html#returning-a-view-versus-a-copy\n",
      "  novi_podatki['Razred dolžine'] = (novi_podatki['Dolžina']//50)*50\n"
     ]
    }
   ],
   "source": [
    "novi_podatki['Razred dolžine'] = (novi_podatki['Dolžina']//50)*50 "
   ]
  },
  {
   "cell_type": "code",
   "execution_count": 117,
   "metadata": {},
   "outputs": [],
   "source": [
    "dolzina_bralstvo_po_razredih = novi_podatki.groupby('Razred dolžine')"
   ]
  },
  {
   "cell_type": "code",
   "execution_count": 118,
   "metadata": {},
   "outputs": [],
   "source": [
    "po_bralcih = pd.DataFrame(dolzina_bralstvo_po_razredih['Število bralcev'].sum()) "
   ]
  },
  {
   "cell_type": "code",
   "execution_count": 119,
   "metadata": {},
   "outputs": [
    {
     "data": {
      "text/plain": [
       "<Axes: xlabel='Razred dolžine', ylabel='Skupno število bralcev'>"
      ]
     },
     "execution_count": 119,
     "metadata": {},
     "output_type": "execute_result"
    },
    {
     "data": {
      "image/png": "[encoded data removed]",
      "text/plain": [
       "<Figure size 640x480 with 1 Axes>"
      ]
     },
     "metadata": {},
     "output_type": "display_data"
    }
   ],
   "source": [
    "po_bralcih.plot(ylabel='Skupno število bralcev')"
   ]
  },
  {
   "cell_type": "markdown",
   "metadata": {},
   "source": [
    "<p style=\"font-family:Verdana; font-size:12px\"><b>Sklep:</b></p> "
   ]
  },
  {
   "cell_type": "markdown",
   "metadata": {},
   "source": [
    "<h2 style='text-align:center'> <div style=\"font-size : 30px; font-style : Verdana; text-align : center \"> Zlata leta fantazijskega žanra </div> </h2>"
   ]
  },
  {
   "cell_type": "markdown",
   "metadata": {},
   "source": [
    "<p style=\"font-family:'Times New Roman', font-size:12px\"> Za konec si poglejmo še, katera so bila tista \"zlata leta\" fantazijskega žanra, tj. v katerem desetletju so nastajali najboljši fantazijski romani. <br> To bomo ugotovili tako, da bomo pogledali razvrstitev desetletij po določenih kategorijah, jim vsakič pripisali neko število točk, na koncu pa točke sešteli in kot najboljše desetletje razglasili tisto desetletje, ki bo imelo največ točk.</p>"
   ]
  },
  {
   "cell_type": "code",
   "execution_count": 120,
   "metadata": {},
   "outputs": [],
   "source": [
    "analiza_po_desetletjih = po_desetletjih.agg(\n",
    "**{\n",
    "    'Število knjig' : pd.NamedAgg(column='Točke', aggfunc='size'),\n",
    "    'Kvaliteta' : pd.NamedAgg(column='Točke', aggfunc='mean'),\n",
    "    'Število bralcev' : pd.NamedAgg(column='Število bralcev', aggfunc='sum'),\n",
    "    'Število avtorjev' : pd.NamedAgg(column='Avtor', aggfunc=lambda x: len(x.unique()))\n",
    "    \n",
    "})"
   ]
  },
  {
   "cell_type": "code",
   "execution_count": 121,
   "metadata": {},
   "outputs": [],
   "source": [
    "analiza_po_desetletjih.drop(0, inplace=True)"
   ]
  },
  {
   "cell_type": "code",
   "execution_count": 122,
   "metadata": {},
   "outputs": [],
   "source": [
    "analiza_po_desetletjih['Kvaliteta'] = round(analiza_po_desetletjih['Kvaliteta'], 2)"
   ]
  },
  {
   "cell_type": "code",
   "execution_count": 123,
   "metadata": {},
   "outputs": [
    {
     "data": {
      "text/html": [
       "<div>\n",
       "<style scoped>\n",
       "    .dataframe tbody tr th:only-of-type {\n",
       "        vertical-align: middle;\n",
       "    }\n",
       "\n",
       "    .dataframe tbody tr th {\n",
       "        vertical-align: top;\n",
       "    }\n",
       "\n",
       "    .dataframe thead th {\n",
       "        text-align: right;\n",
       "    }\n",
       "</style>\n",
       "<table border=\"1\" class=\"dataframe\">\n",
       "  <thead>\n",
       "    <tr style=\"text-align: right;\">\n",
       "      <th></th>\n",
       "      <th>Število knjig</th>\n",
       "      <th>Kvaliteta</th>\n",
       "      <th>Število bralcev</th>\n",
       "      <th>Število avtorjev</th>\n",
       "    </tr>\n",
       "    <tr>\n",
       "      <th>Desetletje</th>\n",
       "      <th></th>\n",
       "      <th></th>\n",
       "      <th></th>\n",
       "      <th></th>\n",
       "    </tr>\n",
       "  </thead>\n",
       "  <tbody>\n",
       "    <tr>\n",
       "      <th>1920</th>\n",
       "      <td>2</td>\n",
       "      <td>217.00</td>\n",
       "      <td>2371</td>\n",
       "      <td>2</td>\n",
       "    </tr>\n",
       "    <tr>\n",
       "      <th>1930</th>\n",
       "      <td>50</td>\n",
       "      <td>400.68</td>\n",
       "      <td>4393747</td>\n",
       "      <td>20</td>\n",
       "    </tr>\n",
       "    <tr>\n",
       "      <th>1940</th>\n",
       "      <td>45</td>\n",
       "      <td>339.67</td>\n",
       "      <td>11118562</td>\n",
       "      <td>33</td>\n",
       "    </tr>\n",
       "    <tr>\n",
       "      <th>1950</th>\n",
       "      <td>51</td>\n",
       "      <td>1241.12</td>\n",
       "      <td>12308130</td>\n",
       "      <td>26</td>\n",
       "    </tr>\n",
       "    <tr>\n",
       "      <th>1960</th>\n",
       "      <td>67</td>\n",
       "      <td>737.72</td>\n",
       "      <td>5393066</td>\n",
       "      <td>37</td>\n",
       "    </tr>\n",
       "    <tr>\n",
       "      <th>1970</th>\n",
       "      <td>3</td>\n",
       "      <td>124.00</td>\n",
       "      <td>11040</td>\n",
       "      <td>2</td>\n",
       "    </tr>\n",
       "    <tr>\n",
       "      <th>1980</th>\n",
       "      <td>1</td>\n",
       "      <td>238.00</td>\n",
       "      <td>2263</td>\n",
       "      <td>1</td>\n",
       "    </tr>\n",
       "    <tr>\n",
       "      <th>2000</th>\n",
       "      <td>10</td>\n",
       "      <td>132.60</td>\n",
       "      <td>29629</td>\n",
       "      <td>3</td>\n",
       "    </tr>\n",
       "    <tr>\n",
       "      <th>2010</th>\n",
       "      <td>1</td>\n",
       "      <td>91.00</td>\n",
       "      <td>226</td>\n",
       "      <td>1</td>\n",
       "    </tr>\n",
       "    <tr>\n",
       "      <th>2020</th>\n",
       "      <td>1</td>\n",
       "      <td>96.00</td>\n",
       "      <td>623</td>\n",
       "      <td>1</td>\n",
       "    </tr>\n",
       "  </tbody>\n",
       "</table>\n",
       "</div>"
      ],
      "text/plain": [
       "            Število knjig  Kvaliteta  Število bralcev  Število avtorjev\n",
       "Desetletje                                                             \n",
       "1920                    2     217.00             2371                 2\n",
       "1930                   50     400.68          4393747                20\n",
       "1940                   45     339.67         11118562                33\n",
       "1950                   51    1241.12         12308130                26\n",
       "1960                   67     737.72          5393066                37\n",
       "1970                    3     124.00            11040                 2\n",
       "1980                    1     238.00             2263                 1\n",
       "2000                   10     132.60            29629                 3\n",
       "2010                    1      91.00              226                 1\n",
       "2020                    1      96.00              623                 1"
      ]
     },
     "execution_count": 123,
     "metadata": {},
     "output_type": "execute_result"
    }
   ],
   "source": [
    "analiza_po_desetletjih"
   ]
  },
  {
   "cell_type": "code",
   "execution_count": 124,
   "metadata": {},
   "outputs": [],
   "source": [
    "zlate_tocke = {\n",
    "    'Desetletje': [1900 + i*10 for i in range(2,13)],\n",
    "    'Delež':[],\n",
    "    'Kvaliteta':[],\n",
    "    'Število bralcev':[],\n",
    "    'Število avtorjev':[],\n",
    "}"
   ]
  },
  {
   "cell_type": "markdown",
   "metadata": {},
   "source": [
    "<h3 style=\"text-align:center\"><div style=\"font-size : 20px; font-style : Verdana; text-align : center\">Delež knjig, ki so izšle v posameznih desetletjih</div></h3>"
   ]
  },
  {
   "cell_type": "code",
   "execution_count": 125,
   "metadata": {},
   "outputs": [
    {
     "data": {
      "text/plain": [
       "<Axes: ylabel='Število knjig'>"
      ]
     },
     "execution_count": 125,
     "metadata": {},
     "output_type": "execute_result"
    },
    {
     "data": {
      "image/png": "[encoded data removed]",
      "text/plain": [
       "<Figure size 2000x2000 with 1 Axes>"
      ]
     },
     "metadata": {},
     "output_type": "display_data"
    }
   ],
   "source": [
    "analiza_po_desetletjih['Število knjig'].plot(kind='pie', figsize=(20, 20), fontsize=20, ylabel=None)"
   ]
  },
  {
   "cell_type": "code",
   "execution_count": 126,
   "metadata": {},
   "outputs": [],
   "source": [
    "analiza_st_knjig = pd.DataFrame(analiza_po_desetletjih['Število knjig'])"
   ]
  },
  {
   "cell_type": "code",
   "execution_count": 127,
   "metadata": {},
   "outputs": [
    {
     "data": {
      "text/html": [
       "<div>\n",
       "<style scoped>\n",
       "    .dataframe tbody tr th:only-of-type {\n",
       "        vertical-align: middle;\n",
       "    }\n",
       "\n",
       "    .dataframe tbody tr th {\n",
       "        vertical-align: top;\n",
       "    }\n",
       "\n",
       "    .dataframe thead th {\n",
       "        text-align: right;\n",
       "    }\n",
       "</style>\n",
       "<table border=\"1\" class=\"dataframe\">\n",
       "  <thead>\n",
       "    <tr style=\"text-align: right;\">\n",
       "      <th></th>\n",
       "      <th>Število knjig</th>\n",
       "    </tr>\n",
       "    <tr>\n",
       "      <th>Desetletje</th>\n",
       "      <th></th>\n",
       "    </tr>\n",
       "  </thead>\n",
       "  <tbody>\n",
       "    <tr>\n",
       "      <th>1920</th>\n",
       "      <td>2</td>\n",
       "    </tr>\n",
       "    <tr>\n",
       "      <th>1930</th>\n",
       "      <td>50</td>\n",
       "    </tr>\n",
       "    <tr>\n",
       "      <th>1940</th>\n",
       "      <td>45</td>\n",
       "    </tr>\n",
       "    <tr>\n",
       "      <th>1950</th>\n",
       "      <td>51</td>\n",
       "    </tr>\n",
       "    <tr>\n",
       "      <th>1960</th>\n",
       "      <td>67</td>\n",
       "    </tr>\n",
       "    <tr>\n",
       "      <th>1970</th>\n",
       "      <td>3</td>\n",
       "    </tr>\n",
       "    <tr>\n",
       "      <th>1980</th>\n",
       "      <td>1</td>\n",
       "    </tr>\n",
       "    <tr>\n",
       "      <th>2000</th>\n",
       "      <td>10</td>\n",
       "    </tr>\n",
       "    <tr>\n",
       "      <th>2010</th>\n",
       "      <td>1</td>\n",
       "    </tr>\n",
       "    <tr>\n",
       "      <th>2020</th>\n",
       "      <td>1</td>\n",
       "    </tr>\n",
       "  </tbody>\n",
       "</table>\n",
       "</div>"
      ],
      "text/plain": [
       "            Število knjig\n",
       "Desetletje               \n",
       "1920                    2\n",
       "1930                   50\n",
       "1940                   45\n",
       "1950                   51\n",
       "1960                   67\n",
       "1970                    3\n",
       "1980                    1\n",
       "2000                   10\n",
       "2010                    1\n",
       "2020                    1"
      ]
     },
     "execution_count": 127,
     "metadata": {},
     "output_type": "execute_result"
    }
   ],
   "source": [
    "analiza_st_knjig"
   ]
  },
  {
   "cell_type": "code",
   "execution_count": 128,
   "metadata": {},
   "outputs": [
    {
     "data": {
      "text/plain": [
       "{'Desetletje': [1920,\n",
       "  1930,\n",
       "  1940,\n",
       "  1950,\n",
       "  1960,\n",
       "  1970,\n",
       "  1980,\n",
       "  1990,\n",
       "  2000,\n",
       "  2010,\n",
       "  2020],\n",
       " 'Delež': [],\n",
       " 'Kvaliteta': [],\n",
       " 'Število bralcev': [],\n",
       " 'Število avtorjev': []}"
      ]
     },
     "execution_count": 128,
     "metadata": {},
     "output_type": "execute_result"
    }
   ],
   "source": [
    "zlate_tocke"
   ]
  },
  {
   "cell_type": "code",
   "execution_count": 129,
   "metadata": {},
   "outputs": [
    {
     "name": "stdout",
     "output_type": "stream",
     "text": [
      "<class 'pandas.core.indexes.base.Index'>\n",
      "[1920, 1930, 1940, 1950, 1960, 1970, 1980, 2000, 2010, 2020]\n",
      "A\n",
      "1920\n",
      "B\n",
      "A\n",
      "1930\n",
      "B\n",
      "A\n",
      "1940\n",
      "B\n",
      "A\n",
      "1950\n",
      "B\n",
      "A\n",
      "1960\n",
      "B\n",
      "A\n",
      "1970\n",
      "B\n",
      "A\n",
      "1980\n",
      "B\n",
      "A\n",
      "1990\n",
      "B\n",
      "A\n",
      "2000\n",
      "B\n",
      "A\n",
      "2010\n",
      "B\n",
      "A\n",
      "2020\n",
      "B\n",
      "C\n",
      "[[2, 1920], [50, 1930], [45, 1940], [51, 1950], [67, 1960], [3, 1970], [1, 1980], [10, 2000], [1, 2010], [1, 2020]]\n",
      "[[1, 1980], [1, 2010], [1, 2020], [2, 1920], [3, 1970], [10, 2000], [45, 1940], [50, 1930], [51, 1950], [67, 1960]]\n",
      "('D', 0)\n",
      "('D', 1)\n",
      "('D', 2)\n",
      "('D', 3)\n",
      "('D', 4)\n",
      "('D', 5)\n",
      "('D', 6)\n",
      "('D', 7)\n",
      "('D', 8)\n",
      "('D', 9)\n",
      "[[1980, 0], [2010, 1], [2020, 2], [1920, 3], [1970, 4], [2000, 5], [1940, 6], [1930, 7], [1950, 8], [1960, 9]]\n",
      "E\n",
      "[[1920, 3], [1930, 7], [1940, 6], [1950, 8], [1960, 9], [1970, 4], [1980, 0], [2000, 5], [2010, 1], [2020, 2]]\n",
      "F\n",
      "G\n",
      "[3, 7, 6, 8, 9, 4, 0, 5, 1, 2]\n"
     ]
    }
   ],
   "source": [
    "zlate_tocke['Delež'] = mesto_v_tabeli(analiza_st_knjig, 'Število knjig')"
   ]
  },
  {
   "cell_type": "code",
   "execution_count": 130,
   "metadata": {},
   "outputs": [
    {
     "name": "stdout",
     "output_type": "stream",
     "text": [
      "<class 'pandas.core.indexes.base.Index'>\n",
      "[1920, 1930, 1940, 1950, 1960, 1970, 1980, 2000, 2010, 2020]\n",
      "A\n",
      "1920\n",
      "B\n",
      "A\n",
      "1930\n",
      "B\n",
      "A\n",
      "1940\n",
      "B\n",
      "A\n",
      "1950\n",
      "B\n",
      "A\n",
      "1960\n",
      "B\n",
      "A\n",
      "1970\n",
      "B\n",
      "A\n",
      "1980\n",
      "B\n",
      "A\n",
      "1990\n",
      "B\n",
      "A\n",
      "2000\n",
      "B\n",
      "A\n",
      "2010\n",
      "B\n",
      "A\n",
      "2020\n",
      "B\n",
      "C\n",
      "[[2, 1920], [50, 1930], [45, 1940], [51, 1950], [67, 1960], [3, 1970], [1, 1980], [10, 2000], [1, 2010], [1, 2020]]\n",
      "[[1, 1980], [1, 2010], [1, 2020], [2, 1920], [3, 1970], [10, 2000], [45, 1940], [50, 1930], [51, 1950], [67, 1960]]\n",
      "('D', 0)\n",
      "('D', 1)\n",
      "('D', 2)\n",
      "('D', 3)\n",
      "('D', 4)\n",
      "('D', 5)\n",
      "('D', 6)\n",
      "('D', 7)\n",
      "('D', 8)\n",
      "('D', 9)\n",
      "[[1980, 0], [2010, 1], [2020, 2], [1920, 3], [1970, 4], [2000, 5], [1940, 6], [1930, 7], [1950, 8], [1960, 9]]\n",
      "E\n",
      "[[1920, 3], [1930, 7], [1940, 6], [1950, 8], [1960, 9], [1970, 4], [1980, 0], [2000, 5], [2010, 1], [2020, 2]]\n",
      "F\n",
      "G\n",
      "[3, 7, 6, 8, 9, 4, 0, 5, 1, 2]\n",
      "[3, 7, 6, 8, 9, 4, 0, 5, 1, 2]\n"
     ]
    }
   ],
   "source": [
    "print(mesto_v_tabeli(analiza_st_knjig, 'Število knjig'))"
   ]
  },
  {
   "cell_type": "code",
   "execution_count": 131,
   "metadata": {},
   "outputs": [
    {
     "data": {
      "text/plain": [
       "{'Desetletje': [1920,\n",
       "  1930,\n",
       "  1940,\n",
       "  1950,\n",
       "  1960,\n",
       "  1970,\n",
       "  1980,\n",
       "  1990,\n",
       "  2000,\n",
       "  2010,\n",
       "  2020],\n",
       " 'Delež': [3, 7, 6, 8, 9, 4, 0, 5, 1, 2],\n",
       " 'Kvaliteta': [],\n",
       " 'Število bralcev': [],\n",
       " 'Število avtorjev': []}"
      ]
     },
     "execution_count": 131,
     "metadata": {},
     "output_type": "execute_result"
    }
   ],
   "source": [
    "zlate_tocke"
   ]
  },
  {
   "cell_type": "markdown",
   "metadata": {},
   "source": [
    "<h3 style=\"text-align:center\"><div style=\"font-size : 20px; font-style : Verdana; text-align : center\">Kvaliteta knjig</div></h3>"
   ]
  },
  {
   "cell_type": "code",
   "execution_count": 132,
   "metadata": {},
   "outputs": [
    {
     "data": {
      "text/plain": [
       "<Axes: xlabel='Desetletje', ylabel='Povprečno število točk'>"
      ]
     },
     "execution_count": 132,
     "metadata": {},
     "output_type": "execute_result"
    },
    {
     "data": {
      "image/png": "[encoded data removed]",
      "text/plain": [
       "<Figure size 640x480 with 1 Axes>"
      ]
     },
     "metadata": {},
     "output_type": "display_data"
    }
   ],
   "source": [
    "analiza_po_desetletjih['Kvaliteta'].plot(kind='bar', ylabel='Povprečno število točk')"
   ]
  },
  {
   "cell_type": "markdown",
   "metadata": {},
   "source": [
    "<h3 style=\"text-align:center\"><div style=\"font-size : 20px; font-style : Verdana; text-align : center\">Število bralcev</div></h3>"
   ]
  },
  {
   "cell_type": "code",
   "execution_count": 133,
   "metadata": {},
   "outputs": [
    {
     "data": {
      "text/plain": [
       "<Axes: xlabel='Desetletje', ylabel='Število bralcev'>"
      ]
     },
     "execution_count": 133,
     "metadata": {},
     "output_type": "execute_result"
    },
    {
     "data": {
      "image/png": "[encoded data removed]",
      "text/plain": [
       "<Figure size 640x480 with 1 Axes>"
      ]
     },
     "metadata": {},
     "output_type": "display_data"
    }
   ],
   "source": [
    "analiza_po_desetletjih['Število bralcev'].plot(kind='bar', ylabel='Število bralcev')"
   ]
  },
  {
   "cell_type": "markdown",
   "metadata": {},
   "source": [
    "<h3 style=\"text-align:center\"><div style=\"font-size : 20px; font-style : Verdana; text-align : center\">Število piscev fantazijskih romanov</div></h3>"
   ]
  },
  {
   "cell_type": "code",
   "execution_count": 134,
   "metadata": {},
   "outputs": [
    {
     "data": {
      "text/plain": [
       "<Axes: xlabel='Desetletje', ylabel='Število ustvarjalcev v obdobju'>"
      ]
     },
     "execution_count": 134,
     "metadata": {},
     "output_type": "execute_result"
    },
    {
     "data": {
      "image/png": "[encoded data removed]",
      "text/plain": [
       "<Figure size 640x480 with 1 Axes>"
      ]
     },
     "metadata": {},
     "output_type": "display_data"
    }
   ],
   "source": [
    "analiza_po_desetletjih['Število avtorjev'].plot(kind='bar', ylabel='Število ustvarjalcev v obdobju')"
   ]
  },
  {
   "cell_type": "markdown",
   "metadata": {},
   "source": [
    "<p style=\"font-family:Verdana; font-size:12px\"><b>Sklep:</b></p> "
   ]
  },
  {
   "cell_type": "markdown",
   "metadata": {},
   "source": [
    "<h2 style='text-align:center'> <div style=\"font-size : 30px; font-style : Verdana; text-align : center \"> Zaključki </div> </h2>"
   ]
  },
  {
   "cell_type": "code",
   "execution_count": null,
   "metadata": {},
   "outputs": [],
   "source": []
  }
 ],
 "metadata": {
  "kernelspec": {
   "display_name": "Python 3 (ipykernel)",
   "language": "python",
   "name": "python3"
  },
  "language_info": {
   "codemirror_mode": {
    "name": "ipython",
    "version": 3
   },
   "file_extension": ".py",
   "mimetype": "text/x-python",
   "name": "python",
   "nbconvert_exporter": "python",
   "pygments_lexer": "ipython3",
   "version": "3.11.2"
  }
 },
 "nbformat": 4,
 "nbformat_minor": 2
}
