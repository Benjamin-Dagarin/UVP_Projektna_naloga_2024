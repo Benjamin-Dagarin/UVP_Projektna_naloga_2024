{
 "cells": [
  {
   "cell_type": "markdown",
   "metadata": {},
   "source": [
    "<h1 style=\"text-align:center;font-size:50px;font-family:'Copperplate';\">Analiza fantazijskih knjig</h1>"
   ]
  },
  {
   "cell_type": "markdown",
   "metadata": {},
   "source": [
    "<h2 style=\"text-align:center;font-family:Verdana;font-size:40px;margin-bottom:1cm;\"> Priprava </h2>"
   ]
  },
  {
   "cell_type": "code",
   "execution_count": 98,
   "metadata": {},
   "outputs": [],
   "source": [
    "import pandas as pd\n",
    "import zlato_desetletje as zld"
   ]
  },
  {
   "cell_type": "code",
   "execution_count": 99,
   "metadata": {},
   "outputs": [],
   "source": [
    "podatki = pd.read_csv(\"C:\\\\Users\\\\Benjamin\\\\Desktop\\\\Šola\\\\FMF\\\\UVP\\\\UVP_Projektna_naloga_2024\\\\podatki_fantazijske_knjige.csv\", index_col='Naslov')"
   ]
  },
  {
   "cell_type": "code",
   "execution_count": 100,
   "metadata": {},
   "outputs": [],
   "source": [
    "podatki.fillna(0, inplace=True)"
   ]
  },
  {
   "cell_type": "code",
   "execution_count": 101,
   "metadata": {},
   "outputs": [],
   "source": [
    "# Sprememba decimalnih števil, ki bi morala biti cela, v cela števila.\n",
    "podatki['Dolžina'] = podatki['Dolžina'].astype(int, errors='ignore')\n",
    "podatki['Leto izida'] = podatki['Leto izida'].astype(int, errors='ignore')\n",
    "podatki['Število bralcev'] = podatki['Število bralcev'].astype(int, errors='ignore')"
   ]
  },
  {
   "cell_type": "code",
   "execution_count": 102,
   "metadata": {},
   "outputs": [],
   "source": [
    "podatki['Desetletje'] = (podatki['Leto izida']//10)*10"
   ]
  },
  {
   "cell_type": "code",
   "execution_count": 103,
   "metadata": {},
   "outputs": [],
   "source": [
    "podatki = podatki[['Avtor', 'Leto izida', 'Desetletje', 'Dolžina', 'Točke', 'Ocena', 'Število bralcev']]"
   ]
  },
  {
   "cell_type": "code",
   "execution_count": 104,
   "metadata": {},
   "outputs": [],
   "source": [
    "podatki.reset_index(inplace=True)"
   ]
  },
  {
   "cell_type": "code",
   "execution_count": 105,
   "metadata": {},
   "outputs": [],
   "source": [
    "podatki.drop_duplicates(subset='Naslov', keep='first', inplace=True)"
   ]
  },
  {
   "cell_type": "code",
   "execution_count": 106,
   "metadata": {},
   "outputs": [],
   "source": [
    "# Izključitev knjige \"Harry Potter and the Phylosopher's Stone\", saj je upoštevana \"Harry Potter and the Sorcerer's Stone\"\n",
    "# z istimi vrednostmi atributov\n",
    "podatki.drop(895, inplace=True)"
   ]
  },
  {
   "cell_type": "code",
   "execution_count": 107,
   "metadata": {},
   "outputs": [],
   "source": [
    "podatki.set_index('Naslov', inplace=True)"
   ]
  },
  {
   "cell_type": "code",
   "execution_count": 108,
   "metadata": {},
   "outputs": [
    {
     "data": {
      "text/html": [
       "<div>\n",
       "<style scoped>\n",
       "    .dataframe tbody tr th:only-of-type {\n",
       "        vertical-align: middle;\n",
       "    }\n",
       "\n",
       "    .dataframe tbody tr th {\n",
       "        vertical-align: top;\n",
       "    }\n",
       "\n",
       "    .dataframe thead th {\n",
       "        text-align: right;\n",
       "    }\n",
       "</style>\n",
       "<table border=\"1\" class=\"dataframe\">\n",
       "  <thead>\n",
       "    <tr style=\"text-align: right;\">\n",
       "      <th></th>\n",
       "      <th>Avtor</th>\n",
       "      <th>Leto izida</th>\n",
       "      <th>Desetletje</th>\n",
       "      <th>Dolžina</th>\n",
       "      <th>Točke</th>\n",
       "      <th>Ocena</th>\n",
       "      <th>Število bralcev</th>\n",
       "    </tr>\n",
       "    <tr>\n",
       "      <th>Naslov</th>\n",
       "      <th></th>\n",
       "      <th></th>\n",
       "      <th></th>\n",
       "      <th></th>\n",
       "      <th></th>\n",
       "      <th></th>\n",
       "      <th></th>\n",
       "    </tr>\n",
       "  </thead>\n",
       "  <tbody>\n",
       "    <tr>\n",
       "      <th>The Hobbit (The Lord of the Rings, #0)</th>\n",
       "      <td>J.R.R. Tolkien</td>\n",
       "      <td>1937</td>\n",
       "      <td>1930</td>\n",
       "      <td>366</td>\n",
       "      <td>5793</td>\n",
       "      <td>4.29</td>\n",
       "      <td>4067050</td>\n",
       "    </tr>\n",
       "    <tr>\n",
       "      <th>Lost Horizon</th>\n",
       "      <td>James Hilton</td>\n",
       "      <td>1933</td>\n",
       "      <td>1930</td>\n",
       "      <td>241</td>\n",
       "      <td>1276</td>\n",
       "      <td>3.95</td>\n",
       "      <td>22940</td>\n",
       "    </tr>\n",
       "    <tr>\n",
       "      <th>At the Mountains of Madness</th>\n",
       "      <td>H.P. Lovecraft</td>\n",
       "      <td>1931</td>\n",
       "      <td>1930</td>\n",
       "      <td>194</td>\n",
       "      <td>1185</td>\n",
       "      <td>3.81</td>\n",
       "      <td>55059</td>\n",
       "    </tr>\n",
       "    <tr>\n",
       "      <th>Mary Poppins (Mary Poppins, #1)</th>\n",
       "      <td>P.L. Travers</td>\n",
       "      <td>1934</td>\n",
       "      <td>1930</td>\n",
       "      <td>209</td>\n",
       "      <td>1169</td>\n",
       "      <td>4.01</td>\n",
       "      <td>134801</td>\n",
       "    </tr>\n",
       "    <tr>\n",
       "      <th>The Sword in the Stone (The Once and Future King, #1)</th>\n",
       "      <td>T.H. White</td>\n",
       "      <td>1938</td>\n",
       "      <td>1930</td>\n",
       "      <td>352</td>\n",
       "      <td>968</td>\n",
       "      <td>3.89</td>\n",
       "      <td>26897</td>\n",
       "    </tr>\n",
       "    <tr>\n",
       "      <th>...</th>\n",
       "      <td>...</td>\n",
       "      <td>...</td>\n",
       "      <td>...</td>\n",
       "      <td>...</td>\n",
       "      <td>...</td>\n",
       "      <td>...</td>\n",
       "      <td>...</td>\n",
       "    </tr>\n",
       "    <tr>\n",
       "      <th>The Wizard of Eventide (The Goddess War, 3)</th>\n",
       "      <td>Kelley Skovron</td>\n",
       "      <td>2022</td>\n",
       "      <td>2020</td>\n",
       "      <td>400</td>\n",
       "      <td>18</td>\n",
       "      <td>4.14</td>\n",
       "      <td>78</td>\n",
       "    </tr>\n",
       "    <tr>\n",
       "      <th>The Fury of the Gods (The Bloodsworn Saga, #3)</th>\n",
       "      <td>John Gwynne</td>\n",
       "      <td>2024</td>\n",
       "      <td>2020</td>\n",
       "      <td>528</td>\n",
       "      <td>15</td>\n",
       "      <td>4.47</td>\n",
       "      <td>106</td>\n",
       "    </tr>\n",
       "    <tr>\n",
       "      <th>Age of Ash (Kithamar, #1)</th>\n",
       "      <td>Daniel Abraham</td>\n",
       "      <td>2022</td>\n",
       "      <td>2020</td>\n",
       "      <td>448</td>\n",
       "      <td>14</td>\n",
       "      <td>3.68</td>\n",
       "      <td>3424</td>\n",
       "    </tr>\n",
       "    <tr>\n",
       "      <th>The Castle of Tangled Magic</th>\n",
       "      <td>Sophie   Anderson</td>\n",
       "      <td>2020</td>\n",
       "      <td>2020</td>\n",
       "      <td>416</td>\n",
       "      <td>13</td>\n",
       "      <td>4.02</td>\n",
       "      <td>2038</td>\n",
       "    </tr>\n",
       "    <tr>\n",
       "      <th>Blade of Dream (Kithamar, #2)</th>\n",
       "      <td>Daniel Abraham</td>\n",
       "      <td>2023</td>\n",
       "      <td>2020</td>\n",
       "      <td>464</td>\n",
       "      <td>13</td>\n",
       "      <td>4.30</td>\n",
       "      <td>939</td>\n",
       "    </tr>\n",
       "  </tbody>\n",
       "</table>\n",
       "<p>3537 rows × 7 columns</p>\n",
       "</div>"
      ],
      "text/plain": [
       "                                                                Avtor  \\\n",
       "Naslov                                                                  \n",
       "The Hobbit (The Lord of the Rings, #0)                 J.R.R. Tolkien   \n",
       "Lost Horizon                                             James Hilton   \n",
       "At the Mountains of Madness                            H.P. Lovecraft   \n",
       "Mary Poppins (Mary Poppins, #1)                          P.L. Travers   \n",
       "The Sword in the Stone (The Once and Future Kin...         T.H. White   \n",
       "...                                                               ...   \n",
       "The Wizard of Eventide (The Goddess War, 3)            Kelley Skovron   \n",
       "The Fury of the Gods (The Bloodsworn Saga, #3)            John Gwynne   \n",
       "Age of Ash (Kithamar, #1)                              Daniel Abraham   \n",
       "The Castle of Tangled Magic                         Sophie   Anderson   \n",
       "Blade of Dream (Kithamar, #2)                          Daniel Abraham   \n",
       "\n",
       "                                                    Leto izida  Desetletje  \\\n",
       "Naslov                                                                       \n",
       "The Hobbit (The Lord of the Rings, #0)                    1937        1930   \n",
       "Lost Horizon                                              1933        1930   \n",
       "At the Mountains of Madness                               1931        1930   \n",
       "Mary Poppins (Mary Poppins, #1)                           1934        1930   \n",
       "The Sword in the Stone (The Once and Future Kin...        1938        1930   \n",
       "...                                                        ...         ...   \n",
       "The Wizard of Eventide (The Goddess War, 3)               2022        2020   \n",
       "The Fury of the Gods (The Bloodsworn Saga, #3)            2024        2020   \n",
       "Age of Ash (Kithamar, #1)                                 2022        2020   \n",
       "The Castle of Tangled Magic                               2020        2020   \n",
       "Blade of Dream (Kithamar, #2)                             2023        2020   \n",
       "\n",
       "                                                    Dolžina  Točke  Ocena  \\\n",
       "Naslov                                                                      \n",
       "The Hobbit (The Lord of the Rings, #0)                  366   5793   4.29   \n",
       "Lost Horizon                                            241   1276   3.95   \n",
       "At the Mountains of Madness                             194   1185   3.81   \n",
       "Mary Poppins (Mary Poppins, #1)                         209   1169   4.01   \n",
       "The Sword in the Stone (The Once and Future Kin...      352    968   3.89   \n",
       "...                                                     ...    ...    ...   \n",
       "The Wizard of Eventide (The Goddess War, 3)             400     18   4.14   \n",
       "The Fury of the Gods (The Bloodsworn Saga, #3)          528     15   4.47   \n",
       "Age of Ash (Kithamar, #1)                               448     14   3.68   \n",
       "The Castle of Tangled Magic                             416     13   4.02   \n",
       "Blade of Dream (Kithamar, #2)                           464     13   4.30   \n",
       "\n",
       "                                                    Število bralcev  \n",
       "Naslov                                                               \n",
       "The Hobbit (The Lord of the Rings, #0)                      4067050  \n",
       "Lost Horizon                                                  22940  \n",
       "At the Mountains of Madness                                   55059  \n",
       "Mary Poppins (Mary Poppins, #1)                              134801  \n",
       "The Sword in the Stone (The Once and Future Kin...            26897  \n",
       "...                                                             ...  \n",
       "The Wizard of Eventide (The Goddess War, 3)                      78  \n",
       "The Fury of the Gods (The Bloodsworn Saga, #3)                  106  \n",
       "Age of Ash (Kithamar, #1)                                      3424  \n",
       "The Castle of Tangled Magic                                    2038  \n",
       "Blade of Dream (Kithamar, #2)                                   939  \n",
       "\n",
       "[3537 rows x 7 columns]"
      ]
     },
     "execution_count": 108,
     "metadata": {},
     "output_type": "execute_result"
    }
   ],
   "source": [
    "podatki"
   ]
  },
  {
   "cell_type": "code",
   "execution_count": 109,
   "metadata": {},
   "outputs": [],
   "source": [
    "po_desetletjih = podatki.groupby('Desetletje')"
   ]
  },
  {
   "cell_type": "markdown",
   "metadata": {},
   "source": [
    "<h2 style=\"text-align:center;font-family:Verdana;font-size:40px;margin-bottom:1cm;\"> Lestvice najboljših </h2>"
   ]
  },
  {
   "cell_type": "markdown",
   "metadata": {},
   "source": [
    "<p style=\"font-family:'Times New Roman';font-size:20px;\"> Najprej si poglejmo najboljših 10 predstavnikov iz vsake kategorije. Z rezultati si bo lahko vsak ljubitelj fantazijskega žanra pomagal pri odločitvi, katere knjige oz. avtorje se najbolj splača brati.</p>"
   ]
  },
  {
   "cell_type": "markdown",
   "metadata": {},
   "source": [
    "<h3 style=\"text-align:center;font-family:Garamond;font-size:30px;\"> Najkvalitetnejše knjige </h3>"
   ]
  },
  {
   "cell_type": "markdown",
   "metadata": {},
   "source": [
    "<p style=\"font-family:'Times New Roman';font-size:20px;margin-bottom:0.5cm;\"> Poizvedimo najprej, katere knjige so najkvalitetnejše. Kot merilo kvalitete vzemimo št. točk oz. t. i. \"score\", kakor je navedeno na spletni strani. Točke upoštevajo št. bralcev, ki je ocenilo knjigo, ter povprečno oceno, ki so ji jo prisodili.</p>"
   ]
  },
  {
   "cell_type": "code",
   "execution_count": 110,
   "metadata": {},
   "outputs": [],
   "source": [
    "naj_knjige_po_tockah = pd.DataFrame(podatki['Točke'].sort_values(ascending=False))"
   ]
  },
  {
   "cell_type": "code",
   "execution_count": 111,
   "metadata": {},
   "outputs": [],
   "source": [
    "naj_knjige_po_tockah.reset_index(inplace=True)"
   ]
  },
  {
   "cell_type": "code",
   "execution_count": 112,
   "metadata": {},
   "outputs": [],
   "source": [
    "naj_knjige_po_tockah.index += 1"
   ]
  },
  {
   "cell_type": "code",
   "execution_count": 113,
   "metadata": {},
   "outputs": [
    {
     "data": {
      "text/html": [
       "<div>\n",
       "<style scoped>\n",
       "    .dataframe tbody tr th:only-of-type {\n",
       "        vertical-align: middle;\n",
       "    }\n",
       "\n",
       "    .dataframe tbody tr th {\n",
       "        vertical-align: top;\n",
       "    }\n",
       "\n",
       "    .dataframe thead th {\n",
       "        text-align: right;\n",
       "    }\n",
       "</style>\n",
       "<table border=\"1\" class=\"dataframe\">\n",
       "  <thead>\n",
       "    <tr style=\"text-align: right;\">\n",
       "      <th></th>\n",
       "      <th>Naslov</th>\n",
       "      <th>Točke</th>\n",
       "    </tr>\n",
       "  </thead>\n",
       "  <tbody>\n",
       "    <tr>\n",
       "      <th>1</th>\n",
       "      <td>The Way of Kings (The Stormlight Archive, #1)</td>\n",
       "      <td>66172</td>\n",
       "    </tr>\n",
       "    <tr>\n",
       "      <th>2</th>\n",
       "      <td>Words of Radiance (The Stormlight Archive, #2)</td>\n",
       "      <td>51565</td>\n",
       "    </tr>\n",
       "    <tr>\n",
       "      <th>3</th>\n",
       "      <td>The Wise Man’s Fear (The Kingkiller Chronicle,...</td>\n",
       "      <td>43622</td>\n",
       "    </tr>\n",
       "    <tr>\n",
       "      <th>4</th>\n",
       "      <td>Harry Potter and the Sorcerer's Stone (Harry P...</td>\n",
       "      <td>25663</td>\n",
       "    </tr>\n",
       "    <tr>\n",
       "      <th>5</th>\n",
       "      <td>A Game of Thrones (A Song of Ice and Fire, #1)</td>\n",
       "      <td>24076</td>\n",
       "    </tr>\n",
       "    <tr>\n",
       "      <th>6</th>\n",
       "      <td>The Eye of the World (The Wheel of Time, #1)</td>\n",
       "      <td>21596</td>\n",
       "    </tr>\n",
       "    <tr>\n",
       "      <th>7</th>\n",
       "      <td>The Name of the Wind (The Kingkiller Chronicle...</td>\n",
       "      <td>20124</td>\n",
       "    </tr>\n",
       "    <tr>\n",
       "      <th>8</th>\n",
       "      <td>The Final Empire (Mistborn #1)</td>\n",
       "      <td>17752</td>\n",
       "    </tr>\n",
       "    <tr>\n",
       "      <th>9</th>\n",
       "      <td>Red Rising (Red Rising Saga, #1)</td>\n",
       "      <td>16497</td>\n",
       "    </tr>\n",
       "    <tr>\n",
       "      <th>10</th>\n",
       "      <td>Harry Potter and the Deathly Hallows (Harry Po...</td>\n",
       "      <td>16296</td>\n",
       "    </tr>\n",
       "  </tbody>\n",
       "</table>\n",
       "</div>"
      ],
      "text/plain": [
       "                                               Naslov  Točke\n",
       "1       The Way of Kings (The Stormlight Archive, #1)  66172\n",
       "2      Words of Radiance (The Stormlight Archive, #2)  51565\n",
       "3   The Wise Man’s Fear (The Kingkiller Chronicle,...  43622\n",
       "4   Harry Potter and the Sorcerer's Stone (Harry P...  25663\n",
       "5      A Game of Thrones (A Song of Ice and Fire, #1)  24076\n",
       "6        The Eye of the World (The Wheel of Time, #1)  21596\n",
       "7   The Name of the Wind (The Kingkiller Chronicle...  20124\n",
       "8                      The Final Empire (Mistborn #1)  17752\n",
       "9                    Red Rising (Red Rising Saga, #1)  16497\n",
       "10  Harry Potter and the Deathly Hallows (Harry Po...  16296"
      ]
     },
     "execution_count": 113,
     "metadata": {},
     "output_type": "execute_result"
    }
   ],
   "source": [
    "naj_knjige_po_tockah.head(10)"
   ]
  },
  {
   "cell_type": "markdown",
   "metadata": {},
   "source": [
    "<h3 style=\"text-align:center;font-family:Vedrana;font-size:30px;\"> Najkvalitetnejši avtorji </h3>"
   ]
  },
  {
   "cell_type": "markdown",
   "metadata": {},
   "source": [
    "<p style=\"font-family:'Times New Roman';font-size:20px;margin-bottom:0.5cm;\"> Sedaj analizirajmo avtorje po kvaliteti knjig, ki so jih napisali. Kot merilo zopet vzemimo število točk, le da tokrat avtorju pripišimo povprečje točk njegovih knjig.</p>"
   ]
  },
  {
   "cell_type": "code",
   "execution_count": 114,
   "metadata": {},
   "outputs": [],
   "source": [
    "po_avtorjih = podatki.groupby('Avtor')"
   ]
  },
  {
   "cell_type": "code",
   "execution_count": 115,
   "metadata": {},
   "outputs": [],
   "source": [
    "naj_avtorji_po_tockah = (pd.DataFrame(po_avtorjih['Točke'].mean())).sort_values(by='Točke',ascending=False)"
   ]
  },
  {
   "cell_type": "code",
   "execution_count": 116,
   "metadata": {},
   "outputs": [],
   "source": [
    "naj_avtorji_po_tockah['Točke'] = round(naj_avtorji_po_tockah['Točke'], 2)"
   ]
  },
  {
   "cell_type": "code",
   "execution_count": 117,
   "metadata": {},
   "outputs": [],
   "source": [
    "naj_avtorji_po_tockah.reset_index(inplace=True)"
   ]
  },
  {
   "cell_type": "code",
   "execution_count": 118,
   "metadata": {},
   "outputs": [],
   "source": [
    "naj_avtorji_po_tockah.index += 1"
   ]
  },
  {
   "cell_type": "code",
   "execution_count": 119,
   "metadata": {},
   "outputs": [
    {
     "data": {
      "text/html": [
       "<div>\n",
       "<style scoped>\n",
       "    .dataframe tbody tr th:only-of-type {\n",
       "        vertical-align: middle;\n",
       "    }\n",
       "\n",
       "    .dataframe tbody tr th {\n",
       "        vertical-align: top;\n",
       "    }\n",
       "\n",
       "    .dataframe thead th {\n",
       "        text-align: right;\n",
       "    }\n",
       "</style>\n",
       "<table border=\"1\" class=\"dataframe\">\n",
       "  <thead>\n",
       "    <tr style=\"text-align: right;\">\n",
       "      <th></th>\n",
       "      <th>Avtor</th>\n",
       "      <th>Točke</th>\n",
       "    </tr>\n",
       "  </thead>\n",
       "  <tbody>\n",
       "    <tr>\n",
       "      <th>1</th>\n",
       "      <td>Patrick Rothfuss</td>\n",
       "      <td>21508.67</td>\n",
       "    </tr>\n",
       "    <tr>\n",
       "      <th>2</th>\n",
       "      <td>Brandon Sanderson</td>\n",
       "      <td>8929.54</td>\n",
       "    </tr>\n",
       "    <tr>\n",
       "      <th>3</th>\n",
       "      <td>Scott Lynch</td>\n",
       "      <td>8780.50</td>\n",
       "    </tr>\n",
       "    <tr>\n",
       "      <th>4</th>\n",
       "      <td>J.K. Rowling</td>\n",
       "      <td>8421.50</td>\n",
       "    </tr>\n",
       "    <tr>\n",
       "      <th>5</th>\n",
       "      <td>Robert Jordan</td>\n",
       "      <td>6818.79</td>\n",
       "    </tr>\n",
       "    <tr>\n",
       "      <th>6</th>\n",
       "      <td>Pierce Brown</td>\n",
       "      <td>6769.25</td>\n",
       "    </tr>\n",
       "    <tr>\n",
       "      <th>7</th>\n",
       "      <td>Neil Gaiman</td>\n",
       "      <td>6574.14</td>\n",
       "    </tr>\n",
       "    <tr>\n",
       "      <th>8</th>\n",
       "      <td>William Goldman</td>\n",
       "      <td>6363.00</td>\n",
       "    </tr>\n",
       "    <tr>\n",
       "      <th>9</th>\n",
       "      <td>Erin Morgenstern</td>\n",
       "      <td>5810.00</td>\n",
       "    </tr>\n",
       "    <tr>\n",
       "      <th>10</th>\n",
       "      <td>Terry Goodkind</td>\n",
       "      <td>5705.00</td>\n",
       "    </tr>\n",
       "  </tbody>\n",
       "</table>\n",
       "</div>"
      ],
      "text/plain": [
       "                Avtor     Točke\n",
       "1    Patrick Rothfuss  21508.67\n",
       "2   Brandon Sanderson   8929.54\n",
       "3         Scott Lynch   8780.50\n",
       "4        J.K. Rowling   8421.50\n",
       "5       Robert Jordan   6818.79\n",
       "6        Pierce Brown   6769.25\n",
       "7         Neil Gaiman   6574.14\n",
       "8     William Goldman   6363.00\n",
       "9    Erin Morgenstern   5810.00\n",
       "10     Terry Goodkind   5705.00"
      ]
     },
     "execution_count": 119,
     "metadata": {},
     "output_type": "execute_result"
    }
   ],
   "source": [
    "naj_avtorji_po_tockah.head(10)"
   ]
  },
  {
   "cell_type": "markdown",
   "metadata": {},
   "source": [
    "<h3 style=\"text-align:center;font-family:Garamond;font-size:30px;\"> Najbolj brane knjige </h3>"
   ]
  },
  {
   "cell_type": "markdown",
   "metadata": {},
   "source": [
    "<p style=\"font-family:'Times New Roman'; font-size:20px;margin-bottom:0.5cm;\"> Kot zanimivost si poglejmo še, katere so najbolj brane knjige in najbolj brani avtorji ter rezultata primerjajmo z zgornjima. Kot kriterij sem vzel število ljudi, ki je ocenilo knjigo na spletni strani, saj dejanskega števila ljudi, ki so prebrali knjigo, ni mogoče zares ugotoviti.</p>"
   ]
  },
  {
   "cell_type": "code",
   "execution_count": 120,
   "metadata": {},
   "outputs": [],
   "source": [
    "naj_knjige_po_bralcih = podatki.sort_values(by='Število bralcev', ascending=False)"
   ]
  },
  {
   "cell_type": "code",
   "execution_count": 121,
   "metadata": {},
   "outputs": [],
   "source": [
    "naj_knjige_po_bralcih = pd.DataFrame(naj_knjige_po_bralcih['Število bralcev'])"
   ]
  },
  {
   "cell_type": "code",
   "execution_count": 122,
   "metadata": {},
   "outputs": [],
   "source": [
    "naj_knjige_po_bralcih.reset_index(inplace=True)"
   ]
  },
  {
   "cell_type": "code",
   "execution_count": 123,
   "metadata": {},
   "outputs": [],
   "source": [
    "naj_knjige_po_bralcih.index += 1"
   ]
  },
  {
   "cell_type": "code",
   "execution_count": 124,
   "metadata": {},
   "outputs": [
    {
     "data": {
      "text/html": [
       "<div>\n",
       "<style scoped>\n",
       "    .dataframe tbody tr th:only-of-type {\n",
       "        vertical-align: middle;\n",
       "    }\n",
       "\n",
       "    .dataframe tbody tr th {\n",
       "        vertical-align: top;\n",
       "    }\n",
       "\n",
       "    .dataframe thead th {\n",
       "        text-align: right;\n",
       "    }\n",
       "</style>\n",
       "<table border=\"1\" class=\"dataframe\">\n",
       "  <thead>\n",
       "    <tr style=\"text-align: right;\">\n",
       "      <th></th>\n",
       "      <th>Naslov</th>\n",
       "      <th>Število bralcev</th>\n",
       "    </tr>\n",
       "  </thead>\n",
       "  <tbody>\n",
       "    <tr>\n",
       "      <th>1</th>\n",
       "      <td>Harry Potter and the Sorcerer's Stone (Harry P...</td>\n",
       "      <td>10271334</td>\n",
       "    </tr>\n",
       "    <tr>\n",
       "      <th>2</th>\n",
       "      <td>Harry Potter and the Philosopher’s Stone (Harr...</td>\n",
       "      <td>10271334</td>\n",
       "    </tr>\n",
       "    <tr>\n",
       "      <th>3</th>\n",
       "      <td>The Hunger Games (The Hunger Games, #1)</td>\n",
       "      <td>8859007</td>\n",
       "    </tr>\n",
       "    <tr>\n",
       "      <th>4</th>\n",
       "      <td>Twilight (The Twilight Saga, #1)</td>\n",
       "      <td>6698056</td>\n",
       "    </tr>\n",
       "    <tr>\n",
       "      <th>5</th>\n",
       "      <td>Harry Potter and the Prisoner of Azkaban (Harr...</td>\n",
       "      <td>4291784</td>\n",
       "    </tr>\n",
       "    <tr>\n",
       "      <th>6</th>\n",
       "      <td>The Hobbit (The Lord of the Rings, #0)</td>\n",
       "      <td>4067050</td>\n",
       "    </tr>\n",
       "    <tr>\n",
       "      <th>7</th>\n",
       "      <td>Divergent (Divergent, #1)</td>\n",
       "      <td>4049910</td>\n",
       "    </tr>\n",
       "    <tr>\n",
       "      <th>8</th>\n",
       "      <td>Harry Potter and the Chamber of Secrets (Harry...</td>\n",
       "      <td>4017607</td>\n",
       "    </tr>\n",
       "    <tr>\n",
       "      <th>9</th>\n",
       "      <td>Animal Farm</td>\n",
       "      <td>3978536</td>\n",
       "    </tr>\n",
       "    <tr>\n",
       "      <th>10</th>\n",
       "      <td>Harry Potter and the Deathly Hallows (Harry Po...</td>\n",
       "      <td>3777239</td>\n",
       "    </tr>\n",
       "  </tbody>\n",
       "</table>\n",
       "</div>"
      ],
      "text/plain": [
       "                                               Naslov  Število bralcev\n",
       "1   Harry Potter and the Sorcerer's Stone (Harry P...         10271334\n",
       "2   Harry Potter and the Philosopher’s Stone (Harr...         10271334\n",
       "3             The Hunger Games (The Hunger Games, #1)          8859007\n",
       "4                    Twilight (The Twilight Saga, #1)          6698056\n",
       "5   Harry Potter and the Prisoner of Azkaban (Harr...          4291784\n",
       "6              The Hobbit (The Lord of the Rings, #0)          4067050\n",
       "7                           Divergent (Divergent, #1)          4049910\n",
       "8   Harry Potter and the Chamber of Secrets (Harry...          4017607\n",
       "9                                         Animal Farm          3978536\n",
       "10  Harry Potter and the Deathly Hallows (Harry Po...          3777239"
      ]
     },
     "execution_count": 124,
     "metadata": {},
     "output_type": "execute_result"
    }
   ],
   "source": [
    "naj_knjige_po_bralcih.head(10)"
   ]
  },
  {
   "cell_type": "markdown",
   "metadata": {},
   "source": [
    "<h3 style=\"text-align:center;font-family:Garamond;font-size:30px;\"> Najbolj brani avtorji </h3>"
   ]
  },
  {
   "cell_type": "markdown",
   "metadata": {},
   "source": [
    "<p style=\"font-family:'Times New Roman';font-size:20px;margin-bottom:0.5cm;\"> Še po avtorjih </p>"
   ]
  },
  {
   "cell_type": "code",
   "execution_count": 125,
   "metadata": {},
   "outputs": [],
   "source": [
    "naj_avtorji_po_bralcih = (pd.DataFrame(po_avtorjih['Število bralcev'].mean())).sort_values(by='Število bralcev', ascending=False)"
   ]
  },
  {
   "cell_type": "code",
   "execution_count": 126,
   "metadata": {},
   "outputs": [],
   "source": [
    "naj_avtorji_po_bralcih.reset_index(inplace=True)"
   ]
  },
  {
   "cell_type": "code",
   "execution_count": 127,
   "metadata": {},
   "outputs": [],
   "source": [
    "naj_avtorji_po_bralcih.index += 1"
   ]
  },
  {
   "cell_type": "code",
   "execution_count": 128,
   "metadata": {},
   "outputs": [
    {
     "data": {
      "text/html": [
       "<div>\n",
       "<style scoped>\n",
       "    .dataframe tbody tr th:only-of-type {\n",
       "        vertical-align: middle;\n",
       "    }\n",
       "\n",
       "    .dataframe tbody tr th {\n",
       "        vertical-align: top;\n",
       "    }\n",
       "\n",
       "    .dataframe thead th {\n",
       "        text-align: right;\n",
       "    }\n",
       "</style>\n",
       "<table border=\"1\" class=\"dataframe\">\n",
       "  <thead>\n",
       "    <tr style=\"text-align: right;\">\n",
       "      <th></th>\n",
       "      <th>Avtor</th>\n",
       "      <th>Število bralcev</th>\n",
       "    </tr>\n",
       "  </thead>\n",
       "  <tbody>\n",
       "    <tr>\n",
       "      <th>1</th>\n",
       "      <td>George Orwell</td>\n",
       "      <td>3.978536e+06</td>\n",
       "    </tr>\n",
       "    <tr>\n",
       "      <th>2</th>\n",
       "      <td>J.K. Rowling</td>\n",
       "      <td>3.734169e+06</td>\n",
       "    </tr>\n",
       "    <tr>\n",
       "      <th>3</th>\n",
       "      <td>Suzanne Collins</td>\n",
       "      <td>3.218892e+06</td>\n",
       "    </tr>\n",
       "    <tr>\n",
       "      <th>4</th>\n",
       "      <td>Alice Sebold</td>\n",
       "      <td>2.376406e+06</td>\n",
       "    </tr>\n",
       "    <tr>\n",
       "      <th>5</th>\n",
       "      <td>Stephenie Meyer</td>\n",
       "      <td>2.246038e+06</td>\n",
       "    </tr>\n",
       "    <tr>\n",
       "      <th>6</th>\n",
       "      <td>Veronica Roth</td>\n",
       "      <td>2.214468e+06</td>\n",
       "    </tr>\n",
       "    <tr>\n",
       "      <th>7</th>\n",
       "      <td>Antoine de Saint-Exupéry</td>\n",
       "      <td>2.158323e+06</td>\n",
       "    </tr>\n",
       "    <tr>\n",
       "      <th>8</th>\n",
       "      <td>Rebecca Yarros</td>\n",
       "      <td>1.845910e+06</td>\n",
       "    </tr>\n",
       "    <tr>\n",
       "      <th>9</th>\n",
       "      <td>Audrey Niffenegger</td>\n",
       "      <td>1.800145e+06</td>\n",
       "    </tr>\n",
       "    <tr>\n",
       "      <th>10</th>\n",
       "      <td>Yann Martel</td>\n",
       "      <td>1.646466e+06</td>\n",
       "    </tr>\n",
       "  </tbody>\n",
       "</table>\n",
       "</div>"
      ],
      "text/plain": [
       "                       Avtor  Število bralcev\n",
       "1              George Orwell     3.978536e+06\n",
       "2               J.K. Rowling     3.734169e+06\n",
       "3            Suzanne Collins     3.218892e+06\n",
       "4               Alice Sebold     2.376406e+06\n",
       "5            Stephenie Meyer     2.246038e+06\n",
       "6              Veronica Roth     2.214468e+06\n",
       "7   Antoine de Saint-Exupéry     2.158323e+06\n",
       "8             Rebecca Yarros     1.845910e+06\n",
       "9         Audrey Niffenegger     1.800145e+06\n",
       "10               Yann Martel     1.646466e+06"
      ]
     },
     "execution_count": 128,
     "metadata": {},
     "output_type": "execute_result"
    }
   ],
   "source": [
    "naj_avtorji_po_bralcih.head(10)"
   ]
  },
  {
   "cell_type": "markdown",
   "metadata": {},
   "source": [
    "<h3 style=\"text-align:center;font-family:Garamond;font-size:30px;\"> Sklepi </h3>"
   ]
  },
  {
   "cell_type": "markdown",
   "metadata": {},
   "source": [
    "<p style=\"font-family:'Times New Roman';font-size:20px;margin-bottom:1cm;\"> Nek tekst </p>"
   ]
  },
  {
   "cell_type": "markdown",
   "metadata": {},
   "source": [
    "<h2 style=\"text-align:center;font-family:Verdana;font-size:40px;margin-bottom:1cm;\"> Analiza trendov</h2>"
   ]
  },
  {
   "cell_type": "markdown",
   "metadata": {},
   "source": [
    "<p style=\"font-family:'Times New Roman';font-size:20px;margin-bottom:0.5cm;\"> Zanima nas tudi podrobnejše dogajanje v fantazijskem žanru.<br> Kot bralci bi se lahko vprašali, kako se tekom let in desetletij spreminjajo kvaliteta, dolžina in branost književnih del. Prav tako bi vsekakor želeli vedeti, ali so daljše knjige tudi kvalitetnejše ter ali ljudje raje berejo daljše ali krajše knjige.<br> Iz rezultatov analize bomo poskusili napovedati trende na tem področju v prihodnosti.</p>"
   ]
  },
  {
   "cell_type": "markdown",
   "metadata": {},
   "source": [
    "<h3 style=\"text-align:center;font-family:Garamond;font-size:30px;\"> Odvisnost kvalitete knjige od leta izida </h3>"
   ]
  },
  {
   "cell_type": "markdown",
   "metadata": {},
   "source": [
    "<p style=\"font-family:'Times New Roman';font-size:20px;margin-bottom:0.5cm;\"> Oglejmo si, kako se je spreminjala kvaliteta knjig v odvisnosti od desetletja izida. Pri tem glejmo samo knjige z znanim letom izida, ki so izšle leta 1920 ali kasneje. </p>"
   ]
  },
  {
   "cell_type": "code",
   "execution_count": 129,
   "metadata": {},
   "outputs": [],
   "source": [
    "izid_leto = po_desetletjih.agg(\n",
    "**{\n",
    "    'Kvaliteta': pd.NamedAgg(column='Točke', aggfunc='mean')\n",
    "})"
   ]
  },
  {
   "cell_type": "code",
   "execution_count": 130,
   "metadata": {},
   "outputs": [],
   "source": [
    "izid_leto.drop([0, 1840, 1890], axis='index', inplace=True)"
   ]
  },
  {
   "cell_type": "code",
   "execution_count": 131,
   "metadata": {},
   "outputs": [],
   "source": [
    "izid_leto['Kvaliteta'] = round(izid_leto['Kvaliteta'], 2)"
   ]
  },
  {
   "cell_type": "code",
   "execution_count": 132,
   "metadata": {},
   "outputs": [
    {
     "data": {
      "text/html": [
       "<div>\n",
       "<style scoped>\n",
       "    .dataframe tbody tr th:only-of-type {\n",
       "        vertical-align: middle;\n",
       "    }\n",
       "\n",
       "    .dataframe tbody tr th {\n",
       "        vertical-align: top;\n",
       "    }\n",
       "\n",
       "    .dataframe thead th {\n",
       "        text-align: right;\n",
       "    }\n",
       "</style>\n",
       "<table border=\"1\" class=\"dataframe\">\n",
       "  <thead>\n",
       "    <tr style=\"text-align: right;\">\n",
       "      <th></th>\n",
       "      <th>Kvaliteta</th>\n",
       "    </tr>\n",
       "    <tr>\n",
       "      <th>Desetletje</th>\n",
       "      <th></th>\n",
       "    </tr>\n",
       "  </thead>\n",
       "  <tbody>\n",
       "    <tr>\n",
       "      <th>1920</th>\n",
       "      <td>217.00</td>\n",
       "    </tr>\n",
       "    <tr>\n",
       "      <th>1930</th>\n",
       "      <td>404.39</td>\n",
       "    </tr>\n",
       "    <tr>\n",
       "      <th>1940</th>\n",
       "      <td>353.73</td>\n",
       "    </tr>\n",
       "    <tr>\n",
       "      <th>1950</th>\n",
       "      <td>1241.12</td>\n",
       "    </tr>\n",
       "    <tr>\n",
       "      <th>1960</th>\n",
       "      <td>787.73</td>\n",
       "    </tr>\n",
       "    <tr>\n",
       "      <th>1970</th>\n",
       "      <td>1087.31</td>\n",
       "    </tr>\n",
       "    <tr>\n",
       "      <th>1980</th>\n",
       "      <td>1229.12</td>\n",
       "    </tr>\n",
       "    <tr>\n",
       "      <th>1990</th>\n",
       "      <td>1172.40</td>\n",
       "    </tr>\n",
       "    <tr>\n",
       "      <th>2000</th>\n",
       "      <td>665.62</td>\n",
       "    </tr>\n",
       "    <tr>\n",
       "      <th>2010</th>\n",
       "      <td>561.29</td>\n",
       "    </tr>\n",
       "    <tr>\n",
       "      <th>2020</th>\n",
       "      <td>304.04</td>\n",
       "    </tr>\n",
       "  </tbody>\n",
       "</table>\n",
       "</div>"
      ],
      "text/plain": [
       "            Kvaliteta\n",
       "Desetletje           \n",
       "1920           217.00\n",
       "1930           404.39\n",
       "1940           353.73\n",
       "1950          1241.12\n",
       "1960           787.73\n",
       "1970          1087.31\n",
       "1980          1229.12\n",
       "1990          1172.40\n",
       "2000           665.62\n",
       "2010           561.29\n",
       "2020           304.04"
      ]
     },
     "execution_count": 132,
     "metadata": {},
     "output_type": "execute_result"
    }
   ],
   "source": [
    "izid_leto"
   ]
  },
  {
   "cell_type": "code",
   "execution_count": 133,
   "metadata": {},
   "outputs": [
    {
     "data": {
      "text/plain": [
       "<Axes: xlabel='Desetletje', ylabel='Točke'>"
      ]
     },
     "execution_count": 133,
     "metadata": {},
     "output_type": "execute_result"
    },
    {
     "data": {
      "image/png": "[encoded data removed]",
      "text/plain": [
       "<Figure size 640x480 with 1 Axes>"
      ]
     },
     "metadata": {},
     "output_type": "display_data"
    }
   ],
   "source": [
    "izid_leto.plot(ylabel='Točke')"
   ]
  },
  {
   "cell_type": "markdown",
   "metadata": {},
   "source": [
    "<h3 style=\"text-align:center;font-family:Garamond;font-size:30px;margin-bottom:0.5cm;\"> Odvisnost dolžine knjige od leta izida </h3>"
   ]
  },
  {
   "cell_type": "code",
   "execution_count": 134,
   "metadata": {},
   "outputs": [],
   "source": [
    "leto_dolzina = po_desetletjih.agg(\n",
    "    **{\n",
    "'Dolžina': pd.NamedAgg(column='Dolžina', aggfunc='mean')\n",
    "    })"
   ]
  },
  {
   "cell_type": "code",
   "execution_count": 136,
   "metadata": {},
   "outputs": [],
   "source": [
    "leto_dolzina.drop([0, 1840, 1890], inplace=True)"
   ]
  },
  {
   "cell_type": "code",
   "execution_count": 137,
   "metadata": {},
   "outputs": [
    {
     "data": {
      "text/html": [
       "<div>\n",
       "<style scoped>\n",
       "    .dataframe tbody tr th:only-of-type {\n",
       "        vertical-align: middle;\n",
       "    }\n",
       "\n",
       "    .dataframe tbody tr th {\n",
       "        vertical-align: top;\n",
       "    }\n",
       "\n",
       "    .dataframe thead th {\n",
       "        text-align: right;\n",
       "    }\n",
       "</style>\n",
       "<table border=\"1\" class=\"dataframe\">\n",
       "  <thead>\n",
       "    <tr style=\"text-align: right;\">\n",
       "      <th></th>\n",
       "      <th>Dolžina</th>\n",
       "    </tr>\n",
       "    <tr>\n",
       "      <th>Desetletje</th>\n",
       "      <th></th>\n",
       "    </tr>\n",
       "  </thead>\n",
       "  <tbody>\n",
       "    <tr>\n",
       "      <th>1920</th>\n",
       "      <td>294.000000</td>\n",
       "    </tr>\n",
       "    <tr>\n",
       "      <th>1930</th>\n",
       "      <td>186.843137</td>\n",
       "    </tr>\n",
       "    <tr>\n",
       "      <th>1940</th>\n",
       "      <td>238.333333</td>\n",
       "    </tr>\n",
       "    <tr>\n",
       "      <th>1950</th>\n",
       "      <td>264.431373</td>\n",
       "    </tr>\n",
       "    <tr>\n",
       "      <th>1960</th>\n",
       "      <td>223.808219</td>\n",
       "    </tr>\n",
       "    <tr>\n",
       "      <th>1970</th>\n",
       "      <td>281.138686</td>\n",
       "    </tr>\n",
       "    <tr>\n",
       "      <th>1980</th>\n",
       "      <td>336.572755</td>\n",
       "    </tr>\n",
       "    <tr>\n",
       "      <th>1990</th>\n",
       "      <td>418.138587</td>\n",
       "    </tr>\n",
       "    <tr>\n",
       "      <th>2000</th>\n",
       "      <td>433.270085</td>\n",
       "    </tr>\n",
       "    <tr>\n",
       "      <th>2010</th>\n",
       "      <td>393.850814</td>\n",
       "    </tr>\n",
       "    <tr>\n",
       "      <th>2020</th>\n",
       "      <td>404.607558</td>\n",
       "    </tr>\n",
       "  </tbody>\n",
       "</table>\n",
       "</div>"
      ],
      "text/plain": [
       "               Dolžina\n",
       "Desetletje            \n",
       "1920        294.000000\n",
       "1930        186.843137\n",
       "1940        238.333333\n",
       "1950        264.431373\n",
       "1960        223.808219\n",
       "1970        281.138686\n",
       "1980        336.572755\n",
       "1990        418.138587\n",
       "2000        433.270085\n",
       "2010        393.850814\n",
       "2020        404.607558"
      ]
     },
     "execution_count": 137,
     "metadata": {},
     "output_type": "execute_result"
    }
   ],
   "source": [
    "leto_dolzina"
   ]
  },
  {
   "cell_type": "code",
   "execution_count": 138,
   "metadata": {},
   "outputs": [
    {
     "data": {
      "text/plain": [
       "<Axes: xlabel='Desetletje', ylabel='Povprečna dolžina knjig (strani)'>"
      ]
     },
     "execution_count": 138,
     "metadata": {},
     "output_type": "execute_result"
    },
    {
     "data": {
      "image/png": "[encoded data removed]",
      "text/plain": [
       "<Figure size 640x480 with 1 Axes>"
      ]
     },
     "metadata": {},
     "output_type": "display_data"
    }
   ],
   "source": [
    "leto_dolzina.plot(ylabel='Povprečna dolžina knjig (strani)')"
   ]
  },
  {
   "cell_type": "markdown",
   "metadata": {},
   "source": [
    "<h3 style=\"text-align:center;font-family:Garamond;font-size:30px;\"> Odvisnost kvalitete od dolžine </h3>"
   ]
  },
  {
   "cell_type": "markdown",
   "metadata": {},
   "source": [
    "<p style=\"font-family:'Times New Roman';font-size:20px;margin-bottom:0.5cm\"> Radi bi videli, ali so daljše knjige kvalitetnejše. Pogledali bomo, koliko točk povprečno prejme vsaka knjiga iz posameznega razreda, pri čemer en razred predstavljajo vse tiste knjige, katerih števila strani dajo pri deljenju s 50 isti celi del.</p>"
   ]
  },
  {
   "cell_type": "code",
   "execution_count": 139,
   "metadata": {},
   "outputs": [],
   "source": [
    "dolzina_kvaliteta = podatki[['Dolžina', 'Točke']]"
   ]
  },
  {
   "cell_type": "code",
   "execution_count": 140,
   "metadata": {},
   "outputs": [],
   "source": [
    "dolzina_kvaliteta['Razred dolžine'] = (dolzina_kvaliteta['Dolžina']//50)*50"
   ]
  },
  {
   "cell_type": "code",
   "execution_count": 141,
   "metadata": {},
   "outputs": [
    {
     "data": {
      "text/html": [
       "<div>\n",
       "<style scoped>\n",
       "    .dataframe tbody tr th:only-of-type {\n",
       "        vertical-align: middle;\n",
       "    }\n",
       "\n",
       "    .dataframe tbody tr th {\n",
       "        vertical-align: top;\n",
       "    }\n",
       "\n",
       "    .dataframe thead th {\n",
       "        text-align: right;\n",
       "    }\n",
       "</style>\n",
       "<table border=\"1\" class=\"dataframe\">\n",
       "  <thead>\n",
       "    <tr style=\"text-align: right;\">\n",
       "      <th></th>\n",
       "      <th>Dolžina</th>\n",
       "      <th>Točke</th>\n",
       "      <th>Razred dolžine</th>\n",
       "    </tr>\n",
       "    <tr>\n",
       "      <th>Naslov</th>\n",
       "      <th></th>\n",
       "      <th></th>\n",
       "      <th></th>\n",
       "    </tr>\n",
       "  </thead>\n",
       "  <tbody>\n",
       "    <tr>\n",
       "      <th>The Hobbit (The Lord of the Rings, #0)</th>\n",
       "      <td>366</td>\n",
       "      <td>5793</td>\n",
       "      <td>350</td>\n",
       "    </tr>\n",
       "    <tr>\n",
       "      <th>Lost Horizon</th>\n",
       "      <td>241</td>\n",
       "      <td>1276</td>\n",
       "      <td>200</td>\n",
       "    </tr>\n",
       "    <tr>\n",
       "      <th>At the Mountains of Madness</th>\n",
       "      <td>194</td>\n",
       "      <td>1185</td>\n",
       "      <td>150</td>\n",
       "    </tr>\n",
       "    <tr>\n",
       "      <th>Mary Poppins (Mary Poppins, #1)</th>\n",
       "      <td>209</td>\n",
       "      <td>1169</td>\n",
       "      <td>200</td>\n",
       "    </tr>\n",
       "    <tr>\n",
       "      <th>The Sword in the Stone (The Once and Future King, #1)</th>\n",
       "      <td>352</td>\n",
       "      <td>968</td>\n",
       "      <td>350</td>\n",
       "    </tr>\n",
       "    <tr>\n",
       "      <th>...</th>\n",
       "      <td>...</td>\n",
       "      <td>...</td>\n",
       "      <td>...</td>\n",
       "    </tr>\n",
       "    <tr>\n",
       "      <th>The Wizard of Eventide (The Goddess War, 3)</th>\n",
       "      <td>400</td>\n",
       "      <td>18</td>\n",
       "      <td>400</td>\n",
       "    </tr>\n",
       "    <tr>\n",
       "      <th>The Fury of the Gods (The Bloodsworn Saga, #3)</th>\n",
       "      <td>528</td>\n",
       "      <td>15</td>\n",
       "      <td>500</td>\n",
       "    </tr>\n",
       "    <tr>\n",
       "      <th>Age of Ash (Kithamar, #1)</th>\n",
       "      <td>448</td>\n",
       "      <td>14</td>\n",
       "      <td>400</td>\n",
       "    </tr>\n",
       "    <tr>\n",
       "      <th>The Castle of Tangled Magic</th>\n",
       "      <td>416</td>\n",
       "      <td>13</td>\n",
       "      <td>400</td>\n",
       "    </tr>\n",
       "    <tr>\n",
       "      <th>Blade of Dream (Kithamar, #2)</th>\n",
       "      <td>464</td>\n",
       "      <td>13</td>\n",
       "      <td>450</td>\n",
       "    </tr>\n",
       "  </tbody>\n",
       "</table>\n",
       "<p>3537 rows × 3 columns</p>\n",
       "</div>"
      ],
      "text/plain": [
       "                                                    Dolžina  Točke  \\\n",
       "Naslov                                                               \n",
       "The Hobbit (The Lord of the Rings, #0)                  366   5793   \n",
       "Lost Horizon                                            241   1276   \n",
       "At the Mountains of Madness                             194   1185   \n",
       "Mary Poppins (Mary Poppins, #1)                         209   1169   \n",
       "The Sword in the Stone (The Once and Future Kin...      352    968   \n",
       "...                                                     ...    ...   \n",
       "The Wizard of Eventide (The Goddess War, 3)             400     18   \n",
       "The Fury of the Gods (The Bloodsworn Saga, #3)          528     15   \n",
       "Age of Ash (Kithamar, #1)                               448     14   \n",
       "The Castle of Tangled Magic                             416     13   \n",
       "Blade of Dream (Kithamar, #2)                           464     13   \n",
       "\n",
       "                                                    Razred dolžine  \n",
       "Naslov                                                              \n",
       "The Hobbit (The Lord of the Rings, #0)                         350  \n",
       "Lost Horizon                                                   200  \n",
       "At the Mountains of Madness                                    150  \n",
       "Mary Poppins (Mary Poppins, #1)                                200  \n",
       "The Sword in the Stone (The Once and Future Kin...             350  \n",
       "...                                                            ...  \n",
       "The Wizard of Eventide (The Goddess War, 3)                    400  \n",
       "The Fury of the Gods (The Bloodsworn Saga, #3)                 500  \n",
       "Age of Ash (Kithamar, #1)                                      400  \n",
       "The Castle of Tangled Magic                                    400  \n",
       "Blade of Dream (Kithamar, #2)                                  450  \n",
       "\n",
       "[3537 rows x 3 columns]"
      ]
     },
     "execution_count": 141,
     "metadata": {},
     "output_type": "execute_result"
    }
   ],
   "source": [
    "dolzina_kvaliteta"
   ]
  },
  {
   "cell_type": "code",
   "execution_count": 142,
   "metadata": {},
   "outputs": [],
   "source": [
    "po_dolzini = dolzina_kvaliteta.groupby('Razred dolžine')"
   ]
  },
  {
   "cell_type": "code",
   "execution_count": 143,
   "metadata": {},
   "outputs": [],
   "source": [
    "dolzina_tocke = pd.DataFrame(po_dolzini['Točke'].mean())"
   ]
  },
  {
   "cell_type": "code",
   "execution_count": 144,
   "metadata": {},
   "outputs": [
    {
     "data": {
      "text/html": [
       "<div>\n",
       "<style scoped>\n",
       "    .dataframe tbody tr th:only-of-type {\n",
       "        vertical-align: middle;\n",
       "    }\n",
       "\n",
       "    .dataframe tbody tr th {\n",
       "        vertical-align: top;\n",
       "    }\n",
       "\n",
       "    .dataframe thead th {\n",
       "        text-align: right;\n",
       "    }\n",
       "</style>\n",
       "<table border=\"1\" class=\"dataframe\">\n",
       "  <thead>\n",
       "    <tr style=\"text-align: right;\">\n",
       "      <th></th>\n",
       "      <th>Točke</th>\n",
       "    </tr>\n",
       "    <tr>\n",
       "      <th>Razred dolžine</th>\n",
       "      <th></th>\n",
       "    </tr>\n",
       "  </thead>\n",
       "  <tbody>\n",
       "    <tr>\n",
       "      <th>0</th>\n",
       "      <td>363.736434</td>\n",
       "    </tr>\n",
       "    <tr>\n",
       "      <th>50</th>\n",
       "      <td>144.606061</td>\n",
       "    </tr>\n",
       "    <tr>\n",
       "      <th>100</th>\n",
       "      <td>353.705263</td>\n",
       "    </tr>\n",
       "    <tr>\n",
       "      <th>150</th>\n",
       "      <td>570.470899</td>\n",
       "    </tr>\n",
       "    <tr>\n",
       "      <th>200</th>\n",
       "      <td>611.826667</td>\n",
       "    </tr>\n",
       "    <tr>\n",
       "      <th>250</th>\n",
       "      <td>393.810198</td>\n",
       "    </tr>\n",
       "    <tr>\n",
       "      <th>300</th>\n",
       "      <td>502.796491</td>\n",
       "    </tr>\n",
       "    <tr>\n",
       "      <th>350</th>\n",
       "      <td>588.918561</td>\n",
       "    </tr>\n",
       "    <tr>\n",
       "      <th>400</th>\n",
       "      <td>603.063736</td>\n",
       "    </tr>\n",
       "    <tr>\n",
       "      <th>450</th>\n",
       "      <td>751.406557</td>\n",
       "    </tr>\n",
       "    <tr>\n",
       "      <th>500</th>\n",
       "      <td>647.625616</td>\n",
       "    </tr>\n",
       "    <tr>\n",
       "      <th>550</th>\n",
       "      <td>758.721805</td>\n",
       "    </tr>\n",
       "    <tr>\n",
       "      <th>600</th>\n",
       "      <td>991.164835</td>\n",
       "    </tr>\n",
       "    <tr>\n",
       "      <th>650</th>\n",
       "      <td>1743.359375</td>\n",
       "    </tr>\n",
       "    <tr>\n",
       "      <th>700</th>\n",
       "      <td>1243.225000</td>\n",
       "    </tr>\n",
       "    <tr>\n",
       "      <th>750</th>\n",
       "      <td>1673.962963</td>\n",
       "    </tr>\n",
       "    <tr>\n",
       "      <th>800</th>\n",
       "      <td>3054.296296</td>\n",
       "    </tr>\n",
       "    <tr>\n",
       "      <th>850</th>\n",
       "      <td>2401.250000</td>\n",
       "    </tr>\n",
       "    <tr>\n",
       "      <th>900</th>\n",
       "      <td>4401.785714</td>\n",
       "    </tr>\n",
       "    <tr>\n",
       "      <th>950</th>\n",
       "      <td>4485.272727</td>\n",
       "    </tr>\n",
       "    <tr>\n",
       "      <th>1000</th>\n",
       "      <td>8884.090909</td>\n",
       "    </tr>\n",
       "    <tr>\n",
       "      <th>1050</th>\n",
       "      <td>12409.400000</td>\n",
       "    </tr>\n",
       "    <tr>\n",
       "      <th>1100</th>\n",
       "      <td>177.000000</td>\n",
       "    </tr>\n",
       "    <tr>\n",
       "      <th>1150</th>\n",
       "      <td>1296.000000</td>\n",
       "    </tr>\n",
       "    <tr>\n",
       "      <th>1200</th>\n",
       "      <td>2135.800000</td>\n",
       "    </tr>\n",
       "    <tr>\n",
       "      <th>1300</th>\n",
       "      <td>95.000000</td>\n",
       "    </tr>\n",
       "    <tr>\n",
       "      <th>1350</th>\n",
       "      <td>38.000000</td>\n",
       "    </tr>\n",
       "    <tr>\n",
       "      <th>1400</th>\n",
       "      <td>100.000000</td>\n",
       "    </tr>\n",
       "    <tr>\n",
       "      <th>1450</th>\n",
       "      <td>96.000000</td>\n",
       "    </tr>\n",
       "    <tr>\n",
       "      <th>1600</th>\n",
       "      <td>87.500000</td>\n",
       "    </tr>\n",
       "    <tr>\n",
       "      <th>6650</th>\n",
       "      <td>75.000000</td>\n",
       "    </tr>\n",
       "  </tbody>\n",
       "</table>\n",
       "</div>"
      ],
      "text/plain": [
       "                       Točke\n",
       "Razred dolžine              \n",
       "0                 363.736434\n",
       "50                144.606061\n",
       "100               353.705263\n",
       "150               570.470899\n",
       "200               611.826667\n",
       "250               393.810198\n",
       "300               502.796491\n",
       "350               588.918561\n",
       "400               603.063736\n",
       "450               751.406557\n",
       "500               647.625616\n",
       "550               758.721805\n",
       "600               991.164835\n",
       "650              1743.359375\n",
       "700              1243.225000\n",
       "750              1673.962963\n",
       "800              3054.296296\n",
       "850              2401.250000\n",
       "900              4401.785714\n",
       "950              4485.272727\n",
       "1000             8884.090909\n",
       "1050            12409.400000\n",
       "1100              177.000000\n",
       "1150             1296.000000\n",
       "1200             2135.800000\n",
       "1300               95.000000\n",
       "1350               38.000000\n",
       "1400              100.000000\n",
       "1450               96.000000\n",
       "1600               87.500000\n",
       "6650               75.000000"
      ]
     },
     "execution_count": 144,
     "metadata": {},
     "output_type": "execute_result"
    }
   ],
   "source": [
    "dolzina_tocke"
   ]
  },
  {
   "cell_type": "code",
   "execution_count": 146,
   "metadata": {},
   "outputs": [
    {
     "data": {
      "text/plain": [
       "<Axes: xlabel='Razred dolžine', ylabel='Točke'>"
      ]
     },
     "execution_count": 146,
     "metadata": {},
     "output_type": "execute_result"
    },
    {
     "data": {
      "image/png": "[encoded data removed]",
      "text/plain": [
       "<Figure size 640x480 with 1 Axes>"
      ]
     },
     "metadata": {},
     "output_type": "display_data"
    }
   ],
   "source": [
    "dolzina_tocke.plot(xlabel='Razred dolžine', ylabel='Točke')"
   ]
  },
  {
   "cell_type": "code",
   "execution_count": 145,
   "metadata": {},
   "outputs": [
    {
     "data": {
      "text/html": [
       "<div>\n",
       "<style scoped>\n",
       "    .dataframe tbody tr th:only-of-type {\n",
       "        vertical-align: middle;\n",
       "    }\n",
       "\n",
       "    .dataframe tbody tr th {\n",
       "        vertical-align: top;\n",
       "    }\n",
       "\n",
       "    .dataframe thead th {\n",
       "        text-align: right;\n",
       "    }\n",
       "</style>\n",
       "<table border=\"1\" class=\"dataframe\">\n",
       "  <thead>\n",
       "    <tr style=\"text-align: right;\">\n",
       "      <th></th>\n",
       "      <th>Avtor</th>\n",
       "      <th>Leto izida</th>\n",
       "      <th>Desetletje</th>\n",
       "      <th>Dolžina</th>\n",
       "      <th>Točke</th>\n",
       "      <th>Ocena</th>\n",
       "      <th>Število bralcev</th>\n",
       "    </tr>\n",
       "    <tr>\n",
       "      <th>Naslov</th>\n",
       "      <th></th>\n",
       "      <th></th>\n",
       "      <th></th>\n",
       "      <th></th>\n",
       "      <th></th>\n",
       "      <th></th>\n",
       "      <th></th>\n",
       "    </tr>\n",
       "  </thead>\n",
       "  <tbody>\n",
       "    <tr>\n",
       "      <th>Worm (Parahumans, #1)</th>\n",
       "      <td>Wildbow</td>\n",
       "      <td>2013</td>\n",
       "      <td>2010</td>\n",
       "      <td>6680</td>\n",
       "      <td>75</td>\n",
       "      <td>4.6</td>\n",
       "      <td>9403</td>\n",
       "    </tr>\n",
       "  </tbody>\n",
       "</table>\n",
       "</div>"
      ],
      "text/plain": [
       "                         Avtor  Leto izida  Desetletje  Dolžina  Točke  Ocena  \\\n",
       "Naslov                                                                          \n",
       "Worm (Parahumans, #1)  Wildbow        2013        2010     6680     75    4.6   \n",
       "\n",
       "                       Število bralcev  \n",
       "Naslov                                  \n",
       "Worm (Parahumans, #1)             9403  "
      ]
     },
     "execution_count": 145,
     "metadata": {},
     "output_type": "execute_result"
    }
   ],
   "source": [
    "podatki[podatki['Dolžina'] > 1700]"
   ]
  },
  {
   "cell_type": "markdown",
   "metadata": {},
   "source": [
    "<p style=\"font-family:'Times New Roman';font-size:20px;margin-bottom:0.5cm;margin-top:0.5cm;\"> Vidimo lahko, da ima samo ena knjiga ekstremno dolžino. Da bo graf bolj informativen in da bomo lažje razbrali trend pri ostalih knjigah, ta podatek začano odstranimo. </p>"
   ]
  },
  {
   "cell_type": "markdown",
   "metadata": {},
   "source": [
    "<p style=\"color:red;\"> Ostal v tej vrstici!</p>"
   ]
  },
  {
   "cell_type": "markdown",
   "metadata": {},
   "source": [
    "<h3 style=\"text-align:center;font-family:Garamond;font-size:30px;margin-bottom:0.5cm;\"> Odvisnost števila bralcev od dolžine </h3>"
   ]
  },
  {
   "cell_type": "code",
   "execution_count": null,
   "metadata": {},
   "outputs": [],
   "source": [
    "podatki['Razred dolžine'] = (podatki['Dolžina']//50)*50 "
   ]
  },
  {
   "cell_type": "code",
   "execution_count": null,
   "metadata": {},
   "outputs": [],
   "source": [
    "po_razredih_dolzine = podatki.groupby('Razred dolžine')"
   ]
  },
  {
   "cell_type": "code",
   "execution_count": null,
   "metadata": {},
   "outputs": [],
   "source": [
    "dolzina_bralci = pd.DataFrame(po_razredih_dolzine['Število bralcev'].sum()) "
   ]
  },
  {
   "cell_type": "code",
   "execution_count": null,
   "metadata": {},
   "outputs": [],
   "source": [
    "dolzina_bralci.plot(ylabel='Skupno število bralcev (v milijonih)')"
   ]
  },
  {
   "cell_type": "markdown",
   "metadata": {},
   "source": [
    "<h3 style=\"text-align:center;font-family:Garamond;font-size:30px;\"> Sklepi </h3>"
   ]
  },
  {
   "cell_type": "markdown",
   "metadata": {},
   "source": [
    "<p style=\"font-family:'Times New Roman';font-size:20px;margin-bottom:1cm;\"> paragraf </p>"
   ]
  },
  {
   "cell_type": "markdown",
   "metadata": {},
   "source": [
    "<h2 style=\"text-align:center;font-family:Verdana;font-size:40px;margin-bottom:1cm;\"> Zlata leta fantazijskega žanra </h2>"
   ]
  },
  {
   "cell_type": "markdown",
   "metadata": {},
   "source": [
    "<p style=\"font-family:'Times New Roman';font-size:20px;\"> Za konec si poglejmo še, katera so bila tista \"zlata leta\" fantazijskega žanra, tj. v katerem desetletju so nastajali najboljši fantazijski romani. <br> To bomo ugotovili tako, da bomo pogledali razvrstitev desetletij po določenih kategorijah, jim vsakič pripisali neko število točk, na koncu pa točke sešteli in kot najboljše desetletje razglasili tisto desetletje, ki bo imelo največ točk.</p>\n",
    "<p style=\"font-family:'Times New Roman';font-size:20px;margin-bottom:0.5cm;\"> Omenjene kategorije bodo: <ul style=\"font-family:'Times New Roman';font-size:20px;margin-bottom:0.3cm\">\n",
    "    <li> število knjig, ki so bile napisane v desetletju,</li>\n",
    "    <li> povprečna kvaliteta knjig,</li>\n",
    "    <li> število bralcev, ki je prebralo knjige iz določenega desetletja in</li>\n",
    "    <li> število avtorjev, ki je ustvarjalo v posameznem desetletju.</li>\n",
    "    </ul></p>\n",
    "<p style=\"font-family:'Times New Roman';font-size:20px;margin-bottom:0.5cm;\"> Pri tem bomo izločili knjige, ki nimajo navedenega leta objave, gledali pa bomo samo knjige, objavljene od leta 1920 naprej. </p>"
   ]
  },
  {
   "cell_type": "code",
   "execution_count": null,
   "metadata": {},
   "outputs": [],
   "source": [
    "analiza_po_desetletjih = po_desetletjih.agg(\n",
    "**{\n",
    "    'Število knjig' : pd.NamedAgg(column='Točke', aggfunc='size'),\n",
    "    'Kvaliteta' : pd.NamedAgg(column='Točke', aggfunc='mean'),\n",
    "    'Število bralcev' : pd.NamedAgg(column='Število bralcev', aggfunc='sum'),\n",
    "    'Število avtorjev' : pd.NamedAgg(column='Avtor', aggfunc=lambda x: len(x.unique()))\n",
    "    \n",
    "})"
   ]
  },
  {
   "cell_type": "code",
   "execution_count": null,
   "metadata": {},
   "outputs": [],
   "source": [
    "analiza_po_desetletjih.drop([0, 1840, 1890], inplace=True)"
   ]
  },
  {
   "cell_type": "code",
   "execution_count": null,
   "metadata": {},
   "outputs": [],
   "source": [
    "analiza_po_desetletjih['Kvaliteta'] = round(analiza_po_desetletjih['Kvaliteta'], 2)"
   ]
  },
  {
   "cell_type": "code",
   "execution_count": null,
   "metadata": {
    "scrolled": true
   },
   "outputs": [],
   "source": [
    "analiza_po_desetletjih"
   ]
  },
  {
   "cell_type": "code",
   "execution_count": null,
   "metadata": {},
   "outputs": [],
   "source": [
    "# Beleženje rezultatov po kategorijah\n",
    "zlate_tocke = {\n",
    "    'Desetletje': [1900 + i*10 for i in range(2,13)],\n",
    "    'Delež':[],\n",
    "    'Kvaliteta':[],\n",
    "    'Število bralcev':[],\n",
    "    'Število avtorjev':[],\n",
    "}"
   ]
  },
  {
   "cell_type": "markdown",
   "metadata": {},
   "source": [
    "<h3 style=\"text-align:center;font-family:Garamond;font-size:30px;margin-bottom:0.5cm;\"> Delež knjig po desetletjih </h3>"
   ]
  },
  {
   "cell_type": "code",
   "execution_count": null,
   "metadata": {},
   "outputs": [],
   "source": [
    "analiza_st_knjig = pd.DataFrame(analiza_po_desetletjih['Število knjig'])"
   ]
  },
  {
   "cell_type": "code",
   "execution_count": null,
   "metadata": {},
   "outputs": [],
   "source": [
    "analiza_st_knjig.reset_index(inplace=True)"
   ]
  },
  {
   "cell_type": "code",
   "execution_count": null,
   "metadata": {},
   "outputs": [],
   "source": [
    "analiza_st_knjig.index += 1"
   ]
  },
  {
   "cell_type": "code",
   "execution_count": null,
   "metadata": {},
   "outputs": [],
   "source": [
    "analiza_st_knjig"
   ]
  },
  {
   "cell_type": "code",
   "execution_count": null,
   "metadata": {},
   "outputs": [],
   "source": [
    "analiza_po_desetletjih['Število knjig'].plot(kind='pie', figsize=(20, 20), fontsize=20, ylabel=None)"
   ]
  },
  {
   "cell_type": "code",
   "execution_count": null,
   "metadata": {},
   "outputs": [],
   "source": [
    "zlate_tocke['Delež'] = zld.mesto_v_tabeli(analiza_st_knjig, 'Število knjig')"
   ]
  },
  {
   "cell_type": "markdown",
   "metadata": {},
   "source": [
    "<h3 style=\"text-align:center;font-family:Garamond;font-size:30px;margin-botom:0.5cm\"> Kvaliteta knjig </h3>"
   ]
  },
  {
   "cell_type": "code",
   "execution_count": null,
   "metadata": {},
   "outputs": [],
   "source": [
    "analiza_kvalitete = pd.DataFrame(analiza_po_desetletjih['Kvaliteta'])"
   ]
  },
  {
   "cell_type": "code",
   "execution_count": null,
   "metadata": {},
   "outputs": [],
   "source": [
    "analiza_po_desetletjih['Kvaliteta'].plot(kind='bar', ylabel='Povprečno število točk')"
   ]
  },
  {
   "cell_type": "code",
   "execution_count": null,
   "metadata": {},
   "outputs": [],
   "source": [
    "zlate_tocke['Kvaliteta'] = zld.mesto_v_tabeli(analiza_kvalitete, 'Kvaliteta')"
   ]
  },
  {
   "cell_type": "markdown",
   "metadata": {},
   "source": [
    "<h3 style=\"text-align:center;font-family:Garamond;font-size:30px;margin-bottom:0.5cm;\"> Število bralcev </h3>"
   ]
  },
  {
   "cell_type": "code",
   "execution_count": null,
   "metadata": {},
   "outputs": [],
   "source": [
    "analiza_bralci = pd.DataFrame(analiza_po_desetletjih['Število bralcev'])"
   ]
  },
  {
   "cell_type": "code",
   "execution_count": null,
   "metadata": {},
   "outputs": [],
   "source": [
    "analiza_bralci.plot(kind='bar', ylabel='Število bralcev')"
   ]
  },
  {
   "cell_type": "code",
   "execution_count": null,
   "metadata": {},
   "outputs": [],
   "source": [
    "zlate_tocke['Število bralcev'] = zld.mesto_v_tabeli(analiza_bralci, 'Število bralcev')"
   ]
  },
  {
   "cell_type": "markdown",
   "metadata": {},
   "source": [
    "<h3 style=\"text-align:center;font-family:Garamond;font-size:30px;margin-bottom:0.5cm;\"> Število avtorjev </h3>"
   ]
  },
  {
   "cell_type": "code",
   "execution_count": null,
   "metadata": {},
   "outputs": [],
   "source": [
    "analiza_avtorji = pd.DataFrame(analiza_po_desetletjih['Število avtorjev'])"
   ]
  },
  {
   "cell_type": "code",
   "execution_count": null,
   "metadata": {},
   "outputs": [],
   "source": [
    "analiza_avtorji.plot(kind='bar', ylabel='Število avtorjev')"
   ]
  },
  {
   "cell_type": "code",
   "execution_count": null,
   "metadata": {},
   "outputs": [],
   "source": [
    "zlate_tocke['Število avtorjev'] = zld.mesto_v_tabeli(analiza_avtorji, 'Število avtorjev')"
   ]
  },
  {
   "cell_type": "markdown",
   "metadata": {},
   "source": [
    "<h3 style=\"text-align:center;font-family:Garamond;font-size:30px;margin-bottom:0.5cm;\"> Iskanje zlatega desetletja </h3>"
   ]
  },
  {
   "cell_type": "code",
   "execution_count": null,
   "metadata": {},
   "outputs": [],
   "source": [
    "vrstni_red = pd.DataFrame(zlate_tocke)"
   ]
  },
  {
   "cell_type": "code",
   "execution_count": null,
   "metadata": {},
   "outputs": [],
   "source": [
    "vrstni_red"
   ]
  },
  {
   "cell_type": "code",
   "execution_count": null,
   "metadata": {},
   "outputs": [],
   "source": [
    "# Računanje vsot prejetih točk\n",
    "seznam_vsot = []\n",
    "for i in range(len(vrstni_red)):\n",
    "    vsota = 0\n",
    "    for j in range(1, 5):\n",
    "        vsota += vrstni_red.iloc[i, j]\n",
    "    seznam_vsot.append(vsota)\n",
    "\n",
    "slovar = {'Desetletje':[1920 + i*10 for i in range(0, 11)], 'Skupne točke' : seznam_vsot}\n",
    "skupne_tocke = pd.DataFrame(slovar)\n",
    "skupne_tocke"
   ]
  },
  {
   "cell_type": "code",
   "execution_count": null,
   "metadata": {},
   "outputs": [],
   "source": [
    "vrstni_red_po_tockah = vrstni_red.merge(skupne_tocke, how='outer', on='Desetletje')"
   ]
  },
  {
   "cell_type": "code",
   "execution_count": null,
   "metadata": {},
   "outputs": [],
   "source": [
    "vrstni_red_po_tockah.sort_values(by=['Skupne točke', 'Desetletje'], ascending=[False, True], inplace=True)"
   ]
  },
  {
   "cell_type": "code",
   "execution_count": null,
   "metadata": {},
   "outputs": [],
   "source": [
    "vrstni_red_po_tockah.reset_index(inplace=True)"
   ]
  },
  {
   "cell_type": "code",
   "execution_count": null,
   "metadata": {},
   "outputs": [],
   "source": [
    "vrstni_red_po_tockah.index += 1"
   ]
  },
  {
   "cell_type": "code",
   "execution_count": null,
   "metadata": {},
   "outputs": [],
   "source": [
    "vrstni_red_po_tockah.drop(columns=[\"index\"], inplace=True)"
   ]
  },
  {
   "cell_type": "code",
   "execution_count": null,
   "metadata": {},
   "outputs": [],
   "source": [
    "vrstni_red_po_tockah"
   ]
  },
  {
   "cell_type": "code",
   "execution_count": 96,
   "metadata": {},
   "outputs": [
    {
     "data": {
      "image/png": "[encoded data removed]",
      "text/plain": [
       "<Figure size 640x480 with 1 Axes>"
      ]
     },
     "metadata": {},
     "output_type": "display_data"
    }
   ],
   "source": [
    "graf_desetletij = vrstni_red_po_tockah[['Desetletje', 'Delež', 'Kvaliteta', 'Število bralcev', 'Število avtorjev']].set_index('Desetletje').plot(kind='bar', stacked = True)"
   ]
  },
  {
   "cell_type": "code",
   "execution_count": 97,
   "metadata": {},
   "outputs": [
    {
     "data": {
      "text/plain": [
       "<Axes: xlabel='Desetletje'>"
      ]
     },
     "execution_count": 97,
     "metadata": {},
     "output_type": "execute_result"
    },
    {
     "data": {
      "image/png": "[encoded data removed]",
      "text/plain": [
       "<Figure size 640x480 with 1 Axes>"
      ]
     },
     "metadata": {},
     "output_type": "display_data"
    }
   ],
   "source": [
    "vrstni_red_po_tockah.sort_values('Desetletje').set_index('Desetletje')['Skupne točke'].plot()"
   ]
  },
  {
   "cell_type": "markdown",
   "metadata": {},
   "source": [
    "<h3 style=\"text-align:center;font-family:Garamond;font-size:30px;\"> Sklepi </h3>"
   ]
  },
  {
   "cell_type": "markdown",
   "metadata": {},
   "source": [
    "<p style=\"font-family:'Times New Roman';font-size:20px;margin-bottom:1cm;\"> paragraf </p>"
   ]
  },
  {
   "cell_type": "markdown",
   "metadata": {},
   "source": [
    "<h2 style='text-align:center'> <div style=\"font-size : 30px; font-style : Verdana; text-align : center \"> Zaključki </div> </h2>"
   ]
  },
  {
   "cell_type": "markdown",
   "metadata": {},
   "source": [
    "<p style=\"font-family:'Times New Roman';font-size:20px;\"> paragraf </p>  "
   ]
  }
 ],
 "metadata": {
  "kernelspec": {
   "display_name": "Python 3 (ipykernel)",
   "language": "python",
   "name": "python3"
  },
  "language_info": {
   "codemirror_mode": {
    "name": "ipython",
    "version": 3
   },
   "file_extension": ".py",
   "mimetype": "text/x-python",
   "name": "python",
   "nbconvert_exporter": "python",
   "pygments_lexer": "ipython3",
   "version": "3.11.2"
  }
 },
 "nbformat": 4,
 "nbformat_minor": 2
}
