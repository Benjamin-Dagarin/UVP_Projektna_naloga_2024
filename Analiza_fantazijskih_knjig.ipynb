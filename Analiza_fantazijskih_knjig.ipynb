{
 "cells": [
  {
   "cell_type": "markdown",
   "metadata": {},
   "source": [
    "<h1 style=\"text-align:center\"><div style=\"text-style:bold; font-family:Verdana;font-size=100px\">Analiza fantazijskih knjig</div></h1>"
   ]
  },
  {
   "cell_type": "markdown",
   "metadata": {},
   "source": [
    "<h2 style='text-align:center'> <div style=\"font-size : 30px; font-style : Verdana; text-align : center \"> Priprava </div> </h2>"
   ]
  },
  {
   "cell_type": "code",
   "execution_count": 1,
   "metadata": {},
   "outputs": [],
   "source": [
    "import pandas as pd\n",
    "import zlato_desetletje as zld"
   ]
  },
  {
   "cell_type": "code",
   "execution_count": 2,
   "metadata": {},
   "outputs": [],
   "source": [
    "podatki = pd.read_csv(\"C:\\\\Users\\\\Benjamin\\\\Desktop\\\\Šola\\\\FMF\\\\UVP\\\\UVP_Projektna_naloga_2024\\\\fantazijska_literatura.csv\", index_col='Naslov')"
   ]
  },
  {
   "cell_type": "code",
   "execution_count": 3,
   "metadata": {},
   "outputs": [],
   "source": [
    "podatki.fillna(0, inplace=True)"
   ]
  },
  {
   "cell_type": "code",
   "execution_count": 4,
   "metadata": {},
   "outputs": [],
   "source": [
    "# Sprememba decimalnih števil, ki bi morala biti cela, v cela števila.\n",
    "podatki['Dolžina'] = podatki['Dolžina'].astype(int, errors='ignore')\n",
    "podatki['Leta izida'] = podatki['Leta izida'].astype(int, errors='ignore')"
   ]
  },
  {
   "cell_type": "code",
   "execution_count": 5,
   "metadata": {},
   "outputs": [
    {
     "data": {
      "text/html": [
       "<div>\n",
       "<style scoped>\n",
       "    .dataframe tbody tr th:only-of-type {\n",
       "        vertical-align: middle;\n",
       "    }\n",
       "\n",
       "    .dataframe tbody tr th {\n",
       "        vertical-align: top;\n",
       "    }\n",
       "\n",
       "    .dataframe thead th {\n",
       "        text-align: right;\n",
       "    }\n",
       "</style>\n",
       "<table border=\"1\" class=\"dataframe\">\n",
       "  <thead>\n",
       "    <tr style=\"text-align: right;\">\n",
       "      <th></th>\n",
       "      <th>Avtor</th>\n",
       "      <th>Leta izida</th>\n",
       "      <th>Dolžina</th>\n",
       "      <th>Točke</th>\n",
       "      <th>Ocena</th>\n",
       "      <th>Število bralcev</th>\n",
       "    </tr>\n",
       "    <tr>\n",
       "      <th>Naslov</th>\n",
       "      <th></th>\n",
       "      <th></th>\n",
       "      <th></th>\n",
       "      <th></th>\n",
       "      <th></th>\n",
       "      <th></th>\n",
       "    </tr>\n",
       "  </thead>\n",
       "  <tbody>\n",
       "    <tr>\n",
       "      <th>The Hobbit (The Lord of the Rings, #0)</th>\n",
       "      <td>J.R.R. Tolkien</td>\n",
       "      <td>1937</td>\n",
       "      <td>366</td>\n",
       "      <td>5793</td>\n",
       "      <td>4.29</td>\n",
       "      <td>4063356</td>\n",
       "    </tr>\n",
       "    <tr>\n",
       "      <th>Lost Horizon</th>\n",
       "      <td>James Hilton</td>\n",
       "      <td>1933</td>\n",
       "      <td>241</td>\n",
       "      <td>1276</td>\n",
       "      <td>3.95</td>\n",
       "      <td>22920</td>\n",
       "    </tr>\n",
       "    <tr>\n",
       "      <th>At the Mountains of Madness</th>\n",
       "      <td>H.P. Lovecraft</td>\n",
       "      <td>1931</td>\n",
       "      <td>194</td>\n",
       "      <td>1185</td>\n",
       "      <td>3.81</td>\n",
       "      <td>55007</td>\n",
       "    </tr>\n",
       "    <tr>\n",
       "      <th>Mary Poppins (Mary Poppins, #1)</th>\n",
       "      <td>P.L. Travers</td>\n",
       "      <td>1934</td>\n",
       "      <td>209</td>\n",
       "      <td>1169</td>\n",
       "      <td>4.01</td>\n",
       "      <td>134755</td>\n",
       "    </tr>\n",
       "    <tr>\n",
       "      <th>The Sword in the Stone (The Once and Future King, #1)</th>\n",
       "      <td>T.H. White</td>\n",
       "      <td>1938</td>\n",
       "      <td>352</td>\n",
       "      <td>968</td>\n",
       "      <td>3.89</td>\n",
       "      <td>26880</td>\n",
       "    </tr>\n",
       "    <tr>\n",
       "      <th>...</th>\n",
       "      <td>...</td>\n",
       "      <td>...</td>\n",
       "      <td>...</td>\n",
       "      <td>...</td>\n",
       "      <td>...</td>\n",
       "      <td>...</td>\n",
       "    </tr>\n",
       "    <tr>\n",
       "      <th>Duke Elric (Chronicles of the Last Emperor of Melniboné, #4)</th>\n",
       "      <td>Michael Moorcock</td>\n",
       "      <td>2009</td>\n",
       "      <td>368</td>\n",
       "      <td>90</td>\n",
       "      <td>4.01</td>\n",
       "      <td>279</td>\n",
       "    </tr>\n",
       "    <tr>\n",
       "      <th>Elric</th>\n",
       "      <td>Michael Moorcock</td>\n",
       "      <td>2001</td>\n",
       "      <td>416</td>\n",
       "      <td>89</td>\n",
       "      <td>4.10</td>\n",
       "      <td>3001</td>\n",
       "    </tr>\n",
       "    <tr>\n",
       "      <th>Elric in the Dream Realms (Chronicles of the Last Emperor of Melniboné, #5)</th>\n",
       "      <td>Michael Moorcock</td>\n",
       "      <td>2009</td>\n",
       "      <td>448</td>\n",
       "      <td>88</td>\n",
       "      <td>3.97</td>\n",
       "      <td>261</td>\n",
       "    </tr>\n",
       "    <tr>\n",
       "      <th>Atlan (Atlan, #2)</th>\n",
       "      <td>Jane Gaskell</td>\n",
       "      <td>1965</td>\n",
       "      <td>334</td>\n",
       "      <td>70</td>\n",
       "      <td>3.59</td>\n",
       "      <td>140</td>\n",
       "    </tr>\n",
       "    <tr>\n",
       "      <th>Higglety Pigglety Pop! or There Must Be More to Life</th>\n",
       "      <td>Maurice Sendak</td>\n",
       "      <td>1967</td>\n",
       "      <td>69</td>\n",
       "      <td>61</td>\n",
       "      <td>4.19</td>\n",
       "      <td>1800</td>\n",
       "    </tr>\n",
       "  </tbody>\n",
       "</table>\n",
       "<p>239 rows × 6 columns</p>\n",
       "</div>"
      ],
      "text/plain": [
       "                                                               Avtor  \\\n",
       "Naslov                                                                 \n",
       "The Hobbit (The Lord of the Rings, #0)                J.R.R. Tolkien   \n",
       "Lost Horizon                                            James Hilton   \n",
       "At the Mountains of Madness                           H.P. Lovecraft   \n",
       "Mary Poppins (Mary Poppins, #1)                         P.L. Travers   \n",
       "The Sword in the Stone (The Once and Future Kin...        T.H. White   \n",
       "...                                                              ...   \n",
       "Duke Elric (Chronicles of the Last Emperor of M...  Michael Moorcock   \n",
       "Elric                                               Michael Moorcock   \n",
       "Elric in the Dream Realms (Chronicles of the La...  Michael Moorcock   \n",
       "Atlan (Atlan, #2)                                       Jane Gaskell   \n",
       "Higglety Pigglety Pop! or There Must Be More to...    Maurice Sendak   \n",
       "\n",
       "                                                    Leta izida  Dolžina  \\\n",
       "Naslov                                                                    \n",
       "The Hobbit (The Lord of the Rings, #0)                    1937      366   \n",
       "Lost Horizon                                              1933      241   \n",
       "At the Mountains of Madness                               1931      194   \n",
       "Mary Poppins (Mary Poppins, #1)                           1934      209   \n",
       "The Sword in the Stone (The Once and Future Kin...        1938      352   \n",
       "...                                                        ...      ...   \n",
       "Duke Elric (Chronicles of the Last Emperor of M...        2009      368   \n",
       "Elric                                                     2001      416   \n",
       "Elric in the Dream Realms (Chronicles of the La...        2009      448   \n",
       "Atlan (Atlan, #2)                                         1965      334   \n",
       "Higglety Pigglety Pop! or There Must Be More to...        1967       69   \n",
       "\n",
       "                                                    Točke  Ocena  \\\n",
       "Naslov                                                             \n",
       "The Hobbit (The Lord of the Rings, #0)               5793   4.29   \n",
       "Lost Horizon                                         1276   3.95   \n",
       "At the Mountains of Madness                          1185   3.81   \n",
       "Mary Poppins (Mary Poppins, #1)                      1169   4.01   \n",
       "The Sword in the Stone (The Once and Future Kin...    968   3.89   \n",
       "...                                                   ...    ...   \n",
       "Duke Elric (Chronicles of the Last Emperor of M...     90   4.01   \n",
       "Elric                                                  89   4.10   \n",
       "Elric in the Dream Realms (Chronicles of the La...     88   3.97   \n",
       "Atlan (Atlan, #2)                                      70   3.59   \n",
       "Higglety Pigglety Pop! or There Must Be More to...     61   4.19   \n",
       "\n",
       "                                                    Število bralcev  \n",
       "Naslov                                                               \n",
       "The Hobbit (The Lord of the Rings, #0)                      4063356  \n",
       "Lost Horizon                                                  22920  \n",
       "At the Mountains of Madness                                   55007  \n",
       "Mary Poppins (Mary Poppins, #1)                              134755  \n",
       "The Sword in the Stone (The Once and Future Kin...            26880  \n",
       "...                                                             ...  \n",
       "Duke Elric (Chronicles of the Last Emperor of M...              279  \n",
       "Elric                                                          3001  \n",
       "Elric in the Dream Realms (Chronicles of the La...              261  \n",
       "Atlan (Atlan, #2)                                               140  \n",
       "Higglety Pigglety Pop! or There Must Be More to...             1800  \n",
       "\n",
       "[239 rows x 6 columns]"
      ]
     },
     "execution_count": 5,
     "metadata": {},
     "output_type": "execute_result"
    }
   ],
   "source": [
    "podatki"
   ]
  },
  {
   "cell_type": "code",
   "execution_count": 6,
   "metadata": {},
   "outputs": [],
   "source": [
    "podatki['Desetletje'] = (podatki['Leta izida']//10)*10"
   ]
  },
  {
   "cell_type": "code",
   "execution_count": 7,
   "metadata": {},
   "outputs": [],
   "source": [
    "podatki = podatki[['Avtor', 'Leta izida', 'Desetletje', 'Dolžina', 'Točke', 'Ocena', 'Število bralcev']]"
   ]
  },
  {
   "cell_type": "code",
   "execution_count": 8,
   "metadata": {},
   "outputs": [
    {
     "data": {
      "text/html": [
       "<div>\n",
       "<style scoped>\n",
       "    .dataframe tbody tr th:only-of-type {\n",
       "        vertical-align: middle;\n",
       "    }\n",
       "\n",
       "    .dataframe tbody tr th {\n",
       "        vertical-align: top;\n",
       "    }\n",
       "\n",
       "    .dataframe thead th {\n",
       "        text-align: right;\n",
       "    }\n",
       "</style>\n",
       "<table border=\"1\" class=\"dataframe\">\n",
       "  <thead>\n",
       "    <tr style=\"text-align: right;\">\n",
       "      <th></th>\n",
       "      <th>Avtor</th>\n",
       "      <th>Leta izida</th>\n",
       "      <th>Desetletje</th>\n",
       "      <th>Dolžina</th>\n",
       "      <th>Točke</th>\n",
       "      <th>Ocena</th>\n",
       "      <th>Število bralcev</th>\n",
       "    </tr>\n",
       "    <tr>\n",
       "      <th>Naslov</th>\n",
       "      <th></th>\n",
       "      <th></th>\n",
       "      <th></th>\n",
       "      <th></th>\n",
       "      <th></th>\n",
       "      <th></th>\n",
       "      <th></th>\n",
       "    </tr>\n",
       "  </thead>\n",
       "  <tbody>\n",
       "    <tr>\n",
       "      <th>The Hobbit (The Lord of the Rings, #0)</th>\n",
       "      <td>J.R.R. Tolkien</td>\n",
       "      <td>1937</td>\n",
       "      <td>1930</td>\n",
       "      <td>366</td>\n",
       "      <td>5793</td>\n",
       "      <td>4.29</td>\n",
       "      <td>4063356</td>\n",
       "    </tr>\n",
       "    <tr>\n",
       "      <th>Lost Horizon</th>\n",
       "      <td>James Hilton</td>\n",
       "      <td>1933</td>\n",
       "      <td>1930</td>\n",
       "      <td>241</td>\n",
       "      <td>1276</td>\n",
       "      <td>3.95</td>\n",
       "      <td>22920</td>\n",
       "    </tr>\n",
       "    <tr>\n",
       "      <th>At the Mountains of Madness</th>\n",
       "      <td>H.P. Lovecraft</td>\n",
       "      <td>1931</td>\n",
       "      <td>1930</td>\n",
       "      <td>194</td>\n",
       "      <td>1185</td>\n",
       "      <td>3.81</td>\n",
       "      <td>55007</td>\n",
       "    </tr>\n",
       "    <tr>\n",
       "      <th>Mary Poppins (Mary Poppins, #1)</th>\n",
       "      <td>P.L. Travers</td>\n",
       "      <td>1934</td>\n",
       "      <td>1930</td>\n",
       "      <td>209</td>\n",
       "      <td>1169</td>\n",
       "      <td>4.01</td>\n",
       "      <td>134755</td>\n",
       "    </tr>\n",
       "    <tr>\n",
       "      <th>The Sword in the Stone (The Once and Future King, #1)</th>\n",
       "      <td>T.H. White</td>\n",
       "      <td>1938</td>\n",
       "      <td>1930</td>\n",
       "      <td>352</td>\n",
       "      <td>968</td>\n",
       "      <td>3.89</td>\n",
       "      <td>26880</td>\n",
       "    </tr>\n",
       "    <tr>\n",
       "      <th>...</th>\n",
       "      <td>...</td>\n",
       "      <td>...</td>\n",
       "      <td>...</td>\n",
       "      <td>...</td>\n",
       "      <td>...</td>\n",
       "      <td>...</td>\n",
       "      <td>...</td>\n",
       "    </tr>\n",
       "    <tr>\n",
       "      <th>Duke Elric (Chronicles of the Last Emperor of Melniboné, #4)</th>\n",
       "      <td>Michael Moorcock</td>\n",
       "      <td>2009</td>\n",
       "      <td>2000</td>\n",
       "      <td>368</td>\n",
       "      <td>90</td>\n",
       "      <td>4.01</td>\n",
       "      <td>279</td>\n",
       "    </tr>\n",
       "    <tr>\n",
       "      <th>Elric</th>\n",
       "      <td>Michael Moorcock</td>\n",
       "      <td>2001</td>\n",
       "      <td>2000</td>\n",
       "      <td>416</td>\n",
       "      <td>89</td>\n",
       "      <td>4.10</td>\n",
       "      <td>3001</td>\n",
       "    </tr>\n",
       "    <tr>\n",
       "      <th>Elric in the Dream Realms (Chronicles of the Last Emperor of Melniboné, #5)</th>\n",
       "      <td>Michael Moorcock</td>\n",
       "      <td>2009</td>\n",
       "      <td>2000</td>\n",
       "      <td>448</td>\n",
       "      <td>88</td>\n",
       "      <td>3.97</td>\n",
       "      <td>261</td>\n",
       "    </tr>\n",
       "    <tr>\n",
       "      <th>Atlan (Atlan, #2)</th>\n",
       "      <td>Jane Gaskell</td>\n",
       "      <td>1965</td>\n",
       "      <td>1960</td>\n",
       "      <td>334</td>\n",
       "      <td>70</td>\n",
       "      <td>3.59</td>\n",
       "      <td>140</td>\n",
       "    </tr>\n",
       "    <tr>\n",
       "      <th>Higglety Pigglety Pop! or There Must Be More to Life</th>\n",
       "      <td>Maurice Sendak</td>\n",
       "      <td>1967</td>\n",
       "      <td>1960</td>\n",
       "      <td>69</td>\n",
       "      <td>61</td>\n",
       "      <td>4.19</td>\n",
       "      <td>1800</td>\n",
       "    </tr>\n",
       "  </tbody>\n",
       "</table>\n",
       "<p>239 rows × 7 columns</p>\n",
       "</div>"
      ],
      "text/plain": [
       "                                                               Avtor  \\\n",
       "Naslov                                                                 \n",
       "The Hobbit (The Lord of the Rings, #0)                J.R.R. Tolkien   \n",
       "Lost Horizon                                            James Hilton   \n",
       "At the Mountains of Madness                           H.P. Lovecraft   \n",
       "Mary Poppins (Mary Poppins, #1)                         P.L. Travers   \n",
       "The Sword in the Stone (The Once and Future Kin...        T.H. White   \n",
       "...                                                              ...   \n",
       "Duke Elric (Chronicles of the Last Emperor of M...  Michael Moorcock   \n",
       "Elric                                               Michael Moorcock   \n",
       "Elric in the Dream Realms (Chronicles of the La...  Michael Moorcock   \n",
       "Atlan (Atlan, #2)                                       Jane Gaskell   \n",
       "Higglety Pigglety Pop! or There Must Be More to...    Maurice Sendak   \n",
       "\n",
       "                                                    Leta izida  Desetletje  \\\n",
       "Naslov                                                                       \n",
       "The Hobbit (The Lord of the Rings, #0)                    1937        1930   \n",
       "Lost Horizon                                              1933        1930   \n",
       "At the Mountains of Madness                               1931        1930   \n",
       "Mary Poppins (Mary Poppins, #1)                           1934        1930   \n",
       "The Sword in the Stone (The Once and Future Kin...        1938        1930   \n",
       "...                                                        ...         ...   \n",
       "Duke Elric (Chronicles of the Last Emperor of M...        2009        2000   \n",
       "Elric                                                     2001        2000   \n",
       "Elric in the Dream Realms (Chronicles of the La...        2009        2000   \n",
       "Atlan (Atlan, #2)                                         1965        1960   \n",
       "Higglety Pigglety Pop! or There Must Be More to...        1967        1960   \n",
       "\n",
       "                                                    Dolžina  Točke  Ocena  \\\n",
       "Naslov                                                                      \n",
       "The Hobbit (The Lord of the Rings, #0)                  366   5793   4.29   \n",
       "Lost Horizon                                            241   1276   3.95   \n",
       "At the Mountains of Madness                             194   1185   3.81   \n",
       "Mary Poppins (Mary Poppins, #1)                         209   1169   4.01   \n",
       "The Sword in the Stone (The Once and Future Kin...      352    968   3.89   \n",
       "...                                                     ...    ...    ...   \n",
       "Duke Elric (Chronicles of the Last Emperor of M...      368     90   4.01   \n",
       "Elric                                                   416     89   4.10   \n",
       "Elric in the Dream Realms (Chronicles of the La...      448     88   3.97   \n",
       "Atlan (Atlan, #2)                                       334     70   3.59   \n",
       "Higglety Pigglety Pop! or There Must Be More to...       69     61   4.19   \n",
       "\n",
       "                                                    Število bralcev  \n",
       "Naslov                                                               \n",
       "The Hobbit (The Lord of the Rings, #0)                      4063356  \n",
       "Lost Horizon                                                  22920  \n",
       "At the Mountains of Madness                                   55007  \n",
       "Mary Poppins (Mary Poppins, #1)                              134755  \n",
       "The Sword in the Stone (The Once and Future Kin...            26880  \n",
       "...                                                             ...  \n",
       "Duke Elric (Chronicles of the Last Emperor of M...              279  \n",
       "Elric                                                          3001  \n",
       "Elric in the Dream Realms (Chronicles of the La...              261  \n",
       "Atlan (Atlan, #2)                                               140  \n",
       "Higglety Pigglety Pop! or There Must Be More to...             1800  \n",
       "\n",
       "[239 rows x 7 columns]"
      ]
     },
     "execution_count": 8,
     "metadata": {},
     "output_type": "execute_result"
    }
   ],
   "source": [
    "podatki"
   ]
  },
  {
   "cell_type": "code",
   "execution_count": 9,
   "metadata": {},
   "outputs": [],
   "source": [
    "po_desetletjih = podatki.groupby('Desetletje')"
   ]
  },
  {
   "cell_type": "markdown",
   "metadata": {},
   "source": [
    "<h2 style='text-align:center'> <div style=\"font-size : 30px; font-style : Verdana; text-align : center \"> Lestvica najboljših </div> </h2>"
   ]
  },
  {
   "cell_type": "markdown",
   "metadata": {},
   "source": [
    "<p style=\"font-family:'Times New Roman', font-size:12px\"> Najprej si poglejmo najboljših 10 predstavnikov iz vsake kategorije. Z rezultati si bo lahko vsak ljubitelj fantazijskega žanra pomagal pri odločitvi, katere knjige oz. avtorje se najbolj splača brati.</p>"
   ]
  },
  {
   "cell_type": "markdown",
   "metadata": {},
   "source": [
    "<h3 style=\"text-align:center\"><div style=\"font-size : 20px; font-style : Verdana; text-align : center\">Najkvalitetnejše knjige</h3>"
   ]
  },
  {
   "cell_type": "markdown",
   "metadata": {},
   "source": [
    "<p style=\"font-family:'Times New Roman', font-size:12px\"> Poizvedimo najprej, katere knjige so najkvalitetnejše. Kot merilo kvalitete vzemimo št. točk oz. t. i. \"score\", kakor je navedeno na spletni strani. Točke upoštevajo št. bralcev, ki je ocenilo knjigo, ter povprečno oceno, ki so ji jo prisodili.</p>"
   ]
  },
  {
   "cell_type": "code",
   "execution_count": 10,
   "metadata": {},
   "outputs": [],
   "source": [
    "naj_knjige_po_tockah = pd.DataFrame(podatki['Točke'].sort_values(ascending=False))"
   ]
  },
  {
   "cell_type": "code",
   "execution_count": 11,
   "metadata": {},
   "outputs": [],
   "source": [
    "naj_knjige_po_tockah.reset_index(inplace=True)"
   ]
  },
  {
   "cell_type": "code",
   "execution_count": 12,
   "metadata": {},
   "outputs": [],
   "source": [
    "naj_knjige_po_tockah.index += 1"
   ]
  },
  {
   "cell_type": "code",
   "execution_count": 13,
   "metadata": {},
   "outputs": [
    {
     "data": {
      "text/html": [
       "<div>\n",
       "<style scoped>\n",
       "    .dataframe tbody tr th:only-of-type {\n",
       "        vertical-align: middle;\n",
       "    }\n",
       "\n",
       "    .dataframe tbody tr th {\n",
       "        vertical-align: top;\n",
       "    }\n",
       "\n",
       "    .dataframe thead th {\n",
       "        text-align: right;\n",
       "    }\n",
       "</style>\n",
       "<table border=\"1\" class=\"dataframe\">\n",
       "  <thead>\n",
       "    <tr style=\"text-align: right;\">\n",
       "      <th></th>\n",
       "      <th>Naslov</th>\n",
       "      <th>Točke</th>\n",
       "    </tr>\n",
       "  </thead>\n",
       "  <tbody>\n",
       "    <tr>\n",
       "      <th>1</th>\n",
       "      <td>The Fellowship of the Ring (The Lord of the Ri...</td>\n",
       "      <td>7350</td>\n",
       "    </tr>\n",
       "    <tr>\n",
       "      <th>2</th>\n",
       "      <td>The Lion, the Witch and the Wardrobe (Chronicl...</td>\n",
       "      <td>6133</td>\n",
       "    </tr>\n",
       "    <tr>\n",
       "      <th>3</th>\n",
       "      <td>The Two Towers (The Lord of the Rings, #2)</td>\n",
       "      <td>6078</td>\n",
       "    </tr>\n",
       "    <tr>\n",
       "      <th>4</th>\n",
       "      <td>The Return of the King (The Lord of the Rings,...</td>\n",
       "      <td>5961</td>\n",
       "    </tr>\n",
       "    <tr>\n",
       "      <th>5</th>\n",
       "      <td>The Hobbit (The Lord of the Rings, #0)</td>\n",
       "      <td>5793</td>\n",
       "    </tr>\n",
       "    <tr>\n",
       "      <th>6</th>\n",
       "      <td>A Wizard of Earthsea (Earthsea Cycle, #1)</td>\n",
       "      <td>4526</td>\n",
       "    </tr>\n",
       "    <tr>\n",
       "      <th>7</th>\n",
       "      <td>The Magician’s Nephew (Chronicles of Narnia, #6)</td>\n",
       "      <td>3520</td>\n",
       "    </tr>\n",
       "    <tr>\n",
       "      <th>8</th>\n",
       "      <td>The Last Unicorn (The Last Unicorn, #1)</td>\n",
       "      <td>3348</td>\n",
       "    </tr>\n",
       "    <tr>\n",
       "      <th>9</th>\n",
       "      <td>The Horse and His Boy (Chronicles of Narnia, #5)</td>\n",
       "      <td>3345</td>\n",
       "    </tr>\n",
       "    <tr>\n",
       "      <th>10</th>\n",
       "      <td>A Wrinkle in Time (A Wrinkle in Time Quintet, #1)</td>\n",
       "      <td>3332</td>\n",
       "    </tr>\n",
       "  </tbody>\n",
       "</table>\n",
       "</div>"
      ],
      "text/plain": [
       "                                               Naslov  Točke\n",
       "1   The Fellowship of the Ring (The Lord of the Ri...   7350\n",
       "2   The Lion, the Witch and the Wardrobe (Chronicl...   6133\n",
       "3          The Two Towers (The Lord of the Rings, #2)   6078\n",
       "4   The Return of the King (The Lord of the Rings,...   5961\n",
       "5              The Hobbit (The Lord of the Rings, #0)   5793\n",
       "6           A Wizard of Earthsea (Earthsea Cycle, #1)   4526\n",
       "7    The Magician’s Nephew (Chronicles of Narnia, #6)   3520\n",
       "8             The Last Unicorn (The Last Unicorn, #1)   3348\n",
       "9    The Horse and His Boy (Chronicles of Narnia, #5)   3345\n",
       "10  A Wrinkle in Time (A Wrinkle in Time Quintet, #1)   3332"
      ]
     },
     "execution_count": 13,
     "metadata": {},
     "output_type": "execute_result"
    }
   ],
   "source": [
    "naj_knjige_po_tockah.head(10)"
   ]
  },
  {
   "cell_type": "markdown",
   "metadata": {},
   "source": [
    "<h3 style=\"text-align:center\"><div style=\"font-size : 20px; font-style : Verdana; text-align : center\">Najkvalitetnejši avtorji</h3>"
   ]
  },
  {
   "cell_type": "markdown",
   "metadata": {},
   "source": [
    "<p style=\"font-family:'Times New Roman', font-size:12px\"> Sedaj analizirajmo avtorje po kvaliteti knjig, ki so jih napisali. Kot merilo zopet vzemimo število točk, le da tokrat avtorju pripišimo povprečje točk njegovih knjig.</p>"
   ]
  },
  {
   "cell_type": "code",
   "execution_count": 14,
   "metadata": {},
   "outputs": [],
   "source": [
    "po_avtorjih = podatki.groupby('Avtor')"
   ]
  },
  {
   "cell_type": "code",
   "execution_count": 17,
   "metadata": {},
   "outputs": [],
   "source": [
    "naj_avtorji_po_tockah = (pd.DataFrame(po_avtorjih['Točke'].mean())).sort_values(by='Točke',ascending=False)"
   ]
  },
  {
   "cell_type": "code",
   "execution_count": 19,
   "metadata": {},
   "outputs": [],
   "source": [
    "naj_avtorji_po_tockah['Točke'] = round(naj_avtorji_po_tockah['Točke'], 2)"
   ]
  },
  {
   "cell_type": "code",
   "execution_count": 20,
   "metadata": {},
   "outputs": [],
   "source": [
    "naj_avtorji_po_tockah.reset_index(inplace=True)"
   ]
  },
  {
   "cell_type": "code",
   "execution_count": 21,
   "metadata": {},
   "outputs": [],
   "source": [
    "naj_avtorji_po_tockah.index += 1"
   ]
  },
  {
   "cell_type": "code",
   "execution_count": 22,
   "metadata": {},
   "outputs": [
    {
     "data": {
      "text/html": [
       "<div>\n",
       "<style scoped>\n",
       "    .dataframe tbody tr th:only-of-type {\n",
       "        vertical-align: middle;\n",
       "    }\n",
       "\n",
       "    .dataframe tbody tr th {\n",
       "        vertical-align: top;\n",
       "    }\n",
       "\n",
       "    .dataframe thead th {\n",
       "        text-align: right;\n",
       "    }\n",
       "</style>\n",
       "<table border=\"1\" class=\"dataframe\">\n",
       "  <thead>\n",
       "    <tr style=\"text-align: right;\">\n",
       "      <th></th>\n",
       "      <th>Avtor</th>\n",
       "      <th>Točke</th>\n",
       "    </tr>\n",
       "  </thead>\n",
       "  <tbody>\n",
       "    <tr>\n",
       "      <th>1</th>\n",
       "      <td>Ursula K. Le Guin</td>\n",
       "      <td>4526.00</td>\n",
       "    </tr>\n",
       "    <tr>\n",
       "      <th>2</th>\n",
       "      <td>J.R.R. Tolkien</td>\n",
       "      <td>4232.57</td>\n",
       "    </tr>\n",
       "    <tr>\n",
       "      <th>3</th>\n",
       "      <td>Peter S. Beagle</td>\n",
       "      <td>3348.00</td>\n",
       "    </tr>\n",
       "    <tr>\n",
       "      <th>4</th>\n",
       "      <td>Madeleine L'Engle</td>\n",
       "      <td>3332.00</td>\n",
       "    </tr>\n",
       "    <tr>\n",
       "      <th>5</th>\n",
       "      <td>Norton Juster</td>\n",
       "      <td>3238.00</td>\n",
       "    </tr>\n",
       "    <tr>\n",
       "      <th>6</th>\n",
       "      <td>C.S. Lewis</td>\n",
       "      <td>1978.33</td>\n",
       "    </tr>\n",
       "    <tr>\n",
       "      <th>7</th>\n",
       "      <td>Roald Dahl</td>\n",
       "      <td>1823.00</td>\n",
       "    </tr>\n",
       "    <tr>\n",
       "      <th>8</th>\n",
       "      <td>Lloyd Alexander</td>\n",
       "      <td>1532.00</td>\n",
       "    </tr>\n",
       "    <tr>\n",
       "      <th>9</th>\n",
       "      <td>Maurice Sendak</td>\n",
       "      <td>1502.50</td>\n",
       "    </tr>\n",
       "    <tr>\n",
       "      <th>10</th>\n",
       "      <td>Susan Cooper</td>\n",
       "      <td>1344.00</td>\n",
       "    </tr>\n",
       "  </tbody>\n",
       "</table>\n",
       "</div>"
      ],
      "text/plain": [
       "                Avtor    Točke\n",
       "1   Ursula K. Le Guin  4526.00\n",
       "2      J.R.R. Tolkien  4232.57\n",
       "3     Peter S. Beagle  3348.00\n",
       "4   Madeleine L'Engle  3332.00\n",
       "5       Norton Juster  3238.00\n",
       "6          C.S. Lewis  1978.33\n",
       "7          Roald Dahl  1823.00\n",
       "8     Lloyd Alexander  1532.00\n",
       "9      Maurice Sendak  1502.50\n",
       "10       Susan Cooper  1344.00"
      ]
     },
     "execution_count": 22,
     "metadata": {},
     "output_type": "execute_result"
    }
   ],
   "source": [
    "naj_avtorji_po_tockah.head(10)"
   ]
  },
  {
   "cell_type": "markdown",
   "metadata": {},
   "source": [
    "<h3 style=\"text-align:center\"><div style=\"font-size : 20px; font-style : Verdana; text-align : center\">Najbolj brane knjige</h3>"
   ]
  },
  {
   "cell_type": "markdown",
   "metadata": {},
   "source": [
    "<p style=\"font-family:'Times New Roman', font-size:12px\"> Kot zanimivost si poglejmo še, katere so najbolj brane knjige in najbolj brani avtorji ter rezultata primerjajmo z zgornjima. Kot kriterij sem vzel število ljudi, ki je ocenilo knjigo na spletni strani, saj dejanskega števila ljudi, ki so prebrali knjigo, ni mogoče zares ugotoviti.</p>"
   ]
  },
  {
   "cell_type": "code",
   "execution_count": 23,
   "metadata": {},
   "outputs": [],
   "source": [
    "naj_knjige_po_bralcih = podatki.sort_values(by='Število bralcev', ascending=False)"
   ]
  },
  {
   "cell_type": "code",
   "execution_count": 24,
   "metadata": {},
   "outputs": [
    {
     "ename": "NameError",
     "evalue": "name 'najbolj_brane_knjige' is not defined",
     "output_type": "error",
     "traceback": [
      "\u001b[1;31m---------------------------------------------------------------------------\u001b[0m",
      "\u001b[1;31mNameError\u001b[0m                                 Traceback (most recent call last)",
      "Cell \u001b[1;32mIn[24], line 1\u001b[0m\n\u001b[1;32m----> 1\u001b[0m naj_knjige_po_bralcih \u001b[38;5;241m=\u001b[39m pd\u001b[38;5;241m.\u001b[39mDataFrame(\u001b[43mnajbolj_brane_knjige\u001b[49m[\u001b[38;5;124m'\u001b[39m\u001b[38;5;124mŠtevilo bralcev\u001b[39m\u001b[38;5;124m'\u001b[39m])\n",
      "\u001b[1;31mNameError\u001b[0m: name 'najbolj_brane_knjige' is not defined"
     ]
    }
   ],
   "source": [
    "naj_knjige_po_bralcih = pd.DataFrame(najbolj_brane_knjige['Število bralcev'])"
   ]
  },
  {
   "cell_type": "code",
   "execution_count": null,
   "metadata": {},
   "outputs": [],
   "source": [
    "naj_knjige_po_bralcih.reset_index(inplace=True)"
   ]
  },
  {
   "cell_type": "code",
   "execution_count": null,
   "metadata": {},
   "outputs": [],
   "source": [
    "naj_knjige_po_bralcih.index += 1"
   ]
  },
  {
   "cell_type": "code",
   "execution_count": null,
   "metadata": {},
   "outputs": [],
   "source": [
    "naj_knjige_po_bralcih.head(10)"
   ]
  },
  {
   "cell_type": "markdown",
   "metadata": {},
   "source": [
    "<h3 style=\"text-align:center\"><div style=\"font-size : 20px; font-style : Verdana; text-align : center\">Najbolj brani avtorji</h3>"
   ]
  },
  {
   "cell_type": "markdown",
   "metadata": {},
   "source": [
    "<p style=\"font-family:'Times New Roman', font-size:12px\"> Še po avtorjih </p>"
   ]
  },
  {
   "cell_type": "code",
   "execution_count": null,
   "metadata": {},
   "outputs": [],
   "source": [
    "naj_avtorji_po_bralcih = (pd.DataFrame(avtorji['Število bralcev'].mean())).sort_values(by='Število bralcev', ascending=False)"
   ]
  },
  {
   "cell_type": "code",
   "execution_count": null,
   "metadata": {},
   "outputs": [],
   "source": [
    "naj_avtorji_po_bralcih.reset_index(inplace=True)"
   ]
  },
  {
   "cell_type": "code",
   "execution_count": null,
   "metadata": {},
   "outputs": [],
   "source": [
    "naj_avtorji_po_bralcih.index += 1"
   ]
  },
  {
   "cell_type": "code",
   "execution_count": null,
   "metadata": {},
   "outputs": [],
   "source": [
    "naj_avtorji_po_bralcih.head(10)"
   ]
  },
  {
   "cell_type": "markdown",
   "metadata": {},
   "source": [
    "<h3 style=\"text-align:center\"><div style=\"font-size : 20px; font-style : Verdana; text-align : center\">Sklepi</h3>"
   ]
  },
  {
   "cell_type": "markdown",
   "metadata": {},
   "source": [
    "<h2 style='text-align:center'> <div style=\"font-size : 30px; font-style : Verdana; text-align : center \"> Analiza trendov </div> </h2>"
   ]
  },
  {
   "cell_type": "markdown",
   "metadata": {},
   "source": [
    "<p style=\"font-family:'Times New Roman', font-size:12px\"> Zanima nas tudi podrobnejše dogajanje v fantazijskem žanru.<br> Kot bralci bi se lahko vprašali, kako se tekom let in desetletij spreminjajo kvaliteta, dolžina in branost književnih del. Prav tako bi vsekakor želeli vedeti, ali so daljše knjige tudi kvalitetnejše ter ali ljudje raje berejo daljše ali krajše knjige.<br> Iz rezultatov analize bomo poskusili napovedati trende na tem področju v prihodnosti.</p>"
   ]
  },
  {
   "cell_type": "markdown",
   "metadata": {},
   "source": [
    "<h3 style=\"text-align:center\"><div style=\"font-size : 20px; font-style : Verdana; text-align : center\">Odvisnost kvalitete knjige od leta izida</h3>"
   ]
  },
  {
   "cell_type": "code",
   "execution_count": 25,
   "metadata": {},
   "outputs": [],
   "source": [
    "izid_leto = po_desetletjih.agg(\n",
    "**{\n",
    "    'Kvaliteta': pd.NamedAgg(column='Točke', aggfunc='mean')\n",
    "})"
   ]
  },
  {
   "cell_type": "code",
   "execution_count": 26,
   "metadata": {},
   "outputs": [
    {
     "data": {
      "text/html": [
       "<div>\n",
       "<style scoped>\n",
       "    .dataframe tbody tr th:only-of-type {\n",
       "        vertical-align: middle;\n",
       "    }\n",
       "\n",
       "    .dataframe tbody tr th {\n",
       "        vertical-align: top;\n",
       "    }\n",
       "\n",
       "    .dataframe thead th {\n",
       "        text-align: right;\n",
       "    }\n",
       "</style>\n",
       "<table border=\"1\" class=\"dataframe\">\n",
       "  <thead>\n",
       "    <tr style=\"text-align: right;\">\n",
       "      <th></th>\n",
       "      <th>Kvaliteta</th>\n",
       "    </tr>\n",
       "    <tr>\n",
       "      <th>Desetletje</th>\n",
       "      <th></th>\n",
       "    </tr>\n",
       "  </thead>\n",
       "  <tbody>\n",
       "    <tr>\n",
       "      <th>0</th>\n",
       "      <td>368.625000</td>\n",
       "    </tr>\n",
       "    <tr>\n",
       "      <th>1920</th>\n",
       "      <td>217.000000</td>\n",
       "    </tr>\n",
       "    <tr>\n",
       "      <th>1930</th>\n",
       "      <td>400.680000</td>\n",
       "    </tr>\n",
       "    <tr>\n",
       "      <th>1940</th>\n",
       "      <td>339.666667</td>\n",
       "    </tr>\n",
       "    <tr>\n",
       "      <th>1950</th>\n",
       "      <td>1241.117647</td>\n",
       "    </tr>\n",
       "    <tr>\n",
       "      <th>1960</th>\n",
       "      <td>737.716418</td>\n",
       "    </tr>\n",
       "    <tr>\n",
       "      <th>1970</th>\n",
       "      <td>124.000000</td>\n",
       "    </tr>\n",
       "    <tr>\n",
       "      <th>1980</th>\n",
       "      <td>238.000000</td>\n",
       "    </tr>\n",
       "    <tr>\n",
       "      <th>2000</th>\n",
       "      <td>132.600000</td>\n",
       "    </tr>\n",
       "    <tr>\n",
       "      <th>2010</th>\n",
       "      <td>91.000000</td>\n",
       "    </tr>\n",
       "    <tr>\n",
       "      <th>2020</th>\n",
       "      <td>96.000000</td>\n",
       "    </tr>\n",
       "  </tbody>\n",
       "</table>\n",
       "</div>"
      ],
      "text/plain": [
       "              Kvaliteta\n",
       "Desetletje             \n",
       "0            368.625000\n",
       "1920         217.000000\n",
       "1930         400.680000\n",
       "1940         339.666667\n",
       "1950        1241.117647\n",
       "1960         737.716418\n",
       "1970         124.000000\n",
       "1980         238.000000\n",
       "2000         132.600000\n",
       "2010          91.000000\n",
       "2020          96.000000"
      ]
     },
     "execution_count": 26,
     "metadata": {},
     "output_type": "execute_result"
    }
   ],
   "source": [
    "izid_leto"
   ]
  },
  {
   "cell_type": "code",
   "execution_count": 27,
   "metadata": {},
   "outputs": [],
   "source": [
    "izid_leto.drop(0, axis='index', inplace=True)  # Knjig brez navedenega leta izida ne upoštevamo."
   ]
  },
  {
   "cell_type": "code",
   "execution_count": 28,
   "metadata": {},
   "outputs": [],
   "source": [
    "izid_leto['Kvaliteta'] = round(izid_leto['Kvaliteta'], 2)"
   ]
  },
  {
   "cell_type": "code",
   "execution_count": 29,
   "metadata": {},
   "outputs": [
    {
     "data": {
      "text/plain": [
       "<Axes: xlabel='Desetletje', ylabel='Točke'>"
      ]
     },
     "execution_count": 29,
     "metadata": {},
     "output_type": "execute_result"
    },
    {
     "data": {
      "image/png": "[encoded data removed]",
      "text/plain": [
       "<Figure size 640x480 with 1 Axes>"
      ]
     },
     "metadata": {},
     "output_type": "display_data"
    }
   ],
   "source": [
    "izid_leto.plot(ylabel='Točke')"
   ]
  },
  {
   "cell_type": "markdown",
   "metadata": {},
   "source": [
    "<h3 style=\"text-align:center\"><div style=\"font-size : 20px; font-style : Verdana; text-align : center\">Odvisnost dolžine knjige od leta izida</h3>"
   ]
  },
  {
   "cell_type": "code",
   "execution_count": 30,
   "metadata": {},
   "outputs": [],
   "source": [
    "leto_dolzina = po_desetletjih.agg(\n",
    "    **{\n",
    "'Dolžina': pd.NamedAgg(column='Dolžina', aggfunc='mean')\n",
    "    })"
   ]
  },
  {
   "cell_type": "code",
   "execution_count": 31,
   "metadata": {},
   "outputs": [],
   "source": [
    "leto_dolzina.drop(0, inplace=True)"
   ]
  },
  {
   "cell_type": "code",
   "execution_count": 32,
   "metadata": {},
   "outputs": [
    {
     "data": {
      "text/plain": [
       "<Axes: xlabel='Desetletje', ylabel='Povprečna dolžina knjig (strani)'>"
      ]
     },
     "execution_count": 32,
     "metadata": {},
     "output_type": "execute_result"
    },
    {
     "data": {
      "image/png": "[encoded data removed]",
      "text/plain": [
       "<Figure size 640x480 with 1 Axes>"
      ]
     },
     "metadata": {},
     "output_type": "display_data"
    }
   ],
   "source": [
    "leto_dolzina.plot(ylabel='Povprečna dolžina knjig (strani)')"
   ]
  },
  {
   "cell_type": "markdown",
   "metadata": {},
   "source": [
    "<h3 style=\"text-align:center\"><div style=\"font-size : 20px; font-style : Verdana; text-align : center\">Odvisnost kvalitete knjige od njene dolžine</div></h3>"
   ]
  },
  {
   "cell_type": "markdown",
   "metadata": {},
   "source": [
    "<p style=\"font-family:'Times New Roman', font-size:12px\"> Radi bi videli, ali so daljše knjige kvalitetnejše. Pogledali bomo, koliko točk povprečno prejme vsaka knjiga iz posameznega razreda, pri čemer en razred predstavljajo vse tiste knjige, katerih števila strani dajo pri deljenju s 50 isti celi del.</p>"
   ]
  },
  {
   "cell_type": "code",
   "execution_count": 33,
   "metadata": {},
   "outputs": [],
   "source": [
    "dolzina_kvaliteta = podatki[['Dolžina', 'Točke']]"
   ]
  },
  {
   "cell_type": "code",
   "execution_count": 34,
   "metadata": {},
   "outputs": [
    {
     "name": "stderr",
     "output_type": "stream",
     "text": [
      "C:\\Users\\Benjamin\\AppData\\Local\\Temp\\ipykernel_6860\\2990771249.py:1: SettingWithCopyWarning: \n",
      "A value is trying to be set on a copy of a slice from a DataFrame.\n",
      "Try using .loc[row_indexer,col_indexer] = value instead\n",
      "\n",
      "See the caveats in the documentation: https://pandas.pydata.org/pandas-docs/stable/user_guide/indexing.html#returning-a-view-versus-a-copy\n",
      "  dolzina_kvaliteta['Razred dolžine'] = (dolzina_kvaliteta['Dolžina']//50)*50\n"
     ]
    }
   ],
   "source": [
    "dolzina_kvaliteta['Razred dolžine'] = (dolzina_kvaliteta['Dolžina']//50)*50"
   ]
  },
  {
   "cell_type": "code",
   "execution_count": 35,
   "metadata": {},
   "outputs": [
    {
     "data": {
      "text/html": [
       "<div>\n",
       "<style scoped>\n",
       "    .dataframe tbody tr th:only-of-type {\n",
       "        vertical-align: middle;\n",
       "    }\n",
       "\n",
       "    .dataframe tbody tr th {\n",
       "        vertical-align: top;\n",
       "    }\n",
       "\n",
       "    .dataframe thead th {\n",
       "        text-align: right;\n",
       "    }\n",
       "</style>\n",
       "<table border=\"1\" class=\"dataframe\">\n",
       "  <thead>\n",
       "    <tr style=\"text-align: right;\">\n",
       "      <th></th>\n",
       "      <th>Dolžina</th>\n",
       "      <th>Točke</th>\n",
       "      <th>Razred dolžine</th>\n",
       "    </tr>\n",
       "    <tr>\n",
       "      <th>Naslov</th>\n",
       "      <th></th>\n",
       "      <th></th>\n",
       "      <th></th>\n",
       "    </tr>\n",
       "  </thead>\n",
       "  <tbody>\n",
       "    <tr>\n",
       "      <th>The Hobbit (The Lord of the Rings, #0)</th>\n",
       "      <td>366</td>\n",
       "      <td>5793</td>\n",
       "      <td>350</td>\n",
       "    </tr>\n",
       "    <tr>\n",
       "      <th>Lost Horizon</th>\n",
       "      <td>241</td>\n",
       "      <td>1276</td>\n",
       "      <td>200</td>\n",
       "    </tr>\n",
       "    <tr>\n",
       "      <th>At the Mountains of Madness</th>\n",
       "      <td>194</td>\n",
       "      <td>1185</td>\n",
       "      <td>150</td>\n",
       "    </tr>\n",
       "    <tr>\n",
       "      <th>Mary Poppins (Mary Poppins, #1)</th>\n",
       "      <td>209</td>\n",
       "      <td>1169</td>\n",
       "      <td>200</td>\n",
       "    </tr>\n",
       "    <tr>\n",
       "      <th>The Sword in the Stone (The Once and Future King, #1)</th>\n",
       "      <td>352</td>\n",
       "      <td>968</td>\n",
       "      <td>350</td>\n",
       "    </tr>\n",
       "    <tr>\n",
       "      <th>...</th>\n",
       "      <td>...</td>\n",
       "      <td>...</td>\n",
       "      <td>...</td>\n",
       "    </tr>\n",
       "    <tr>\n",
       "      <th>Duke Elric (Chronicles of the Last Emperor of Melniboné, #4)</th>\n",
       "      <td>368</td>\n",
       "      <td>90</td>\n",
       "      <td>350</td>\n",
       "    </tr>\n",
       "    <tr>\n",
       "      <th>Elric</th>\n",
       "      <td>416</td>\n",
       "      <td>89</td>\n",
       "      <td>400</td>\n",
       "    </tr>\n",
       "    <tr>\n",
       "      <th>Elric in the Dream Realms (Chronicles of the Last Emperor of Melniboné, #5)</th>\n",
       "      <td>448</td>\n",
       "      <td>88</td>\n",
       "      <td>400</td>\n",
       "    </tr>\n",
       "    <tr>\n",
       "      <th>Atlan (Atlan, #2)</th>\n",
       "      <td>334</td>\n",
       "      <td>70</td>\n",
       "      <td>300</td>\n",
       "    </tr>\n",
       "    <tr>\n",
       "      <th>Higglety Pigglety Pop! or There Must Be More to Life</th>\n",
       "      <td>69</td>\n",
       "      <td>61</td>\n",
       "      <td>50</td>\n",
       "    </tr>\n",
       "  </tbody>\n",
       "</table>\n",
       "<p>239 rows × 3 columns</p>\n",
       "</div>"
      ],
      "text/plain": [
       "                                                    Dolžina  Točke  \\\n",
       "Naslov                                                               \n",
       "The Hobbit (The Lord of the Rings, #0)                  366   5793   \n",
       "Lost Horizon                                            241   1276   \n",
       "At the Mountains of Madness                             194   1185   \n",
       "Mary Poppins (Mary Poppins, #1)                         209   1169   \n",
       "The Sword in the Stone (The Once and Future Kin...      352    968   \n",
       "...                                                     ...    ...   \n",
       "Duke Elric (Chronicles of the Last Emperor of M...      368     90   \n",
       "Elric                                                   416     89   \n",
       "Elric in the Dream Realms (Chronicles of the La...      448     88   \n",
       "Atlan (Atlan, #2)                                       334     70   \n",
       "Higglety Pigglety Pop! or There Must Be More to...       69     61   \n",
       "\n",
       "                                                    Razred dolžine  \n",
       "Naslov                                                              \n",
       "The Hobbit (The Lord of the Rings, #0)                         350  \n",
       "Lost Horizon                                                   200  \n",
       "At the Mountains of Madness                                    150  \n",
       "Mary Poppins (Mary Poppins, #1)                                200  \n",
       "The Sword in the Stone (The Once and Future Kin...             350  \n",
       "...                                                            ...  \n",
       "Duke Elric (Chronicles of the Last Emperor of M...             350  \n",
       "Elric                                                          400  \n",
       "Elric in the Dream Realms (Chronicles of the La...             400  \n",
       "Atlan (Atlan, #2)                                              300  \n",
       "Higglety Pigglety Pop! or There Must Be More to...              50  \n",
       "\n",
       "[239 rows x 3 columns]"
      ]
     },
     "execution_count": 35,
     "metadata": {},
     "output_type": "execute_result"
    }
   ],
   "source": [
    "dolzina_kvaliteta"
   ]
  },
  {
   "cell_type": "code",
   "execution_count": 36,
   "metadata": {},
   "outputs": [],
   "source": [
    "po_dolzini = dolzina_kvaliteta.groupby('Razred dolžine')"
   ]
  },
  {
   "cell_type": "code",
   "execution_count": 37,
   "metadata": {},
   "outputs": [],
   "source": [
    "dolzina_tocke = pd.DataFrame(po_dolzini['Točke'].mean())"
   ]
  },
  {
   "cell_type": "code",
   "execution_count": 38,
   "metadata": {},
   "outputs": [
    {
     "data": {
      "text/html": [
       "<div>\n",
       "<style scoped>\n",
       "    .dataframe tbody tr th:only-of-type {\n",
       "        vertical-align: middle;\n",
       "    }\n",
       "\n",
       "    .dataframe tbody tr th {\n",
       "        vertical-align: top;\n",
       "    }\n",
       "\n",
       "    .dataframe thead th {\n",
       "        text-align: right;\n",
       "    }\n",
       "</style>\n",
       "<table border=\"1\" class=\"dataframe\">\n",
       "  <thead>\n",
       "    <tr style=\"text-align: right;\">\n",
       "      <th></th>\n",
       "      <th>Točke</th>\n",
       "    </tr>\n",
       "    <tr>\n",
       "      <th>Razred dolžine</th>\n",
       "      <th></th>\n",
       "    </tr>\n",
       "  </thead>\n",
       "  <tbody>\n",
       "    <tr>\n",
       "      <th>0</th>\n",
       "      <td>433.409091</td>\n",
       "    </tr>\n",
       "    <tr>\n",
       "      <th>50</th>\n",
       "      <td>223.000000</td>\n",
       "    </tr>\n",
       "    <tr>\n",
       "      <th>100</th>\n",
       "      <td>344.875000</td>\n",
       "    </tr>\n",
       "    <tr>\n",
       "      <th>150</th>\n",
       "      <td>568.163636</td>\n",
       "    </tr>\n",
       "    <tr>\n",
       "      <th>200</th>\n",
       "      <td>911.625000</td>\n",
       "    </tr>\n",
       "    <tr>\n",
       "      <th>250</th>\n",
       "      <td>441.058824</td>\n",
       "    </tr>\n",
       "    <tr>\n",
       "      <th>300</th>\n",
       "      <td>682.687500</td>\n",
       "    </tr>\n",
       "    <tr>\n",
       "      <th>350</th>\n",
       "      <td>1302.384615</td>\n",
       "    </tr>\n",
       "    <tr>\n",
       "      <th>400</th>\n",
       "      <td>980.571429</td>\n",
       "    </tr>\n",
       "    <tr>\n",
       "      <th>450</th>\n",
       "      <td>120.000000</td>\n",
       "    </tr>\n",
       "    <tr>\n",
       "      <th>500</th>\n",
       "      <td>609.000000</td>\n",
       "    </tr>\n",
       "    <tr>\n",
       "      <th>550</th>\n",
       "      <td>382.000000</td>\n",
       "    </tr>\n",
       "    <tr>\n",
       "      <th>600</th>\n",
       "      <td>2101.000000</td>\n",
       "    </tr>\n",
       "    <tr>\n",
       "      <th>650</th>\n",
       "      <td>248.000000</td>\n",
       "    </tr>\n",
       "    <tr>\n",
       "      <th>750</th>\n",
       "      <td>1857.000000</td>\n",
       "    </tr>\n",
       "    <tr>\n",
       "      <th>1000</th>\n",
       "      <td>490.000000</td>\n",
       "    </tr>\n",
       "    <tr>\n",
       "      <th>1200</th>\n",
       "      <td>2456.000000</td>\n",
       "    </tr>\n",
       "  </tbody>\n",
       "</table>\n",
       "</div>"
      ],
      "text/plain": [
       "                      Točke\n",
       "Razred dolžine             \n",
       "0                433.409091\n",
       "50               223.000000\n",
       "100              344.875000\n",
       "150              568.163636\n",
       "200              911.625000\n",
       "250              441.058824\n",
       "300              682.687500\n",
       "350             1302.384615\n",
       "400              980.571429\n",
       "450              120.000000\n",
       "500              609.000000\n",
       "550              382.000000\n",
       "600             2101.000000\n",
       "650              248.000000\n",
       "750             1857.000000\n",
       "1000             490.000000\n",
       "1200            2456.000000"
      ]
     },
     "execution_count": 38,
     "metadata": {},
     "output_type": "execute_result"
    }
   ],
   "source": [
    "dolzina_tocke"
   ]
  },
  {
   "cell_type": "code",
   "execution_count": 39,
   "metadata": {},
   "outputs": [
    {
     "data": {
      "text/plain": [
       "<Axes: xlabel='Razred dolžine', ylabel='Točke'>"
      ]
     },
     "execution_count": 39,
     "metadata": {},
     "output_type": "execute_result"
    },
    {
     "data": {
      "image/png": "[encoded data removed]",
      "text/plain": [
       "<Figure size 640x480 with 1 Axes>"
      ]
     },
     "metadata": {},
     "output_type": "display_data"
    }
   ],
   "source": [
    "dolzina_tocke.plot(xlabel='Razred dolžine', ylabel='Točke')"
   ]
  },
  {
   "cell_type": "markdown",
   "metadata": {},
   "source": [
    "<h3 style=\"text-align:center\"><div style=\"font-size : 20px; font-style : Verdana; text-align : center\">Odvisnost števila bralcev knjige od njene dolžine</div></h3>"
   ]
  },
  {
   "cell_type": "code",
   "execution_count": 40,
   "metadata": {},
   "outputs": [
    {
     "name": "stderr",
     "output_type": "stream",
     "text": [
      "C:\\Users\\Benjamin\\AppData\\Local\\Temp\\ipykernel_6860\\4146701510.py:1: SettingWithCopyWarning: \n",
      "A value is trying to be set on a copy of a slice from a DataFrame.\n",
      "Try using .loc[row_indexer,col_indexer] = value instead\n",
      "\n",
      "See the caveats in the documentation: https://pandas.pydata.org/pandas-docs/stable/user_guide/indexing.html#returning-a-view-versus-a-copy\n",
      "  podatki['Razred dolžine'] = (podatki['Dolžina']//50)*50\n"
     ]
    }
   ],
   "source": [
    "podatki['Razred dolžine'] = (podatki['Dolžina']//50)*50 "
   ]
  },
  {
   "cell_type": "code",
   "execution_count": 42,
   "metadata": {},
   "outputs": [],
   "source": [
    "po_razredih_dolzine = podatki.groupby('Razred dolžine')"
   ]
  },
  {
   "cell_type": "code",
   "execution_count": null,
   "metadata": {},
   "outputs": [],
   "source": [
    "dolzina_bralci = pd.DataFrame(po_razredih_dolzine['Število bralcev'].sum()) "
   ]
  },
  {
   "cell_type": "code",
   "execution_count": null,
   "metadata": {},
   "outputs": [],
   "source": [
    "dolzina_bralci.plot(ylabel='Skupno število bralcev (v milijonih)')"
   ]
  },
  {
   "cell_type": "markdown",
   "metadata": {},
   "source": [
    "<h3 style=\"text-align:center\"><div style=\"font-size : 20px; font-style : Verdana; text-align : center\">Sklepi</div></h3>"
   ]
  },
  {
   "cell_type": "markdown",
   "metadata": {},
   "source": []
  },
  {
   "cell_type": "markdown",
   "metadata": {},
   "source": [
    "<h2 style='text-align:center'> <div style=\"font-size : 30px; font-style : Verdana; text-align : center \"> Zlata leta fantazijskega žanra </div> </h2>"
   ]
  },
  {
   "cell_type": "markdown",
   "metadata": {},
   "source": [
    "<p style=\"font-family:'Times New Roman', font-size:12px\"> Za konec si poglejmo še, katera so bila tista \"zlata leta\" fantazijskega žanra, tj. v katerem desetletju so nastajali najboljši fantazijski romani. <br> To bomo ugotovili tako, da bomo pogledali razvrstitev desetletij po določenih kategorijah, jim vsakič pripisali neko število točk, na koncu pa točke sešteli in kot najboljše desetletje razglasili tisto desetletje, ki bo imelo največ točk.</p>\n",
    "<p style=\"font-family:'Times New Roman', font-size:12px\"> Omenjene kategorije bodo: <ul>\n",
    "    <li> število knjig, ki so bile napisane v desetletju,</li>\n",
    "    <li> povprečna kvaliteta knjig,</li>\n",
    "    <li> število bralcev, ki je prebralo knjige iz določenega desetletja in</li>\n",
    "    <li> število avtorjev, ki je ustvarjalo v posameznem desetletju.</li>\n",
    "    </ul></p>"
   ]
  },
  {
   "cell_type": "code",
   "execution_count": null,
   "metadata": {},
   "outputs": [],
   "source": [
    "analiza_po_desetletjih = po_desetletjih.agg(\n",
    "**{\n",
    "    'Število knjig' : pd.NamedAgg(column='Točke', aggfunc='size'),\n",
    "    'Kvaliteta' : pd.NamedAgg(column='Točke', aggfunc='mean'),\n",
    "    'Število bralcev' : pd.NamedAgg(column='Število bralcev', aggfunc='sum'),\n",
    "    'Število avtorjev' : pd.NamedAgg(column='Avtor', aggfunc=lambda x: len(x.unique()))\n",
    "    \n",
    "})"
   ]
  },
  {
   "cell_type": "code",
   "execution_count": null,
   "metadata": {},
   "outputs": [],
   "source": [
    "analiza_po_desetletjih.drop(0, inplace=True)"
   ]
  },
  {
   "cell_type": "code",
   "execution_count": null,
   "metadata": {},
   "outputs": [],
   "source": [
    "analiza_po_desetletjih['Kvaliteta'] = round(analiza_po_desetletjih['Kvaliteta'], 2)"
   ]
  },
  {
   "cell_type": "code",
   "execution_count": null,
   "metadata": {},
   "outputs": [],
   "source": [
    "analiza_po_desetletjih"
   ]
  },
  {
   "cell_type": "code",
   "execution_count": null,
   "metadata": {},
   "outputs": [],
   "source": [
    "# Beleženje rezultatov po kategorijah\n",
    "zlate_tocke = {\n",
    "    'Desetletje': [1900 + i*10 for i in range(2,13)],\n",
    "    'Delež':[],\n",
    "    'Kvaliteta':[],\n",
    "    'Število bralcev':[],\n",
    "    'Število avtorjev':[],\n",
    "}"
   ]
  },
  {
   "cell_type": "markdown",
   "metadata": {},
   "source": [
    "<h3 style=\"text-align:center\"><div style=\"font-size : 20px; font-style : Verdana; text-align : center\">Delež knjig, ki so izšle v posameznih desetletjih</div></h3>"
   ]
  },
  {
   "cell_type": "code",
   "execution_count": null,
   "metadata": {},
   "outputs": [],
   "source": [
    "analiza_st_knjig = pd.DataFrame(analiza_po_desetletjih['Število knjig'])"
   ]
  },
  {
   "cell_type": "code",
   "execution_count": null,
   "metadata": {},
   "outputs": [],
   "source": [
    "analiza_st_knjig.reset_index(inplace=True)"
   ]
  },
  {
   "cell_type": "code",
   "execution_count": null,
   "metadata": {},
   "outputs": [],
   "source": [
    "analiza_st_knjig.index += 1"
   ]
  },
  {
   "cell_type": "code",
   "execution_count": null,
   "metadata": {},
   "outputs": [],
   "source": [
    "analiza_st_knjig"
   ]
  },
  {
   "cell_type": "code",
   "execution_count": null,
   "metadata": {},
   "outputs": [],
   "source": [
    "analiza_po_desetletjih['Število knjig'].plot(kind='pie', figsize=(20, 20), fontsize=20, ylabel=None)"
   ]
  },
  {
   "cell_type": "code",
   "execution_count": null,
   "metadata": {},
   "outputs": [],
   "source": [
    "zlate_tocke['Delež'] = zld.mesto_v_tabeli(analiza_st_knjig, 'Število knjig')"
   ]
  },
  {
   "cell_type": "markdown",
   "metadata": {},
   "source": [
    "<h3 style=\"text-align:center\"><div style=\"font-size : 20px; font-style : Verdana; text-align : center\">Kvaliteta knjig</div></h3>"
   ]
  },
  {
   "cell_type": "code",
   "execution_count": null,
   "metadata": {},
   "outputs": [],
   "source": [
    "analiza_kvalitete = pd.DataFrame(analiza_po_desetletjih['Kvaliteta'])"
   ]
  },
  {
   "cell_type": "code",
   "execution_count": null,
   "metadata": {},
   "outputs": [],
   "source": [
    "analiza_po_desetletjih['Kvaliteta'].plot(kind='bar', ylabel='Povprečno število točk')"
   ]
  },
  {
   "cell_type": "code",
   "execution_count": null,
   "metadata": {},
   "outputs": [],
   "source": [
    "zlate_tocke['Kvaliteta'] = zld.mesto_v_tabeli(analiza_kvalitete, 'Kvaliteta')"
   ]
  },
  {
   "cell_type": "markdown",
   "metadata": {},
   "source": [
    "<h3 style=\"text-align:center\"><div style=\"font-size : 20px; font-style : Verdana; text-align : center\">Število bralcev</div></h3>"
   ]
  },
  {
   "cell_type": "code",
   "execution_count": null,
   "metadata": {},
   "outputs": [],
   "source": [
    "analiza_po_desetletjih['Število bralcev'].plot(kind='bar', ylabel='Število bralcev')"
   ]
  },
  {
   "cell_type": "code",
   "execution_count": null,
   "metadata": {},
   "outputs": [],
   "source": [
    "analiza_bralci = pd.DataFrame(analiza_po_desetletjih['Število bralcev'])"
   ]
  },
  {
   "cell_type": "code",
   "execution_count": null,
   "metadata": {},
   "outputs": [],
   "source": [
    "analiza_bralci.plot(kind='bar' ylabel='Število bralcev')"
   ]
  },
  {
   "cell_type": "code",
   "execution_count": null,
   "metadata": {},
   "outputs": [],
   "source": [
    "zlate_tocke['Število bralcev'] = zld.mesto_v_tabeli(analiza_bralci, 'Število bralcev')"
   ]
  },
  {
   "cell_type": "markdown",
   "metadata": {},
   "source": [
    "<h3 style=\"text-align:center\"><div style=\"font-size : 20px; font-style : Verdana; text-align : center\">Število piscev fantazijskih romanov</div></h3>"
   ]
  },
  {
   "cell_type": "code",
   "execution_count": null,
   "metadata": {},
   "outputs": [],
   "source": [
    "analiza_po_desetletjih['Število avtorjev'].plot(kind='bar', ylabel='Število ustvarjalcev v obdobju')"
   ]
  },
  {
   "cell_type": "code",
   "execution_count": null,
   "metadata": {},
   "outputs": [],
   "source": [
    "analiza_avtorji = pd.DataFrame(analiza_po_desetletjih['Število avtorjev'])"
   ]
  },
  {
   "cell_type": "code",
   "execution_count": null,
   "metadata": {},
   "outputs": [],
   "source": [
    "analiza_avtorji.plot(kind='bar', ylabel='Število avtorjev')"
   ]
  },
  {
   "cell_type": "code",
   "execution_count": null,
   "metadata": {},
   "outputs": [],
   "source": [
    "zlate_tocke['Število avtorjev'] = zld.mesto_v_tabeli(st_avtorjev, 'Število avtorjev')"
   ]
  },
  {
   "cell_type": "markdown",
   "metadata": {},
   "source": [
    "<h3 style=\"text-align:center\"><div style=\"font-size : 20px; font-style : Verdana; text-align : center\">Iskanje zlatega desetletja</div></h3>"
   ]
  },
  {
   "cell_type": "code",
   "execution_count": null,
   "metadata": {},
   "outputs": [],
   "source": [
    "vrstni_red = pd.DataFrame(zlate_tocke)"
   ]
  },
  {
   "cell_type": "code",
   "execution_count": null,
   "metadata": {},
   "outputs": [],
   "source": [
    "vrstni_red"
   ]
  },
  {
   "cell_type": "code",
   "execution_count": null,
   "metadata": {},
   "outputs": [],
   "source": [
    "# Računanje vsot prejetih točk\n",
    "seznam_vsot = []\n",
    "for i in range(len(vrstni_red)):\n",
    "    vsota = 0\n",
    "    for j in range(1, 5):\n",
    "        vsota += vrstni_red.iloc[i, j]\n",
    "    seznam_vsot.append(vsota)\n",
    "\n",
    "slovar = {'Desetletje':[1920 + i*10 for i in range(0, 11)], 'Skupne točke' : seznam_vsot}\n",
    "skupne_tocke = pd.DataFrame(slovar)\n",
    "skupne_tocke"
   ]
  },
  {
   "cell_type": "code",
   "execution_count": null,
   "metadata": {},
   "outputs": [],
   "source": [
    "vrstni_red_po_tockah = vrstni_red.merge(skupne_tocke, how='outer', on='Desetletje')"
   ]
  },
  {
   "cell_type": "code",
   "execution_count": null,
   "metadata": {},
   "outputs": [],
   "source": [
    "vrstni_red_po_tockah.sort_values(by=['Skupne točke', 'Desetletje'], ascending=[False, True], inplace=True)"
   ]
  },
  {
   "cell_type": "code",
   "execution_count": null,
   "metadata": {},
   "outputs": [],
   "source": [
    "vrstni_red_po_tockah.reset_index(inplace=True)"
   ]
  },
  {
   "cell_type": "code",
   "execution_count": null,
   "metadata": {},
   "outputs": [],
   "source": [
    "vrstni_red_po_tockah.index += 1"
   ]
  },
  {
   "cell_type": "code",
   "execution_count": null,
   "metadata": {},
   "outputs": [],
   "source": [
    "vrstni_red_po_tockah.drop(columns=[\"index\"], inplace=True)"
   ]
  },
  {
   "cell_type": "code",
   "execution_count": null,
   "metadata": {},
   "outputs": [],
   "source": [
    "vrstni_red_po_tockah"
   ]
  },
  {
   "cell_type": "code",
   "execution_count": null,
   "metadata": {},
   "outputs": [],
   "source": [
    "graf_desetletij = vrstni_red_po_tockah[['Desetletje', 'Delež', 'Kvaliteta', 'Število bralcev', 'Število avtorjev']].set_index('Desetletje').plot(kind='bar', stacked = True)"
   ]
  },
  {
   "cell_type": "markdown",
   "metadata": {},
   "source": [
    "<h3 style=\"text-align:center\"><div style=\"font-size : 20px; font-style : Verdana; text-align : center\">Sklepi</div></h3>"
   ]
  },
  {
   "cell_type": "markdown",
   "metadata": {},
   "source": []
  },
  {
   "cell_type": "markdown",
   "metadata": {},
   "source": [
    "<h2 style='text-align:center'> <div style=\"font-size : 30px; font-style : Verdana; text-align : center \"> Zaključki </div> </h2>"
   ]
  },
  {
   "cell_type": "markdown",
   "metadata": {},
   "source": [
    "<p style=\"font-family:'Times New Roman', font-size:12px\">Iz rezultatov analize, prikazanih zgoraj, sledi</p> "
   ]
  },
  {
   "cell_type": "code",
   "execution_count": null,
   "metadata": {},
   "outputs": [],
   "source": []
  }
 ],
 "metadata": {
  "kernelspec": {
   "display_name": "Python 3 (ipykernel)",
   "language": "python",
   "name": "python3"
  },
  "language_info": {
   "codemirror_mode": {
    "name": "ipython",
    "version": 3
   },
   "file_extension": ".py",
   "mimetype": "text/x-python",
   "name": "python",
   "nbconvert_exporter": "python",
   "pygments_lexer": "ipython3",
   "version": "3.11.2"
  }
 },
 "nbformat": 4,
 "nbformat_minor": 2
}
