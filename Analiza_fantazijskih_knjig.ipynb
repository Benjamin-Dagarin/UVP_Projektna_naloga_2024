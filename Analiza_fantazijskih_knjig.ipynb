{
 "cells": [
  {
   "cell_type": "markdown",
   "metadata": {},
   "source": [
    "<h1 style=\"text-align:center;font-size:50px;font-family:'Copperplate';\">Analiza fantazijskih knjig</h1>"
   ]
  },
  {
   "cell_type": "markdown",
   "metadata": {},
   "source": [
    "<h2 style=\"text-align:center;font-family:Verdana;font-size:40px;margin-bottom:1cm;\"> Priprava </h2>"
   ]
  },
  {
   "cell_type": "code",
   "execution_count": 1,
   "metadata": {},
   "outputs": [],
   "source": [
    "import pandas as pd\n",
    "import zlato_desetletje as zld"
   ]
  },
  {
   "cell_type": "code",
   "execution_count": 2,
   "metadata": {},
   "outputs": [],
   "source": [
    "pot = \"C:\\\\Users\\\\Benjamin\\\\Desktop\\\\Šola\\\\FMF\\\\UVP\\\\UVP_Projektna_naloga_2024\\\\podatki_fantazijske_knjige.csv\"\n",
    "podatki = pd.read_csv(pot, index_col='Naslov')"
   ]
  },
  {
   "cell_type": "code",
   "execution_count": 3,
   "metadata": {},
   "outputs": [],
   "source": [
    "podatki.fillna(0, inplace=True)"
   ]
  },
  {
   "cell_type": "markdown",
   "metadata": {},
   "source": [
    "<h3 style=\"text-align:center;font-family:Garamond;font-size:30px;\"> Lestvice najboljših in analiza trendov </h3>"
   ]
  },
  {
   "cell_type": "code",
   "execution_count": 4,
   "metadata": {},
   "outputs": [],
   "source": [
    "# Sprememba decimalnih števil, ki bi morala biti cela, v cela števila.\n",
    "podatki['Dolžina'] = podatki['Dolžina'].astype(int, errors='ignore')\n",
    "podatki['Leto izida'] = podatki['Leto izida'].astype(int, errors='ignore')\n",
    "podatki['Število bralcev'] = podatki['Število bralcev'].astype(int, errors='ignore')"
   ]
  },
  {
   "cell_type": "code",
   "execution_count": 5,
   "metadata": {},
   "outputs": [],
   "source": [
    "podatki['Desetletje'] = (podatki['Leto izida']//10)*10"
   ]
  },
  {
   "cell_type": "code",
   "execution_count": 6,
   "metadata": {},
   "outputs": [],
   "source": [
    "podatki = podatki[['Avtor', 'Leto izida', 'Desetletje', 'Dolžina', 'Točke', 'Ocena', 'Število bralcev']]"
   ]
  },
  {
   "cell_type": "code",
   "execution_count": 7,
   "metadata": {},
   "outputs": [],
   "source": [
    "podatki.reset_index(inplace=True)"
   ]
  },
  {
   "cell_type": "code",
   "execution_count": 8,
   "metadata": {},
   "outputs": [],
   "source": [
    "podatki.drop_duplicates(subset='Naslov', keep='first', inplace=True)"
   ]
  },
  {
   "cell_type": "code",
   "execution_count": 9,
   "metadata": {},
   "outputs": [],
   "source": [
    "podatki.set_index('Naslov', inplace=True)"
   ]
  },
  {
   "cell_type": "code",
   "execution_count": 10,
   "metadata": {},
   "outputs": [],
   "source": [
    "# Izključitev knjige \"Harry Potter and the Phylosopher's Stone\", saj je upoštevana \"Harry Potter and the Sorcerer's Stone\"\n",
    "# z istimi vrednostmi atributov\n",
    "podatki.drop('Harry Potter and the Philosopher’s Stone (Harry Potter, #1)', axis='rows', inplace=True)"
   ]
  },
  {
   "cell_type": "code",
   "execution_count": 11,
   "metadata": {},
   "outputs": [
    {
     "data": {
      "text/html": [
       "<div>\n",
       "<style scoped>\n",
       "    .dataframe tbody tr th:only-of-type {\n",
       "        vertical-align: middle;\n",
       "    }\n",
       "\n",
       "    .dataframe tbody tr th {\n",
       "        vertical-align: top;\n",
       "    }\n",
       "\n",
       "    .dataframe thead th {\n",
       "        text-align: right;\n",
       "    }\n",
       "</style>\n",
       "<table border=\"1\" class=\"dataframe\">\n",
       "  <thead>\n",
       "    <tr style=\"text-align: right;\">\n",
       "      <th></th>\n",
       "      <th>Avtor</th>\n",
       "      <th>Leto izida</th>\n",
       "      <th>Desetletje</th>\n",
       "      <th>Dolžina</th>\n",
       "      <th>Točke</th>\n",
       "      <th>Ocena</th>\n",
       "      <th>Število bralcev</th>\n",
       "    </tr>\n",
       "    <tr>\n",
       "      <th>Naslov</th>\n",
       "      <th></th>\n",
       "      <th></th>\n",
       "      <th></th>\n",
       "      <th></th>\n",
       "      <th></th>\n",
       "      <th></th>\n",
       "      <th></th>\n",
       "    </tr>\n",
       "  </thead>\n",
       "  <tbody>\n",
       "    <tr>\n",
       "      <th>The Hobbit (The Lord of the Rings, #0)</th>\n",
       "      <td>J.R.R. Tolkien</td>\n",
       "      <td>1937</td>\n",
       "      <td>1930</td>\n",
       "      <td>366</td>\n",
       "      <td>5793</td>\n",
       "      <td>4.29</td>\n",
       "      <td>4067050</td>\n",
       "    </tr>\n",
       "    <tr>\n",
       "      <th>Lost Horizon</th>\n",
       "      <td>James Hilton</td>\n",
       "      <td>1933</td>\n",
       "      <td>1930</td>\n",
       "      <td>241</td>\n",
       "      <td>1276</td>\n",
       "      <td>3.95</td>\n",
       "      <td>22940</td>\n",
       "    </tr>\n",
       "    <tr>\n",
       "      <th>At the Mountains of Madness</th>\n",
       "      <td>H.P. Lovecraft</td>\n",
       "      <td>1931</td>\n",
       "      <td>1930</td>\n",
       "      <td>194</td>\n",
       "      <td>1185</td>\n",
       "      <td>3.81</td>\n",
       "      <td>55059</td>\n",
       "    </tr>\n",
       "    <tr>\n",
       "      <th>Mary Poppins (Mary Poppins, #1)</th>\n",
       "      <td>P.L. Travers</td>\n",
       "      <td>1934</td>\n",
       "      <td>1930</td>\n",
       "      <td>209</td>\n",
       "      <td>1169</td>\n",
       "      <td>4.01</td>\n",
       "      <td>134801</td>\n",
       "    </tr>\n",
       "    <tr>\n",
       "      <th>The Sword in the Stone (The Once and Future King, #1)</th>\n",
       "      <td>T.H. White</td>\n",
       "      <td>1938</td>\n",
       "      <td>1930</td>\n",
       "      <td>352</td>\n",
       "      <td>968</td>\n",
       "      <td>3.89</td>\n",
       "      <td>26897</td>\n",
       "    </tr>\n",
       "    <tr>\n",
       "      <th>...</th>\n",
       "      <td>...</td>\n",
       "      <td>...</td>\n",
       "      <td>...</td>\n",
       "      <td>...</td>\n",
       "      <td>...</td>\n",
       "      <td>...</td>\n",
       "      <td>...</td>\n",
       "    </tr>\n",
       "    <tr>\n",
       "      <th>The Wizard of Eventide (The Goddess War, 3)</th>\n",
       "      <td>Kelley Skovron</td>\n",
       "      <td>2022</td>\n",
       "      <td>2020</td>\n",
       "      <td>400</td>\n",
       "      <td>18</td>\n",
       "      <td>4.14</td>\n",
       "      <td>78</td>\n",
       "    </tr>\n",
       "    <tr>\n",
       "      <th>The Fury of the Gods (The Bloodsworn Saga, #3)</th>\n",
       "      <td>John Gwynne</td>\n",
       "      <td>2024</td>\n",
       "      <td>2020</td>\n",
       "      <td>528</td>\n",
       "      <td>15</td>\n",
       "      <td>4.47</td>\n",
       "      <td>106</td>\n",
       "    </tr>\n",
       "    <tr>\n",
       "      <th>Age of Ash (Kithamar, #1)</th>\n",
       "      <td>Daniel Abraham</td>\n",
       "      <td>2022</td>\n",
       "      <td>2020</td>\n",
       "      <td>448</td>\n",
       "      <td>14</td>\n",
       "      <td>3.68</td>\n",
       "      <td>3424</td>\n",
       "    </tr>\n",
       "    <tr>\n",
       "      <th>The Castle of Tangled Magic</th>\n",
       "      <td>Sophie   Anderson</td>\n",
       "      <td>2020</td>\n",
       "      <td>2020</td>\n",
       "      <td>416</td>\n",
       "      <td>13</td>\n",
       "      <td>4.02</td>\n",
       "      <td>2038</td>\n",
       "    </tr>\n",
       "    <tr>\n",
       "      <th>Blade of Dream (Kithamar, #2)</th>\n",
       "      <td>Daniel Abraham</td>\n",
       "      <td>2023</td>\n",
       "      <td>2020</td>\n",
       "      <td>464</td>\n",
       "      <td>13</td>\n",
       "      <td>4.30</td>\n",
       "      <td>939</td>\n",
       "    </tr>\n",
       "  </tbody>\n",
       "</table>\n",
       "<p>3537 rows × 7 columns</p>\n",
       "</div>"
      ],
      "text/plain": [
       "                                                                Avtor  \\\n",
       "Naslov                                                                  \n",
       "The Hobbit (The Lord of the Rings, #0)                 J.R.R. Tolkien   \n",
       "Lost Horizon                                             James Hilton   \n",
       "At the Mountains of Madness                            H.P. Lovecraft   \n",
       "Mary Poppins (Mary Poppins, #1)                          P.L. Travers   \n",
       "The Sword in the Stone (The Once and Future Kin...         T.H. White   \n",
       "...                                                               ...   \n",
       "The Wizard of Eventide (The Goddess War, 3)            Kelley Skovron   \n",
       "The Fury of the Gods (The Bloodsworn Saga, #3)            John Gwynne   \n",
       "Age of Ash (Kithamar, #1)                              Daniel Abraham   \n",
       "The Castle of Tangled Magic                         Sophie   Anderson   \n",
       "Blade of Dream (Kithamar, #2)                          Daniel Abraham   \n",
       "\n",
       "                                                    Leto izida  Desetletje  \\\n",
       "Naslov                                                                       \n",
       "The Hobbit (The Lord of the Rings, #0)                    1937        1930   \n",
       "Lost Horizon                                              1933        1930   \n",
       "At the Mountains of Madness                               1931        1930   \n",
       "Mary Poppins (Mary Poppins, #1)                           1934        1930   \n",
       "The Sword in the Stone (The Once and Future Kin...        1938        1930   \n",
       "...                                                        ...         ...   \n",
       "The Wizard of Eventide (The Goddess War, 3)               2022        2020   \n",
       "The Fury of the Gods (The Bloodsworn Saga, #3)            2024        2020   \n",
       "Age of Ash (Kithamar, #1)                                 2022        2020   \n",
       "The Castle of Tangled Magic                               2020        2020   \n",
       "Blade of Dream (Kithamar, #2)                             2023        2020   \n",
       "\n",
       "                                                    Dolžina  Točke  Ocena  \\\n",
       "Naslov                                                                      \n",
       "The Hobbit (The Lord of the Rings, #0)                  366   5793   4.29   \n",
       "Lost Horizon                                            241   1276   3.95   \n",
       "At the Mountains of Madness                             194   1185   3.81   \n",
       "Mary Poppins (Mary Poppins, #1)                         209   1169   4.01   \n",
       "The Sword in the Stone (The Once and Future Kin...      352    968   3.89   \n",
       "...                                                     ...    ...    ...   \n",
       "The Wizard of Eventide (The Goddess War, 3)             400     18   4.14   \n",
       "The Fury of the Gods (The Bloodsworn Saga, #3)          528     15   4.47   \n",
       "Age of Ash (Kithamar, #1)                               448     14   3.68   \n",
       "The Castle of Tangled Magic                             416     13   4.02   \n",
       "Blade of Dream (Kithamar, #2)                           464     13   4.30   \n",
       "\n",
       "                                                    Število bralcev  \n",
       "Naslov                                                               \n",
       "The Hobbit (The Lord of the Rings, #0)                      4067050  \n",
       "Lost Horizon                                                  22940  \n",
       "At the Mountains of Madness                                   55059  \n",
       "Mary Poppins (Mary Poppins, #1)                              134801  \n",
       "The Sword in the Stone (The Once and Future Kin...            26897  \n",
       "...                                                             ...  \n",
       "The Wizard of Eventide (The Goddess War, 3)                      78  \n",
       "The Fury of the Gods (The Bloodsworn Saga, #3)                  106  \n",
       "Age of Ash (Kithamar, #1)                                      3424  \n",
       "The Castle of Tangled Magic                                    2038  \n",
       "Blade of Dream (Kithamar, #2)                                   939  \n",
       "\n",
       "[3537 rows x 7 columns]"
      ]
     },
     "execution_count": 11,
     "metadata": {},
     "output_type": "execute_result"
    }
   ],
   "source": [
    "podatki"
   ]
  },
  {
   "cell_type": "code",
   "execution_count": 12,
   "metadata": {},
   "outputs": [],
   "source": [
    "po_desetletjih = podatki.groupby('Desetletje')"
   ]
  },
  {
   "cell_type": "code",
   "execution_count": 13,
   "metadata": {},
   "outputs": [],
   "source": [
    "pd.set_option('display.float_format', lambda x: '%.2f' % x)"
   ]
  },
  {
   "cell_type": "markdown",
   "metadata": {},
   "source": [
    "<h3 style=\"text-align:center;font-family:Garamond;font-size:30px;\"> Priprava za iskanje zlatega desetletja </h3>"
   ]
  },
  {
   "cell_type": "code",
   "execution_count": 14,
   "metadata": {},
   "outputs": [],
   "source": [
    "analiza_po_desetletjih = po_desetletjih.agg(\n",
    "**{\n",
    "    'Število knjig' : pd.NamedAgg(column='Točke', aggfunc='size'),\n",
    "    'Kvaliteta' : pd.NamedAgg(column='Točke', aggfunc='mean'),\n",
    "    'Povprečno število bralcev' : pd.NamedAgg(column='Število bralcev', aggfunc='mean'),\n",
    "    'Število avtorjev' : pd.NamedAgg(column='Avtor', aggfunc=lambda x: len(x.unique()))\n",
    "    \n",
    "})"
   ]
  },
  {
   "cell_type": "code",
   "execution_count": 15,
   "metadata": {},
   "outputs": [],
   "source": [
    "analiza_po_desetletjih.drop([0, 1840, 1890], inplace=True)"
   ]
  },
  {
   "cell_type": "code",
   "execution_count": 16,
   "metadata": {},
   "outputs": [],
   "source": [
    "analiza_po_desetletjih['Kvaliteta'] = round(analiza_po_desetletjih['Kvaliteta'], 2)"
   ]
  },
  {
   "cell_type": "code",
   "execution_count": 17,
   "metadata": {},
   "outputs": [],
   "source": [
    "# Beleženje rezultatov po kategorijah\n",
    "zlate_tocke = {\n",
    "    'Desetletje': [1900 + i*10 for i in range(2,13)],\n",
    "    'Delež':[],\n",
    "    'Kvaliteta':[],\n",
    "    'Povprečno število bralcev':[],\n",
    "    'Število avtorjev':[],\n",
    "}"
   ]
  },
  {
   "cell_type": "markdown",
   "metadata": {},
   "source": [
    "<p style=\"font-family:'Times New Roman';font-size:20px;margin-bottom:1cm;\"> Podatke, ki potrebujemo za iskanje zlatega desetleja fantazijskega žanra, bomo zbirali sproti.</p>"
   ]
  },
  {
   "cell_type": "markdown",
   "metadata": {},
   "source": [
    "<h2 style=\"text-align:center;font-family:Verdana;font-size:40px;margin-bottom:1cm;\"> Lestvice najboljših </h2>"
   ]
  },
  {
   "cell_type": "markdown",
   "metadata": {},
   "source": [
    "<p style=\"font-family:'Times New Roman';font-size:20px;\"> Najprej si poglejmo najboljših 10 predstavnikov iz vsake kategorije.</p>"
   ]
  },
  {
   "cell_type": "markdown",
   "metadata": {},
   "source": [
    "<h3 style=\"text-align:center;font-family:Garamond;font-size:30px;\"> Najkvalitetnejše knjige </h3>"
   ]
  },
  {
   "cell_type": "markdown",
   "metadata": {},
   "source": [
    "<p style=\"font-family:'Times New Roman';font-size:20px;margin-bottom:0.5cm;\"> Poizvedimo najprej, katere knjige so najkvalitetnejše. Kot merilo kvalitete vzemimo št. točk oz. t. i. \"score\", kakor je navedeno na spletni strani. Točke upoštevajo št. bralcev, ki je ocenilo knjigo, ter povprečno oceno, ki so ji jo prisodili.</p>"
   ]
  },
  {
   "cell_type": "code",
   "execution_count": 18,
   "metadata": {},
   "outputs": [],
   "source": [
    "naj_knjige_po_tockah = pd.DataFrame(podatki['Točke'].sort_values(ascending=False))"
   ]
  },
  {
   "cell_type": "code",
   "execution_count": 19,
   "metadata": {},
   "outputs": [],
   "source": [
    "naj_knjige_po_tockah.reset_index(inplace=True)"
   ]
  },
  {
   "cell_type": "code",
   "execution_count": 20,
   "metadata": {},
   "outputs": [],
   "source": [
    "naj_knjige_po_tockah.index += 1"
   ]
  },
  {
   "cell_type": "code",
   "execution_count": 21,
   "metadata": {},
   "outputs": [
    {
     "data": {
      "text/html": [
       "<div>\n",
       "<style scoped>\n",
       "    .dataframe tbody tr th:only-of-type {\n",
       "        vertical-align: middle;\n",
       "    }\n",
       "\n",
       "    .dataframe tbody tr th {\n",
       "        vertical-align: top;\n",
       "    }\n",
       "\n",
       "    .dataframe thead th {\n",
       "        text-align: right;\n",
       "    }\n",
       "</style>\n",
       "<table border=\"1\" class=\"dataframe\">\n",
       "  <thead>\n",
       "    <tr style=\"text-align: right;\">\n",
       "      <th></th>\n",
       "      <th>Naslov</th>\n",
       "      <th>Točke</th>\n",
       "    </tr>\n",
       "  </thead>\n",
       "  <tbody>\n",
       "    <tr>\n",
       "      <th>1</th>\n",
       "      <td>The Way of Kings (The Stormlight Archive, #1)</td>\n",
       "      <td>66172</td>\n",
       "    </tr>\n",
       "    <tr>\n",
       "      <th>2</th>\n",
       "      <td>Words of Radiance (The Stormlight Archive, #2)</td>\n",
       "      <td>51565</td>\n",
       "    </tr>\n",
       "    <tr>\n",
       "      <th>3</th>\n",
       "      <td>The Wise Man’s Fear (The Kingkiller Chronicle,...</td>\n",
       "      <td>43622</td>\n",
       "    </tr>\n",
       "    <tr>\n",
       "      <th>4</th>\n",
       "      <td>Harry Potter and the Sorcerer's Stone (Harry P...</td>\n",
       "      <td>25663</td>\n",
       "    </tr>\n",
       "    <tr>\n",
       "      <th>5</th>\n",
       "      <td>A Game of Thrones (A Song of Ice and Fire, #1)</td>\n",
       "      <td>24076</td>\n",
       "    </tr>\n",
       "    <tr>\n",
       "      <th>6</th>\n",
       "      <td>The Eye of the World (The Wheel of Time, #1)</td>\n",
       "      <td>21596</td>\n",
       "    </tr>\n",
       "    <tr>\n",
       "      <th>7</th>\n",
       "      <td>The Name of the Wind (The Kingkiller Chronicle...</td>\n",
       "      <td>20124</td>\n",
       "    </tr>\n",
       "    <tr>\n",
       "      <th>8</th>\n",
       "      <td>The Final Empire (Mistborn #1)</td>\n",
       "      <td>17752</td>\n",
       "    </tr>\n",
       "    <tr>\n",
       "      <th>9</th>\n",
       "      <td>Red Rising (Red Rising Saga, #1)</td>\n",
       "      <td>16497</td>\n",
       "    </tr>\n",
       "    <tr>\n",
       "      <th>10</th>\n",
       "      <td>Harry Potter and the Deathly Hallows (Harry Po...</td>\n",
       "      <td>16296</td>\n",
       "    </tr>\n",
       "  </tbody>\n",
       "</table>\n",
       "</div>"
      ],
      "text/plain": [
       "                                               Naslov  Točke\n",
       "1       The Way of Kings (The Stormlight Archive, #1)  66172\n",
       "2      Words of Radiance (The Stormlight Archive, #2)  51565\n",
       "3   The Wise Man’s Fear (The Kingkiller Chronicle,...  43622\n",
       "4   Harry Potter and the Sorcerer's Stone (Harry P...  25663\n",
       "5      A Game of Thrones (A Song of Ice and Fire, #1)  24076\n",
       "6        The Eye of the World (The Wheel of Time, #1)  21596\n",
       "7   The Name of the Wind (The Kingkiller Chronicle...  20124\n",
       "8                      The Final Empire (Mistborn #1)  17752\n",
       "9                    Red Rising (Red Rising Saga, #1)  16497\n",
       "10  Harry Potter and the Deathly Hallows (Harry Po...  16296"
      ]
     },
     "execution_count": 21,
     "metadata": {},
     "output_type": "execute_result"
    }
   ],
   "source": [
    "naj_knjige_po_tockah.head(10)"
   ]
  },
  {
   "cell_type": "markdown",
   "metadata": {},
   "source": [
    "<h3 style=\"text-align:center;font-family:Garamond;font-size:30px;\"> Najkvalitetnejši avtorji </h3>"
   ]
  },
  {
   "cell_type": "markdown",
   "metadata": {},
   "source": [
    "<p style=\"font-family:'Times New Roman';font-size:20px;margin-bottom:0.5cm;\"> Sedaj analizirajmo avtorje po kvaliteti knjig, ki so jih napisali. Kot merilo zopet vzemimo število točk, le da tokrat avtorju pripišimo povprečje točk njegovih knjig.</p>"
   ]
  },
  {
   "cell_type": "code",
   "execution_count": 22,
   "metadata": {},
   "outputs": [],
   "source": [
    "po_avtorjih = podatki.groupby('Avtor')"
   ]
  },
  {
   "cell_type": "code",
   "execution_count": 23,
   "metadata": {},
   "outputs": [],
   "source": [
    "naj_avtorji_po_tockah = (pd.DataFrame(po_avtorjih['Točke'].mean())).sort_values(by='Točke',ascending=False)"
   ]
  },
  {
   "cell_type": "code",
   "execution_count": 24,
   "metadata": {},
   "outputs": [],
   "source": [
    "naj_avtorji_po_tockah['Točke'] = round(naj_avtorji_po_tockah['Točke'], 2)"
   ]
  },
  {
   "cell_type": "code",
   "execution_count": 25,
   "metadata": {},
   "outputs": [],
   "source": [
    "naj_avtorji_po_tockah.reset_index(inplace=True)"
   ]
  },
  {
   "cell_type": "code",
   "execution_count": 26,
   "metadata": {},
   "outputs": [],
   "source": [
    "naj_avtorji_po_tockah.index += 1"
   ]
  },
  {
   "cell_type": "code",
   "execution_count": 27,
   "metadata": {},
   "outputs": [
    {
     "data": {
      "text/html": [
       "<div>\n",
       "<style scoped>\n",
       "    .dataframe tbody tr th:only-of-type {\n",
       "        vertical-align: middle;\n",
       "    }\n",
       "\n",
       "    .dataframe tbody tr th {\n",
       "        vertical-align: top;\n",
       "    }\n",
       "\n",
       "    .dataframe thead th {\n",
       "        text-align: right;\n",
       "    }\n",
       "</style>\n",
       "<table border=\"1\" class=\"dataframe\">\n",
       "  <thead>\n",
       "    <tr style=\"text-align: right;\">\n",
       "      <th></th>\n",
       "      <th>Avtor</th>\n",
       "      <th>Točke</th>\n",
       "    </tr>\n",
       "  </thead>\n",
       "  <tbody>\n",
       "    <tr>\n",
       "      <th>1</th>\n",
       "      <td>Patrick Rothfuss</td>\n",
       "      <td>21508.67</td>\n",
       "    </tr>\n",
       "    <tr>\n",
       "      <th>2</th>\n",
       "      <td>J.K. Rowling</td>\n",
       "      <td>9165.27</td>\n",
       "    </tr>\n",
       "    <tr>\n",
       "      <th>3</th>\n",
       "      <td>Brandon Sanderson</td>\n",
       "      <td>8929.54</td>\n",
       "    </tr>\n",
       "    <tr>\n",
       "      <th>4</th>\n",
       "      <td>Scott Lynch</td>\n",
       "      <td>8780.50</td>\n",
       "    </tr>\n",
       "    <tr>\n",
       "      <th>5</th>\n",
       "      <td>Robert Jordan</td>\n",
       "      <td>6818.79</td>\n",
       "    </tr>\n",
       "    <tr>\n",
       "      <th>6</th>\n",
       "      <td>Pierce Brown</td>\n",
       "      <td>6769.25</td>\n",
       "    </tr>\n",
       "    <tr>\n",
       "      <th>7</th>\n",
       "      <td>Neil Gaiman</td>\n",
       "      <td>6574.14</td>\n",
       "    </tr>\n",
       "    <tr>\n",
       "      <th>8</th>\n",
       "      <td>William Goldman</td>\n",
       "      <td>6363.00</td>\n",
       "    </tr>\n",
       "    <tr>\n",
       "      <th>9</th>\n",
       "      <td>Erin Morgenstern</td>\n",
       "      <td>5810.00</td>\n",
       "    </tr>\n",
       "    <tr>\n",
       "      <th>10</th>\n",
       "      <td>Terry Goodkind</td>\n",
       "      <td>5705.00</td>\n",
       "    </tr>\n",
       "  </tbody>\n",
       "</table>\n",
       "</div>"
      ],
      "text/plain": [
       "                Avtor    Točke\n",
       "1    Patrick Rothfuss 21508.67\n",
       "2        J.K. Rowling  9165.27\n",
       "3   Brandon Sanderson  8929.54\n",
       "4         Scott Lynch  8780.50\n",
       "5       Robert Jordan  6818.79\n",
       "6        Pierce Brown  6769.25\n",
       "7         Neil Gaiman  6574.14\n",
       "8     William Goldman  6363.00\n",
       "9    Erin Morgenstern  5810.00\n",
       "10     Terry Goodkind  5705.00"
      ]
     },
     "execution_count": 27,
     "metadata": {},
     "output_type": "execute_result"
    }
   ],
   "source": [
    "naj_avtorji_po_tockah.head(10)"
   ]
  },
  {
   "cell_type": "markdown",
   "metadata": {},
   "source": [
    "<h3 style=\"text-align:center;font-family:Garamond;font-size:30px;\"> Najbolj brane knjige </h3>"
   ]
  },
  {
   "cell_type": "markdown",
   "metadata": {},
   "source": [
    "<p style=\"font-family:'Times New Roman'; font-size:20px;margin-bottom:0.5cm;\"> Kot zanimivost si poglejmo še, katere so najbolj brane knjige in najbolj brani avtorji ter rezultata primerjajmo z zgornjima. Kot kriterij sem vzel število ljudi, ki je ocenilo knjigo na spletni strani, saj dejanskega števila ljudi, ki so prebrali knjigo, ni mogoče zares ugotoviti.</p>"
   ]
  },
  {
   "cell_type": "code",
   "execution_count": 28,
   "metadata": {},
   "outputs": [],
   "source": [
    "naj_knjige_po_bralcih = podatki.sort_values(by='Število bralcev', ascending=False)"
   ]
  },
  {
   "cell_type": "code",
   "execution_count": 29,
   "metadata": {},
   "outputs": [],
   "source": [
    "naj_knjige_po_bralcih = pd.DataFrame(naj_knjige_po_bralcih['Število bralcev'])"
   ]
  },
  {
   "cell_type": "code",
   "execution_count": 30,
   "metadata": {},
   "outputs": [],
   "source": [
    "naj_knjige_po_bralcih.reset_index(inplace=True)"
   ]
  },
  {
   "cell_type": "code",
   "execution_count": 31,
   "metadata": {},
   "outputs": [],
   "source": [
    "naj_knjige_po_bralcih.index += 1"
   ]
  },
  {
   "cell_type": "code",
   "execution_count": 32,
   "metadata": {},
   "outputs": [
    {
     "data": {
      "text/html": [
       "<div>\n",
       "<style scoped>\n",
       "    .dataframe tbody tr th:only-of-type {\n",
       "        vertical-align: middle;\n",
       "    }\n",
       "\n",
       "    .dataframe tbody tr th {\n",
       "        vertical-align: top;\n",
       "    }\n",
       "\n",
       "    .dataframe thead th {\n",
       "        text-align: right;\n",
       "    }\n",
       "</style>\n",
       "<table border=\"1\" class=\"dataframe\">\n",
       "  <thead>\n",
       "    <tr style=\"text-align: right;\">\n",
       "      <th></th>\n",
       "      <th>Naslov</th>\n",
       "      <th>Število bralcev</th>\n",
       "    </tr>\n",
       "  </thead>\n",
       "  <tbody>\n",
       "    <tr>\n",
       "      <th>1</th>\n",
       "      <td>Harry Potter and the Sorcerer's Stone (Harry P...</td>\n",
       "      <td>10271334</td>\n",
       "    </tr>\n",
       "    <tr>\n",
       "      <th>2</th>\n",
       "      <td>The Hunger Games (The Hunger Games, #1)</td>\n",
       "      <td>8859007</td>\n",
       "    </tr>\n",
       "    <tr>\n",
       "      <th>3</th>\n",
       "      <td>Twilight (The Twilight Saga, #1)</td>\n",
       "      <td>6698056</td>\n",
       "    </tr>\n",
       "    <tr>\n",
       "      <th>4</th>\n",
       "      <td>Harry Potter and the Prisoner of Azkaban (Harr...</td>\n",
       "      <td>4291784</td>\n",
       "    </tr>\n",
       "    <tr>\n",
       "      <th>5</th>\n",
       "      <td>The Hobbit (The Lord of the Rings, #0)</td>\n",
       "      <td>4067050</td>\n",
       "    </tr>\n",
       "    <tr>\n",
       "      <th>6</th>\n",
       "      <td>Divergent (Divergent, #1)</td>\n",
       "      <td>4049910</td>\n",
       "    </tr>\n",
       "    <tr>\n",
       "      <th>7</th>\n",
       "      <td>Harry Potter and the Chamber of Secrets (Harry...</td>\n",
       "      <td>4017607</td>\n",
       "    </tr>\n",
       "    <tr>\n",
       "      <th>8</th>\n",
       "      <td>Animal Farm</td>\n",
       "      <td>3978536</td>\n",
       "    </tr>\n",
       "    <tr>\n",
       "      <th>9</th>\n",
       "      <td>Harry Potter and the Deathly Hallows (Harry Po...</td>\n",
       "      <td>3777239</td>\n",
       "    </tr>\n",
       "    <tr>\n",
       "      <th>10</th>\n",
       "      <td>Harry Potter and the Goblet of Fire (Harry Pot...</td>\n",
       "      <td>3777222</td>\n",
       "    </tr>\n",
       "  </tbody>\n",
       "</table>\n",
       "</div>"
      ],
      "text/plain": [
       "                                               Naslov  Število bralcev\n",
       "1   Harry Potter and the Sorcerer's Stone (Harry P...         10271334\n",
       "2             The Hunger Games (The Hunger Games, #1)          8859007\n",
       "3                    Twilight (The Twilight Saga, #1)          6698056\n",
       "4   Harry Potter and the Prisoner of Azkaban (Harr...          4291784\n",
       "5              The Hobbit (The Lord of the Rings, #0)          4067050\n",
       "6                           Divergent (Divergent, #1)          4049910\n",
       "7   Harry Potter and the Chamber of Secrets (Harry...          4017607\n",
       "8                                         Animal Farm          3978536\n",
       "9   Harry Potter and the Deathly Hallows (Harry Po...          3777239\n",
       "10  Harry Potter and the Goblet of Fire (Harry Pot...          3777222"
      ]
     },
     "execution_count": 32,
     "metadata": {},
     "output_type": "execute_result"
    }
   ],
   "source": [
    "naj_knjige_po_bralcih.head(10)"
   ]
  },
  {
   "cell_type": "markdown",
   "metadata": {},
   "source": [
    "<h3 style=\"text-align:center;font-family:Garamond;font-size:30px;\"> Najbolj brani avtorji </h3>"
   ]
  },
  {
   "cell_type": "markdown",
   "metadata": {},
   "source": [
    "<p style=\"font-family:'Times New Roman';font-size:20px;margin-bottom:0.5cm;\"> Še po avtorjih </p>"
   ]
  },
  {
   "cell_type": "code",
   "execution_count": 33,
   "metadata": {},
   "outputs": [],
   "source": [
    "naj_avtorji_po_bralcih = (pd.DataFrame(po_avtorjih['Število bralcev'].mean())).sort_values(by='Število bralcev',\n",
    "                                                                                           ascending=False)"
   ]
  },
  {
   "cell_type": "code",
   "execution_count": 34,
   "metadata": {},
   "outputs": [],
   "source": [
    "naj_avtorji_po_bralcih.reset_index(inplace=True)"
   ]
  },
  {
   "cell_type": "code",
   "execution_count": 35,
   "metadata": {},
   "outputs": [],
   "source": [
    "naj_avtorji_po_bralcih.index += 1"
   ]
  },
  {
   "cell_type": "code",
   "execution_count": 36,
   "metadata": {},
   "outputs": [
    {
     "data": {
      "text/html": [
       "<div>\n",
       "<style scoped>\n",
       "    .dataframe tbody tr th:only-of-type {\n",
       "        vertical-align: middle;\n",
       "    }\n",
       "\n",
       "    .dataframe tbody tr th {\n",
       "        vertical-align: top;\n",
       "    }\n",
       "\n",
       "    .dataframe thead th {\n",
       "        text-align: right;\n",
       "    }\n",
       "</style>\n",
       "<table border=\"1\" class=\"dataframe\">\n",
       "  <thead>\n",
       "    <tr style=\"text-align: right;\">\n",
       "      <th></th>\n",
       "      <th>Avtor</th>\n",
       "      <th>Število bralcev</th>\n",
       "    </tr>\n",
       "  </thead>\n",
       "  <tbody>\n",
       "    <tr>\n",
       "      <th>1</th>\n",
       "      <td>George Orwell</td>\n",
       "      <td>3978536.00</td>\n",
       "    </tr>\n",
       "    <tr>\n",
       "      <th>2</th>\n",
       "      <td>Suzanne Collins</td>\n",
       "      <td>3218892.40</td>\n",
       "    </tr>\n",
       "    <tr>\n",
       "      <th>3</th>\n",
       "      <td>J.K. Rowling</td>\n",
       "      <td>3139881.36</td>\n",
       "    </tr>\n",
       "    <tr>\n",
       "      <th>4</th>\n",
       "      <td>Alice Sebold</td>\n",
       "      <td>2376406.00</td>\n",
       "    </tr>\n",
       "    <tr>\n",
       "      <th>5</th>\n",
       "      <td>Stephenie Meyer</td>\n",
       "      <td>2246038.50</td>\n",
       "    </tr>\n",
       "    <tr>\n",
       "      <th>6</th>\n",
       "      <td>Veronica Roth</td>\n",
       "      <td>2214468.00</td>\n",
       "    </tr>\n",
       "    <tr>\n",
       "      <th>7</th>\n",
       "      <td>Antoine de Saint-Exupéry</td>\n",
       "      <td>2158323.00</td>\n",
       "    </tr>\n",
       "    <tr>\n",
       "      <th>8</th>\n",
       "      <td>Rebecca Yarros</td>\n",
       "      <td>1845910.00</td>\n",
       "    </tr>\n",
       "    <tr>\n",
       "      <th>9</th>\n",
       "      <td>Audrey Niffenegger</td>\n",
       "      <td>1800145.00</td>\n",
       "    </tr>\n",
       "    <tr>\n",
       "      <th>10</th>\n",
       "      <td>Yann Martel</td>\n",
       "      <td>1646466.00</td>\n",
       "    </tr>\n",
       "  </tbody>\n",
       "</table>\n",
       "</div>"
      ],
      "text/plain": [
       "                       Avtor  Število bralcev\n",
       "1              George Orwell       3978536.00\n",
       "2            Suzanne Collins       3218892.40\n",
       "3               J.K. Rowling       3139881.36\n",
       "4               Alice Sebold       2376406.00\n",
       "5            Stephenie Meyer       2246038.50\n",
       "6              Veronica Roth       2214468.00\n",
       "7   Antoine de Saint-Exupéry       2158323.00\n",
       "8             Rebecca Yarros       1845910.00\n",
       "9         Audrey Niffenegger       1800145.00\n",
       "10               Yann Martel       1646466.00"
      ]
     },
     "execution_count": 36,
     "metadata": {},
     "output_type": "execute_result"
    }
   ],
   "source": [
    "naj_avtorji_po_bralcih.head(10)"
   ]
  },
  {
   "cell_type": "markdown",
   "metadata": {},
   "source": [
    "<h3 style=\"text-align:center;font-family:Garamond;font-size:30px;\"> Ugotovitve </h3>"
   ]
  },
  {
   "cell_type": "markdown",
   "metadata": {},
   "source": [
    "<p style=\"font-family:'Times New Roman';font-size:20px;margin-bottom:1cm;\"> Če sedaj še povzamemo zgornje zaključke in poskusimo narediti kakšen sklep, </p>"
   ]
  },
  {
   "cell_type": "code",
   "execution_count": 37,
   "metadata": {},
   "outputs": [
    {
     "data": {
      "text/html": [
       "<div>\n",
       "<style scoped>\n",
       "    .dataframe tbody tr th:only-of-type {\n",
       "        vertical-align: middle;\n",
       "    }\n",
       "\n",
       "    .dataframe tbody tr th {\n",
       "        vertical-align: top;\n",
       "    }\n",
       "\n",
       "    .dataframe thead th {\n",
       "        text-align: right;\n",
       "    }\n",
       "</style>\n",
       "<table border=\"1\" class=\"dataframe\">\n",
       "  <thead>\n",
       "    <tr style=\"text-align: right;\">\n",
       "      <th></th>\n",
       "      <th>Avtor</th>\n",
       "      <th>Točke</th>\n",
       "    </tr>\n",
       "    <tr>\n",
       "      <th>Naslov</th>\n",
       "      <th></th>\n",
       "      <th></th>\n",
       "    </tr>\n",
       "  </thead>\n",
       "  <tbody>\n",
       "    <tr>\n",
       "      <th>The Way of Kings (The Stormlight Archive, #1)</th>\n",
       "      <td>Brandon Sanderson</td>\n",
       "      <td>66172</td>\n",
       "    </tr>\n",
       "    <tr>\n",
       "      <th>Words of Radiance (The Stormlight Archive, #2)</th>\n",
       "      <td>Brandon Sanderson</td>\n",
       "      <td>51565</td>\n",
       "    </tr>\n",
       "    <tr>\n",
       "      <th>The Wise Man’s Fear (The Kingkiller Chronicle, #2)</th>\n",
       "      <td>Patrick Rothfuss</td>\n",
       "      <td>43622</td>\n",
       "    </tr>\n",
       "    <tr>\n",
       "      <th>Harry Potter and the Sorcerer's Stone (Harry Potter, #1)</th>\n",
       "      <td>J.K. Rowling</td>\n",
       "      <td>25663</td>\n",
       "    </tr>\n",
       "    <tr>\n",
       "      <th>A Game of Thrones (A Song of Ice and Fire, #1)</th>\n",
       "      <td>George R.R. Martin</td>\n",
       "      <td>24076</td>\n",
       "    </tr>\n",
       "    <tr>\n",
       "      <th>The Eye of the World (The Wheel of Time, #1)</th>\n",
       "      <td>Robert Jordan</td>\n",
       "      <td>21596</td>\n",
       "    </tr>\n",
       "    <tr>\n",
       "      <th>The Name of the Wind (The Kingkiller Chronicle, #1)</th>\n",
       "      <td>Patrick Rothfuss</td>\n",
       "      <td>20124</td>\n",
       "    </tr>\n",
       "    <tr>\n",
       "      <th>The Final Empire (Mistborn #1)</th>\n",
       "      <td>Brandon Sanderson</td>\n",
       "      <td>17752</td>\n",
       "    </tr>\n",
       "    <tr>\n",
       "      <th>Red Rising (Red Rising Saga, #1)</th>\n",
       "      <td>Pierce Brown</td>\n",
       "      <td>16497</td>\n",
       "    </tr>\n",
       "    <tr>\n",
       "      <th>Harry Potter and the Deathly Hallows (Harry Potter, #7)</th>\n",
       "      <td>J.K. Rowling</td>\n",
       "      <td>16296</td>\n",
       "    </tr>\n",
       "  </tbody>\n",
       "</table>\n",
       "</div>"
      ],
      "text/plain": [
       "                                                                 Avtor  Točke\n",
       "Naslov                                                                       \n",
       "The Way of Kings (The Stormlight Archive, #1)        Brandon Sanderson  66172\n",
       "Words of Radiance (The Stormlight Archive, #2)       Brandon Sanderson  51565\n",
       "The Wise Man’s Fear (The Kingkiller Chronicle, #2)    Patrick Rothfuss  43622\n",
       "Harry Potter and the Sorcerer's Stone (Harry Po...        J.K. Rowling  25663\n",
       "A Game of Thrones (A Song of Ice and Fire, #1)      George R.R. Martin  24076\n",
       "The Eye of the World (The Wheel of Time, #1)             Robert Jordan  21596\n",
       "The Name of the Wind (The Kingkiller Chronicle,...    Patrick Rothfuss  20124\n",
       "The Final Empire (Mistborn #1)                       Brandon Sanderson  17752\n",
       "Red Rising (Red Rising Saga, #1)                          Pierce Brown  16497\n",
       "Harry Potter and the Deathly Hallows (Harry Pot...        J.K. Rowling  16296"
      ]
     },
     "execution_count": 37,
     "metadata": {},
     "output_type": "execute_result"
    }
   ],
   "source": [
    "podatki.sort_values(by='Točke', ascending=False).head(10)[['Avtor', 'Točke']]"
   ]
  },
  {
   "cell_type": "code",
   "execution_count": 38,
   "metadata": {},
   "outputs": [
    {
     "data": {
      "text/html": [
       "<div>\n",
       "<style scoped>\n",
       "    .dataframe tbody tr th:only-of-type {\n",
       "        vertical-align: middle;\n",
       "    }\n",
       "\n",
       "    .dataframe tbody tr th {\n",
       "        vertical-align: top;\n",
       "    }\n",
       "\n",
       "    .dataframe thead th {\n",
       "        text-align: right;\n",
       "    }\n",
       "</style>\n",
       "<table border=\"1\" class=\"dataframe\">\n",
       "  <thead>\n",
       "    <tr style=\"text-align: right;\">\n",
       "      <th></th>\n",
       "      <th>Avtor</th>\n",
       "      <th>Število bralcev</th>\n",
       "    </tr>\n",
       "    <tr>\n",
       "      <th>Naslov</th>\n",
       "      <th></th>\n",
       "      <th></th>\n",
       "    </tr>\n",
       "  </thead>\n",
       "  <tbody>\n",
       "    <tr>\n",
       "      <th>Harry Potter and the Sorcerer's Stone (Harry Potter, #1)</th>\n",
       "      <td>J.K. Rowling</td>\n",
       "      <td>10271334</td>\n",
       "    </tr>\n",
       "    <tr>\n",
       "      <th>The Hunger Games (The Hunger Games, #1)</th>\n",
       "      <td>Suzanne Collins</td>\n",
       "      <td>8859007</td>\n",
       "    </tr>\n",
       "    <tr>\n",
       "      <th>Twilight (The Twilight Saga, #1)</th>\n",
       "      <td>Stephenie Meyer</td>\n",
       "      <td>6698056</td>\n",
       "    </tr>\n",
       "    <tr>\n",
       "      <th>Harry Potter and the Prisoner of Azkaban (Harry Potter, #3)</th>\n",
       "      <td>J.K. Rowling</td>\n",
       "      <td>4291784</td>\n",
       "    </tr>\n",
       "    <tr>\n",
       "      <th>The Hobbit (The Lord of the Rings, #0)</th>\n",
       "      <td>J.R.R. Tolkien</td>\n",
       "      <td>4067050</td>\n",
       "    </tr>\n",
       "    <tr>\n",
       "      <th>Divergent (Divergent, #1)</th>\n",
       "      <td>Veronica Roth</td>\n",
       "      <td>4049910</td>\n",
       "    </tr>\n",
       "    <tr>\n",
       "      <th>Harry Potter and the Chamber of Secrets (Harry Potter, #2)</th>\n",
       "      <td>J.K. Rowling</td>\n",
       "      <td>4017607</td>\n",
       "    </tr>\n",
       "    <tr>\n",
       "      <th>Animal Farm</th>\n",
       "      <td>George Orwell</td>\n",
       "      <td>3978536</td>\n",
       "    </tr>\n",
       "    <tr>\n",
       "      <th>Harry Potter and the Deathly Hallows (Harry Potter, #7)</th>\n",
       "      <td>J.K. Rowling</td>\n",
       "      <td>3777239</td>\n",
       "    </tr>\n",
       "    <tr>\n",
       "      <th>Harry Potter and the Goblet of Fire (Harry Potter, #4)</th>\n",
       "      <td>J.K. Rowling</td>\n",
       "      <td>3777222</td>\n",
       "    </tr>\n",
       "  </tbody>\n",
       "</table>\n",
       "</div>"
      ],
      "text/plain": [
       "                                                              Avtor  \\\n",
       "Naslov                                                                \n",
       "Harry Potter and the Sorcerer's Stone (Harry Po...     J.K. Rowling   \n",
       "The Hunger Games (The Hunger Games, #1)             Suzanne Collins   \n",
       "Twilight (The Twilight Saga, #1)                    Stephenie Meyer   \n",
       "Harry Potter and the Prisoner of Azkaban (Harry...     J.K. Rowling   \n",
       "The Hobbit (The Lord of the Rings, #0)               J.R.R. Tolkien   \n",
       "Divergent (Divergent, #1)                             Veronica Roth   \n",
       "Harry Potter and the Chamber of Secrets (Harry ...     J.K. Rowling   \n",
       "Animal Farm                                           George Orwell   \n",
       "Harry Potter and the Deathly Hallows (Harry Pot...     J.K. Rowling   \n",
       "Harry Potter and the Goblet of Fire (Harry Pott...     J.K. Rowling   \n",
       "\n",
       "                                                    Število bralcev  \n",
       "Naslov                                                               \n",
       "Harry Potter and the Sorcerer's Stone (Harry Po...         10271334  \n",
       "The Hunger Games (The Hunger Games, #1)                     8859007  \n",
       "Twilight (The Twilight Saga, #1)                            6698056  \n",
       "Harry Potter and the Prisoner of Azkaban (Harry...          4291784  \n",
       "The Hobbit (The Lord of the Rings, #0)                      4067050  \n",
       "Divergent (Divergent, #1)                                   4049910  \n",
       "Harry Potter and the Chamber of Secrets (Harry ...          4017607  \n",
       "Animal Farm                                                 3978536  \n",
       "Harry Potter and the Deathly Hallows (Harry Pot...          3777239  \n",
       "Harry Potter and the Goblet of Fire (Harry Pott...          3777222  "
      ]
     },
     "execution_count": 38,
     "metadata": {},
     "output_type": "execute_result"
    }
   ],
   "source": [
    "podatki.sort_values(by='Število bralcev', ascending=False).head(10)[['Avtor', 'Število bralcev']]"
   ]
  },
  {
   "cell_type": "markdown",
   "metadata": {},
   "source": [
    "<p style=\"font-family:'Times New Roman';font-size:20px;margin-bottom:0.5cm;margin-top:0.5cm;\">lahko ugotovimo, da v splošnem velja, da najbolj brani avtorji pišejo najbolj brane knjige, prav tako pa najkvalitetnejši avtorji pišejo najkvalitetnejše knjige. To pomeni, da so analizirani podatki oz odvisnosti dokaj konsistentne.</p> \n",
    "<p style=\"font-family:'Times New Roman';font-size:20px;margin-bottom:0.5cm;\"> Vidimo lahko, da je med knjigami daleč najbolj popularna serija knjig o Harryju Potterju, ki ima med prvimi desetimi najbolj branimi knjigami kar pet knjig. Joanne Rowling je prav tako tretja po skupnem številu bralcev in druga po kvaliteti, kjer pa jo vsaj po kvaliteti posameznih del prekašata Patrick Rothfuss in Brandon Sanderson.</p>"
   ]
  },
  {
   "cell_type": "markdown",
   "metadata": {},
   "source": [
    "<h2 style=\"text-align:center;font-family:Verdana;font-size:40px;margin-bottom:1cm;\"> Analiza trendov</h2>"
   ]
  },
  {
   "cell_type": "markdown",
   "metadata": {},
   "source": [
    "<p style=\"font-family:'Times New Roman';font-size:20px;margin-bottom:0.5cm;\"> Zanima nas tudi podrobnejše dogajanje v fantazijskem žanru.</p> \n",
    "<p style=\"font-family:'Times New Roman';font-size:20px;margin-bottom:0.5cm;\">Kot bralci bi se lahko vprašali, kako se tekom let in desetletij spreminjajo kvaliteta, dolžina in branost književnih del. Prav tako bi vsekakor želeli vedeti, ali so daljše knjige tudi kvalitetnejše ter ali ljudje raje berejo daljše ali krajše knjige.</p> \n",
    "<p style=\"font-family:'Times New Roman';font-size:20px;margin-bottom:0.5cm\">Iz rezultatov analize bomo poskusili napovedati trende na tem področju v prihodnosti.</p>"
   ]
  },
  {
   "cell_type": "markdown",
   "metadata": {},
   "source": [
    "<h3 style=\"text-align:center;font-family:Garamond;font-size:30px;\"> Odvisnost kvalitete od dolžine </h3>"
   ]
  },
  {
   "cell_type": "markdown",
   "metadata": {},
   "source": [
    "<p style=\"font-family:'Times New Roman';font-size:20px;margin-bottom:0.5cm\"> Radi bi videli, ali so daljše knjige kvalitetnejše. Pogledali bomo, koliko točk povprečno prejme vsaka knjiga iz posameznega razreda, pri čemer en razred predstavljajo vse tiste knjige, katerih števila strani dajo pri deljenju s 50 isti celi del.</p>"
   ]
  },
  {
   "cell_type": "code",
   "execution_count": 39,
   "metadata": {},
   "outputs": [],
   "source": [
    "dolzina_kvaliteta = podatki[['Dolžina', 'Točke']]"
   ]
  },
  {
   "cell_type": "code",
   "execution_count": 40,
   "metadata": {},
   "outputs": [],
   "source": [
    "dolzina_kvaliteta['Razred dolžine'] = (dolzina_kvaliteta['Dolžina']//50)*50"
   ]
  },
  {
   "cell_type": "code",
   "execution_count": 41,
   "metadata": {},
   "outputs": [
    {
     "data": {
      "text/html": [
       "<div>\n",
       "<style scoped>\n",
       "    .dataframe tbody tr th:only-of-type {\n",
       "        vertical-align: middle;\n",
       "    }\n",
       "\n",
       "    .dataframe tbody tr th {\n",
       "        vertical-align: top;\n",
       "    }\n",
       "\n",
       "    .dataframe thead th {\n",
       "        text-align: right;\n",
       "    }\n",
       "</style>\n",
       "<table border=\"1\" class=\"dataframe\">\n",
       "  <thead>\n",
       "    <tr style=\"text-align: right;\">\n",
       "      <th></th>\n",
       "      <th>Dolžina</th>\n",
       "      <th>Točke</th>\n",
       "      <th>Razred dolžine</th>\n",
       "    </tr>\n",
       "    <tr>\n",
       "      <th>Naslov</th>\n",
       "      <th></th>\n",
       "      <th></th>\n",
       "      <th></th>\n",
       "    </tr>\n",
       "  </thead>\n",
       "  <tbody>\n",
       "    <tr>\n",
       "      <th>The Hobbit (The Lord of the Rings, #0)</th>\n",
       "      <td>366</td>\n",
       "      <td>5793</td>\n",
       "      <td>350</td>\n",
       "    </tr>\n",
       "    <tr>\n",
       "      <th>Lost Horizon</th>\n",
       "      <td>241</td>\n",
       "      <td>1276</td>\n",
       "      <td>200</td>\n",
       "    </tr>\n",
       "    <tr>\n",
       "      <th>At the Mountains of Madness</th>\n",
       "      <td>194</td>\n",
       "      <td>1185</td>\n",
       "      <td>150</td>\n",
       "    </tr>\n",
       "    <tr>\n",
       "      <th>Mary Poppins (Mary Poppins, #1)</th>\n",
       "      <td>209</td>\n",
       "      <td>1169</td>\n",
       "      <td>200</td>\n",
       "    </tr>\n",
       "    <tr>\n",
       "      <th>The Sword in the Stone (The Once and Future King, #1)</th>\n",
       "      <td>352</td>\n",
       "      <td>968</td>\n",
       "      <td>350</td>\n",
       "    </tr>\n",
       "    <tr>\n",
       "      <th>...</th>\n",
       "      <td>...</td>\n",
       "      <td>...</td>\n",
       "      <td>...</td>\n",
       "    </tr>\n",
       "    <tr>\n",
       "      <th>The Wizard of Eventide (The Goddess War, 3)</th>\n",
       "      <td>400</td>\n",
       "      <td>18</td>\n",
       "      <td>400</td>\n",
       "    </tr>\n",
       "    <tr>\n",
       "      <th>The Fury of the Gods (The Bloodsworn Saga, #3)</th>\n",
       "      <td>528</td>\n",
       "      <td>15</td>\n",
       "      <td>500</td>\n",
       "    </tr>\n",
       "    <tr>\n",
       "      <th>Age of Ash (Kithamar, #1)</th>\n",
       "      <td>448</td>\n",
       "      <td>14</td>\n",
       "      <td>400</td>\n",
       "    </tr>\n",
       "    <tr>\n",
       "      <th>The Castle of Tangled Magic</th>\n",
       "      <td>416</td>\n",
       "      <td>13</td>\n",
       "      <td>400</td>\n",
       "    </tr>\n",
       "    <tr>\n",
       "      <th>Blade of Dream (Kithamar, #2)</th>\n",
       "      <td>464</td>\n",
       "      <td>13</td>\n",
       "      <td>450</td>\n",
       "    </tr>\n",
       "  </tbody>\n",
       "</table>\n",
       "<p>3537 rows × 3 columns</p>\n",
       "</div>"
      ],
      "text/plain": [
       "                                                    Dolžina  Točke  \\\n",
       "Naslov                                                               \n",
       "The Hobbit (The Lord of the Rings, #0)                  366   5793   \n",
       "Lost Horizon                                            241   1276   \n",
       "At the Mountains of Madness                             194   1185   \n",
       "Mary Poppins (Mary Poppins, #1)                         209   1169   \n",
       "The Sword in the Stone (The Once and Future Kin...      352    968   \n",
       "...                                                     ...    ...   \n",
       "The Wizard of Eventide (The Goddess War, 3)             400     18   \n",
       "The Fury of the Gods (The Bloodsworn Saga, #3)          528     15   \n",
       "Age of Ash (Kithamar, #1)                               448     14   \n",
       "The Castle of Tangled Magic                             416     13   \n",
       "Blade of Dream (Kithamar, #2)                           464     13   \n",
       "\n",
       "                                                    Razred dolžine  \n",
       "Naslov                                                              \n",
       "The Hobbit (The Lord of the Rings, #0)                         350  \n",
       "Lost Horizon                                                   200  \n",
       "At the Mountains of Madness                                    150  \n",
       "Mary Poppins (Mary Poppins, #1)                                200  \n",
       "The Sword in the Stone (The Once and Future Kin...             350  \n",
       "...                                                            ...  \n",
       "The Wizard of Eventide (The Goddess War, 3)                    400  \n",
       "The Fury of the Gods (The Bloodsworn Saga, #3)                 500  \n",
       "Age of Ash (Kithamar, #1)                                      400  \n",
       "The Castle of Tangled Magic                                    400  \n",
       "Blade of Dream (Kithamar, #2)                                  450  \n",
       "\n",
       "[3537 rows x 3 columns]"
      ]
     },
     "execution_count": 41,
     "metadata": {},
     "output_type": "execute_result"
    }
   ],
   "source": [
    "dolzina_kvaliteta"
   ]
  },
  {
   "cell_type": "code",
   "execution_count": 42,
   "metadata": {},
   "outputs": [],
   "source": [
    "po_dolzini = dolzina_kvaliteta.groupby('Razred dolžine')"
   ]
  },
  {
   "cell_type": "code",
   "execution_count": 43,
   "metadata": {},
   "outputs": [],
   "source": [
    "dolzina_tocke = pd.DataFrame(po_dolzini['Točke'].mean())"
   ]
  },
  {
   "cell_type": "code",
   "execution_count": 44,
   "metadata": {},
   "outputs": [
    {
     "data": {
      "text/html": [
       "<div>\n",
       "<style scoped>\n",
       "    .dataframe tbody tr th:only-of-type {\n",
       "        vertical-align: middle;\n",
       "    }\n",
       "\n",
       "    .dataframe tbody tr th {\n",
       "        vertical-align: top;\n",
       "    }\n",
       "\n",
       "    .dataframe thead th {\n",
       "        text-align: right;\n",
       "    }\n",
       "</style>\n",
       "<table border=\"1\" class=\"dataframe\">\n",
       "  <thead>\n",
       "    <tr style=\"text-align: right;\">\n",
       "      <th></th>\n",
       "      <th>Točke</th>\n",
       "    </tr>\n",
       "    <tr>\n",
       "      <th>Razred dolžine</th>\n",
       "      <th></th>\n",
       "    </tr>\n",
       "  </thead>\n",
       "  <tbody>\n",
       "    <tr>\n",
       "      <th>0</th>\n",
       "      <td>363.74</td>\n",
       "    </tr>\n",
       "    <tr>\n",
       "      <th>50</th>\n",
       "      <td>144.61</td>\n",
       "    </tr>\n",
       "    <tr>\n",
       "      <th>100</th>\n",
       "      <td>353.71</td>\n",
       "    </tr>\n",
       "    <tr>\n",
       "      <th>150</th>\n",
       "      <td>570.47</td>\n",
       "    </tr>\n",
       "    <tr>\n",
       "      <th>200</th>\n",
       "      <td>613.49</td>\n",
       "    </tr>\n",
       "    <tr>\n",
       "      <th>250</th>\n",
       "      <td>393.81</td>\n",
       "    </tr>\n",
       "    <tr>\n",
       "      <th>300</th>\n",
       "      <td>502.80</td>\n",
       "    </tr>\n",
       "    <tr>\n",
       "      <th>350</th>\n",
       "      <td>588.92</td>\n",
       "    </tr>\n",
       "    <tr>\n",
       "      <th>400</th>\n",
       "      <td>602.32</td>\n",
       "    </tr>\n",
       "    <tr>\n",
       "      <th>450</th>\n",
       "      <td>751.41</td>\n",
       "    </tr>\n",
       "    <tr>\n",
       "      <th>500</th>\n",
       "      <td>647.63</td>\n",
       "    </tr>\n",
       "    <tr>\n",
       "      <th>550</th>\n",
       "      <td>758.72</td>\n",
       "    </tr>\n",
       "    <tr>\n",
       "      <th>600</th>\n",
       "      <td>991.16</td>\n",
       "    </tr>\n",
       "    <tr>\n",
       "      <th>650</th>\n",
       "      <td>1743.36</td>\n",
       "    </tr>\n",
       "    <tr>\n",
       "      <th>700</th>\n",
       "      <td>1243.22</td>\n",
       "    </tr>\n",
       "    <tr>\n",
       "      <th>750</th>\n",
       "      <td>1673.96</td>\n",
       "    </tr>\n",
       "    <tr>\n",
       "      <th>800</th>\n",
       "      <td>3054.30</td>\n",
       "    </tr>\n",
       "    <tr>\n",
       "      <th>850</th>\n",
       "      <td>2401.25</td>\n",
       "    </tr>\n",
       "    <tr>\n",
       "      <th>900</th>\n",
       "      <td>4401.79</td>\n",
       "    </tr>\n",
       "    <tr>\n",
       "      <th>950</th>\n",
       "      <td>4485.27</td>\n",
       "    </tr>\n",
       "    <tr>\n",
       "      <th>1000</th>\n",
       "      <td>8884.09</td>\n",
       "    </tr>\n",
       "    <tr>\n",
       "      <th>1050</th>\n",
       "      <td>12409.40</td>\n",
       "    </tr>\n",
       "    <tr>\n",
       "      <th>1100</th>\n",
       "      <td>177.00</td>\n",
       "    </tr>\n",
       "    <tr>\n",
       "      <th>1150</th>\n",
       "      <td>1296.00</td>\n",
       "    </tr>\n",
       "    <tr>\n",
       "      <th>1200</th>\n",
       "      <td>2135.80</td>\n",
       "    </tr>\n",
       "    <tr>\n",
       "      <th>1300</th>\n",
       "      <td>95.00</td>\n",
       "    </tr>\n",
       "    <tr>\n",
       "      <th>1350</th>\n",
       "      <td>38.00</td>\n",
       "    </tr>\n",
       "    <tr>\n",
       "      <th>1400</th>\n",
       "      <td>100.00</td>\n",
       "    </tr>\n",
       "    <tr>\n",
       "      <th>1450</th>\n",
       "      <td>96.00</td>\n",
       "    </tr>\n",
       "    <tr>\n",
       "      <th>1600</th>\n",
       "      <td>87.50</td>\n",
       "    </tr>\n",
       "    <tr>\n",
       "      <th>6650</th>\n",
       "      <td>75.00</td>\n",
       "    </tr>\n",
       "  </tbody>\n",
       "</table>\n",
       "</div>"
      ],
      "text/plain": [
       "                  Točke\n",
       "Razred dolžine         \n",
       "0                363.74\n",
       "50               144.61\n",
       "100              353.71\n",
       "150              570.47\n",
       "200              613.49\n",
       "250              393.81\n",
       "300              502.80\n",
       "350              588.92\n",
       "400              602.32\n",
       "450              751.41\n",
       "500              647.63\n",
       "550              758.72\n",
       "600              991.16\n",
       "650             1743.36\n",
       "700             1243.22\n",
       "750             1673.96\n",
       "800             3054.30\n",
       "850             2401.25\n",
       "900             4401.79\n",
       "950             4485.27\n",
       "1000            8884.09\n",
       "1050           12409.40\n",
       "1100             177.00\n",
       "1150            1296.00\n",
       "1200            2135.80\n",
       "1300              95.00\n",
       "1350              38.00\n",
       "1400             100.00\n",
       "1450              96.00\n",
       "1600              87.50\n",
       "6650              75.00"
      ]
     },
     "execution_count": 44,
     "metadata": {},
     "output_type": "execute_result"
    }
   ],
   "source": [
    "dolzina_tocke"
   ]
  },
  {
   "cell_type": "code",
   "execution_count": 45,
   "metadata": {},
   "outputs": [
    {
     "data": {
      "text/plain": [
       "<Axes: xlabel='Razred dolžine', ylabel='Točke'>"
      ]
     },
     "execution_count": 45,
     "metadata": {},
     "output_type": "execute_result"
    },
    {
     "data": {
      "image/png": "[encoded data removed]",
      "text/plain": [
       "<Figure size 640x480 with 1 Axes>"
      ]
     },
     "metadata": {},
     "output_type": "display_data"
    }
   ],
   "source": [
    "dolzina_tocke.plot(xlabel='Razred dolžine', ylabel='Točke')"
   ]
  },
  {
   "cell_type": "code",
   "execution_count": 46,
   "metadata": {},
   "outputs": [
    {
     "data": {
      "text/html": [
       "<div>\n",
       "<style scoped>\n",
       "    .dataframe tbody tr th:only-of-type {\n",
       "        vertical-align: middle;\n",
       "    }\n",
       "\n",
       "    .dataframe tbody tr th {\n",
       "        vertical-align: top;\n",
       "    }\n",
       "\n",
       "    .dataframe thead th {\n",
       "        text-align: right;\n",
       "    }\n",
       "</style>\n",
       "<table border=\"1\" class=\"dataframe\">\n",
       "  <thead>\n",
       "    <tr style=\"text-align: right;\">\n",
       "      <th></th>\n",
       "      <th>Avtor</th>\n",
       "      <th>Leto izida</th>\n",
       "      <th>Desetletje</th>\n",
       "      <th>Dolžina</th>\n",
       "      <th>Točke</th>\n",
       "      <th>Ocena</th>\n",
       "      <th>Število bralcev</th>\n",
       "    </tr>\n",
       "    <tr>\n",
       "      <th>Naslov</th>\n",
       "      <th></th>\n",
       "      <th></th>\n",
       "      <th></th>\n",
       "      <th></th>\n",
       "      <th></th>\n",
       "      <th></th>\n",
       "      <th></th>\n",
       "    </tr>\n",
       "  </thead>\n",
       "  <tbody>\n",
       "    <tr>\n",
       "      <th>Worm (Parahumans, #1)</th>\n",
       "      <td>Wildbow</td>\n",
       "      <td>2013</td>\n",
       "      <td>2010</td>\n",
       "      <td>6680</td>\n",
       "      <td>75</td>\n",
       "      <td>4.60</td>\n",
       "      <td>9403</td>\n",
       "    </tr>\n",
       "  </tbody>\n",
       "</table>\n",
       "</div>"
      ],
      "text/plain": [
       "                         Avtor  Leto izida  Desetletje  Dolžina  Točke  Ocena  \\\n",
       "Naslov                                                                          \n",
       "Worm (Parahumans, #1)  Wildbow        2013        2010     6680     75   4.60   \n",
       "\n",
       "                       Število bralcev  \n",
       "Naslov                                  \n",
       "Worm (Parahumans, #1)             9403  "
      ]
     },
     "execution_count": 46,
     "metadata": {},
     "output_type": "execute_result"
    }
   ],
   "source": [
    "podatki[podatki['Dolžina'] > 1700]"
   ]
  },
  {
   "cell_type": "markdown",
   "metadata": {},
   "source": [
    "<p style=\"font-family:'Times New Roman';font-size:20px;margin-bottom:0.5cm;margin-top:0.5cm;\"> Opazimo, da ima samo ena knjiga ekstremno dolžino. Da bo graf bolj informativen in da bomo lažje razbrali trend pri ostalih knjigah, te knjige ne upoštevamo pri ugotavljanju odvisnosti kvalitete od dolžine. Podobno storimo pri raziskovanju odvisnosti števila bralcev od dolžine.</p>"
   ]
  },
  {
   "cell_type": "code",
   "execution_count": 47,
   "metadata": {},
   "outputs": [
    {
     "data": {
      "text/plain": [
       "<Axes: xlabel='Razred dolžine', ylabel='Točke'>"
      ]
     },
     "execution_count": 47,
     "metadata": {},
     "output_type": "execute_result"
    },
    {
     "data": {
      "image/png": "[encoded data removed]",
      "text/plain": [
       "<Figure size 640x480 with 1 Axes>"
      ]
     },
     "metadata": {},
     "output_type": "display_data"
    }
   ],
   "source": [
    "dolzina_tocke.drop(6650).plot(xlabel='Razred dolžine', ylabel='Točke')"
   ]
  },
  {
   "cell_type": "markdown",
   "metadata": {},
   "source": [
    "<h3 style=\"text-align:center;font-family:Garamond;font-size:30px;margin-bottom:0.5cm;\"> Odvisnost števila bralcev od dolžine </h3>"
   ]
  },
  {
   "cell_type": "code",
   "execution_count": 48,
   "metadata": {},
   "outputs": [],
   "source": [
    "podatki['Razred dolžine'] = (podatki['Dolžina']//50)*50 "
   ]
  },
  {
   "cell_type": "code",
   "execution_count": 49,
   "metadata": {},
   "outputs": [],
   "source": [
    "po_razredih_dolzine = podatki.groupby('Razred dolžine')"
   ]
  },
  {
   "cell_type": "code",
   "execution_count": 50,
   "metadata": {},
   "outputs": [],
   "source": [
    "dolzina_bralci = pd.DataFrame(po_razredih_dolzine['Število bralcev'].sum()) "
   ]
  },
  {
   "cell_type": "code",
   "execution_count": 51,
   "metadata": {},
   "outputs": [],
   "source": [
    "dolzina_bralci.drop(6650, inplace=True)"
   ]
  },
  {
   "cell_type": "code",
   "execution_count": 52,
   "metadata": {},
   "outputs": [
    {
     "data": {
      "text/plain": [
       "<Axes: xlabel='Razred dolžine', ylabel='Skupno število bralcev (v desetinah milijonov)'>"
      ]
     },
     "execution_count": 52,
     "metadata": {},
     "output_type": "execute_result"
    },
    {
     "data": {
      "image/png": "[encoded data removed]",
      "text/plain": [
       "<Figure size 640x480 with 1 Axes>"
      ]
     },
     "metadata": {},
     "output_type": "display_data"
    }
   ],
   "source": [
    "dolzina_bralci.plot(ylabel='Skupno število bralcev (v desetinah milijonov)')"
   ]
  },
  {
   "cell_type": "markdown",
   "metadata": {},
   "source": [
    "<h3 style=\"text-align:center;font-family:Garamond;font-size:30px;margin-bottom:0.5cm;\"> Odvisnost deleža izdanih knjig od desetletja </h3>"
   ]
  },
  {
   "cell_type": "code",
   "execution_count": 53,
   "metadata": {},
   "outputs": [],
   "source": [
    "analiza_st_knjig = pd.DataFrame(analiza_po_desetletjih['Število knjig'])"
   ]
  },
  {
   "cell_type": "code",
   "execution_count": 54,
   "metadata": {},
   "outputs": [],
   "source": [
    "analiza_st_knjig.reset_index(inplace=True)"
   ]
  },
  {
   "cell_type": "code",
   "execution_count": 55,
   "metadata": {},
   "outputs": [],
   "source": [
    "analiza_st_knjig.index += 1"
   ]
  },
  {
   "cell_type": "code",
   "execution_count": 56,
   "metadata": {},
   "outputs": [
    {
     "data": {
      "text/html": [
       "<div>\n",
       "<style scoped>\n",
       "    .dataframe tbody tr th:only-of-type {\n",
       "        vertical-align: middle;\n",
       "    }\n",
       "\n",
       "    .dataframe tbody tr th {\n",
       "        vertical-align: top;\n",
       "    }\n",
       "\n",
       "    .dataframe thead th {\n",
       "        text-align: right;\n",
       "    }\n",
       "</style>\n",
       "<table border=\"1\" class=\"dataframe\">\n",
       "  <thead>\n",
       "    <tr style=\"text-align: right;\">\n",
       "      <th></th>\n",
       "      <th>Desetletje</th>\n",
       "      <th>Število knjig</th>\n",
       "    </tr>\n",
       "  </thead>\n",
       "  <tbody>\n",
       "    <tr>\n",
       "      <th>1</th>\n",
       "      <td>1920</td>\n",
       "      <td>2</td>\n",
       "    </tr>\n",
       "    <tr>\n",
       "      <th>2</th>\n",
       "      <td>1930</td>\n",
       "      <td>51</td>\n",
       "    </tr>\n",
       "    <tr>\n",
       "      <th>3</th>\n",
       "      <td>1940</td>\n",
       "      <td>45</td>\n",
       "    </tr>\n",
       "    <tr>\n",
       "      <th>4</th>\n",
       "      <td>1950</td>\n",
       "      <td>51</td>\n",
       "    </tr>\n",
       "    <tr>\n",
       "      <th>5</th>\n",
       "      <td>1960</td>\n",
       "      <td>73</td>\n",
       "    </tr>\n",
       "    <tr>\n",
       "      <th>6</th>\n",
       "      <td>1970</td>\n",
       "      <td>137</td>\n",
       "    </tr>\n",
       "    <tr>\n",
       "      <th>7</th>\n",
       "      <td>1980</td>\n",
       "      <td>323</td>\n",
       "    </tr>\n",
       "    <tr>\n",
       "      <th>8</th>\n",
       "      <td>1990</td>\n",
       "      <td>367</td>\n",
       "    </tr>\n",
       "    <tr>\n",
       "      <th>9</th>\n",
       "      <td>2000</td>\n",
       "      <td>586</td>\n",
       "    </tr>\n",
       "    <tr>\n",
       "      <th>10</th>\n",
       "      <td>2010</td>\n",
       "      <td>1535</td>\n",
       "    </tr>\n",
       "    <tr>\n",
       "      <th>11</th>\n",
       "      <td>2020</td>\n",
       "      <td>344</td>\n",
       "    </tr>\n",
       "  </tbody>\n",
       "</table>\n",
       "</div>"
      ],
      "text/plain": [
       "    Desetletje  Število knjig\n",
       "1         1920              2\n",
       "2         1930             51\n",
       "3         1940             45\n",
       "4         1950             51\n",
       "5         1960             73\n",
       "6         1970            137\n",
       "7         1980            323\n",
       "8         1990            367\n",
       "9         2000            586\n",
       "10        2010           1535\n",
       "11        2020            344"
      ]
     },
     "execution_count": 56,
     "metadata": {},
     "output_type": "execute_result"
    }
   ],
   "source": [
    "analiza_st_knjig"
   ]
  },
  {
   "cell_type": "code",
   "execution_count": 57,
   "metadata": {},
   "outputs": [
    {
     "data": {
      "text/plain": [
       "<Axes: ylabel='Deleži knjig'>"
      ]
     },
     "execution_count": 57,
     "metadata": {},
     "output_type": "execute_result"
    },
    {
     "data": {
      "image/png": "[encoded data removed]",
      "text/plain": [
       "<Figure size 1500x1500 with 1 Axes>"
      ]
     },
     "metadata": {},
     "output_type": "display_data"
    }
   ],
   "source": [
    "analiza_po_desetletjih['Število knjig'].plot(kind='pie', figsize=(15, 15), fontsize=20, label='Deleži knjig')"
   ]
  },
  {
   "cell_type": "code",
   "execution_count": 58,
   "metadata": {},
   "outputs": [],
   "source": [
    "zlate_tocke['Delež'] = zld.mesto_v_tabeli(analiza_st_knjig, 'Število knjig')"
   ]
  },
  {
   "cell_type": "markdown",
   "metadata": {},
   "source": [
    "<h3 style=\"text-align:center;font-family:Garamond;font-size:30px;margin-bottom:0.5cm;\"> Odvisnost števila avtorjev od desetletja </h3>"
   ]
  },
  {
   "cell_type": "code",
   "execution_count": 59,
   "metadata": {},
   "outputs": [],
   "source": [
    "analiza_avtorji = pd.DataFrame(analiza_po_desetletjih['Število avtorjev'])"
   ]
  },
  {
   "cell_type": "code",
   "execution_count": 60,
   "metadata": {},
   "outputs": [
    {
     "data": {
      "text/html": [
       "<div>\n",
       "<style scoped>\n",
       "    .dataframe tbody tr th:only-of-type {\n",
       "        vertical-align: middle;\n",
       "    }\n",
       "\n",
       "    .dataframe tbody tr th {\n",
       "        vertical-align: top;\n",
       "    }\n",
       "\n",
       "    .dataframe thead th {\n",
       "        text-align: right;\n",
       "    }\n",
       "</style>\n",
       "<table border=\"1\" class=\"dataframe\">\n",
       "  <thead>\n",
       "    <tr style=\"text-align: right;\">\n",
       "      <th></th>\n",
       "      <th>Število avtorjev</th>\n",
       "    </tr>\n",
       "    <tr>\n",
       "      <th>Desetletje</th>\n",
       "      <th></th>\n",
       "    </tr>\n",
       "  </thead>\n",
       "  <tbody>\n",
       "    <tr>\n",
       "      <th>1920</th>\n",
       "      <td>2</td>\n",
       "    </tr>\n",
       "    <tr>\n",
       "      <th>1930</th>\n",
       "      <td>20</td>\n",
       "    </tr>\n",
       "    <tr>\n",
       "      <th>1940</th>\n",
       "      <td>35</td>\n",
       "    </tr>\n",
       "    <tr>\n",
       "      <th>1950</th>\n",
       "      <td>26</td>\n",
       "    </tr>\n",
       "    <tr>\n",
       "      <th>1960</th>\n",
       "      <td>40</td>\n",
       "    </tr>\n",
       "    <tr>\n",
       "      <th>1970</th>\n",
       "      <td>65</td>\n",
       "    </tr>\n",
       "    <tr>\n",
       "      <th>1980</th>\n",
       "      <td>141</td>\n",
       "    </tr>\n",
       "    <tr>\n",
       "      <th>1990</th>\n",
       "      <td>154</td>\n",
       "    </tr>\n",
       "    <tr>\n",
       "      <th>2000</th>\n",
       "      <td>236</td>\n",
       "    </tr>\n",
       "    <tr>\n",
       "      <th>2010</th>\n",
       "      <td>622</td>\n",
       "    </tr>\n",
       "    <tr>\n",
       "      <th>2020</th>\n",
       "      <td>219</td>\n",
       "    </tr>\n",
       "  </tbody>\n",
       "</table>\n",
       "</div>"
      ],
      "text/plain": [
       "            Število avtorjev\n",
       "Desetletje                  \n",
       "1920                       2\n",
       "1930                      20\n",
       "1940                      35\n",
       "1950                      26\n",
       "1960                      40\n",
       "1970                      65\n",
       "1980                     141\n",
       "1990                     154\n",
       "2000                     236\n",
       "2010                     622\n",
       "2020                     219"
      ]
     },
     "execution_count": 60,
     "metadata": {},
     "output_type": "execute_result"
    }
   ],
   "source": [
    "analiza_avtorji"
   ]
  },
  {
   "cell_type": "code",
   "execution_count": 61,
   "metadata": {},
   "outputs": [
    {
     "data": {
      "text/plain": [
       "<Axes: xlabel='Desetletje', ylabel='Število avtorjev'>"
      ]
     },
     "execution_count": 61,
     "metadata": {},
     "output_type": "execute_result"
    },
    {
     "data": {
      "image/png": "[encoded data removed]",
      "text/plain": [
       "<Figure size 640x480 with 1 Axes>"
      ]
     },
     "metadata": {},
     "output_type": "display_data"
    }
   ],
   "source": [
    "analiza_avtorji.plot(ylabel='Število avtorjev')"
   ]
  },
  {
   "cell_type": "markdown",
   "metadata": {},
   "source": [
    "<h3 style=\"text-align:center;font-family:Garamond;font-size:30px;margin-bottom:0.5cm;\"> Odvisnost dolžine knjige od desetletja izida </h3>"
   ]
  },
  {
   "cell_type": "code",
   "execution_count": 62,
   "metadata": {},
   "outputs": [],
   "source": [
    "leto_dolzina = po_desetletjih.agg(\n",
    "    **{\n",
    "'Dolžina': pd.NamedAgg(column='Dolžina', aggfunc='mean')\n",
    "    })"
   ]
  },
  {
   "cell_type": "code",
   "execution_count": 63,
   "metadata": {},
   "outputs": [],
   "source": [
    "leto_dolzina.drop([0, 1840, 1890], inplace=True)"
   ]
  },
  {
   "cell_type": "code",
   "execution_count": 64,
   "metadata": {},
   "outputs": [
    {
     "data": {
      "text/html": [
       "<div>\n",
       "<style scoped>\n",
       "    .dataframe tbody tr th:only-of-type {\n",
       "        vertical-align: middle;\n",
       "    }\n",
       "\n",
       "    .dataframe tbody tr th {\n",
       "        vertical-align: top;\n",
       "    }\n",
       "\n",
       "    .dataframe thead th {\n",
       "        text-align: right;\n",
       "    }\n",
       "</style>\n",
       "<table border=\"1\" class=\"dataframe\">\n",
       "  <thead>\n",
       "    <tr style=\"text-align: right;\">\n",
       "      <th></th>\n",
       "      <th>Dolžina</th>\n",
       "    </tr>\n",
       "    <tr>\n",
       "      <th>Desetletje</th>\n",
       "      <th></th>\n",
       "    </tr>\n",
       "  </thead>\n",
       "  <tbody>\n",
       "    <tr>\n",
       "      <th>1920</th>\n",
       "      <td>294.00</td>\n",
       "    </tr>\n",
       "    <tr>\n",
       "      <th>1930</th>\n",
       "      <td>186.84</td>\n",
       "    </tr>\n",
       "    <tr>\n",
       "      <th>1940</th>\n",
       "      <td>238.33</td>\n",
       "    </tr>\n",
       "    <tr>\n",
       "      <th>1950</th>\n",
       "      <td>264.43</td>\n",
       "    </tr>\n",
       "    <tr>\n",
       "      <th>1960</th>\n",
       "      <td>223.81</td>\n",
       "    </tr>\n",
       "    <tr>\n",
       "      <th>1970</th>\n",
       "      <td>281.14</td>\n",
       "    </tr>\n",
       "    <tr>\n",
       "      <th>1980</th>\n",
       "      <td>336.57</td>\n",
       "    </tr>\n",
       "    <tr>\n",
       "      <th>1990</th>\n",
       "      <td>418.67</td>\n",
       "    </tr>\n",
       "    <tr>\n",
       "      <th>2000</th>\n",
       "      <td>433.24</td>\n",
       "    </tr>\n",
       "    <tr>\n",
       "      <th>2010</th>\n",
       "      <td>393.85</td>\n",
       "    </tr>\n",
       "    <tr>\n",
       "      <th>2020</th>\n",
       "      <td>404.61</td>\n",
       "    </tr>\n",
       "  </tbody>\n",
       "</table>\n",
       "</div>"
      ],
      "text/plain": [
       "            Dolžina\n",
       "Desetletje         \n",
       "1920         294.00\n",
       "1930         186.84\n",
       "1940         238.33\n",
       "1950         264.43\n",
       "1960         223.81\n",
       "1970         281.14\n",
       "1980         336.57\n",
       "1990         418.67\n",
       "2000         433.24\n",
       "2010         393.85\n",
       "2020         404.61"
      ]
     },
     "execution_count": 64,
     "metadata": {},
     "output_type": "execute_result"
    }
   ],
   "source": [
    "leto_dolzina"
   ]
  },
  {
   "cell_type": "code",
   "execution_count": 93,
   "metadata": {},
   "outputs": [
    {
     "data": {
      "text/plain": [
       "<Axes: xlabel='Desetletje', ylabel='Povprečna dolžina knjig (strani)'>"
      ]
     },
     "execution_count": 93,
     "metadata": {},
     "output_type": "execute_result"
    },
    {
     "data": {
      "image/png": "[encoded data removed]",
      "text/plain": [
       "<Figure size 640x480 with 1 Axes>"
      ]
     },
     "metadata": {},
     "output_type": "display_data"
    }
   ],
   "source": [
    "leto_dolzina.plot(ylabel='Povprečna dolžina knjig (strani)')"
   ]
  },
  {
   "cell_type": "code",
   "execution_count": 66,
   "metadata": {},
   "outputs": [],
   "source": [
    "zlate_tocke['Število avtorjev'] = zld.mesto_v_tabeli(analiza_avtorji, 'Število avtorjev')"
   ]
  },
  {
   "cell_type": "markdown",
   "metadata": {},
   "source": [
    "<h3 style=\"text-align:center;font-family:Garamond;font-size:30px;\"> Odvisnost kvalitete knjige od desetletja izida </h3>"
   ]
  },
  {
   "cell_type": "markdown",
   "metadata": {},
   "source": [
    "<p style=\"font-family:'Times New Roman';font-size:20px;margin-bottom:0.5cm;\"> Oglejmo si, kako se je spreminjala kvaliteta knjig v odvisnosti od desetletja izida. Pri tem glejmo samo knjige z znanim letom izida, ki so izšle leta 1920 ali kasneje. </p>"
   ]
  },
  {
   "cell_type": "code",
   "execution_count": 67,
   "metadata": {},
   "outputs": [],
   "source": [
    "izid_leto = po_desetletjih.agg(\n",
    "**{\n",
    "    'Kvaliteta': pd.NamedAgg(column='Točke', aggfunc='mean')\n",
    "})"
   ]
  },
  {
   "cell_type": "code",
   "execution_count": 68,
   "metadata": {},
   "outputs": [],
   "source": [
    "izid_leto.drop([0, 1840, 1890], axis='index', inplace=True)"
   ]
  },
  {
   "cell_type": "code",
   "execution_count": 69,
   "metadata": {},
   "outputs": [],
   "source": [
    "izid_leto['Kvaliteta'] = round(izid_leto['Kvaliteta'], 2)"
   ]
  },
  {
   "cell_type": "code",
   "execution_count": 70,
   "metadata": {},
   "outputs": [
    {
     "data": {
      "text/html": [
       "<div>\n",
       "<style scoped>\n",
       "    .dataframe tbody tr th:only-of-type {\n",
       "        vertical-align: middle;\n",
       "    }\n",
       "\n",
       "    .dataframe tbody tr th {\n",
       "        vertical-align: top;\n",
       "    }\n",
       "\n",
       "    .dataframe thead th {\n",
       "        text-align: right;\n",
       "    }\n",
       "</style>\n",
       "<table border=\"1\" class=\"dataframe\">\n",
       "  <thead>\n",
       "    <tr style=\"text-align: right;\">\n",
       "      <th></th>\n",
       "      <th>Kvaliteta</th>\n",
       "    </tr>\n",
       "    <tr>\n",
       "      <th>Desetletje</th>\n",
       "      <th></th>\n",
       "    </tr>\n",
       "  </thead>\n",
       "  <tbody>\n",
       "    <tr>\n",
       "      <th>1920</th>\n",
       "      <td>217.00</td>\n",
       "    </tr>\n",
       "    <tr>\n",
       "      <th>1930</th>\n",
       "      <td>404.39</td>\n",
       "    </tr>\n",
       "    <tr>\n",
       "      <th>1940</th>\n",
       "      <td>353.73</td>\n",
       "    </tr>\n",
       "    <tr>\n",
       "      <th>1950</th>\n",
       "      <td>1241.12</td>\n",
       "    </tr>\n",
       "    <tr>\n",
       "      <th>1960</th>\n",
       "      <td>787.73</td>\n",
       "    </tr>\n",
       "    <tr>\n",
       "      <th>1970</th>\n",
       "      <td>1087.31</td>\n",
       "    </tr>\n",
       "    <tr>\n",
       "      <th>1980</th>\n",
       "      <td>1229.12</td>\n",
       "    </tr>\n",
       "    <tr>\n",
       "      <th>1990</th>\n",
       "      <td>1174.95</td>\n",
       "    </tr>\n",
       "    <tr>\n",
       "      <th>2000</th>\n",
       "      <td>664.94</td>\n",
       "    </tr>\n",
       "    <tr>\n",
       "      <th>2010</th>\n",
       "      <td>561.29</td>\n",
       "    </tr>\n",
       "    <tr>\n",
       "      <th>2020</th>\n",
       "      <td>304.04</td>\n",
       "    </tr>\n",
       "  </tbody>\n",
       "</table>\n",
       "</div>"
      ],
      "text/plain": [
       "            Kvaliteta\n",
       "Desetletje           \n",
       "1920           217.00\n",
       "1930           404.39\n",
       "1940           353.73\n",
       "1950          1241.12\n",
       "1960           787.73\n",
       "1970          1087.31\n",
       "1980          1229.12\n",
       "1990          1174.95\n",
       "2000           664.94\n",
       "2010           561.29\n",
       "2020           304.04"
      ]
     },
     "execution_count": 70,
     "metadata": {},
     "output_type": "execute_result"
    }
   ],
   "source": [
    "izid_leto"
   ]
  },
  {
   "cell_type": "code",
   "execution_count": 71,
   "metadata": {},
   "outputs": [
    {
     "data": {
      "text/plain": [
       "<Axes: xlabel='Desetletje', ylabel='Točke'>"
      ]
     },
     "execution_count": 71,
     "metadata": {},
     "output_type": "execute_result"
    },
    {
     "data": {
      "image/png": "[encoded data removed]",
      "text/plain": [
       "<Figure size 640x480 with 1 Axes>"
      ]
     },
     "metadata": {},
     "output_type": "display_data"
    }
   ],
   "source": [
    "izid_leto.plot(ylabel='Točke')"
   ]
  },
  {
   "cell_type": "code",
   "execution_count": 72,
   "metadata": {},
   "outputs": [],
   "source": [
    "analiza_kvalitete = pd.DataFrame(analiza_po_desetletjih['Kvaliteta'])"
   ]
  },
  {
   "cell_type": "code",
   "execution_count": 73,
   "metadata": {},
   "outputs": [],
   "source": [
    "zlate_tocke['Kvaliteta'] = zld.mesto_v_tabeli(analiza_kvalitete, 'Kvaliteta')"
   ]
  },
  {
   "cell_type": "markdown",
   "metadata": {},
   "source": [
    "<h3 style=\"text-align:center;font-family:Garamond;font-size:30px;margin-bottom:0.5cm;\"> Odvisnost povprečnega števila bralcev od desetletja </h3>"
   ]
  },
  {
   "cell_type": "code",
   "execution_count": 74,
   "metadata": {},
   "outputs": [],
   "source": [
    "analiza_bralci = pd.DataFrame(analiza_po_desetletjih['Povprečno število bralcev'])"
   ]
  },
  {
   "cell_type": "code",
   "execution_count": 75,
   "metadata": {},
   "outputs": [
    {
     "data": {
      "text/plain": [
       "<Axes: xlabel='Desetletje', ylabel='Povprečno število bralcev'>"
      ]
     },
     "execution_count": 75,
     "metadata": {},
     "output_type": "execute_result"
    },
    {
     "data": {
      "image/png": "[encoded data removed]",
      "text/plain": [
       "<Figure size 640x480 with 1 Axes>"
      ]
     },
     "metadata": {},
     "output_type": "display_data"
    }
   ],
   "source": [
    "analiza_bralci.plot(ylabel='Povprečno število bralcev')"
   ]
  },
  {
   "cell_type": "code",
   "execution_count": 76,
   "metadata": {},
   "outputs": [],
   "source": [
    "zlate_tocke['Povprečno število bralcev'] = zld.mesto_v_tabeli(analiza_bralci, 'Povprečno število bralcev')"
   ]
  },
  {
   "cell_type": "markdown",
   "metadata": {},
   "source": [
    "<h3 style=\"text-align:center;font-family:Garamond;font-size:30px;\"> Ugotovitve</h3>"
   ]
  },
  {
   "cell_type": "markdown",
   "metadata": {},
   "source": [
    "<p style=\"font-family:'Times New Roman';font-size:20px;margin-bottom:0.5cm;\"> Iz grafov zgoraj razberemo marsikatero značilnost fantazijskega žanra.</p> \n",
    "<p style=\"font-family:'Times New Roman';font-size:20px;margin-bottom:0.5cm;\"> Najprej si oglejmo od časa neodvisne spremenljivke, to sta odvisnosti kvalitete in branosti od dolžine. Ugotovimo, da medtem ko so daleč najkvalitetnejše tiste knjige, ki imajo med 950 in 1050 strani, pa bralci večinoma posegajo po krajših, med 350 in 450 strani dolgimi knjigami, ki so  slabše kakovosti.  </p>\n",
    "<p style=\"font-family:'Times New Roman';font-size:20px;margin-bottom:0.5cm\"> Po drugi strani pa lahko opazimo številne časovne odvisnosti glede na desetletje izida.</p>\n",
    "<p style=\"font-family:'Times New Roman';font-size:20px;margin-bottom:0.5cm\"> Če se osredotočimo samo na kvantitativno interpretacijo fantazijskega žanra, potem lahko zaznamo, da se je tekom desetletij število napisanih knjig močno povečalo, prav tako pa število njihovih piscev.</p>\n",
    "<p style=\"font-family:'Times New Roman';font-size:20px;margin-bottom:0.5cm\"> \n",
    "Po drugi strani lahko opazimo dve obdobji višje kvalitete, in sicer v 50-ih letih prejšnjega stoletja ter od 70-ih let do preloma tisočletja. Prvi \"skok\" je opazno vplival na širšo bralno javnost, medtem ko drugi očitno ni neposredno odvisen od kvalitete.</p>\n"
   ]
  },
  {
   "cell_type": "code",
   "execution_count": 77,
   "metadata": {},
   "outputs": [],
   "source": [
    "petdeseta = po_desetletjih.get_group(1950)"
   ]
  },
  {
   "cell_type": "code",
   "execution_count": 78,
   "metadata": {},
   "outputs": [
    {
     "data": {
      "text/html": [
       "<div>\n",
       "<style scoped>\n",
       "    .dataframe tbody tr th:only-of-type {\n",
       "        vertical-align: middle;\n",
       "    }\n",
       "\n",
       "    .dataframe tbody tr th {\n",
       "        vertical-align: top;\n",
       "    }\n",
       "\n",
       "    .dataframe thead th {\n",
       "        text-align: right;\n",
       "    }\n",
       "</style>\n",
       "<table border=\"1\" class=\"dataframe\">\n",
       "  <thead>\n",
       "    <tr style=\"text-align: right;\">\n",
       "      <th></th>\n",
       "      <th>Avtor</th>\n",
       "      <th>Leto izida</th>\n",
       "      <th>Desetletje</th>\n",
       "      <th>Dolžina</th>\n",
       "      <th>Točke</th>\n",
       "      <th>Ocena</th>\n",
       "      <th>Število bralcev</th>\n",
       "      <th>Razred dolžine</th>\n",
       "    </tr>\n",
       "    <tr>\n",
       "      <th>Naslov</th>\n",
       "      <th></th>\n",
       "      <th></th>\n",
       "      <th></th>\n",
       "      <th></th>\n",
       "      <th></th>\n",
       "      <th></th>\n",
       "      <th></th>\n",
       "      <th></th>\n",
       "    </tr>\n",
       "  </thead>\n",
       "  <tbody>\n",
       "    <tr>\n",
       "      <th>The Lion, the Witch and the Wardrobe (Chronicles of Narnia, #1)</th>\n",
       "      <td>C.S. Lewis</td>\n",
       "      <td>1950</td>\n",
       "      <td>1950</td>\n",
       "      <td>206</td>\n",
       "      <td>6133</td>\n",
       "      <td>4.24</td>\n",
       "      <td>2850027</td>\n",
       "      <td>200</td>\n",
       "    </tr>\n",
       "    <tr>\n",
       "      <th>The Fellowship of the Ring (The Lord of the Rings, #1)</th>\n",
       "      <td>J.R.R. Tolkien</td>\n",
       "      <td>1954</td>\n",
       "      <td>1950</td>\n",
       "      <td>398</td>\n",
       "      <td>7350</td>\n",
       "      <td>4.39</td>\n",
       "      <td>2846557</td>\n",
       "      <td>350</td>\n",
       "    </tr>\n",
       "    <tr>\n",
       "      <th>The Two Towers (The Lord of the Rings, #2)</th>\n",
       "      <td>J.R.R. Tolkien</td>\n",
       "      <td>1954</td>\n",
       "      <td>1950</td>\n",
       "      <td>322</td>\n",
       "      <td>6078</td>\n",
       "      <td>4.49</td>\n",
       "      <td>993733</td>\n",
       "      <td>300</td>\n",
       "    </tr>\n",
       "    <tr>\n",
       "      <th>The Return of the King (The Lord of the Rings, #3)</th>\n",
       "      <td>J.R.R. Tolkien</td>\n",
       "      <td>1955</td>\n",
       "      <td>1950</td>\n",
       "      <td>404</td>\n",
       "      <td>5961</td>\n",
       "      <td>4.57</td>\n",
       "      <td>925694</td>\n",
       "      <td>400</td>\n",
       "    </tr>\n",
       "    <tr>\n",
       "      <th>The Lord of the Rings</th>\n",
       "      <td>J.R.R. Tolkien</td>\n",
       "      <td>1954</td>\n",
       "      <td>1950</td>\n",
       "      <td>1216</td>\n",
       "      <td>2456</td>\n",
       "      <td>4.53</td>\n",
       "      <td>685563</td>\n",
       "      <td>1200</td>\n",
       "    </tr>\n",
       "    <tr>\n",
       "      <th>The Chronicles of Narnia (The Chronicles of Narnia, #1-7)</th>\n",
       "      <td>C.S. Lewis</td>\n",
       "      <td>1956</td>\n",
       "      <td>1950</td>\n",
       "      <td>767</td>\n",
       "      <td>1857</td>\n",
       "      <td>4.28</td>\n",
       "      <td>661598</td>\n",
       "      <td>750</td>\n",
       "    </tr>\n",
       "    <tr>\n",
       "      <th>The Magician’s Nephew (Chronicles of Narnia, #6)</th>\n",
       "      <td>C.S. Lewis</td>\n",
       "      <td>1955</td>\n",
       "      <td>1950</td>\n",
       "      <td>221</td>\n",
       "      <td>3520</td>\n",
       "      <td>4.05</td>\n",
       "      <td>551589</td>\n",
       "      <td>200</td>\n",
       "    </tr>\n",
       "    <tr>\n",
       "      <th>The Voyage of the Dawn Treader (Chronicles of Narnia, #3)</th>\n",
       "      <td>C.S. Lewis</td>\n",
       "      <td>1952</td>\n",
       "      <td>1950</td>\n",
       "      <td>248</td>\n",
       "      <td>3121</td>\n",
       "      <td>4.09</td>\n",
       "      <td>475952</td>\n",
       "      <td>200</td>\n",
       "    </tr>\n",
       "    <tr>\n",
       "      <th>Prince Caspian (Chronicles of Narnia, #2)</th>\n",
       "      <td>C.S. Lewis</td>\n",
       "      <td>1951</td>\n",
       "      <td>1950</td>\n",
       "      <td>240</td>\n",
       "      <td>2689</td>\n",
       "      <td>3.98</td>\n",
       "      <td>446232</td>\n",
       "      <td>200</td>\n",
       "    </tr>\n",
       "    <tr>\n",
       "      <th>The Horse and His Boy (Chronicles of Narnia, #5)</th>\n",
       "      <td>C.S. Lewis</td>\n",
       "      <td>1954</td>\n",
       "      <td>1950</td>\n",
       "      <td>224</td>\n",
       "      <td>3345</td>\n",
       "      <td>3.91</td>\n",
       "      <td>359416</td>\n",
       "      <td>200</td>\n",
       "    </tr>\n",
       "  </tbody>\n",
       "</table>\n",
       "</div>"
      ],
      "text/plain": [
       "                                                             Avtor  \\\n",
       "Naslov                                                               \n",
       "The Lion, the Witch and the Wardrobe (Chronicle...      C.S. Lewis   \n",
       "The Fellowship of the Ring (The Lord of the Rin...  J.R.R. Tolkien   \n",
       "The Two Towers (The Lord of the Rings, #2)          J.R.R. Tolkien   \n",
       "The Return of the King (The Lord of the Rings, #3)  J.R.R. Tolkien   \n",
       "The Lord of the Rings                               J.R.R. Tolkien   \n",
       "The Chronicles of Narnia (The Chronicles of Nar...      C.S. Lewis   \n",
       "The Magician’s Nephew (Chronicles of Narnia, #6)        C.S. Lewis   \n",
       "The Voyage of the Dawn Treader (Chronicles of N...      C.S. Lewis   \n",
       "Prince Caspian (Chronicles of Narnia, #2)               C.S. Lewis   \n",
       "The Horse and His Boy (Chronicles of Narnia, #5)        C.S. Lewis   \n",
       "\n",
       "                                                    Leto izida  Desetletje  \\\n",
       "Naslov                                                                       \n",
       "The Lion, the Witch and the Wardrobe (Chronicle...        1950        1950   \n",
       "The Fellowship of the Ring (The Lord of the Rin...        1954        1950   \n",
       "The Two Towers (The Lord of the Rings, #2)                1954        1950   \n",
       "The Return of the King (The Lord of the Rings, #3)        1955        1950   \n",
       "The Lord of the Rings                                     1954        1950   \n",
       "The Chronicles of Narnia (The Chronicles of Nar...        1956        1950   \n",
       "The Magician’s Nephew (Chronicles of Narnia, #6)          1955        1950   \n",
       "The Voyage of the Dawn Treader (Chronicles of N...        1952        1950   \n",
       "Prince Caspian (Chronicles of Narnia, #2)                 1951        1950   \n",
       "The Horse and His Boy (Chronicles of Narnia, #5)          1954        1950   \n",
       "\n",
       "                                                    Dolžina  Točke  Ocena  \\\n",
       "Naslov                                                                      \n",
       "The Lion, the Witch and the Wardrobe (Chronicle...      206   6133   4.24   \n",
       "The Fellowship of the Ring (The Lord of the Rin...      398   7350   4.39   \n",
       "The Two Towers (The Lord of the Rings, #2)              322   6078   4.49   \n",
       "The Return of the King (The Lord of the Rings, #3)      404   5961   4.57   \n",
       "The Lord of the Rings                                  1216   2456   4.53   \n",
       "The Chronicles of Narnia (The Chronicles of Nar...      767   1857   4.28   \n",
       "The Magician’s Nephew (Chronicles of Narnia, #6)        221   3520   4.05   \n",
       "The Voyage of the Dawn Treader (Chronicles of N...      248   3121   4.09   \n",
       "Prince Caspian (Chronicles of Narnia, #2)               240   2689   3.98   \n",
       "The Horse and His Boy (Chronicles of Narnia, #5)        224   3345   3.91   \n",
       "\n",
       "                                                    Število bralcev  \\\n",
       "Naslov                                                                \n",
       "The Lion, the Witch and the Wardrobe (Chronicle...          2850027   \n",
       "The Fellowship of the Ring (The Lord of the Rin...          2846557   \n",
       "The Two Towers (The Lord of the Rings, #2)                   993733   \n",
       "The Return of the King (The Lord of the Rings, #3)           925694   \n",
       "The Lord of the Rings                                        685563   \n",
       "The Chronicles of Narnia (The Chronicles of Nar...           661598   \n",
       "The Magician’s Nephew (Chronicles of Narnia, #6)             551589   \n",
       "The Voyage of the Dawn Treader (Chronicles of N...           475952   \n",
       "Prince Caspian (Chronicles of Narnia, #2)                    446232   \n",
       "The Horse and His Boy (Chronicles of Narnia, #5)             359416   \n",
       "\n",
       "                                                    Razred dolžine  \n",
       "Naslov                                                              \n",
       "The Lion, the Witch and the Wardrobe (Chronicle...             200  \n",
       "The Fellowship of the Ring (The Lord of the Rin...             350  \n",
       "The Two Towers (The Lord of the Rings, #2)                     300  \n",
       "The Return of the King (The Lord of the Rings, #3)             400  \n",
       "The Lord of the Rings                                         1200  \n",
       "The Chronicles of Narnia (The Chronicles of Nar...             750  \n",
       "The Magician’s Nephew (Chronicles of Narnia, #6)               200  \n",
       "The Voyage of the Dawn Treader (Chronicles of N...             200  \n",
       "Prince Caspian (Chronicles of Narnia, #2)                      200  \n",
       "The Horse and His Boy (Chronicles of Narnia, #5)               200  "
      ]
     },
     "execution_count": 78,
     "metadata": {},
     "output_type": "execute_result"
    }
   ],
   "source": [
    "petdeseta.sort_values('Število bralcev', ascending=False).head(10)"
   ]
  },
  {
   "cell_type": "code",
   "execution_count": 79,
   "metadata": {},
   "outputs": [],
   "source": [
    "devetdeseta = po_desetletjih.get_group(1990)"
   ]
  },
  {
   "cell_type": "code",
   "execution_count": 80,
   "metadata": {},
   "outputs": [
    {
     "data": {
      "text/html": [
       "<div>\n",
       "<style scoped>\n",
       "    .dataframe tbody tr th:only-of-type {\n",
       "        vertical-align: middle;\n",
       "    }\n",
       "\n",
       "    .dataframe tbody tr th {\n",
       "        vertical-align: top;\n",
       "    }\n",
       "\n",
       "    .dataframe thead th {\n",
       "        text-align: right;\n",
       "    }\n",
       "</style>\n",
       "<table border=\"1\" class=\"dataframe\">\n",
       "  <thead>\n",
       "    <tr style=\"text-align: right;\">\n",
       "      <th></th>\n",
       "      <th>Avtor</th>\n",
       "      <th>Leto izida</th>\n",
       "      <th>Desetletje</th>\n",
       "      <th>Dolžina</th>\n",
       "      <th>Točke</th>\n",
       "      <th>Ocena</th>\n",
       "      <th>Število bralcev</th>\n",
       "      <th>Razred dolžine</th>\n",
       "    </tr>\n",
       "    <tr>\n",
       "      <th>Naslov</th>\n",
       "      <th></th>\n",
       "      <th></th>\n",
       "      <th></th>\n",
       "      <th></th>\n",
       "      <th></th>\n",
       "      <th></th>\n",
       "      <th></th>\n",
       "      <th></th>\n",
       "    </tr>\n",
       "  </thead>\n",
       "  <tbody>\n",
       "    <tr>\n",
       "      <th>Harry Potter and the Sorcerer's Stone (Harry Potter, #1)</th>\n",
       "      <td>J.K. Rowling</td>\n",
       "      <td>1997</td>\n",
       "      <td>1990</td>\n",
       "      <td>309</td>\n",
       "      <td>25663</td>\n",
       "      <td>4.47</td>\n",
       "      <td>10271334</td>\n",
       "      <td>300</td>\n",
       "    </tr>\n",
       "    <tr>\n",
       "      <th>Harry Potter and the Prisoner of Azkaban (Harry Potter, #3)</th>\n",
       "      <td>J.K. Rowling</td>\n",
       "      <td>1999</td>\n",
       "      <td>1990</td>\n",
       "      <td>435</td>\n",
       "      <td>14291</td>\n",
       "      <td>4.58</td>\n",
       "      <td>4291784</td>\n",
       "      <td>400</td>\n",
       "    </tr>\n",
       "    <tr>\n",
       "      <th>Harry Potter and the Chamber of Secrets (Harry Potter, #2)</th>\n",
       "      <td>J.K. Rowling</td>\n",
       "      <td>1998</td>\n",
       "      <td>1990</td>\n",
       "      <td>352</td>\n",
       "      <td>14137</td>\n",
       "      <td>4.43</td>\n",
       "      <td>4017607</td>\n",
       "      <td>350</td>\n",
       "    </tr>\n",
       "    <tr>\n",
       "      <th>A Game of Thrones (A Song of Ice and Fire, #1)</th>\n",
       "      <td>George R.R. Martin</td>\n",
       "      <td>1996</td>\n",
       "      <td>1990</td>\n",
       "      <td>835</td>\n",
       "      <td>24076</td>\n",
       "      <td>4.44</td>\n",
       "      <td>2530213</td>\n",
       "      <td>800</td>\n",
       "    </tr>\n",
       "    <tr>\n",
       "      <th>The Golden Compass (His Dark Materials, #1)</th>\n",
       "      <td>Philip Pullman</td>\n",
       "      <td>1995</td>\n",
       "      <td>1990</td>\n",
       "      <td>399</td>\n",
       "      <td>11587</td>\n",
       "      <td>4.02</td>\n",
       "      <td>1541979</td>\n",
       "      <td>350</td>\n",
       "    </tr>\n",
       "    <tr>\n",
       "      <th>Outlander (Outlander, #1)</th>\n",
       "      <td>Diana Gabaldon</td>\n",
       "      <td>1991</td>\n",
       "      <td>1990</td>\n",
       "      <td>0</td>\n",
       "      <td>64</td>\n",
       "      <td>4.26</td>\n",
       "      <td>1074070</td>\n",
       "      <td>0</td>\n",
       "    </tr>\n",
       "    <tr>\n",
       "      <th>A Clash of Kings  (A Song of Ice and Fire, #2)</th>\n",
       "      <td>George R.R. Martin</td>\n",
       "      <td>1998</td>\n",
       "      <td>1990</td>\n",
       "      <td>1009</td>\n",
       "      <td>11426</td>\n",
       "      <td>4.42</td>\n",
       "      <td>949597</td>\n",
       "      <td>1000</td>\n",
       "    </tr>\n",
       "    <tr>\n",
       "      <th>Good Omens: The Nice and Accurate Prophecies of Agnes Nutter, Witch</th>\n",
       "      <td>Terry Pratchett</td>\n",
       "      <td>1990</td>\n",
       "      <td>1990</td>\n",
       "      <td>491</td>\n",
       "      <td>9004</td>\n",
       "      <td>4.26</td>\n",
       "      <td>765817</td>\n",
       "      <td>450</td>\n",
       "    </tr>\n",
       "    <tr>\n",
       "      <th>Wicked: The Life and Times of the Wicked Witch of the West (The Wicked Years, #1)</th>\n",
       "      <td>Gregory Maguire</td>\n",
       "      <td>1995</td>\n",
       "      <td>1990</td>\n",
       "      <td>406</td>\n",
       "      <td>2647</td>\n",
       "      <td>3.54</td>\n",
       "      <td>601134</td>\n",
       "      <td>400</td>\n",
       "    </tr>\n",
       "    <tr>\n",
       "      <th>The Eye of the World (The Wheel of Time, #1)</th>\n",
       "      <td>Robert Jordan</td>\n",
       "      <td>1990</td>\n",
       "      <td>1990</td>\n",
       "      <td>800</td>\n",
       "      <td>21596</td>\n",
       "      <td>4.19</td>\n",
       "      <td>540736</td>\n",
       "      <td>800</td>\n",
       "    </tr>\n",
       "  </tbody>\n",
       "</table>\n",
       "</div>"
      ],
      "text/plain": [
       "                                                                 Avtor  \\\n",
       "Naslov                                                                   \n",
       "Harry Potter and the Sorcerer's Stone (Harry Po...        J.K. Rowling   \n",
       "Harry Potter and the Prisoner of Azkaban (Harry...        J.K. Rowling   \n",
       "Harry Potter and the Chamber of Secrets (Harry ...        J.K. Rowling   \n",
       "A Game of Thrones (A Song of Ice and Fire, #1)      George R.R. Martin   \n",
       "The Golden Compass (His Dark Materials, #1)             Philip Pullman   \n",
       "Outlander (Outlander, #1)                               Diana Gabaldon   \n",
       "A Clash of Kings  (A Song of Ice and Fire, #2)      George R.R. Martin   \n",
       "Good Omens: The Nice and Accurate Prophecies of...     Terry Pratchett   \n",
       "Wicked: The Life and Times of the Wicked Witch ...     Gregory Maguire   \n",
       "The Eye of the World (The Wheel of Time, #1)             Robert Jordan   \n",
       "\n",
       "                                                    Leto izida  Desetletje  \\\n",
       "Naslov                                                                       \n",
       "Harry Potter and the Sorcerer's Stone (Harry Po...        1997        1990   \n",
       "Harry Potter and the Prisoner of Azkaban (Harry...        1999        1990   \n",
       "Harry Potter and the Chamber of Secrets (Harry ...        1998        1990   \n",
       "A Game of Thrones (A Song of Ice and Fire, #1)            1996        1990   \n",
       "The Golden Compass (His Dark Materials, #1)               1995        1990   \n",
       "Outlander (Outlander, #1)                                 1991        1990   \n",
       "A Clash of Kings  (A Song of Ice and Fire, #2)            1998        1990   \n",
       "Good Omens: The Nice and Accurate Prophecies of...        1990        1990   \n",
       "Wicked: The Life and Times of the Wicked Witch ...        1995        1990   \n",
       "The Eye of the World (The Wheel of Time, #1)              1990        1990   \n",
       "\n",
       "                                                    Dolžina  Točke  Ocena  \\\n",
       "Naslov                                                                      \n",
       "Harry Potter and the Sorcerer's Stone (Harry Po...      309  25663   4.47   \n",
       "Harry Potter and the Prisoner of Azkaban (Harry...      435  14291   4.58   \n",
       "Harry Potter and the Chamber of Secrets (Harry ...      352  14137   4.43   \n",
       "A Game of Thrones (A Song of Ice and Fire, #1)          835  24076   4.44   \n",
       "The Golden Compass (His Dark Materials, #1)             399  11587   4.02   \n",
       "Outlander (Outlander, #1)                                 0     64   4.26   \n",
       "A Clash of Kings  (A Song of Ice and Fire, #2)         1009  11426   4.42   \n",
       "Good Omens: The Nice and Accurate Prophecies of...      491   9004   4.26   \n",
       "Wicked: The Life and Times of the Wicked Witch ...      406   2647   3.54   \n",
       "The Eye of the World (The Wheel of Time, #1)            800  21596   4.19   \n",
       "\n",
       "                                                    Število bralcev  \\\n",
       "Naslov                                                                \n",
       "Harry Potter and the Sorcerer's Stone (Harry Po...         10271334   \n",
       "Harry Potter and the Prisoner of Azkaban (Harry...          4291784   \n",
       "Harry Potter and the Chamber of Secrets (Harry ...          4017607   \n",
       "A Game of Thrones (A Song of Ice and Fire, #1)              2530213   \n",
       "The Golden Compass (His Dark Materials, #1)                 1541979   \n",
       "Outlander (Outlander, #1)                                   1074070   \n",
       "A Clash of Kings  (A Song of Ice and Fire, #2)               949597   \n",
       "Good Omens: The Nice and Accurate Prophecies of...           765817   \n",
       "Wicked: The Life and Times of the Wicked Witch ...           601134   \n",
       "The Eye of the World (The Wheel of Time, #1)                 540736   \n",
       "\n",
       "                                                    Razred dolžine  \n",
       "Naslov                                                              \n",
       "Harry Potter and the Sorcerer's Stone (Harry Po...             300  \n",
       "Harry Potter and the Prisoner of Azkaban (Harry...             400  \n",
       "Harry Potter and the Chamber of Secrets (Harry ...             350  \n",
       "A Game of Thrones (A Song of Ice and Fire, #1)                 800  \n",
       "The Golden Compass (His Dark Materials, #1)                    350  \n",
       "Outlander (Outlander, #1)                                        0  \n",
       "A Clash of Kings  (A Song of Ice and Fire, #2)                1000  \n",
       "Good Omens: The Nice and Accurate Prophecies of...             450  \n",
       "Wicked: The Life and Times of the Wicked Witch ...             400  \n",
       "The Eye of the World (The Wheel of Time, #1)                   800  "
      ]
     },
     "execution_count": 80,
     "metadata": {},
     "output_type": "execute_result"
    }
   ],
   "source": [
    "devetdeseta.sort_values('Število bralcev', ascending=False).head(10)"
   ]
  },
  {
   "cell_type": "markdown",
   "metadata": {},
   "source": [
    "<p style=\"font-family:'Times New Roman';font-size:20px;margin-bottom:0.5cm\"> Po zgornjih dveh tabelah sodeč lahko sklepamo, da sta v prvem primeru večje poseganje po knjigah tistega časa sprožila seriji Gospodar prstanov in Zgodbe iz Narnie, v drugem pa serija o Harryju Potterju in pentalogija Pesem ledu in ognja</p>\n",
    "<p style=\"font-family:'Times New Roman';font-size:20px;margin-bottom:0.5cm\"> Pri tem velja poudariti, da je bila spletna stran <a href='https://www.goodreads.com'>https://www.goodreads.com</a> ustvarjena januarja leta 2007 in da zgornji rezultati tako ne odražajo števila ljudi, ki je v določenih desetletjih bralo fantazijske knjige in jih presojalo. Podatki nam povedo samo, kako na dane knjige bralci gledajo v sodobnem času.</p>"
   ]
  },
  {
   "cell_type": "markdown",
   "metadata": {},
   "source": [
    "<h2 style=\"text-align:center;font-family:Verdana;font-size:40px;margin-bottom:1cm;\"> Iskanje zlatega desetletja </h2>"
   ]
  },
  {
   "cell_type": "markdown",
   "metadata": {},
   "source": [
    "<p style=\"font-family:'Times New Roman';font-size:20px;\"> Za konec si poglejmo še, katera so bila tista \"zlata leta\" fantazijskega žanra, tj. v katerem desetletju je bil fantazijski žanr najboljši. </p> <p style=\"font-family:'Times New Roman';font-size:20px;\">To bomo ugotovili tako, da bomo pogledali razvrstitev desetletij po določenih kategorijah, jim vsakič pripisali neko število točk, na koncu pa točke sešteli in kot najboljše desetletje razglasili tisto desetletje, ki bo imelo največ točk.</p>\n",
    "<p style=\"font-family:'Times New Roman';font-size:20px;margin-bottom:0.5cm;\"> Omenjene kategorije bodo: <ul style=\"font-family:'Times New Roman';font-size:20px;margin-bottom:0.3cm\">\n",
    "    <li> delež knjig, ki so bile napisane v desetletju,</li>\n",
    "    <li> povprečna kvaliteta knjig,</li>\n",
    "    <li> povprečno število bralcev, ki je prebralo knjige iz določenega desetletja in</li>\n",
    "    <li> število avtorjev, ki je ustvarjalo v posameznem desetletju.</li>\n",
    "    </ul></p>\n",
    "<p style=\"font-family:'Times New Roman';font-size:20px;margin-bottom:0.5cm;\"> Pri tem bomo izločili knjige, ki nimajo navedenega leta objave, gledali pa bomo samo knjige, objavljene od leta 1920 naprej. </p>"
   ]
  },
  {
   "cell_type": "code",
   "execution_count": 81,
   "metadata": {},
   "outputs": [],
   "source": [
    "vrstni_red = pd.DataFrame(zlate_tocke)"
   ]
  },
  {
   "cell_type": "code",
   "execution_count": 82,
   "metadata": {},
   "outputs": [
    {
     "data": {
      "text/html": [
       "<div>\n",
       "<style scoped>\n",
       "    .dataframe tbody tr th:only-of-type {\n",
       "        vertical-align: middle;\n",
       "    }\n",
       "\n",
       "    .dataframe tbody tr th {\n",
       "        vertical-align: top;\n",
       "    }\n",
       "\n",
       "    .dataframe thead th {\n",
       "        text-align: right;\n",
       "    }\n",
       "</style>\n",
       "<table border=\"1\" class=\"dataframe\">\n",
       "  <thead>\n",
       "    <tr style=\"text-align: right;\">\n",
       "      <th></th>\n",
       "      <th>Desetletje</th>\n",
       "      <th>Delež</th>\n",
       "      <th>Kvaliteta</th>\n",
       "      <th>Povprečno število bralcev</th>\n",
       "      <th>Število avtorjev</th>\n",
       "    </tr>\n",
       "  </thead>\n",
       "  <tbody>\n",
       "    <tr>\n",
       "      <th>0</th>\n",
       "      <td>1920</td>\n",
       "      <td>0</td>\n",
       "      <td>0</td>\n",
       "      <td>0</td>\n",
       "      <td>0</td>\n",
       "    </tr>\n",
       "    <tr>\n",
       "      <th>1</th>\n",
       "      <td>1930</td>\n",
       "      <td>1</td>\n",
       "      <td>3</td>\n",
       "      <td>6</td>\n",
       "      <td>1</td>\n",
       "    </tr>\n",
       "    <tr>\n",
       "      <th>2</th>\n",
       "      <td>1940</td>\n",
       "      <td>2</td>\n",
       "      <td>2</td>\n",
       "      <td>9</td>\n",
       "      <td>3</td>\n",
       "    </tr>\n",
       "    <tr>\n",
       "      <th>3</th>\n",
       "      <td>1950</td>\n",
       "      <td>3</td>\n",
       "      <td>10</td>\n",
       "      <td>10</td>\n",
       "      <td>2</td>\n",
       "    </tr>\n",
       "    <tr>\n",
       "      <th>4</th>\n",
       "      <td>1960</td>\n",
       "      <td>4</td>\n",
       "      <td>6</td>\n",
       "      <td>5</td>\n",
       "      <td>4</td>\n",
       "    </tr>\n",
       "    <tr>\n",
       "      <th>5</th>\n",
       "      <td>1970</td>\n",
       "      <td>5</td>\n",
       "      <td>7</td>\n",
       "      <td>4</td>\n",
       "      <td>5</td>\n",
       "    </tr>\n",
       "    <tr>\n",
       "      <th>6</th>\n",
       "      <td>1980</td>\n",
       "      <td>6</td>\n",
       "      <td>9</td>\n",
       "      <td>1</td>\n",
       "      <td>6</td>\n",
       "    </tr>\n",
       "    <tr>\n",
       "      <th>7</th>\n",
       "      <td>1990</td>\n",
       "      <td>7</td>\n",
       "      <td>8</td>\n",
       "      <td>7</td>\n",
       "      <td>7</td>\n",
       "    </tr>\n",
       "    <tr>\n",
       "      <th>8</th>\n",
       "      <td>2000</td>\n",
       "      <td>8</td>\n",
       "      <td>5</td>\n",
       "      <td>8</td>\n",
       "      <td>9</td>\n",
       "    </tr>\n",
       "    <tr>\n",
       "      <th>9</th>\n",
       "      <td>2010</td>\n",
       "      <td>9</td>\n",
       "      <td>4</td>\n",
       "      <td>3</td>\n",
       "      <td>10</td>\n",
       "    </tr>\n",
       "    <tr>\n",
       "      <th>10</th>\n",
       "      <td>2020</td>\n",
       "      <td>10</td>\n",
       "      <td>1</td>\n",
       "      <td>2</td>\n",
       "      <td>8</td>\n",
       "    </tr>\n",
       "  </tbody>\n",
       "</table>\n",
       "</div>"
      ],
      "text/plain": [
       "    Desetletje  Delež  Kvaliteta  Povprečno število bralcev  Število avtorjev\n",
       "0         1920      0          0                          0                 0\n",
       "1         1930      1          3                          6                 1\n",
       "2         1940      2          2                          9                 3\n",
       "3         1950      3         10                         10                 2\n",
       "4         1960      4          6                          5                 4\n",
       "5         1970      5          7                          4                 5\n",
       "6         1980      6          9                          1                 6\n",
       "7         1990      7          8                          7                 7\n",
       "8         2000      8          5                          8                 9\n",
       "9         2010      9          4                          3                10\n",
       "10        2020     10          1                          2                 8"
      ]
     },
     "execution_count": 82,
     "metadata": {},
     "output_type": "execute_result"
    }
   ],
   "source": [
    "vrstni_red"
   ]
  },
  {
   "cell_type": "code",
   "execution_count": 83,
   "metadata": {},
   "outputs": [],
   "source": [
    "# Računanje vsot prejetih točk\n",
    "seznam_vsot = []\n",
    "for i in range(len(vrstni_red)):\n",
    "    vsota = 0\n",
    "    for j in range(1, 5):\n",
    "        vsota += vrstni_red.iloc[i, j]\n",
    "    seznam_vsot.append(vsota)\n",
    "\n",
    "slovar = {'Desetletje':[1920 + i*10 for i in range(0, 11)], 'Skupne točke' : seznam_vsot}\n",
    "skupne_tocke = pd.DataFrame(slovar)"
   ]
  },
  {
   "cell_type": "code",
   "execution_count": 92,
   "metadata": {},
   "outputs": [],
   "source": [
    "vrstni_red_po_tockah = vrstni_red.merge(skupne_tocke, how='outer', on='Desetletje')"
   ]
  },
  {
   "cell_type": "code",
   "execution_count": 85,
   "metadata": {},
   "outputs": [],
   "source": [
    "vrstni_red_po_tockah.sort_values(by=['Skupne točke', 'Desetletje'], ascending=[False, True], inplace=True)"
   ]
  },
  {
   "cell_type": "code",
   "execution_count": 86,
   "metadata": {},
   "outputs": [],
   "source": [
    "vrstni_red_po_tockah.reset_index(inplace=True)"
   ]
  },
  {
   "cell_type": "code",
   "execution_count": 87,
   "metadata": {},
   "outputs": [],
   "source": [
    "vrstni_red_po_tockah.index += 1"
   ]
  },
  {
   "cell_type": "code",
   "execution_count": 105,
   "metadata": {},
   "outputs": [
    {
     "data": {
      "text/html": [
       "<div>\n",
       "<style scoped>\n",
       "    .dataframe tbody tr th:only-of-type {\n",
       "        vertical-align: middle;\n",
       "    }\n",
       "\n",
       "    .dataframe tbody tr th {\n",
       "        vertical-align: top;\n",
       "    }\n",
       "\n",
       "    .dataframe thead th {\n",
       "        text-align: right;\n",
       "    }\n",
       "</style>\n",
       "<table border=\"1\" class=\"dataframe\">\n",
       "  <thead>\n",
       "    <tr style=\"text-align: right;\">\n",
       "      <th></th>\n",
       "      <th>Desetletje</th>\n",
       "      <th>Delež</th>\n",
       "      <th>Kvaliteta</th>\n",
       "      <th>Povprečno število bralcev</th>\n",
       "      <th>Število avtorjev</th>\n",
       "      <th>Skupne točke</th>\n",
       "    </tr>\n",
       "  </thead>\n",
       "  <tbody>\n",
       "    <tr>\n",
       "      <th>0</th>\n",
       "      <td>1920</td>\n",
       "      <td>0</td>\n",
       "      <td>0</td>\n",
       "      <td>0</td>\n",
       "      <td>0</td>\n",
       "      <td>0</td>\n",
       "    </tr>\n",
       "    <tr>\n",
       "      <th>1</th>\n",
       "      <td>1930</td>\n",
       "      <td>1</td>\n",
       "      <td>3</td>\n",
       "      <td>6</td>\n",
       "      <td>1</td>\n",
       "      <td>11</td>\n",
       "    </tr>\n",
       "    <tr>\n",
       "      <th>2</th>\n",
       "      <td>1940</td>\n",
       "      <td>2</td>\n",
       "      <td>2</td>\n",
       "      <td>9</td>\n",
       "      <td>3</td>\n",
       "      <td>16</td>\n",
       "    </tr>\n",
       "    <tr>\n",
       "      <th>3</th>\n",
       "      <td>1950</td>\n",
       "      <td>3</td>\n",
       "      <td>10</td>\n",
       "      <td>10</td>\n",
       "      <td>2</td>\n",
       "      <td>25</td>\n",
       "    </tr>\n",
       "    <tr>\n",
       "      <th>4</th>\n",
       "      <td>1960</td>\n",
       "      <td>4</td>\n",
       "      <td>6</td>\n",
       "      <td>5</td>\n",
       "      <td>4</td>\n",
       "      <td>19</td>\n",
       "    </tr>\n",
       "    <tr>\n",
       "      <th>5</th>\n",
       "      <td>1970</td>\n",
       "      <td>5</td>\n",
       "      <td>7</td>\n",
       "      <td>4</td>\n",
       "      <td>5</td>\n",
       "      <td>21</td>\n",
       "    </tr>\n",
       "    <tr>\n",
       "      <th>6</th>\n",
       "      <td>1980</td>\n",
       "      <td>6</td>\n",
       "      <td>9</td>\n",
       "      <td>1</td>\n",
       "      <td>6</td>\n",
       "      <td>22</td>\n",
       "    </tr>\n",
       "    <tr>\n",
       "      <th>7</th>\n",
       "      <td>1990</td>\n",
       "      <td>7</td>\n",
       "      <td>8</td>\n",
       "      <td>7</td>\n",
       "      <td>7</td>\n",
       "      <td>29</td>\n",
       "    </tr>\n",
       "    <tr>\n",
       "      <th>8</th>\n",
       "      <td>2000</td>\n",
       "      <td>8</td>\n",
       "      <td>5</td>\n",
       "      <td>8</td>\n",
       "      <td>9</td>\n",
       "      <td>30</td>\n",
       "    </tr>\n",
       "    <tr>\n",
       "      <th>9</th>\n",
       "      <td>2010</td>\n",
       "      <td>9</td>\n",
       "      <td>4</td>\n",
       "      <td>3</td>\n",
       "      <td>10</td>\n",
       "      <td>26</td>\n",
       "    </tr>\n",
       "    <tr>\n",
       "      <th>10</th>\n",
       "      <td>2020</td>\n",
       "      <td>10</td>\n",
       "      <td>1</td>\n",
       "      <td>2</td>\n",
       "      <td>8</td>\n",
       "      <td>21</td>\n",
       "    </tr>\n",
       "  </tbody>\n",
       "</table>\n",
       "</div>"
      ],
      "text/plain": [
       "    Desetletje  Delež  Kvaliteta  Povprečno število bralcev  Število avtorjev  \\\n",
       "0         1920      0          0                          0                 0   \n",
       "1         1930      1          3                          6                 1   \n",
       "2         1940      2          2                          9                 3   \n",
       "3         1950      3         10                         10                 2   \n",
       "4         1960      4          6                          5                 4   \n",
       "5         1970      5          7                          4                 5   \n",
       "6         1980      6          9                          1                 6   \n",
       "7         1990      7          8                          7                 7   \n",
       "8         2000      8          5                          8                 9   \n",
       "9         2010      9          4                          3                10   \n",
       "10        2020     10          1                          2                 8   \n",
       "\n",
       "    Skupne točke  \n",
       "0              0  \n",
       "1             11  \n",
       "2             16  \n",
       "3             25  \n",
       "4             19  \n",
       "5             21  \n",
       "6             22  \n",
       "7             29  \n",
       "8             30  \n",
       "9             26  \n",
       "10            21  "
      ]
     },
     "execution_count": 105,
     "metadata": {},
     "output_type": "execute_result"
    }
   ],
   "source": [
    "vrstni_red_po_tockah"
   ]
  },
  {
   "cell_type": "code",
   "execution_count": 91,
   "metadata": {},
   "outputs": [
    {
     "data": {
      "image/png": "[encoded data removed]",
      "text/plain": [
       "<Figure size 640x480 with 1 Axes>"
      ]
     },
     "metadata": {},
     "output_type": "display_data"
    }
   ],
   "source": [
    "graf_desetletij = vrstni_red[['Desetletje', 'Delež', 'Kvaliteta', 'Povprečno število bralcev',\n",
    "                                        'Število avtorjev']].set_index('Desetletje').plot(kind='bar', stacked = True)"
   ]
  },
  {
   "cell_type": "markdown",
   "metadata": {},
   "source": [
    "<h3 style=\"text-align:center;font-family:Garamond;font-size:30px;\"> Ugotovitve </h3>"
   ]
  },
  {
   "cell_type": "markdown",
   "metadata": {},
   "source": [
    "<p style=\"font-family:'Times New Roman';font-size:20px;margin-bottom:1cm;\"> Ugotovimo lahko, da so bila prva leta novega tisočletja zlata leta fantazijskega žanra, ki sodeč po trendu, ki se nakazuje na grafu zgoraj, še dolgo ne bodo presežena.</p>"
   ]
  },
  {
   "cell_type": "markdown",
   "metadata": {},
   "source": [
    "<h2 style='text-align:center'> <div style=\"font-size : 30px; font-style : Verdana; text-align : center \"> Zaključki </div> </h2>"
   ]
  },
  {
   "cell_type": "markdown",
   "metadata": {},
   "source": [
    "<p style=\"font-family:'Times New Roman';font-size:20px;\"> Ta projektna naloga je pokazala nekaj ključnih značilnosti fantazijskega žanra. Nakazala je, da so najkvalitetnejše knjige tiste s po 950-1050 stranmi, najbolj brane pa tiste s 350-450 stranmi. Z analizo podatkov smo prišli do sklepa, da se s časom število izdanih knjig na desetletni ravni povečuje, prav tako tudi njihova dolžina in število piscev fantazijske literature. Po drugi strani sta kvaliteta in branost knjig po začetni rasti in dveh dobrih obdobjih začeli strmo padati.</p>\n",
    "<p style=\"font-family:'Times New Roman';font-size:20px;margin-bottom:0.5cm\"> Čeprav je, kakor vedno, napovedovanje prihodnjega dogajanja precej negotovo, lahko postavimo domnevo, da se bodo ti trendi v prihodnosti nadaljevali. Iz tega sledi tudi sklep, da so zlata leta žanra, torej prvo desetletje novega tisočletja, že minila.</p>"
   ]
  }
 ],
 "metadata": {
  "kernelspec": {
   "display_name": "Python 3 (ipykernel)",
   "language": "python",
   "name": "python3"
  },
  "language_info": {
   "codemirror_mode": {
    "name": "ipython",
    "version": 3
   },
   "file_extension": ".py",
   "mimetype": "text/x-python",
   "name": "python",
   "nbconvert_exporter": "python",
   "pygments_lexer": "ipython3",
   "version": "3.11.2"
  }
 },
 "nbformat": 4,
 "nbformat_minor": 2
}
